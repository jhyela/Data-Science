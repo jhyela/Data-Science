{
 "cells": [
  {
   "cell_type": "markdown",
   "metadata": {},
   "source": [
    "# Analytics Challegence - Rappi\n",
    "\n",
    "__Author: Christian Camilo Urcuqui López__\n",
    "\n",
    "__Date: 26 june 2019__\n",
    "\n"
   ]
  },
  {
   "cell_type": "markdown",
   "metadata": {},
   "source": [
    "_Content_\n",
    "\n",
    "+ [Part2-Experiment and metrics design](#Part2-Experiment-and-metrics-design)    \n",
    "+ [Part3-Data analysis](#Part3-Data-analysis)\n",
    "    + [Data description](#Data-description)\n",
    "    + [Exploratory](#Exploratory)\n",
    "    + [Modeling](#Modeling)"
   ]
  },
  {
   "cell_type": "markdown",
   "metadata": {},
   "source": [
    "## Part2-Experiment and metrics design"
   ]
  },
  {
   "cell_type": "markdown",
   "metadata": {},
   "source": [
    "__Contexto__\n",
    "\n",
    "A new section in Rappi app where the users will have the possibility to choose coupons and discounts that they can redeem and use in their purchases. In the past, they used traditional channels (sms, email, push).  \n",
    "\n",
    "The idea is to propose appropiate KPIs to measure the performance of the new feature and allow the UX team to make the best decision.\n",
    "\n",
    "__Análisis__\n",
    "\n",
    "Cada canal tradicional es un servicio que la app de Rappi ha utilizado para proveer la funcionalidad de redimir los cupones de los usuarios, estos servicios debieron también tener su respectivo KPI (el enunciado no tiene información de esto) ya que permitirá el estudio y el análisis de efectividad de los nuevos servicios. \n",
    "\n",
    "1. Propose and define the primary success metric of the redesigned app. What are 2-3 additional tracking metrics that will be important to monitor (in addition to the success metric defined above)?\n",
    "\n",
    "Se pueden proponer distintos KPI para la funcionalidad de cupones y dependen de los objetivos del negocio y de los requerimientos del sistema (no funcionales), pero en mi opinión el principal seria el siguiente: _cantidad de solicitudes exitosas al servicio_. El anterior lo he propuesto ya que nos permitirá analizar cuál es el canal más utilizado, ya que me surge la duda si alguno de los canales tradicionales sería también efectivo frente a la nueva funcionalidad.  \n",
    "\n",
    "Además, dependiendo del contexto del negocio yo evaluaría también los siguientes indicadores para el análisis de desempeño:\n",
    "\n",
    "+ Cantidad de solicitudes realizadas al servicio\n",
    "+ Tiempo promedio de envió y respuesta del servicio\n",
    "+ Consumo de recursos del sistema por uso del servicio\n",
    "    + CPU\n",
    "    + RAM\n",
    "\n",
    "También, incluiría métricas relacionadas con la seguridad del servicio desde la confidencialidad, integridad, disponibilidad:\n",
    "\n",
    "+ Cantidad de solicitudes que expusieron información a terceros\n",
    "+ Tiempo promedio en que el servicio no ha estado disponible \n",
    "+ Cantidad de quejas de usuarios de los datos suministrados durante la solicitud del servicio\n",
    "\n",
    "Finalmente, evaluaria aspectos de interacción para brindarles mayor información al equipo  UX.\n",
    "\n",
    "+ Cantidad de quejas de usuarios frente al uso de la funcionalidad\n",
    "+ Tiempo promedio desde el ingreso de los datos hasta la solicitud del servicio\n",
    "+ Tiempo promedio de despliegue de la respuesta de la funcionalidad de la app luego de recibir los datos de la solicitud \n",
    "+ Número de clientes fidelizados\n",
    "\n",
    "\n",
    "2. Outline a testing plan to evaluate if the redesigned app performs better (according to the metrics you outlined). How would you balance the need to deliver quick results, with statistical rigor, and while still monitoring for risks?\n",
    "\n",
    "Para la fase de pruebas emplearía un test A/B en una muestra de usuarios y analizaría cada uno de los KPI propuestos, realizando un énfasis sobre el primero y luego evaluando los riesgos a través de los restantes. Una vez realizadas las pruebas podría tener una respuesta más acertada sobre cuál es el canal (tradicional y nuevo) que es más utilizado.\n",
    "\n",
    "Por otra parte, aprovecharía que el grupo de UX también pudiera analizar la interacción de los usuarios frente a usabilidad de la funcionalidad.\n",
    "\n",
    "3. Explain how you would translate the results from the testing plan into a decision on whether to launch the new design or roll it back.\n",
    "\n",
    "los resultados del testeo me permitirán comprobar cuál es la mejor funcionalidad (servicio o canal) y el diseño antes del despliegue ahorrando costos y reduciendo los riesgos.  Como mencione, no es claro si los canales tradicionales son o no efectivos, por lo tanto, con base al análisis de los datos podría tomar decisiones si seguir o mantener las versiones del sistema.\n",
    "\n",
    "Además, a través de los KPI podría realizar planes de acción y estimar la eficiencia del sistema para futuros despliegues de funcionalidades. \n",
    "\n"
   ]
  },
  {
   "cell_type": "markdown",
   "metadata": {},
   "source": [
    "## Part3-Data analysis"
   ]
  },
  {
   "cell_type": "markdown",
   "metadata": {},
   "source": [
    "_Context_\n",
    "\n",
    "Rappi’s Operations team is interested in predicting which orders are more likely to be cancelled since they are not attractive enough for couriers. To solve this problem, we have provided a sample of orders created in September 2017"
   ]
  },
  {
   "cell_type": "markdown",
   "metadata": {},
   "source": [
    "### Data description\n",
    "\n",
    "| Columna name | Description   |\n",
    "|------|------|\n",
    "|  order_id  | Order ID|\n",
    "|  store_id  | Store ID of the order|\n",
    "|  to_user_distance  | Distance (km) between store and user location|\n",
    "|  to_user_elevation  | Difference in meters between the store and user altitude (m.a.s.l.)|\n",
    "|  total_earning  | Courier earning by delivering the order|\n",
    "|  created_at  | Timestamp of order creation|\n",
    "|  taken  | Takes the value of 1 if the order was taken by a courier, 0 otherwise|\n"
   ]
  },
  {
   "cell_type": "markdown",
   "metadata": {},
   "source": [
    "### Exploratory"
   ]
  },
  {
   "cell_type": "markdown",
   "metadata": {},
   "source": [
    "1. Perform any cleaning, exploratory analysis, and/or visualizations to use the provided data for this analysis (a few sentences/plots describing your approach will suffice). How many orders were not taken by any courier? What weekday has the higher percentage of non-taken orders? (2 points"
   ]
  },
  {
   "cell_type": "code",
   "execution_count": 8,
   "metadata": {},
   "outputs": [],
   "source": [
    "import warnings\n",
    "warnings.filterwarnings('ignore')"
   ]
  },
  {
   "cell_type": "code",
   "execution_count": 3,
   "metadata": {},
   "outputs": [],
   "source": [
    "# libraries\n",
    "\n",
    "import numpy \n",
    "import seaborn as sns\n",
    "import matplotlib.pyplot as plot\n",
    "import numpy as np\n",
    "import pandas as pd\n",
    "import dateutil.parser"
   ]
  },
  {
   "cell_type": "code",
   "execution_count": 4,
   "metadata": {},
   "outputs": [],
   "source": [
    "# let's load the datasets\n",
    "dataset = pd.read_csv(\"datasets/orders.csv\")"
   ]
  },
  {
   "cell_type": "code",
   "execution_count": 8,
   "metadata": {},
   "outputs": [
    {
     "name": "stdout",
     "output_type": "stream",
     "text": [
      "<class 'pandas.core.frame.DataFrame'>\n",
      "RangeIndex: 146987 entries, 0 to 146986\n",
      "Data columns (total 7 columns):\n",
      "order_id             146987 non-null int64\n",
      "store_id             146987 non-null int64\n",
      "to_user_distance     146987 non-null float64\n",
      "to_user_elevation    146987 non-null float64\n",
      "total_earning        146987 non-null int64\n",
      "created_at           146987 non-null object\n",
      "taken                146987 non-null int64\n",
      "dtypes: float64(2), int64(4), object(1)\n",
      "memory usage: 7.9+ MB\n"
     ]
    }
   ],
   "source": [
    "dataset.info()"
   ]
  },
  {
   "cell_type": "markdown",
   "metadata": {},
   "source": [
    "Como podemos notar se cuentan con __146987 registros__ de los cuales a primera vista no presentan missing values."
   ]
  },
  {
   "cell_type": "code",
   "execution_count": 9,
   "metadata": {
    "scrolled": true
   },
   "outputs": [
    {
     "data": {
      "text/html": [
       "<div>\n",
       "<style scoped>\n",
       "    .dataframe tbody tr th:only-of-type {\n",
       "        vertical-align: middle;\n",
       "    }\n",
       "\n",
       "    .dataframe tbody tr th {\n",
       "        vertical-align: top;\n",
       "    }\n",
       "\n",
       "    .dataframe thead th {\n",
       "        text-align: right;\n",
       "    }\n",
       "</style>\n",
       "<table border=\"1\" class=\"dataframe\">\n",
       "  <thead>\n",
       "    <tr style=\"text-align: right;\">\n",
       "      <th></th>\n",
       "      <th>order_id</th>\n",
       "      <th>store_id</th>\n",
       "      <th>to_user_distance</th>\n",
       "      <th>to_user_elevation</th>\n",
       "      <th>total_earning</th>\n",
       "      <th>created_at</th>\n",
       "      <th>taken</th>\n",
       "    </tr>\n",
       "  </thead>\n",
       "  <tbody>\n",
       "    <tr>\n",
       "      <th>0</th>\n",
       "      <td>14364873</td>\n",
       "      <td>30000009</td>\n",
       "      <td>2.478101</td>\n",
       "      <td>-72.719360</td>\n",
       "      <td>4200</td>\n",
       "      <td>2017-09-07T20:02:17Z</td>\n",
       "      <td>0</td>\n",
       "    </tr>\n",
       "    <tr>\n",
       "      <th>1</th>\n",
       "      <td>14370123</td>\n",
       "      <td>30000058</td>\n",
       "      <td>0.451711</td>\n",
       "      <td>37.754761</td>\n",
       "      <td>4200</td>\n",
       "      <td>2017-09-07T20:13:16Z</td>\n",
       "      <td>0</td>\n",
       "    </tr>\n",
       "    <tr>\n",
       "      <th>2</th>\n",
       "      <td>14368534</td>\n",
       "      <td>900003684</td>\n",
       "      <td>2.026072</td>\n",
       "      <td>207.191162</td>\n",
       "      <td>4000</td>\n",
       "      <td>2017-09-07T20:07:23Z</td>\n",
       "      <td>0</td>\n",
       "    </tr>\n",
       "    <tr>\n",
       "      <th>3</th>\n",
       "      <td>14370258</td>\n",
       "      <td>900014452</td>\n",
       "      <td>2.671432</td>\n",
       "      <td>1.722656</td>\n",
       "      <td>4400</td>\n",
       "      <td>2017-09-07T20:15:19Z</td>\n",
       "      <td>1</td>\n",
       "    </tr>\n",
       "    <tr>\n",
       "      <th>4</th>\n",
       "      <td>14369923</td>\n",
       "      <td>900014085</td>\n",
       "      <td>0.965496</td>\n",
       "      <td>117.429199</td>\n",
       "      <td>3450</td>\n",
       "      <td>2017-09-07T20:12:14Z</td>\n",
       "      <td>1</td>\n",
       "    </tr>\n",
       "  </tbody>\n",
       "</table>\n",
       "</div>"
      ],
      "text/plain": [
       "   order_id   store_id  to_user_distance  to_user_elevation  total_earning  \\\n",
       "0  14364873   30000009          2.478101         -72.719360           4200   \n",
       "1  14370123   30000058          0.451711          37.754761           4200   \n",
       "2  14368534  900003684          2.026072         207.191162           4000   \n",
       "3  14370258  900014452          2.671432           1.722656           4400   \n",
       "4  14369923  900014085          0.965496         117.429199           3450   \n",
       "\n",
       "             created_at  taken  \n",
       "0  2017-09-07T20:02:17Z      0  \n",
       "1  2017-09-07T20:13:16Z      0  \n",
       "2  2017-09-07T20:07:23Z      0  \n",
       "3  2017-09-07T20:15:19Z      1  \n",
       "4  2017-09-07T20:12:14Z      1  "
      ]
     },
     "execution_count": 9,
     "metadata": {},
     "output_type": "execute_result"
    }
   ],
   "source": [
    "dataset.head()"
   ]
  },
  {
   "cell_type": "markdown",
   "metadata": {},
   "source": [
    "Las variables independientes son numéricas y el objetivo es binaria. Por otra parte, podemos notar que la variable \"to_user_elevation\" tiene valores negativos y positivos."
   ]
  },
  {
   "cell_type": "code",
   "execution_count": 10,
   "metadata": {},
   "outputs": [
    {
     "data": {
      "image/png": "[encoded data removed]",
      "text/plain": [
       "<Figure size 432x288 with 1 Axes>"
      ]
     },
     "metadata": {},
     "output_type": "display_data"
    }
   ],
   "source": [
    "sns.set(style=\"darkgrid\")\n",
    "ax = sns.countplot(x=\"taken\", data= dataset, hue=\"taken\")"
   ]
  },
  {
   "cell_type": "markdown",
   "metadata": {},
   "source": [
    "Del anterior histograma podemos notar la diferencia de los datos en la variable objetivo, es decir, hay un mayor cantidad de registros donde la orden fue tomada por un servicio. "
   ]
  },
  {
   "cell_type": "code",
   "execution_count": 16,
   "metadata": {},
   "outputs": [
    {
     "data": {
      "text/html": [
       "<div>\n",
       "<style scoped>\n",
       "    .dataframe tbody tr th:only-of-type {\n",
       "        vertical-align: middle;\n",
       "    }\n",
       "\n",
       "    .dataframe tbody tr th {\n",
       "        vertical-align: top;\n",
       "    }\n",
       "\n",
       "    .dataframe thead th {\n",
       "        text-align: right;\n",
       "    }\n",
       "</style>\n",
       "<table border=\"1\" class=\"dataframe\">\n",
       "  <thead>\n",
       "    <tr style=\"text-align: right;\">\n",
       "      <th></th>\n",
       "      <th>order_id</th>\n",
       "      <th>store_id</th>\n",
       "      <th>to_user_distance</th>\n",
       "      <th>to_user_elevation</th>\n",
       "      <th>total_earning</th>\n",
       "      <th>created_at</th>\n",
       "      <th>taken</th>\n",
       "    </tr>\n",
       "  </thead>\n",
       "  <tbody>\n",
       "    <tr>\n",
       "      <th>count</th>\n",
       "      <td>1.469870e+05</td>\n",
       "      <td>1.469870e+05</td>\n",
       "      <td>146987.000000</td>\n",
       "      <td>146987.000000</td>\n",
       "      <td>146987.000000</td>\n",
       "      <td>146987</td>\n",
       "      <td>146987.000000</td>\n",
       "    </tr>\n",
       "    <tr>\n",
       "      <th>unique</th>\n",
       "      <td>NaN</td>\n",
       "      <td>NaN</td>\n",
       "      <td>NaN</td>\n",
       "      <td>NaN</td>\n",
       "      <td>NaN</td>\n",
       "      <td>26914</td>\n",
       "      <td>NaN</td>\n",
       "    </tr>\n",
       "    <tr>\n",
       "      <th>top</th>\n",
       "      <td>NaN</td>\n",
       "      <td>NaN</td>\n",
       "      <td>NaN</td>\n",
       "      <td>NaN</td>\n",
       "      <td>NaN</td>\n",
       "      <td>2017-09-23T19:06:05Z</td>\n",
       "      <td>NaN</td>\n",
       "    </tr>\n",
       "    <tr>\n",
       "      <th>freq</th>\n",
       "      <td>NaN</td>\n",
       "      <td>NaN</td>\n",
       "      <td>NaN</td>\n",
       "      <td>NaN</td>\n",
       "      <td>NaN</td>\n",
       "      <td>59</td>\n",
       "      <td>NaN</td>\n",
       "    </tr>\n",
       "    <tr>\n",
       "      <th>mean</th>\n",
       "      <td>1.507718e+07</td>\n",
       "      <td>7.580708e+08</td>\n",
       "      <td>1.501015</td>\n",
       "      <td>26.899130</td>\n",
       "      <td>5358.641594</td>\n",
       "      <td>NaN</td>\n",
       "      <td>0.921218</td>\n",
       "    </tr>\n",
       "    <tr>\n",
       "      <th>std</th>\n",
       "      <td>4.750119e+05</td>\n",
       "      <td>3.214280e+08</td>\n",
       "      <td>0.845776</td>\n",
       "      <td>84.907724</td>\n",
       "      <td>1779.800955</td>\n",
       "      <td>NaN</td>\n",
       "      <td>0.269400</td>\n",
       "    </tr>\n",
       "    <tr>\n",
       "      <th>min</th>\n",
       "      <td>1.421073e+07</td>\n",
       "      <td>3.000000e+07</td>\n",
       "      <td>0.000000</td>\n",
       "      <td>-598.296875</td>\n",
       "      <td>0.000000</td>\n",
       "      <td>NaN</td>\n",
       "      <td>0.000000</td>\n",
       "    </tr>\n",
       "    <tr>\n",
       "      <th>25%</th>\n",
       "      <td>1.466969e+07</td>\n",
       "      <td>9.000045e+08</td>\n",
       "      <td>0.836511</td>\n",
       "      <td>-18.348755</td>\n",
       "      <td>4200.000000</td>\n",
       "      <td>NaN</td>\n",
       "      <td>1.000000</td>\n",
       "    </tr>\n",
       "    <tr>\n",
       "      <th>50%</th>\n",
       "      <td>1.509241e+07</td>\n",
       "      <td>9.000077e+08</td>\n",
       "      <td>1.390230</td>\n",
       "      <td>11.145264</td>\n",
       "      <td>5200.000000</td>\n",
       "      <td>NaN</td>\n",
       "      <td>1.000000</td>\n",
       "    </tr>\n",
       "    <tr>\n",
       "      <th>75%</th>\n",
       "      <td>1.547355e+07</td>\n",
       "      <td>9.000127e+08</td>\n",
       "      <td>2.029955</td>\n",
       "      <td>61.024353</td>\n",
       "      <td>6300.000000</td>\n",
       "      <td>NaN</td>\n",
       "      <td>1.000000</td>\n",
       "    </tr>\n",
       "    <tr>\n",
       "      <th>max</th>\n",
       "      <td>1.590252e+07</td>\n",
       "      <td>9.000173e+08</td>\n",
       "      <td>9.360177</td>\n",
       "      <td>1009.380005</td>\n",
       "      <td>108200.000000</td>\n",
       "      <td>NaN</td>\n",
       "      <td>1.000000</td>\n",
       "    </tr>\n",
       "  </tbody>\n",
       "</table>\n",
       "</div>"
      ],
      "text/plain": [
       "            order_id      store_id  to_user_distance  to_user_elevation  \\\n",
       "count   1.469870e+05  1.469870e+05     146987.000000      146987.000000   \n",
       "unique           NaN           NaN               NaN                NaN   \n",
       "top              NaN           NaN               NaN                NaN   \n",
       "freq             NaN           NaN               NaN                NaN   \n",
       "mean    1.507718e+07  7.580708e+08          1.501015          26.899130   \n",
       "std     4.750119e+05  3.214280e+08          0.845776          84.907724   \n",
       "min     1.421073e+07  3.000000e+07          0.000000        -598.296875   \n",
       "25%     1.466969e+07  9.000045e+08          0.836511         -18.348755   \n",
       "50%     1.509241e+07  9.000077e+08          1.390230          11.145264   \n",
       "75%     1.547355e+07  9.000127e+08          2.029955          61.024353   \n",
       "max     1.590252e+07  9.000173e+08          9.360177        1009.380005   \n",
       "\n",
       "        total_earning            created_at          taken  \n",
       "count   146987.000000                146987  146987.000000  \n",
       "unique            NaN                 26914            NaN  \n",
       "top               NaN  2017-09-23T19:06:05Z            NaN  \n",
       "freq              NaN                    59            NaN  \n",
       "mean      5358.641594                   NaN       0.921218  \n",
       "std       1779.800955                   NaN       0.269400  \n",
       "min          0.000000                   NaN       0.000000  \n",
       "25%       4200.000000                   NaN       1.000000  \n",
       "50%       5200.000000                   NaN       1.000000  \n",
       "75%       6300.000000                   NaN       1.000000  \n",
       "max     108200.000000                   NaN       1.000000  "
      ]
     },
     "execution_count": 16,
     "metadata": {},
     "output_type": "execute_result"
    }
   ],
   "source": [
    "dataset.describe(include=\"all\")"
   ]
  },
  {
   "cell_type": "markdown",
   "metadata": {},
   "source": [
    "Una interesante observación es que hay observaciones que tienen 0 de ganancia, posiblemente estos sean los registros que corresponde a _taken_ igual a 0, veamos si esto es cierto."
   ]
  },
  {
   "cell_type": "code",
   "execution_count": 24,
   "metadata": {
    "scrolled": true
   },
   "outputs": [
    {
     "data": {
      "text/html": [
       "<div>\n",
       "<style scoped>\n",
       "    .dataframe tbody tr th:only-of-type {\n",
       "        vertical-align: middle;\n",
       "    }\n",
       "\n",
       "    .dataframe tbody tr th {\n",
       "        vertical-align: top;\n",
       "    }\n",
       "\n",
       "    .dataframe thead th {\n",
       "        text-align: right;\n",
       "    }\n",
       "</style>\n",
       "<table border=\"1\" class=\"dataframe\">\n",
       "  <thead>\n",
       "    <tr style=\"text-align: right;\">\n",
       "      <th></th>\n",
       "      <th>order_id</th>\n",
       "      <th>store_id</th>\n",
       "      <th>to_user_distance</th>\n",
       "      <th>to_user_elevation</th>\n",
       "      <th>total_earning</th>\n",
       "      <th>created_at</th>\n",
       "      <th>taken</th>\n",
       "    </tr>\n",
       "  </thead>\n",
       "  <tbody>\n",
       "    <tr>\n",
       "      <th>count</th>\n",
       "      <td>1.158000e+04</td>\n",
       "      <td>1.158000e+04</td>\n",
       "      <td>11580.000000</td>\n",
       "      <td>11580.000000</td>\n",
       "      <td>11580.000000</td>\n",
       "      <td>11580</td>\n",
       "      <td>11580.0</td>\n",
       "    </tr>\n",
       "    <tr>\n",
       "      <th>unique</th>\n",
       "      <td>NaN</td>\n",
       "      <td>NaN</td>\n",
       "      <td>NaN</td>\n",
       "      <td>NaN</td>\n",
       "      <td>NaN</td>\n",
       "      <td>8109</td>\n",
       "      <td>NaN</td>\n",
       "    </tr>\n",
       "    <tr>\n",
       "      <th>top</th>\n",
       "      <td>NaN</td>\n",
       "      <td>NaN</td>\n",
       "      <td>NaN</td>\n",
       "      <td>NaN</td>\n",
       "      <td>NaN</td>\n",
       "      <td>2017-09-07T11:59:05Z</td>\n",
       "      <td>NaN</td>\n",
       "    </tr>\n",
       "    <tr>\n",
       "      <th>freq</th>\n",
       "      <td>NaN</td>\n",
       "      <td>NaN</td>\n",
       "      <td>NaN</td>\n",
       "      <td>NaN</td>\n",
       "      <td>NaN</td>\n",
       "      <td>15</td>\n",
       "      <td>NaN</td>\n",
       "    </tr>\n",
       "    <tr>\n",
       "      <th>mean</th>\n",
       "      <td>1.507537e+07</td>\n",
       "      <td>7.772256e+08</td>\n",
       "      <td>1.754175</td>\n",
       "      <td>24.074973</td>\n",
       "      <td>5105.631347</td>\n",
       "      <td>NaN</td>\n",
       "      <td>0.0</td>\n",
       "    </tr>\n",
       "    <tr>\n",
       "      <th>std</th>\n",
       "      <td>4.838690e+05</td>\n",
       "      <td>3.027844e+08</td>\n",
       "      <td>0.840890</td>\n",
       "      <td>89.938155</td>\n",
       "      <td>1926.050521</td>\n",
       "      <td>NaN</td>\n",
       "      <td>0.0</td>\n",
       "    </tr>\n",
       "    <tr>\n",
       "      <th>min</th>\n",
       "      <td>1.421081e+07</td>\n",
       "      <td>3.000000e+07</td>\n",
       "      <td>0.000000</td>\n",
       "      <td>-580.946167</td>\n",
       "      <td>200.000000</td>\n",
       "      <td>NaN</td>\n",
       "      <td>0.0</td>\n",
       "    </tr>\n",
       "    <tr>\n",
       "      <th>25%</th>\n",
       "      <td>1.465511e+07</td>\n",
       "      <td>9.000052e+08</td>\n",
       "      <td>1.124350</td>\n",
       "      <td>-24.465881</td>\n",
       "      <td>3650.000000</td>\n",
       "      <td>NaN</td>\n",
       "      <td>0.0</td>\n",
       "    </tr>\n",
       "    <tr>\n",
       "      <th>50%</th>\n",
       "      <td>1.506805e+07</td>\n",
       "      <td>9.000091e+08</td>\n",
       "      <td>1.711255</td>\n",
       "      <td>8.925110</td>\n",
       "      <td>4700.000000</td>\n",
       "      <td>NaN</td>\n",
       "      <td>0.0</td>\n",
       "    </tr>\n",
       "    <tr>\n",
       "      <th>75%</th>\n",
       "      <td>1.553104e+07</td>\n",
       "      <td>9.000131e+08</td>\n",
       "      <td>2.292490</td>\n",
       "      <td>62.219635</td>\n",
       "      <td>6000.000000</td>\n",
       "      <td>NaN</td>\n",
       "      <td>0.0</td>\n",
       "    </tr>\n",
       "    <tr>\n",
       "      <th>max</th>\n",
       "      <td>1.590252e+07</td>\n",
       "      <td>9.000173e+08</td>\n",
       "      <td>4.755271</td>\n",
       "      <td>533.242798</td>\n",
       "      <td>24700.000000</td>\n",
       "      <td>NaN</td>\n",
       "      <td>0.0</td>\n",
       "    </tr>\n",
       "  </tbody>\n",
       "</table>\n",
       "</div>"
      ],
      "text/plain": [
       "            order_id      store_id  to_user_distance  to_user_elevation  \\\n",
       "count   1.158000e+04  1.158000e+04      11580.000000       11580.000000   \n",
       "unique           NaN           NaN               NaN                NaN   \n",
       "top              NaN           NaN               NaN                NaN   \n",
       "freq             NaN           NaN               NaN                NaN   \n",
       "mean    1.507537e+07  7.772256e+08          1.754175          24.074973   \n",
       "std     4.838690e+05  3.027844e+08          0.840890          89.938155   \n",
       "min     1.421081e+07  3.000000e+07          0.000000        -580.946167   \n",
       "25%     1.465511e+07  9.000052e+08          1.124350         -24.465881   \n",
       "50%     1.506805e+07  9.000091e+08          1.711255           8.925110   \n",
       "75%     1.553104e+07  9.000131e+08          2.292490          62.219635   \n",
       "max     1.590252e+07  9.000173e+08          4.755271         533.242798   \n",
       "\n",
       "        total_earning            created_at    taken  \n",
       "count    11580.000000                 11580  11580.0  \n",
       "unique            NaN                  8109      NaN  \n",
       "top               NaN  2017-09-07T11:59:05Z      NaN  \n",
       "freq              NaN                    15      NaN  \n",
       "mean      5105.631347                   NaN      0.0  \n",
       "std       1926.050521                   NaN      0.0  \n",
       "min        200.000000                   NaN      0.0  \n",
       "25%       3650.000000                   NaN      0.0  \n",
       "50%       4700.000000                   NaN      0.0  \n",
       "75%       6000.000000                   NaN      0.0  \n",
       "max      24700.000000                   NaN      0.0  "
      ]
     },
     "execution_count": 24,
     "metadata": {},
     "output_type": "execute_result"
    }
   ],
   "source": [
    "dataset[dataset.taken==0].describe(include=\"all\")"
   ]
  },
  {
   "cell_type": "code",
   "execution_count": 25,
   "metadata": {},
   "outputs": [
    {
     "data": {
      "text/html": [
       "<div>\n",
       "<style scoped>\n",
       "    .dataframe tbody tr th:only-of-type {\n",
       "        vertical-align: middle;\n",
       "    }\n",
       "\n",
       "    .dataframe tbody tr th {\n",
       "        vertical-align: top;\n",
       "    }\n",
       "\n",
       "    .dataframe thead th {\n",
       "        text-align: right;\n",
       "    }\n",
       "</style>\n",
       "<table border=\"1\" class=\"dataframe\">\n",
       "  <thead>\n",
       "    <tr style=\"text-align: right;\">\n",
       "      <th></th>\n",
       "      <th>order_id</th>\n",
       "      <th>store_id</th>\n",
       "      <th>to_user_distance</th>\n",
       "      <th>to_user_elevation</th>\n",
       "      <th>total_earning</th>\n",
       "      <th>created_at</th>\n",
       "      <th>taken</th>\n",
       "    </tr>\n",
       "  </thead>\n",
       "  <tbody>\n",
       "    <tr>\n",
       "      <th>count</th>\n",
       "      <td>1.354070e+05</td>\n",
       "      <td>1.354070e+05</td>\n",
       "      <td>135407.000000</td>\n",
       "      <td>135407.000000</td>\n",
       "      <td>135407.000000</td>\n",
       "      <td>135407</td>\n",
       "      <td>135407.0</td>\n",
       "    </tr>\n",
       "    <tr>\n",
       "      <th>unique</th>\n",
       "      <td>NaN</td>\n",
       "      <td>NaN</td>\n",
       "      <td>NaN</td>\n",
       "      <td>NaN</td>\n",
       "      <td>NaN</td>\n",
       "      <td>26344</td>\n",
       "      <td>NaN</td>\n",
       "    </tr>\n",
       "    <tr>\n",
       "      <th>top</th>\n",
       "      <td>NaN</td>\n",
       "      <td>NaN</td>\n",
       "      <td>NaN</td>\n",
       "      <td>NaN</td>\n",
       "      <td>NaN</td>\n",
       "      <td>2017-09-23T19:06:05Z</td>\n",
       "      <td>NaN</td>\n",
       "    </tr>\n",
       "    <tr>\n",
       "      <th>freq</th>\n",
       "      <td>NaN</td>\n",
       "      <td>NaN</td>\n",
       "      <td>NaN</td>\n",
       "      <td>NaN</td>\n",
       "      <td>NaN</td>\n",
       "      <td>50</td>\n",
       "      <td>NaN</td>\n",
       "    </tr>\n",
       "    <tr>\n",
       "      <th>mean</th>\n",
       "      <td>1.507733e+07</td>\n",
       "      <td>7.564327e+08</td>\n",
       "      <td>1.479365</td>\n",
       "      <td>27.140652</td>\n",
       "      <td>5380.279018</td>\n",
       "      <td>NaN</td>\n",
       "      <td>1.0</td>\n",
       "    </tr>\n",
       "    <tr>\n",
       "      <th>std</th>\n",
       "      <td>4.742482e+05</td>\n",
       "      <td>3.229208e+08</td>\n",
       "      <td>0.842673</td>\n",
       "      <td>84.459583</td>\n",
       "      <td>1765.056868</td>\n",
       "      <td>NaN</td>\n",
       "      <td>0.0</td>\n",
       "    </tr>\n",
       "    <tr>\n",
       "      <th>min</th>\n",
       "      <td>1.421073e+07</td>\n",
       "      <td>3.000000e+07</td>\n",
       "      <td>0.002776</td>\n",
       "      <td>-598.296875</td>\n",
       "      <td>0.000000</td>\n",
       "      <td>NaN</td>\n",
       "      <td>1.0</td>\n",
       "    </tr>\n",
       "    <tr>\n",
       "      <th>25%</th>\n",
       "      <td>1.467318e+07</td>\n",
       "      <td>9.000044e+08</td>\n",
       "      <td>0.816901</td>\n",
       "      <td>-17.841492</td>\n",
       "      <td>4200.000000</td>\n",
       "      <td>NaN</td>\n",
       "      <td>1.0</td>\n",
       "    </tr>\n",
       "    <tr>\n",
       "      <th>50%</th>\n",
       "      <td>1.509390e+07</td>\n",
       "      <td>9.000077e+08</td>\n",
       "      <td>1.362621</td>\n",
       "      <td>11.340210</td>\n",
       "      <td>5200.000000</td>\n",
       "      <td>NaN</td>\n",
       "      <td>1.0</td>\n",
       "    </tr>\n",
       "    <tr>\n",
       "      <th>75%</th>\n",
       "      <td>1.546836e+07</td>\n",
       "      <td>9.000127e+08</td>\n",
       "      <td>2.002647</td>\n",
       "      <td>60.902588</td>\n",
       "      <td>6400.000000</td>\n",
       "      <td>NaN</td>\n",
       "      <td>1.0</td>\n",
       "    </tr>\n",
       "    <tr>\n",
       "      <th>max</th>\n",
       "      <td>1.590250e+07</td>\n",
       "      <td>9.000173e+08</td>\n",
       "      <td>9.360177</td>\n",
       "      <td>1009.380005</td>\n",
       "      <td>108200.000000</td>\n",
       "      <td>NaN</td>\n",
       "      <td>1.0</td>\n",
       "    </tr>\n",
       "  </tbody>\n",
       "</table>\n",
       "</div>"
      ],
      "text/plain": [
       "            order_id      store_id  to_user_distance  to_user_elevation  \\\n",
       "count   1.354070e+05  1.354070e+05     135407.000000      135407.000000   \n",
       "unique           NaN           NaN               NaN                NaN   \n",
       "top              NaN           NaN               NaN                NaN   \n",
       "freq             NaN           NaN               NaN                NaN   \n",
       "mean    1.507733e+07  7.564327e+08          1.479365          27.140652   \n",
       "std     4.742482e+05  3.229208e+08          0.842673          84.459583   \n",
       "min     1.421073e+07  3.000000e+07          0.002776        -598.296875   \n",
       "25%     1.467318e+07  9.000044e+08          0.816901         -17.841492   \n",
       "50%     1.509390e+07  9.000077e+08          1.362621          11.340210   \n",
       "75%     1.546836e+07  9.000127e+08          2.002647          60.902588   \n",
       "max     1.590250e+07  9.000173e+08          9.360177        1009.380005   \n",
       "\n",
       "        total_earning            created_at     taken  \n",
       "count   135407.000000                135407  135407.0  \n",
       "unique            NaN                 26344       NaN  \n",
       "top               NaN  2017-09-23T19:06:05Z       NaN  \n",
       "freq              NaN                    50       NaN  \n",
       "mean      5380.279018                   NaN       1.0  \n",
       "std       1765.056868                   NaN       0.0  \n",
       "min          0.000000                   NaN       1.0  \n",
       "25%       4200.000000                   NaN       1.0  \n",
       "50%       5200.000000                   NaN       1.0  \n",
       "75%       6400.000000                   NaN       1.0  \n",
       "max     108200.000000                   NaN       1.0  "
      ]
     },
     "execution_count": 25,
     "metadata": {},
     "output_type": "execute_result"
    }
   ],
   "source": [
    "dataset[dataset.taken==1].describe(include=\"all\")"
   ]
  },
  {
   "cell_type": "markdown",
   "metadata": {},
   "source": [
    "Efectivamente, existe pedidos que fueron tomados por un personal de Rappi que no tuvieron ganancias, veamos cuantos fueron:"
   ]
  },
  {
   "cell_type": "code",
   "execution_count": 33,
   "metadata": {},
   "outputs": [
    {
     "data": {
      "text/html": [
       "<div>\n",
       "<style scoped>\n",
       "    .dataframe tbody tr th:only-of-type {\n",
       "        vertical-align: middle;\n",
       "    }\n",
       "\n",
       "    .dataframe tbody tr th {\n",
       "        vertical-align: top;\n",
       "    }\n",
       "\n",
       "    .dataframe thead th {\n",
       "        text-align: right;\n",
       "    }\n",
       "</style>\n",
       "<table border=\"1\" class=\"dataframe\">\n",
       "  <thead>\n",
       "    <tr style=\"text-align: right;\">\n",
       "      <th></th>\n",
       "      <th>order_id</th>\n",
       "      <th>store_id</th>\n",
       "      <th>to_user_distance</th>\n",
       "      <th>to_user_elevation</th>\n",
       "      <th>total_earning</th>\n",
       "      <th>created_at</th>\n",
       "      <th>taken</th>\n",
       "    </tr>\n",
       "  </thead>\n",
       "  <tbody>\n",
       "    <tr>\n",
       "      <th>102163</th>\n",
       "      <td>14323700</td>\n",
       "      <td>900010714</td>\n",
       "      <td>1.388912</td>\n",
       "      <td>48.826538</td>\n",
       "      <td>0</td>\n",
       "      <td>2017-09-07T12:02:05Z</td>\n",
       "      <td>1</td>\n",
       "    </tr>\n",
       "  </tbody>\n",
       "</table>\n",
       "</div>"
      ],
      "text/plain": [
       "        order_id   store_id  to_user_distance  to_user_elevation  \\\n",
       "102163  14323700  900010714          1.388912          48.826538   \n",
       "\n",
       "        total_earning            created_at  taken  \n",
       "102163              0  2017-09-07T12:02:05Z      1  "
      ]
     },
     "execution_count": 33,
     "metadata": {},
     "output_type": "execute_result"
    }
   ],
   "source": [
    "dataset[(dataset.taken==1) & (dataset.total_earning == 0)][:]"
   ]
  },
  {
   "cell_type": "markdown",
   "metadata": {},
   "source": [
    "Se cuenta con solo un registro que no cuenta con ganancias, ya tocaría verificar con el negocio si este valor representa alguna campaña, algún cliente preferencial o algo particular. Para los siguientes análisis procederé  a tomar este registro como una __anomalía__. "
   ]
  },
  {
   "cell_type": "code",
   "execution_count": 5,
   "metadata": {},
   "outputs": [],
   "source": [
    "anomalia = dataset[(dataset.taken==1) & (dataset.total_earning == 0)][:].copy()"
   ]
  },
  {
   "cell_type": "code",
   "execution_count": 6,
   "metadata": {},
   "outputs": [],
   "source": [
    "data = dataset[(dataset.total_earning != 0)][:].copy()"
   ]
  },
  {
   "cell_type": "markdown",
   "metadata": {},
   "source": [
    "¿Existen datos atípicos?"
   ]
  },
  {
   "cell_type": "code",
   "execution_count": 44,
   "metadata": {},
   "outputs": [
    {
     "data": {
      "text/plain": [
       "<matplotlib.axes._subplots.AxesSubplot at 0x1f4f7af5518>"
      ]
     },
     "execution_count": 44,
     "metadata": {},
     "output_type": "execute_result"
    },
    {
     "data": {
      "image/png": "[encoded data removed]",
      "text/plain": [
       "<Figure size 432x288 with 1 Axes>"
      ]
     },
     "metadata": {},
     "output_type": "display_data"
    }
   ],
   "source": [
    "sns.boxplot(data=data, x=\"taken\", y=\"total_earning\", hue=\"taken\")"
   ]
  },
  {
   "cell_type": "markdown",
   "metadata": {},
   "source": [
    "Existen dos registros con ingresos superiores a 40000, ¿podrían ser clientes potenciales y que deberíamos tener en cuenta para futuros estudios?, estos datos los tendré como separados como un grupo de atípicos."
   ]
  },
  {
   "cell_type": "code",
   "execution_count": 9,
   "metadata": {},
   "outputs": [
    {
     "data": {
      "text/html": [
       "<div>\n",
       "<style scoped>\n",
       "    .dataframe tbody tr th:only-of-type {\n",
       "        vertical-align: middle;\n",
       "    }\n",
       "\n",
       "    .dataframe tbody tr th {\n",
       "        vertical-align: top;\n",
       "    }\n",
       "\n",
       "    .dataframe thead th {\n",
       "        text-align: right;\n",
       "    }\n",
       "</style>\n",
       "<table border=\"1\" class=\"dataframe\">\n",
       "  <thead>\n",
       "    <tr style=\"text-align: right;\">\n",
       "      <th></th>\n",
       "      <th>order_id</th>\n",
       "      <th>store_id</th>\n",
       "      <th>to_user_distance</th>\n",
       "      <th>to_user_elevation</th>\n",
       "      <th>total_earning</th>\n",
       "      <th>created_at</th>\n",
       "      <th>taken</th>\n",
       "    </tr>\n",
       "  </thead>\n",
       "  <tbody>\n",
       "    <tr>\n",
       "      <th>8802</th>\n",
       "      <td>14421632</td>\n",
       "      <td>900013010</td>\n",
       "      <td>1.157337</td>\n",
       "      <td>-99.425781</td>\n",
       "      <td>45500</td>\n",
       "      <td>2017-09-08T17:32:07Z</td>\n",
       "      <td>1</td>\n",
       "    </tr>\n",
       "    <tr>\n",
       "      <th>83819</th>\n",
       "      <td>14731230</td>\n",
       "      <td>900007197</td>\n",
       "      <td>1.794446</td>\n",
       "      <td>-207.245483</td>\n",
       "      <td>108200</td>\n",
       "      <td>2017-09-14T13:38:08Z</td>\n",
       "      <td>1</td>\n",
       "    </tr>\n",
       "  </tbody>\n",
       "</table>\n",
       "</div>"
      ],
      "text/plain": [
       "       order_id   store_id  to_user_distance  to_user_elevation  \\\n",
       "8802   14421632  900013010          1.157337         -99.425781   \n",
       "83819  14731230  900007197          1.794446        -207.245483   \n",
       "\n",
       "       total_earning            created_at  taken  \n",
       "8802           45500  2017-09-08T17:32:07Z      1  \n",
       "83819         108200  2017-09-14T13:38:08Z      1  "
      ]
     },
     "execution_count": 9,
     "metadata": {},
     "output_type": "execute_result"
    }
   ],
   "source": [
    "atipicos = data[(dataset.total_earning > 40000)][:].copy()\n",
    "atipicos"
   ]
  },
  {
   "cell_type": "code",
   "execution_count": 10,
   "metadata": {},
   "outputs": [
    {
     "data": {
      "text/plain": [
       "<matplotlib.axes._subplots.AxesSubplot at 0x1cbf0067eb8>"
      ]
     },
     "execution_count": 10,
     "metadata": {},
     "output_type": "execute_result"
    },
    {
     "data": {
      "image/png": "[encoded data removed]",
      "text/plain": [
       "<Figure size 432x288 with 1 Axes>"
      ]
     },
     "metadata": {
      "needs_background": "light"
     },
     "output_type": "display_data"
    }
   ],
   "source": [
    "data = data[(dataset.total_earning < 40000)][:].copy()\n",
    "\n",
    "sns.boxplot(data=data, x=\"taken\", y=\"total_earning\", hue=\"taken\")"
   ]
  },
  {
   "cell_type": "code",
   "execution_count": 51,
   "metadata": {},
   "outputs": [
    {
     "data": {
      "text/html": [
       "<div>\n",
       "<style scoped>\n",
       "    .dataframe tbody tr th:only-of-type {\n",
       "        vertical-align: middle;\n",
       "    }\n",
       "\n",
       "    .dataframe tbody tr th {\n",
       "        vertical-align: top;\n",
       "    }\n",
       "\n",
       "    .dataframe thead th {\n",
       "        text-align: right;\n",
       "    }\n",
       "</style>\n",
       "<table border=\"1\" class=\"dataframe\">\n",
       "  <thead>\n",
       "    <tr style=\"text-align: right;\">\n",
       "      <th></th>\n",
       "      <th>order_id</th>\n",
       "      <th>store_id</th>\n",
       "      <th>to_user_distance</th>\n",
       "      <th>to_user_elevation</th>\n",
       "      <th>total_earning</th>\n",
       "      <th>taken</th>\n",
       "    </tr>\n",
       "  </thead>\n",
       "  <tbody>\n",
       "    <tr>\n",
       "      <th>count</th>\n",
       "      <td>1.469840e+05</td>\n",
       "      <td>1.469840e+05</td>\n",
       "      <td>146984.000000</td>\n",
       "      <td>146984.000000</td>\n",
       "      <td>146984.000000</td>\n",
       "      <td>146984.000000</td>\n",
       "    </tr>\n",
       "    <tr>\n",
       "      <th>mean</th>\n",
       "      <td>1.507719e+07</td>\n",
       "      <td>7.580679e+08</td>\n",
       "      <td>1.501017</td>\n",
       "      <td>26.901434</td>\n",
       "      <td>5357.705274</td>\n",
       "      <td>0.921216</td>\n",
       "    </tr>\n",
       "    <tr>\n",
       "      <th>std</th>\n",
       "      <td>4.750087e+05</td>\n",
       "      <td>3.214306e+08</td>\n",
       "      <td>0.845784</td>\n",
       "      <td>84.905735</td>\n",
       "      <td>1756.314584</td>\n",
       "      <td>0.269402</td>\n",
       "    </tr>\n",
       "    <tr>\n",
       "      <th>min</th>\n",
       "      <td>1.421073e+07</td>\n",
       "      <td>3.000000e+07</td>\n",
       "      <td>0.000000</td>\n",
       "      <td>-598.296875</td>\n",
       "      <td>200.000000</td>\n",
       "      <td>0.000000</td>\n",
       "    </tr>\n",
       "    <tr>\n",
       "      <th>25%</th>\n",
       "      <td>1.466971e+07</td>\n",
       "      <td>9.000045e+08</td>\n",
       "      <td>0.836498</td>\n",
       "      <td>-18.348755</td>\n",
       "      <td>4200.000000</td>\n",
       "      <td>1.000000</td>\n",
       "    </tr>\n",
       "    <tr>\n",
       "      <th>50%</th>\n",
       "      <td>1.509245e+07</td>\n",
       "      <td>9.000077e+08</td>\n",
       "      <td>1.390234</td>\n",
       "      <td>11.145447</td>\n",
       "      <td>5200.000000</td>\n",
       "      <td>1.000000</td>\n",
       "    </tr>\n",
       "    <tr>\n",
       "      <th>75%</th>\n",
       "      <td>1.547356e+07</td>\n",
       "      <td>9.000127e+08</td>\n",
       "      <td>2.029977</td>\n",
       "      <td>61.029236</td>\n",
       "      <td>6300.000000</td>\n",
       "      <td>1.000000</td>\n",
       "    </tr>\n",
       "    <tr>\n",
       "      <th>max</th>\n",
       "      <td>1.590252e+07</td>\n",
       "      <td>9.000173e+08</td>\n",
       "      <td>9.360177</td>\n",
       "      <td>1009.380005</td>\n",
       "      <td>27200.000000</td>\n",
       "      <td>1.000000</td>\n",
       "    </tr>\n",
       "  </tbody>\n",
       "</table>\n",
       "</div>"
      ],
      "text/plain": [
       "           order_id      store_id  to_user_distance  to_user_elevation  \\\n",
       "count  1.469840e+05  1.469840e+05     146984.000000      146984.000000   \n",
       "mean   1.507719e+07  7.580679e+08          1.501017          26.901434   \n",
       "std    4.750087e+05  3.214306e+08          0.845784          84.905735   \n",
       "min    1.421073e+07  3.000000e+07          0.000000        -598.296875   \n",
       "25%    1.466971e+07  9.000045e+08          0.836498         -18.348755   \n",
       "50%    1.509245e+07  9.000077e+08          1.390234          11.145447   \n",
       "75%    1.547356e+07  9.000127e+08          2.029977          61.029236   \n",
       "max    1.590252e+07  9.000173e+08          9.360177        1009.380005   \n",
       "\n",
       "       total_earning          taken  \n",
       "count  146984.000000  146984.000000  \n",
       "mean     5357.705274       0.921216  \n",
       "std      1756.314584       0.269402  \n",
       "min       200.000000       0.000000  \n",
       "25%      4200.000000       1.000000  \n",
       "50%      5200.000000       1.000000  \n",
       "75%      6300.000000       1.000000  \n",
       "max     27200.000000       1.000000  "
      ]
     },
     "execution_count": 51,
     "metadata": {},
     "output_type": "execute_result"
    }
   ],
   "source": [
    "data.describe()"
   ]
  },
  {
   "cell_type": "markdown",
   "metadata": {},
   "source": [
    "Otra posible interesante observación es que existen registros donde prácticamente realizaron el pedido en la misma tienda, es decir, no tuvieron desplazamiento. Me surge la duda si existe alguna relación entre la distancia de la tienda y la ganancia total."
   ]
  },
  {
   "cell_type": "code",
   "execution_count": 53,
   "metadata": {},
   "outputs": [
    {
     "data": {
      "text/plain": [
       "<matplotlib.axes._subplots.AxesSubplot at 0x1f4f83be908>"
      ]
     },
     "execution_count": 53,
     "metadata": {},
     "output_type": "execute_result"
    },
    {
     "data": {
      "image/png": "[encoded data removed]",
      "text/plain": [
       "<Figure size 432x288 with 1 Axes>"
      ]
     },
     "metadata": {},
     "output_type": "display_data"
    }
   ],
   "source": [
    "sns.scatterplot(data=data, x=\"to_user_distance\", y=\"total_earning\")"
   ]
  },
  {
   "cell_type": "markdown",
   "metadata": {},
   "source": [
    "De la anterior visualización podemos ver que la concentración de los datos esta en la distancias más cortas "
   ]
  },
  {
   "cell_type": "code",
   "execution_count": 54,
   "metadata": {},
   "outputs": [
    {
     "data": {
      "text/plain": [
       "<matplotlib.axes._subplots.AxesSubplot at 0x1f4f8420470>"
      ]
     },
     "execution_count": 54,
     "metadata": {},
     "output_type": "execute_result"
    },
    {
     "data": {
      "image/png": "[encoded data removed]",
      "text/plain": [
       "<Figure size 432x288 with 1 Axes>"
      ]
     },
     "metadata": {},
     "output_type": "display_data"
    }
   ],
   "source": [
    "sns.scatterplot(data=data, x=\"to_user_elevation\", y=\"total_earning\")"
   ]
  },
  {
   "cell_type": "markdown",
   "metadata": {},
   "source": [
    "Del anterior plot podríamos inferir que la concentración de las ganancias se encuentra en los registros donde la elevación esta entre -200 y 400 (m.a.s.l), para mí no es claro la forma de la captura de estos datos."
   ]
  },
  {
   "cell_type": "code",
   "execution_count": 18,
   "metadata": {},
   "outputs": [
    {
     "data": {
      "text/plain": [
       "<matplotlib.axes._subplots.AxesSubplot at 0x1c695c6f2e8>"
      ]
     },
     "execution_count": 18,
     "metadata": {},
     "output_type": "execute_result"
    },
    {
     "data": {
      "image/png": "[encoded data removed]",
      "text/plain": [
       "<Figure size 432x432 with 2 Axes>"
      ]
     },
     "metadata": {
      "needs_background": "light"
     },
     "output_type": "display_data"
    }
   ],
   "source": [
    "fig, ax = plot.subplots(figsize=(6, 6)) \n",
    "mask = np.zeros_like(data.corr())\n",
    "mask[np.triu_indices_from(mask)] = 1\n",
    "sns.heatmap(data.corr(), mask= mask, ax= ax, annot= True)"
   ]
  },
  {
   "cell_type": "markdown",
   "metadata": {},
   "source": [
    "Sin embargo, a través del análisis de la correlación entre las variables no existe una mayor influencia lineal entre estas. "
   ]
  },
  {
   "cell_type": "markdown",
   "metadata": {},
   "source": [
    "Veamos cual es el día que presenta un mayor porcentaje de ordenes no tomadas (taken=0)."
   ]
  },
  {
   "cell_type": "code",
   "execution_count": 58,
   "metadata": {},
   "outputs": [],
   "source": [
    "date_weekday = []\n",
    "for i in range(len(data.created_at)):\n",
    "    d = dateutil.parser.parse(data.iloc[i].created_at)\n",
    "    date_weekday.append(d.weekday())\n",
    "serie  = pd.Series(date_weekday)    "
   ]
  },
  {
   "cell_type": "code",
   "execution_count": 61,
   "metadata": {},
   "outputs": [],
   "source": [
    "data = data.assign(weekday=serie).copy()\n",
    "data[\"weekday\"] = data[\"weekday\"].astype(str) "
   ]
  },
  {
   "cell_type": "code",
   "execution_count": 111,
   "metadata": {},
   "outputs": [
    {
     "data": {
      "text/html": [
       "<div>\n",
       "<style scoped>\n",
       "    .dataframe tbody tr th:only-of-type {\n",
       "        vertical-align: middle;\n",
       "    }\n",
       "\n",
       "    .dataframe tbody tr th {\n",
       "        vertical-align: top;\n",
       "    }\n",
       "\n",
       "    .dataframe thead th {\n",
       "        text-align: right;\n",
       "    }\n",
       "</style>\n",
       "<table border=\"1\" class=\"dataframe\">\n",
       "  <thead>\n",
       "    <tr style=\"text-align: right;\">\n",
       "      <th>días</th>\n",
       "      <th>0.0</th>\n",
       "      <th>1.0</th>\n",
       "      <th>2.0</th>\n",
       "      <th>3.0</th>\n",
       "      <th>4.0</th>\n",
       "      <th>5.0</th>\n",
       "      <th>6.0</th>\n",
       "    </tr>\n",
       "    <tr>\n",
       "      <th>ordenes</th>\n",
       "      <th></th>\n",
       "      <th></th>\n",
       "      <th></th>\n",
       "      <th></th>\n",
       "      <th></th>\n",
       "      <th></th>\n",
       "      <th></th>\n",
       "    </tr>\n",
       "  </thead>\n",
       "  <tbody>\n",
       "    <tr>\n",
       "      <th>0</th>\n",
       "      <td>0.113731</td>\n",
       "      <td>0.138256</td>\n",
       "      <td>0.11209</td>\n",
       "      <td>0.126598</td>\n",
       "      <td>0.162003</td>\n",
       "      <td>0.221762</td>\n",
       "      <td>0.125561</td>\n",
       "    </tr>\n",
       "  </tbody>\n",
       "</table>\n",
       "</div>"
      ],
      "text/plain": [
       "días          0.0       1.0      2.0       3.0       4.0       5.0       6.0\n",
       "ordenes                                                                     \n",
       "0        0.113731  0.138256  0.11209  0.126598  0.162003  0.221762  0.125561"
      ]
     },
     "execution_count": 111,
     "metadata": {},
     "output_type": "execute_result"
    }
   ],
   "source": [
    "pd.crosstab(data[data.taken==0].taken.values, data[data.taken==0].weekday.values, rownames=['ordenes'], colnames=['días']).apply(lambda r: r/r.sum(), axis=1)"
   ]
  },
  {
   "cell_type": "markdown",
   "metadata": {},
   "source": [
    "De la anterior tabla cruzada podemos ver que el día de la semana que más porcentaje (22%) de ordenes no tomadas es el sábado (5)."
   ]
  },
  {
   "cell_type": "markdown",
   "metadata": {},
   "source": [
    "## Modeling"
   ]
  },
  {
   "cell_type": "markdown",
   "metadata": {},
   "source": [
    "2. Build an analytical model to help Rappi determine whether or not an order is going to be taken by a courier. Discuss why you chose your approach, what alternatives you considered, and any concerns you may have. How valid is your model? Include any key indicators of model performance. (2 points)\n"
   ]
  },
  {
   "cell_type": "markdown",
   "metadata": {},
   "source": [
    "Debido a que los registros de la variable objetivo no se encuentran balanceados, se tomará como prótocolo de entrenamiento y evaluación de los modelos la validación cruzada (cross-validation) con el fin de dar oportunidad a los datos valores con taken igual 0, con ello evitamos el under y el overfitting."
   ]
  },
  {
   "cell_type": "code",
   "execution_count": 38,
   "metadata": {},
   "outputs": [],
   "source": [
    "# libraries\n",
    "\n",
    "from sklearn.model_selection import train_test_split\n",
    "from sklearn.preprocessing import OneHotEncoder\n",
    "from sklearn import tree\n",
    "from sklearn.model_selection import cross_val_score, cross_validate \n",
    "from sklearn.metrics import cohen_kappa_score\n",
    "from sklearn.naive_bayes import GaussianNB\n",
    "from sklearn.neighbors import KNeighborsClassifier\n",
    "from sklearn.metrics import confusion_matrix\n",
    "from sklearn.metrics import accuracy_score, classification_report"
   ]
  },
  {
   "cell_type": "code",
   "execution_count": 12,
   "metadata": {},
   "outputs": [],
   "source": [
    "# seed\n",
    "np.random.seed(128)"
   ]
  },
  {
   "cell_type": "code",
   "execution_count": 44,
   "metadata": {},
   "outputs": [],
   "source": [
    "X = data.iloc[:,2:5]\n",
    "Y = data.iloc[:,6]"
   ]
  },
  {
   "cell_type": "markdown",
   "metadata": {},
   "source": [
    "Voy a lanzar un primero modelo de árboles de decisión con el tunning por defecto de la librería para conocer una primera aproximación"
   ]
  },
  {
   "cell_type": "code",
   "execution_count": 46,
   "metadata": {},
   "outputs": [
    {
     "name": "stdout",
     "output_type": "stream",
     "text": [
      "fit_time: 0.70 (+/- 0.04)\n",
      "score_time: 0.03 (+/- 0.00)\n",
      "test_accuracy: 0.86 (+/- 0.00)\n",
      "test_precision_weighted: 0.87 (+/- 0.00)\n",
      "test_recall_weighted: 0.86 (+/- 0.00)\n",
      "test_f1_weighted: 0.86 (+/- 0.00)\n"
     ]
    }
   ],
   "source": [
    "scoring = ['accuracy', 'precision_weighted', 'recall_weighted', 'f1_weighted']\n",
    "clf = tree.DecisionTreeClassifier()\n",
    "scores = cross_validate(clf, X, Y, scoring=scoring, cv=10, return_train_score=False)\n",
    "\n",
    "for key in scores:\n",
    "    score = scores[key]\n",
    "    print(\"%s: %0.2f (+/- %0.2f)\" % (key, score.mean(), score.std() * 2))"
   ]
  },
  {
   "cell_type": "markdown",
   "metadata": {},
   "source": [
    "Nada mal comparado con el baseline de los datos desbalanceados, el primer modelo da un resultado de exactitud del _86%_."
   ]
  },
  {
   "cell_type": "markdown",
   "metadata": {},
   "source": [
    "Voy hacer un segundo experimento con KNN y Naive Bayes con el fin de comparar los resultados de los tres modelos."
   ]
  },
  {
   "cell_type": "markdown",
   "metadata": {},
   "source": [
    "_KNN_"
   ]
  },
  {
   "cell_type": "code",
   "execution_count": 47,
   "metadata": {},
   "outputs": [
    {
     "name": "stdout",
     "output_type": "stream",
     "text": [
      "Exactitudes 1: 0.86 (+/- 0.00)\n",
      "Exactitudes 3: 0.90 (+/- 0.00)\n",
      "Exactitudes 5: 0.91 (+/- 0.00)\n",
      "Exactitudes 7: 0.92 (+/- 0.00)\n",
      "Exactitudes 9: 0.92 (+/- 0.00)\n",
      "Exactitudes 11: 0.92 (+/- 0.00)\n"
     ]
    }
   ],
   "source": [
    "ks=[1,3,5,7,9,11]\n",
    "for k in ks:\n",
    "    knn = KNeighborsClassifier(n_neighbors=k)    \n",
    "    exactitudes = cross_val_score(knn, X, Y, cv=10, scoring='accuracy')\n",
    "    print(\"Exactitudes \"+str(k)+\": %0.2f (+/- %0.2f)\" % (exactitudes.mean(), exactitudes.std() * 2))"
   ]
  },
  {
   "cell_type": "markdown",
   "metadata": {},
   "source": [
    "_NB_"
   ]
  },
  {
   "cell_type": "code",
   "execution_count": 48,
   "metadata": {},
   "outputs": [
    {
     "name": "stdout",
     "output_type": "stream",
     "text": [
      "fit_time: 0.02 (+/- 0.00)\n",
      "score_time: 0.02 (+/- 0.00)\n",
      "test_accuracy: 0.92 (+/- 0.00)\n",
      "test_precision_weighted: 0.86 (+/- 0.01)\n",
      "test_recall_weighted: 0.92 (+/- 0.00)\n",
      "test_f1_weighted: 0.88 (+/- 0.00)\n"
     ]
    }
   ],
   "source": [
    "gnb = GaussianNB()\n",
    "scores = cross_validate(gnb, X, Y, scoring=scoring, cv=10, return_train_score=False)\n",
    "\n",
    "for key in scores:\n",
    "    score = scores[key]\n",
    "    print(\"%s: %0.2f (+/- %0.2f)\" % (key, score.mean(), score.std() * 2))"
   ]
  },
  {
   "cell_type": "markdown",
   "metadata": {},
   "source": [
    "Podríamos inferir que tenemos dos modelos interesantes del 92% de exactitud, uno desde Naive Bayes (NB) y otro desde K vecinos cercanos, ambos tienen sus pros y contras dependiendo donde sea utilizado en producción, es decir, del volumen de datos y la variedad de la información, si nos encontramos con datos que no van a ser procesados en batch entonces mi recomendación sería utilizar el NB, por el contrario, el modelo que recomendaría a Rappi es un KNN con k igual 7."
   ]
  },
  {
   "cell_type": "markdown",
   "metadata": {},
   "source": [
    "Voy a realizar un último experimento con un hold-out, es decir, 80% para entrenamiento y el restante para testeo para el KNN con k igual 7, quiero ver otras métricas (matriz de confusión y kappa cohen)"
   ]
  },
  {
   "cell_type": "code",
   "execution_count": 49,
   "metadata": {},
   "outputs": [
    {
     "name": "stdout",
     "output_type": "stream",
     "text": [
      "accuracy: 0.9179167942307038\n",
      "              precision    recall  f1-score   support\n",
      "\n",
      "           0       0.21      0.01      0.03      2316\n",
      "           1       0.92      1.00      0.96     27081\n",
      "\n",
      "    accuracy                           0.92     29397\n",
      "   macro avg       0.56      0.50      0.49     29397\n",
      "weighted avg       0.87      0.92      0.88     29397\n",
      "\n",
      "COHEN\n",
      "0.0171085149792205\n"
     ]
    }
   ],
   "source": [
    "X_train, X_test, y_train, y_test = train_test_split(X, Y, test_size=0.2, random_state=12345, stratify=Y)\n",
    "\n",
    "knn = KNeighborsClassifier(n_neighbors=7)\n",
    "knn.fit(X_train, y_train)\n",
    "pred = knn.predict(X_test)\n",
    "## accuracy\n",
    "accuracy = accuracy_score(y_test,pred)\n",
    "print(\"accuracy: {}\".format(accuracy))\n",
    "print(classification_report(y_test,pred, labels=None))\n",
    "print(\"COHEN\")\n",
    "print(cohen_kappa_score(y_test, pred))"
   ]
  },
  {
   "cell_type": "markdown",
   "metadata": {},
   "source": [
    "Definitivamente podemos rectificar que el hold-out no es una buena aproximación, el modelo basado en KNN tienen una buena exactitud, pero se queda en la precisión de los datos con _take_ igual a 0, esto lo podemos confirmar con el valor de kappa ya que es muy próximo a 0."
   ]
  },
  {
   "cell_type": "markdown",
   "metadata": {},
   "source": [
    "3. Briefly discuss how Rappi can take advantage of the insights gained from the model to increase the number orders taken by our couriers. (1 point)\n"
   ]
  },
  {
   "cell_type": "markdown",
   "metadata": {},
   "source": [
    "Independiente de la fecha, el modelo cuenta con la capacidad de predecir con un 92% de exactitud si una orden va a ser tomada por un personal de la compañía a partir de la distancia, la elevación y la cantidad de la ganancia donde se solicita el pedido. Este es el principal insight ya que permitirá a Rappi realizar campañas de atracción a clientes o mejorar la logística de la ubicación de los proveedores de servicio y así atraer a nuevos clientes (hace parte de los KPI propuestos)"
   ]
  }
 ],
 "metadata": {
  "kernelspec": {
   "display_name": "Python 3",
   "language": "python",
   "name": "python3"
  },
  "language_info": {
   "codemirror_mode": {
    "name": "ipython",
    "version": 3
   },
   "file_extension": ".py",
   "mimetype": "text/x-python",
   "name": "python",
   "nbconvert_exporter": "python",
   "pygments_lexer": "ipython3",
   "version": "3.6.6"
  }
 },
 "nbformat": 4,
 "nbformat_minor": 2
}
