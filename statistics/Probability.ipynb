{
 "cells": [
  {
   "cell_type": "markdown",
   "metadata": {},
   "source": [
    "# Probability\n",
    "\n",
    "**Author: Christian Camilo Ucuqui López**\n",
    "\n",
    "**Date: 27 August 2019**"
   ]
  },
  {
   "cell_type": "markdown",
   "metadata": {},
   "source": [
    "Probability is a way to quantify the uncertainty associated with _events_ chosen from a some _universe_ of events. The **universe** consists of all possible outcomes, and a subset from this is an **event**.\n",
    "\n",
    "The expressions are writing like this $P(E)$ to mean \"the probability of the event E\""
   ]
  },
  {
   "cell_type": "markdown",
   "metadata": {},
   "source": [
    "It is important to mention as probability theory is used to build models and to evaluate them. "
   ]
  },
  {
   "cell_type": "markdown",
   "metadata": {},
   "source": [
    "# Dependence and Independence\n",
    "\n",
    "Two events `E` and `F` are dependent if knowing something about whether `E` happens gives us information about whether `F` happens (and vice versa). Otherwhise they are `independent`.\n"
   ]
  },
  {
   "cell_type": "markdown",
   "metadata": {},
   "source": [
    "## Independent\n",
    "\n",
    "We say two events `E` and `F` are `indepedent` if the probability that they both happen is the `product` of the probabilities that each one happens.\n",
    "\n",
    "$P(E,F) = P(E)P(F)$"
   ]
  },
  {
   "cell_type": "markdown",
   "metadata": {},
   "source": [
    "### Conditional probability\n",
    "\n",
    "When two events `E` and `F` are independent, then we have the previous definition \n",
    "\n",
    "$P(E,F) = P(E)P(F)$\n",
    "\n",
    "But, in the case where the probability of `F` is not zero, then we define the probability of `E` \"conditional on `F`\" as:\n",
    "\n",
    "$P(E|F) = P(E,F) / P(F)$\n",
    "\n",
    "We often rewrite this as:\n",
    "\n",
    "$P(E,F) = P(E|F)P(F)$\n",
    "\n",
    "\n",
    "When `E` and `F` are independent, it gives us:\n",
    "\n",
    "$P(E|F)=P(E)$\n"
   ]
  },
  {
   "cell_type": "markdown",
   "metadata": {},
   "source": [
    "Example:\n",
    "\n",
    "1. Each child is equally likely to be a boy or a girl\n",
    "2. The gender of the second child is independent of the gender of the first child then the event \"no girls\" has probability 1/4, the event \"one girl, one boy\" has probability 1/2, and the event \"two girls\" has probability 1/4.\n",
    "\n",
    "The question is what is the probability of \"both children are girls\" _(B) conditional on the event \"the older child is a girl\" (G)_\n",
    "\n",
    "\n",
    "$P(B|G) = P(B,G)/P(G) = P(B) / P(G) = 1/2$\n"
   ]
  },
  {
   "cell_type": "code",
   "execution_count": 4,
   "metadata": {},
   "outputs": [
    {
     "data": {
      "text/plain": [
       "0.5"
      ]
     },
     "execution_count": 4,
     "metadata": {},
     "output_type": "execute_result"
    }
   ],
   "source": [
    "(1/4) / (1/2)"
   ]
  },
  {
   "cell_type": "markdown",
   "metadata": {},
   "source": [
    "Let's see another example where the idea is to ask the probability of the event \"both children are girls\" conditional on the event \"at least one of the children is a girl\" (L)\n",
    "\n",
    "$P(B|L)=P(B,L)|P(L)=P(B)/P(L)="
   ]
  },
  {
   "cell_type": "code",
   "execution_count": 10,
   "metadata": {},
   "outputs": [
    {
     "data": {
      "text/plain": [
       "0.5"
      ]
     },
     "execution_count": 10,
     "metadata": {},
     "output_type": "execute_result"
    }
   ],
   "source": [
    "(1/4) / (1/2)"
   ]
  },
  {
   "cell_type": "code",
   "execution_count": 9,
   "metadata": {},
   "outputs": [
    {
     "data": {
      "text/plain": [
       "0.3333333333333333"
      ]
     },
     "execution_count": 9,
     "metadata": {},
     "output_type": "execute_result"
    }
   ],
   "source": [
    "1/3"
   ]
  },
  {
   "cell_type": "markdown",
   "metadata": {},
   "source": [
    "We can check this by \"generating\" a lot of families:"
   ]
  },
  {
   "cell_type": "code",
   "execution_count": 2,
   "metadata": {},
   "outputs": [
    {
     "name": "stdout",
     "output_type": "stream",
     "text": [
      "P(both | older): 0.5007089325501317\n",
      "P(both | either):  0.3311897106109325\n"
     ]
    }
   ],
   "source": [
    "import random\n",
    "\n",
    "def random_kid():\n",
    "    return random.choice([\"boy\", \"girl\"])\n",
    "\n",
    "both_girls = 0\n",
    "older_girl = 0\n",
    "either_girl = 0\n",
    "\n",
    "random.seed(0)\n",
    "\n",
    "for _ in range(10000):\n",
    "    younger = random_kid()\n",
    "    older = random_kid()\n",
    "    if older == \"girl\":\n",
    "        older_girl += 1\n",
    "    if older == \"girl\" and younger == \"girl\":\n",
    "        both_girls += 1\n",
    "    if older == \"girl\" or younger == \"girl\":\n",
    "        either_girl += 1\n",
    "        \n",
    "print(\"P(both | older):\", both_girls / older_girl)\n",
    "print(\"P(both | either): \", both_girls / either_girl)"
   ]
  },
  {
   "cell_type": "markdown",
   "metadata": {},
   "source": [
    "# Bayes's Theorem\n",
    "\n",
    "Let's suppose that we need to know the probability of some event *E* conditional on some other event *F* ocurring. But we only have information about the probability of *F* conditional on *E* ocurring. Using the definition of conditional probability twice tell us that:\n",
    "\n",
    "$P(E|F) = P(E,F) / P(F) = P(E|F)P(E)/P(F)$"
   ]
  },
  {
   "cell_type": "markdown",
   "metadata": {},
   "source": [
    "# Random Variables"
   ]
  },
  {
   "cell_type": "markdown",
   "metadata": {},
   "source": [
    "## Continuous Distributions\n",
    "\n",
    "### Discrete Distribution\n",
    "\n",
    "### Uniform Distribution\n",
    "\n",
    "it puts equal weight on all the numbers between 0 and 1.Because there are infinitely many numbers between 0 and 1, this means that the weight it assigns to individual points must necessarily be zero. For this reason, we represent a continuous distribution with a probability density function (pdf) such that the probability of seeing a value in a certain interval equals the integral of the density function over the interval.\n"
   ]
  },
  {
   "cell_type": "code",
   "execution_count": 3,
   "metadata": {},
   "outputs": [],
   "source": [
    "def uniform_pdf(x):\n",
    "    return 1 if x >= 0 and x < 1 else 0"
   ]
  },
  {
   "cell_type": "code",
   "execution_count": null,
   "metadata": {},
   "outputs": [],
   "source": []
  },
  {
   "cell_type": "markdown",
   "metadata": {},
   "source": [
    "We will often be more interested in the cumulative distribution function (cdf), which\n",
    "gives the probability that a random variable is less than or equal to a certain value. It’s\n",
    "not hard to create the cumulative distribution function for the uniform distribution"
   ]
  },
  {
   "cell_type": "code",
   "execution_count": 23,
   "metadata": {},
   "outputs": [],
   "source": [
    "def uniform_cdf(x):\n",
    "    \"returns the probability that a uniform random variable is <= x\"\n",
    "    if x < 0: return 0 # uniform random is never less than 0\n",
    "    elif x < 1: return x # e.g. P(X <= 0.4) = 0.4\n",
    "    else: return 1 # uniform random is always less than 1"
   ]
  },
  {
   "cell_type": "code",
   "execution_count": 42,
   "metadata": {},
   "outputs": [
    {
     "data": {
      "text/plain": [
       "[<matplotlib.lines.Line2D at 0x200b9b79dc8>]"
      ]
     },
     "execution_count": 42,
     "metadata": {},
     "output_type": "execute_result"
    },
    {
     "data": {
      "image/png": "[encoded data removed]",
      "text/plain": [
       "<Figure size 432x288 with 1 Axes>"
      ]
     },
     "metadata": {
      "needs_background": "light"
     },
     "output_type": "display_data"
    }
   ],
   "source": [
    "import numpy as np\n",
    "import matplotlib.pyplot as plt\n",
    "\n",
    "plt.plot(np.array(list(map(uniform_cdf,[-1.0, -0.5, 0, 0.5, 1.0, 1.5, 2.]))))"
   ]
  },
  {
   "cell_type": "markdown",
   "metadata": {},
   "source": [
    "## References\n",
    "\n",
    "+ Grus, J. (2019). Data science from scratch: first principles with python. O'Reilly Media."
   ]
  }
 ],
 "metadata": {
  "kernelspec": {
   "display_name": "Python 3",
   "language": "python",
   "name": "python3"
  },
  "language_info": {
   "codemirror_mode": {
    "name": "ipython",
    "version": 3
   },
   "file_extension": ".py",
   "mimetype": "text/x-python",
   "name": "python",
   "nbconvert_exporter": "python",
   "pygments_lexer": "ipython3",
   "version": "3.7.10"
  }
 },
 "nbformat": 4,
 "nbformat_minor": 2
}
