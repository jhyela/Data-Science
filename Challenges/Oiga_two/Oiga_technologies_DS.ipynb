{
 "cells": [
  {
   "cell_type": "markdown",
   "id": "important-favorite",
   "metadata": {},
   "source": [
    "*Christian Camilo Urcuqui López*\n",
    "\n",
    "**Content**\n",
    "\n",
    "+ [Data](#Data)\n",
    "+ [EDA](#Exploratory-Data-Analysis)\n",
    "+ [Preprocess](#Preprocess)\n",
    "+ [Modeling](#Modeling)\n",
    "    + [Base-model](#Base-model)\n",
    "    + [Deep-Learning-Model](#Deep-Learning-Model)\n",
    "+ [Pipeline](#Pipeline)\n",
    "+ [Deployment](#Deployment)"
   ]
  },
  {
   "cell_type": "markdown",
   "id": "correct-class",
   "metadata": {},
   "source": [
    "## Data"
   ]
  },
  {
   "cell_type": "markdown",
   "id": "iraqi-daisy",
   "metadata": {},
   "source": [
    "Data Set with the football matches of the Spanish league of the 1st and 2nd division from the\n",
    "1970-71 to 2016-17 season."
   ]
  },
  {
   "cell_type": "markdown",
   "id": "polished-russia",
   "metadata": {},
   "source": [
    "This file contains information about a football matches with the follow features:\n",
    "+ id (4808): Unique identifier of football match\n",
    "+ season (1977-78): Season in which the match was played\n",
    "+ division (1): División in which the match was played (1st '1', 2nd '2')\n",
    "+ round (8): round in which the match was played\n",
    "+ localTeam (Rayo Vallecano): Local Team name\n",
    "+ visitorTeam (Real Madrid): Visitor Team name\n",
    "+ localGoals (3): Goals scored by the local team\n",
    "+ visitorGoals (2): Goals scored by the visitor team\n",
    "+ fecha (30/10/1977): Date in which the match was played\n",
    "+ date (247014000): Timestamp in which the match was played\n"
   ]
  },
  {
   "cell_type": "code",
   "execution_count": 1,
   "id": "rocky-plant",
   "metadata": {},
   "outputs": [],
   "source": [
    "import pandas as pd\n",
    "import warnings\n",
    "warnings.filterwarnings(\"ignore\")\n",
    "\n",
    "df = pd.read_csv(\"FMEL_Dataset.csv\")"
   ]
  },
  {
   "cell_type": "markdown",
   "id": "vanilla-berlin",
   "metadata": {},
   "source": [
    "## Exploratory Data Analysis"
   ]
  },
  {
   "cell_type": "code",
   "execution_count": 2,
   "id": "threaded-credits",
   "metadata": {},
   "outputs": [
    {
     "data": {
      "text/html": [
       "<div>\n",
       "<style scoped>\n",
       "    .dataframe tbody tr th:only-of-type {\n",
       "        vertical-align: middle;\n",
       "    }\n",
       "\n",
       "    .dataframe tbody tr th {\n",
       "        vertical-align: top;\n",
       "    }\n",
       "\n",
       "    .dataframe thead th {\n",
       "        text-align: right;\n",
       "    }\n",
       "</style>\n",
       "<table border=\"1\" class=\"dataframe\">\n",
       "  <thead>\n",
       "    <tr style=\"text-align: right;\">\n",
       "      <th></th>\n",
       "      <th>id</th>\n",
       "      <th>season</th>\n",
       "      <th>division</th>\n",
       "      <th>round</th>\n",
       "      <th>localTeam</th>\n",
       "      <th>visitorTeam</th>\n",
       "      <th>localGoals</th>\n",
       "      <th>visitorGoals</th>\n",
       "      <th>date</th>\n",
       "      <th>timestamp</th>\n",
       "    </tr>\n",
       "  </thead>\n",
       "  <tbody>\n",
       "    <tr>\n",
       "      <th>0</th>\n",
       "      <td>1</td>\n",
       "      <td>1970-71</td>\n",
       "      <td>1</td>\n",
       "      <td>1</td>\n",
       "      <td>Athletic Club</td>\n",
       "      <td>Barcelona</td>\n",
       "      <td>1</td>\n",
       "      <td>1</td>\n",
       "      <td>12/09/1970</td>\n",
       "      <td>21942000</td>\n",
       "    </tr>\n",
       "    <tr>\n",
       "      <th>1</th>\n",
       "      <td>2</td>\n",
       "      <td>1970-71</td>\n",
       "      <td>1</td>\n",
       "      <td>1</td>\n",
       "      <td>Las Palmas</td>\n",
       "      <td>Atletico de Madrid</td>\n",
       "      <td>1</td>\n",
       "      <td>1</td>\n",
       "      <td>12/09/1970</td>\n",
       "      <td>21942000</td>\n",
       "    </tr>\n",
       "  </tbody>\n",
       "</table>\n",
       "</div>"
      ],
      "text/plain": [
       "   id   season  division  round      localTeam         visitorTeam  \\\n",
       "0   1  1970-71         1      1  Athletic Club           Barcelona   \n",
       "1   2  1970-71         1      1     Las Palmas  Atletico de Madrid   \n",
       "\n",
       "   localGoals  visitorGoals        date  timestamp  \n",
       "0           1             1  12/09/1970   21942000  \n",
       "1           1             1  12/09/1970   21942000  "
      ]
     },
     "execution_count": 2,
     "metadata": {},
     "output_type": "execute_result"
    }
   ],
   "source": [
    "df.head(2)"
   ]
  },
  {
   "cell_type": "code",
   "execution_count": 3,
   "id": "frequent-trustee",
   "metadata": {},
   "outputs": [
    {
     "name": "stdout",
     "output_type": "stream",
     "text": [
      "<class 'pandas.core.frame.DataFrame'>\n",
      "RangeIndex: 36305 entries, 0 to 36304\n",
      "Data columns (total 10 columns):\n",
      " #   Column        Non-Null Count  Dtype \n",
      "---  ------        --------------  ----- \n",
      " 0   id            36305 non-null  int64 \n",
      " 1   season        36305 non-null  object\n",
      " 2   division      36305 non-null  int64 \n",
      " 3   round         36305 non-null  int64 \n",
      " 4   localTeam     36305 non-null  object\n",
      " 5   visitorTeam   36305 non-null  object\n",
      " 6   localGoals    36305 non-null  int64 \n",
      " 7   visitorGoals  36305 non-null  int64 \n",
      " 8   date          36305 non-null  object\n",
      " 9   timestamp     36305 non-null  int64 \n",
      "dtypes: int64(6), object(4)\n",
      "memory usage: 2.8+ MB\n"
     ]
    }
   ],
   "source": [
    "df.info()"
   ]
  },
  {
   "cell_type": "code",
   "execution_count": 14,
   "id": "swiss-packaging",
   "metadata": {},
   "outputs": [],
   "source": [
    "df[\"date\"] = pd.to_datetime(df.date)"
   ]
  },
  {
   "cell_type": "code",
   "execution_count": 12,
   "id": "legitimate-pricing",
   "metadata": {},
   "outputs": [
    {
     "data": {
      "text/plain": [
       "'how many local teams are in the datasets?: 114'"
      ]
     },
     "execution_count": 12,
     "metadata": {},
     "output_type": "execute_result"
    }
   ],
   "source": [
    "\"how many local teams are in the datasets?: {}\".format(len(df.localTeam.unique()))"
   ]
  },
  {
   "cell_type": "code",
   "execution_count": 15,
   "id": "modified-adams",
   "metadata": {},
   "outputs": [
    {
     "data": {
      "text/plain": [
       "'how many visitor teams are in the datasets?: 114'"
      ]
     },
     "execution_count": 15,
     "metadata": {},
     "output_type": "execute_result"
    }
   ],
   "source": [
    "\"how many visitor teams are in the datasets?: {}\".format(len(df.visitorTeam.unique()))"
   ]
  },
  {
   "cell_type": "code",
   "execution_count": 41,
   "id": "dutch-european",
   "metadata": {},
   "outputs": [
    {
     "data": {
      "text/html": [
       "<div>\n",
       "<style scoped>\n",
       "    .dataframe tbody tr th:only-of-type {\n",
       "        vertical-align: middle;\n",
       "    }\n",
       "\n",
       "    .dataframe tbody tr th {\n",
       "        vertical-align: top;\n",
       "    }\n",
       "\n",
       "    .dataframe thead th {\n",
       "        text-align: right;\n",
       "    }\n",
       "</style>\n",
       "<table border=\"1\" class=\"dataframe\">\n",
       "  <thead>\n",
       "    <tr style=\"text-align: right;\">\n",
       "      <th></th>\n",
       "      <th>visitorGoals</th>\n",
       "      <th>division</th>\n",
       "      <th>round</th>\n",
       "      <th>localGoals</th>\n",
       "    </tr>\n",
       "  </thead>\n",
       "  <tbody>\n",
       "    <tr>\n",
       "      <th>count</th>\n",
       "      <td>36305.00000</td>\n",
       "      <td>36305.000000</td>\n",
       "      <td>36305.000000</td>\n",
       "      <td>36305.000000</td>\n",
       "    </tr>\n",
       "    <tr>\n",
       "      <th>mean</th>\n",
       "      <td>0.93494</td>\n",
       "      <td>1.537557</td>\n",
       "      <td>19.845861</td>\n",
       "      <td>1.516706</td>\n",
       "    </tr>\n",
       "    <tr>\n",
       "      <th>std</th>\n",
       "      <td>1.00889</td>\n",
       "      <td>0.498594</td>\n",
       "      <td>11.273393</td>\n",
       "      <td>1.263186</td>\n",
       "    </tr>\n",
       "    <tr>\n",
       "      <th>min</th>\n",
       "      <td>0.00000</td>\n",
       "      <td>1.000000</td>\n",
       "      <td>1.000000</td>\n",
       "      <td>0.000000</td>\n",
       "    </tr>\n",
       "    <tr>\n",
       "      <th>25%</th>\n",
       "      <td>0.00000</td>\n",
       "      <td>1.000000</td>\n",
       "      <td>10.000000</td>\n",
       "      <td>1.000000</td>\n",
       "    </tr>\n",
       "    <tr>\n",
       "      <th>50%</th>\n",
       "      <td>1.00000</td>\n",
       "      <td>2.000000</td>\n",
       "      <td>20.000000</td>\n",
       "      <td>1.000000</td>\n",
       "    </tr>\n",
       "    <tr>\n",
       "      <th>75%</th>\n",
       "      <td>1.00000</td>\n",
       "      <td>2.000000</td>\n",
       "      <td>29.000000</td>\n",
       "      <td>2.000000</td>\n",
       "    </tr>\n",
       "    <tr>\n",
       "      <th>max</th>\n",
       "      <td>8.00000</td>\n",
       "      <td>2.000000</td>\n",
       "      <td>44.000000</td>\n",
       "      <td>10.000000</td>\n",
       "    </tr>\n",
       "  </tbody>\n",
       "</table>\n",
       "</div>"
      ],
      "text/plain": [
       "       visitorGoals      division         round    localGoals\n",
       "count   36305.00000  36305.000000  36305.000000  36305.000000\n",
       "mean        0.93494      1.537557     19.845861      1.516706\n",
       "std         1.00889      0.498594     11.273393      1.263186\n",
       "min         0.00000      1.000000      1.000000      0.000000\n",
       "25%         0.00000      1.000000     10.000000      1.000000\n",
       "50%         1.00000      2.000000     20.000000      1.000000\n",
       "75%         1.00000      2.000000     29.000000      2.000000\n",
       "max         8.00000      2.000000     44.000000     10.000000"
      ]
     },
     "execution_count": 41,
     "metadata": {},
     "output_type": "execute_result"
    }
   ],
   "source": [
    "df.loc[:,list(set(df.columns) - set([\"timestamp\", \"id\"]))].describe()"
   ]
  },
  {
   "cell_type": "code",
   "execution_count": 56,
   "id": "bridal-advisory",
   "metadata": {},
   "outputs": [
    {
     "data": {
      "text/plain": [
       "114"
      ]
     },
     "execution_count": 56,
     "metadata": {},
     "output_type": "execute_result"
    }
   ],
   "source": [
    "pd.Series(df.visitorTeam.unique()).isin(df.localTeam).count()"
   ]
  },
  {
   "cell_type": "code",
   "execution_count": 53,
   "id": "printable-fence",
   "metadata": {},
   "outputs": [
    {
     "data": {
      "text/plain": [
       "114"
      ]
     },
     "execution_count": 53,
     "metadata": {},
     "output_type": "execute_result"
    }
   ],
   "source": [
    "pd.Series(df.localTeam.unique()).isin(df.visitorTeam).count()"
   ]
  },
  {
   "cell_type": "markdown",
   "id": "chinese-logging",
   "metadata": {},
   "source": [
    "There are no problems with incoherences in the team's names"
   ]
  },
  {
   "cell_type": "code",
   "execution_count": 58,
   "id": "empty-receipt",
   "metadata": {},
   "outputs": [
    {
     "data": {
      "text/html": [
       "<div>\n",
       "<style scoped>\n",
       "    .dataframe tbody tr th:only-of-type {\n",
       "        vertical-align: middle;\n",
       "    }\n",
       "\n",
       "    .dataframe tbody tr th {\n",
       "        vertical-align: top;\n",
       "    }\n",
       "\n",
       "    .dataframe thead th {\n",
       "        text-align: right;\n",
       "    }\n",
       "</style>\n",
       "<table border=\"1\" class=\"dataframe\">\n",
       "  <thead>\n",
       "    <tr style=\"text-align: right;\">\n",
       "      <th>round</th>\n",
       "      <th>1</th>\n",
       "      <th>2</th>\n",
       "      <th>3</th>\n",
       "      <th>4</th>\n",
       "      <th>5</th>\n",
       "      <th>6</th>\n",
       "      <th>7</th>\n",
       "      <th>8</th>\n",
       "      <th>9</th>\n",
       "      <th>10</th>\n",
       "      <th>...</th>\n",
       "      <th>35</th>\n",
       "      <th>36</th>\n",
       "      <th>37</th>\n",
       "      <th>38</th>\n",
       "      <th>39</th>\n",
       "      <th>40</th>\n",
       "      <th>41</th>\n",
       "      <th>42</th>\n",
       "      <th>43</th>\n",
       "      <th>44</th>\n",
       "    </tr>\n",
       "    <tr>\n",
       "      <th>division</th>\n",
       "      <th></th>\n",
       "      <th></th>\n",
       "      <th></th>\n",
       "      <th></th>\n",
       "      <th></th>\n",
       "      <th></th>\n",
       "      <th></th>\n",
       "      <th></th>\n",
       "      <th></th>\n",
       "      <th></th>\n",
       "      <th></th>\n",
       "      <th></th>\n",
       "      <th></th>\n",
       "      <th></th>\n",
       "      <th></th>\n",
       "      <th></th>\n",
       "      <th></th>\n",
       "      <th></th>\n",
       "      <th></th>\n",
       "      <th></th>\n",
       "      <th></th>\n",
       "    </tr>\n",
       "  </thead>\n",
       "  <tbody>\n",
       "    <tr>\n",
       "      <th>1</th>\n",
       "      <td>454</td>\n",
       "      <td>454</td>\n",
       "      <td>454</td>\n",
       "      <td>454</td>\n",
       "      <td>454</td>\n",
       "      <td>454</td>\n",
       "      <td>454</td>\n",
       "      <td>454</td>\n",
       "      <td>454</td>\n",
       "      <td>454</td>\n",
       "      <td>...</td>\n",
       "      <td>311</td>\n",
       "      <td>311</td>\n",
       "      <td>311</td>\n",
       "      <td>311</td>\n",
       "      <td>31</td>\n",
       "      <td>31</td>\n",
       "      <td>31</td>\n",
       "      <td>31</td>\n",
       "      <td>9</td>\n",
       "      <td>9</td>\n",
       "    </tr>\n",
       "    <tr>\n",
       "      <th>2</th>\n",
       "      <td>489</td>\n",
       "      <td>489</td>\n",
       "      <td>489</td>\n",
       "      <td>489</td>\n",
       "      <td>489</td>\n",
       "      <td>489</td>\n",
       "      <td>489</td>\n",
       "      <td>489</td>\n",
       "      <td>489</td>\n",
       "      <td>489</td>\n",
       "      <td>...</td>\n",
       "      <td>489</td>\n",
       "      <td>489</td>\n",
       "      <td>489</td>\n",
       "      <td>489</td>\n",
       "      <td>229</td>\n",
       "      <td>229</td>\n",
       "      <td>229</td>\n",
       "      <td>229</td>\n",
       "      <td>9</td>\n",
       "      <td>9</td>\n",
       "    </tr>\n",
       "  </tbody>\n",
       "</table>\n",
       "<p>2 rows × 44 columns</p>\n",
       "</div>"
      ],
      "text/plain": [
       "round      1    2    3    4    5    6    7    8    9    10  ...   35   36  \\\n",
       "division                                                    ...             \n",
       "1         454  454  454  454  454  454  454  454  454  454  ...  311  311   \n",
       "2         489  489  489  489  489  489  489  489  489  489  ...  489  489   \n",
       "\n",
       "round      37   38   39   40   41   42  43  44  \n",
       "division                                        \n",
       "1         311  311   31   31   31   31   9   9  \n",
       "2         489  489  229  229  229  229   9   9  \n",
       "\n",
       "[2 rows x 44 columns]"
      ]
     },
     "execution_count": 58,
     "metadata": {},
     "output_type": "execute_result"
    }
   ],
   "source": [
    "pd.crosstab(df[\"round\"], df.division).T"
   ]
  },
  {
   "cell_type": "code",
   "execution_count": 62,
   "id": "casual-homework",
   "metadata": {
    "scrolled": true
   },
   "outputs": [
    {
     "name": "stdout",
     "output_type": "stream",
     "text": [
      "1970-01-11 00:00:00\n",
      "2017-12-05 00:00:00\n"
     ]
    }
   ],
   "source": [
    "print(df.date.min())\n",
    "print(df.date.max())"
   ]
  },
  {
   "cell_type": "code",
   "execution_count": 73,
   "id": "buried-center",
   "metadata": {},
   "outputs": [
    {
     "data": {
      "text/plain": [
       "1970    290\n",
       "1971    597\n",
       "1972    733\n",
       "1973    686\n",
       "1974    658\n",
       "1975    685\n",
       "1976    706\n",
       "1977    687\n",
       "1978    666\n",
       "1979    686\n",
       "1980    722\n",
       "1981    684\n",
       "1982    669\n",
       "1983    695\n",
       "1984    714\n",
       "1985    687\n",
       "1986    704\n",
       "1987    731\n",
       "1988    779\n",
       "1989    782\n",
       "1990    738\n",
       "1991    761\n",
       "1992    739\n",
       "1993    781\n",
       "1994    741\n",
       "1995    828\n",
       "1996    820\n",
       "1997    894\n",
       "1998    780\n",
       "1999    885\n",
       "2000    819\n",
       "2001    885\n",
       "2002    768\n",
       "2003    874\n",
       "2004    852\n",
       "2005    843\n",
       "2006    831\n",
       "2007    853\n",
       "2008    820\n",
       "2009    833\n",
       "2010    851\n",
       "2011    854\n",
       "2012    863\n",
       "2013    842\n",
       "2014    820\n",
       "2015    852\n",
       "2016    842\n",
       "2017    475\n",
       "Name: date, dtype: int64"
      ]
     },
     "execution_count": 73,
     "metadata": {},
     "output_type": "execute_result"
    }
   ],
   "source": [
    "df.date.dt.year.value_counts().sort_index()"
   ]
  },
  {
   "cell_type": "code",
   "execution_count": 79,
   "id": "comprehensive-scoop",
   "metadata": {},
   "outputs": [
    {
     "data": {
      "text/plain": [
       "'is there any difference between the years of each division? set()'"
      ]
     },
     "execution_count": 79,
     "metadata": {},
     "output_type": "execute_result"
    }
   ],
   "source": [
    "\"is there any difference between the years of each division? {}\".format(set(df[df.division == 1].date.dt.year.unique()) - set(df[df.division == 2].date.dt.year.unique()))"
   ]
  },
  {
   "cell_type": "code",
   "execution_count": 2,
   "id": "representative-supplier",
   "metadata": {},
   "outputs": [],
   "source": [
    "import numpy as np\n",
    "df[\"winner\"] = np.where(df.localGoals > df.visitorGoals, df.localTeam, df.visitorTeam)\n",
    "df[\"winner\"] = np.where(df.localGoals == df.visitorGoals, \"draw\" , df.winner)"
   ]
  },
  {
   "cell_type": "markdown",
   "id": "remarkable-pearl",
   "metadata": {},
   "source": [
    "which is more likely to be champion in the 2018 season?"
   ]
  },
  {
   "cell_type": "code",
   "execution_count": 15,
   "id": "hairy-basin",
   "metadata": {
    "scrolled": true
   },
   "outputs": [
    {
     "data": {
      "text/html": [
       "<div>\n",
       "<style scoped>\n",
       "    .dataframe tbody tr th:only-of-type {\n",
       "        vertical-align: middle;\n",
       "    }\n",
       "\n",
       "    .dataframe tbody tr th {\n",
       "        vertical-align: top;\n",
       "    }\n",
       "\n",
       "    .dataframe thead th {\n",
       "        text-align: right;\n",
       "    }\n",
       "</style>\n",
       "<table border=\"1\" class=\"dataframe\">\n",
       "  <thead>\n",
       "    <tr style=\"text-align: right;\">\n",
       "      <th></th>\n",
       "      <th>id</th>\n",
       "      <th>season</th>\n",
       "      <th>division</th>\n",
       "      <th>round</th>\n",
       "      <th>localTeam</th>\n",
       "      <th>visitorTeam</th>\n",
       "      <th>localGoals</th>\n",
       "      <th>visitorGoals</th>\n",
       "      <th>date</th>\n",
       "      <th>timestamp</th>\n",
       "      <th>winner</th>\n",
       "    </tr>\n",
       "  </thead>\n",
       "  <tbody>\n",
       "    <tr>\n",
       "      <th>35622</th>\n",
       "      <td>35623</td>\n",
       "      <td>2016-17</td>\n",
       "      <td>1</td>\n",
       "      <td>16</td>\n",
       "      <td>Valencia</td>\n",
       "      <td>Real Madrid</td>\n",
       "      <td>2</td>\n",
       "      <td>1</td>\n",
       "      <td>2017-02-22</td>\n",
       "      <td>1487718000</td>\n",
       "      <td>Valencia</td>\n",
       "    </tr>\n",
       "    <tr>\n",
       "      <th>35623</th>\n",
       "      <td>35624</td>\n",
       "      <td>2016-17</td>\n",
       "      <td>1</td>\n",
       "      <td>17</td>\n",
       "      <td>Espanyol</td>\n",
       "      <td>Deportivo</td>\n",
       "      <td>1</td>\n",
       "      <td>1</td>\n",
       "      <td>2017-06-01</td>\n",
       "      <td>1483657200</td>\n",
       "      <td>draw</td>\n",
       "    </tr>\n",
       "    <tr>\n",
       "      <th>35624</th>\n",
       "      <td>35625</td>\n",
       "      <td>2016-17</td>\n",
       "      <td>1</td>\n",
       "      <td>17</td>\n",
       "      <td>Real Madrid</td>\n",
       "      <td>Granada</td>\n",
       "      <td>5</td>\n",
       "      <td>0</td>\n",
       "      <td>2017-07-01</td>\n",
       "      <td>1483743600</td>\n",
       "      <td>Real Madrid</td>\n",
       "    </tr>\n",
       "    <tr>\n",
       "      <th>35625</th>\n",
       "      <td>35626</td>\n",
       "      <td>2016-17</td>\n",
       "      <td>1</td>\n",
       "      <td>17</td>\n",
       "      <td>Eibar</td>\n",
       "      <td>Atletico de Madrid</td>\n",
       "      <td>0</td>\n",
       "      <td>2</td>\n",
       "      <td>2017-07-01</td>\n",
       "      <td>1483743600</td>\n",
       "      <td>Atletico de Madrid</td>\n",
       "    </tr>\n",
       "    <tr>\n",
       "      <th>35626</th>\n",
       "      <td>35627</td>\n",
       "      <td>2016-17</td>\n",
       "      <td>1</td>\n",
       "      <td>17</td>\n",
       "      <td>Las Palmas</td>\n",
       "      <td>Sporting de Gijon</td>\n",
       "      <td>1</td>\n",
       "      <td>0</td>\n",
       "      <td>2017-07-01</td>\n",
       "      <td>1483743600</td>\n",
       "      <td>Las Palmas</td>\n",
       "    </tr>\n",
       "  </tbody>\n",
       "</table>\n",
       "</div>"
      ],
      "text/plain": [
       "          id   season  division  round    localTeam         visitorTeam  \\\n",
       "35622  35623  2016-17         1     16     Valencia         Real Madrid   \n",
       "35623  35624  2016-17         1     17     Espanyol           Deportivo   \n",
       "35624  35625  2016-17         1     17  Real Madrid             Granada   \n",
       "35625  35626  2016-17         1     17        Eibar  Atletico de Madrid   \n",
       "35626  35627  2016-17         1     17   Las Palmas   Sporting de Gijon   \n",
       "\n",
       "       localGoals  visitorGoals       date   timestamp              winner  \n",
       "35622           2             1 2017-02-22  1487718000            Valencia  \n",
       "35623           1             1 2017-06-01  1483657200                draw  \n",
       "35624           5             0 2017-07-01  1483743600         Real Madrid  \n",
       "35625           0             2 2017-07-01  1483743600  Atletico de Madrid  \n",
       "35626           1             0 2017-07-01  1483743600          Las Palmas  "
      ]
     },
     "execution_count": 15,
     "metadata": {},
     "output_type": "execute_result"
    }
   ],
   "source": [
    "df[df.date >= \"2017\"].head()"
   ]
  },
  {
   "cell_type": "code",
   "execution_count": 26,
   "id": "assigned-quick",
   "metadata": {},
   "outputs": [
    {
     "name": "stdout",
     "output_type": "stream",
     "text": [
      "(475, 11)\n"
     ]
    },
    {
     "data": {
      "text/plain": [
       "draw                  127\n",
       "Barcelona              18\n",
       "Real Madrid            18\n",
       "Atletico de Madrid     15\n",
       "Levante                14\n",
       "Name: winner, dtype: int64"
      ]
     },
     "execution_count": 26,
     "metadata": {},
     "output_type": "execute_result"
    }
   ],
   "source": [
    "print(df[df.date.dt.year >= 2017].shape)\n",
    "df[df.date.dt.year >= 2017].winner.value_counts().head(5)"
   ]
  },
  {
   "cell_type": "code",
   "execution_count": 59,
   "id": "affected-maryland",
   "metadata": {},
   "outputs": [
    {
     "name": "stderr",
     "output_type": "stream",
     "text": [
      "C:\\Users\\Usuario\\Anaconda3\\lib\\site-packages\\seaborn\\_decorators.py:43: FutureWarning: Pass the following variable as a keyword arg: x. From version 0.12, the only valid positional argument will be `data`, and passing other arguments without an explicit keyword will result in an error or misinterpretation.\n",
      "  FutureWarning\n"
     ]
    },
    {
     "data": {
      "text/plain": [
       "<AxesSubplot:xlabel='localTeam', ylabel='count'>"
      ]
     },
     "execution_count": 59,
     "metadata": {},
     "output_type": "execute_result"
    },
    {
     "data": {
      "image/png": "[encoded data removed]",
      "text/plain": [
       "<Figure size 1440x360 with 1 Axes>"
      ]
     },
     "metadata": {
      "needs_background": "light"
     },
     "output_type": "display_data"
    }
   ],
   "source": [
    "import seaborn as sns\n",
    "import matplotlib.pyplot as plt\n",
    "\n",
    "figure = plt.figure(figsize=(20,5))\n",
    "sns.countplot(df_copy[df_copy.index >= \"2017\"].localTeam)"
   ]
  },
  {
   "cell_type": "code",
   "execution_count": 54,
   "id": "running-scanning",
   "metadata": {},
   "outputs": [
    {
     "name": "stderr",
     "output_type": "stream",
     "text": [
      "C:\\Users\\Usuario\\Anaconda3\\lib\\site-packages\\seaborn\\_decorators.py:43: FutureWarning: Pass the following variable as a keyword arg: x. From version 0.12, the only valid positional argument will be `data`, and passing other arguments without an explicit keyword will result in an error or misinterpretation.\n",
      "  FutureWarning\n"
     ]
    },
    {
     "data": {
      "text/plain": [
       "<AxesSubplot:xlabel='visitorTeam', ylabel='count'>"
      ]
     },
     "execution_count": 54,
     "metadata": {},
     "output_type": "execute_result"
    },
    {
     "data": {
      "image/png": "[encoded data removed]",
      "text/plain": [
       "<Figure size 1440x360 with 1 Axes>"
      ]
     },
     "metadata": {
      "needs_background": "light"
     },
     "output_type": "display_data"
    }
   ],
   "source": [
    "import seaborn as sns\n",
    "import matplotlib.pyplot as plt\n",
    "\n",
    "figure = plt.figure(figsize=(20,5))\n",
    "sns.countplot(df_copy[df_copy.index >= \"2017\"].visitorTeam)"
   ]
  },
  {
   "cell_type": "code",
   "execution_count": 25,
   "id": "anonymous-equality",
   "metadata": {},
   "outputs": [
    {
     "name": "stdout",
     "output_type": "stream",
     "text": [
      "(842, 11)\n"
     ]
    },
    {
     "data": {
      "text/plain": [
       "draw                  239\n",
       "Real Madrid            28\n",
       "Barcelona              27\n",
       "Atletico de Madrid     24\n",
       "Girona                 22\n",
       "Name: winner, dtype: int64"
      ]
     },
     "execution_count": 25,
     "metadata": {},
     "output_type": "execute_result"
    }
   ],
   "source": [
    "print(df[df.date.dt.year == 2016].shape)\n",
    "df[df.date.dt.year == 2016].winner.value_counts().head(5)"
   ]
  },
  {
   "cell_type": "code",
   "execution_count": 27,
   "id": "injured-terrorism",
   "metadata": {},
   "outputs": [
    {
     "name": "stdout",
     "output_type": "stream",
     "text": [
      "(852, 11)\n"
     ]
    },
    {
     "data": {
      "text/plain": [
       "draw                  235\n",
       "Barcelona              30\n",
       "Real Madrid            28\n",
       "Atletico de Madrid     24\n",
       "Sevilla                21\n",
       "Name: winner, dtype: int64"
      ]
     },
     "execution_count": 27,
     "metadata": {},
     "output_type": "execute_result"
    }
   ],
   "source": [
    "print(df[df.date.dt.year == 2015].shape)\n",
    "df[df.date.dt.year == 2015].winner.value_counts().head(5)"
   ]
  },
  {
   "cell_type": "code",
   "execution_count": 105,
   "id": "asian-hurricane",
   "metadata": {},
   "outputs": [
    {
     "data": {
      "text/plain": [
       "<AxesSubplot:xlabel='date', ylabel='points'>"
      ]
     },
     "execution_count": 105,
     "metadata": {},
     "output_type": "execute_result"
    },
    {
     "data": {
      "image/png": "[encoded data removed]",
      "text/plain": [
       "<Figure size 1440x360 with 1 Axes>"
      ]
     },
     "metadata": {
      "needs_background": "light"
     },
     "output_type": "display_data"
    }
   ],
   "source": [
    "df_bar = df[(df.visitorTeam == \"Barcelona\") | (df.localTeam == \"Barcelona\")].copy()\n",
    "df_bar[\"points\"] = np.where(df_bar.winner == \"Barcelona\", 3, 0)\n",
    "df_bar[\"points\"] = np.where(df_bar.winner == \"draw\", 1, df_bar.points)\n",
    "df_bar.set_index(df_copy.date, inplace=True)\n",
    "figure = plt.figure(figsize=(20,5))\n",
    "sns.lineplot(data=df_bar[df_bar.date.dt.year == 2016], x=\"date\", y=\"points\")"
   ]
  },
  {
   "cell_type": "code",
   "execution_count": 106,
   "id": "medium-commonwealth",
   "metadata": {},
   "outputs": [
    {
     "data": {
      "text/plain": [
       "<AxesSubplot:xlabel='date', ylabel='points'>"
      ]
     },
     "execution_count": 106,
     "metadata": {},
     "output_type": "execute_result"
    },
    {
     "data": {
      "image/png": "[encoded data removed]",
      "text/plain": [
       "<Figure size 1440x360 with 1 Axes>"
      ]
     },
     "metadata": {
      "needs_background": "light"
     },
     "output_type": "display_data"
    }
   ],
   "source": [
    "df_mad = df[(df.visitorTeam == \"Real Madrid\") | (df.localTeam == \"Real Madrid\")].copy()\n",
    "df_mad[\"points\"] = np.where(df_mad.winner == \"Real Madrid\", 3, 0)\n",
    "df_mad[\"points\"] = np.where(df_mad.winner == \"draw\", 1, df_mad.points)\n",
    "df_mad.set_index(df_mad.date, inplace=True)\n",
    "figure = plt.figure(figsize=(20,5))\n",
    "sns.lineplot(data=df_mad[df_mad.date.dt.year == 2016], x=\"date\", y=\"points\")"
   ]
  },
  {
   "cell_type": "code",
   "execution_count": 112,
   "id": "exterior-trading",
   "metadata": {},
   "outputs": [
    {
     "name": "stdout",
     "output_type": "stream",
     "text": [
      "Barcelona's points during 2016: 87\n",
      "Real Madrid's points during 2016: 91\n"
     ]
    }
   ],
   "source": [
    "print(\"Barcelona's points during 2016: {}\".format(df_bar[df_bar.date.dt.year == 2016].points.sum()))\n",
    "print(\"Real Madrid's points during 2016: {}\".format(df_mad[df_mad.date.dt.year == 2016].points.sum()))"
   ]
  },
  {
   "cell_type": "code",
   "execution_count": 114,
   "id": "documentary-highland",
   "metadata": {},
   "outputs": [
    {
     "name": "stdout",
     "output_type": "stream",
     "text": [
      "Barcelona's points during 2017: 56\n",
      "Real Madrid's points during 2017: 56\n"
     ]
    }
   ],
   "source": [
    "print(\"Barcelona's points during 2017: {}\".format(df_bar[df_bar.date.dt.year == 2017].points.sum()))\n",
    "print(\"Real Madrid's points during 2017: {}\".format(df_mad[df_mad.date.dt.year == 2017].points.sum()))"
   ]
  },
  {
   "cell_type": "code",
   "execution_count": 121,
   "id": "endless-semiconductor",
   "metadata": {},
   "outputs": [],
   "source": [
    "df.set_index(df.date, inplace=True)"
   ]
  },
  {
   "cell_type": "markdown",
   "id": "coordinate-satisfaction",
   "metadata": {},
   "source": [
    "**Notes**\n",
    "\n",
    "+ there are two divisions \n",
    "+ the maximum number of rounds is 44 for both divisions\n",
    "+ the dates are between 1970-2017\n",
    "+ the seasons are one year less than the actual date from the match"
   ]
  },
  {
   "cell_type": "markdown",
   "id": "naughty-liberia",
   "metadata": {},
   "source": [
    "**Conclusions**"
   ]
  },
  {
   "cell_type": "markdown",
   "id": "classified-dependence",
   "metadata": {},
   "source": [
    "+ the are no NaN in the dataset\n",
    "+ fecha is not a feature in the dataset, a variable that was mentioned on the text\n",
    "+ the years do not have the same quantity of football matches"
   ]
  },
  {
   "cell_type": "markdown",
   "id": "owned-cleaner",
   "metadata": {},
   "source": [
    "## Preprocess"
   ]
  },
  {
   "cell_type": "code",
   "execution_count": 3,
   "id": "marked-empire",
   "metadata": {},
   "outputs": [],
   "source": [
    "import numpy as np\n",
    "\n",
    "df[\"date\"] = pd.to_datetime(df.date)\n",
    "df.set_index(df.date, inplace=True)\n",
    "\n",
    "df[\"winner\"] = np.where(df.localGoals > df.visitorGoals, df.localTeam, df.visitorTeam)\n",
    "df[\"winner\"] = np.where(df.localGoals == df.visitorGoals, \"draw\" , df.winner)"
   ]
  },
  {
   "cell_type": "code",
   "execution_count": 4,
   "id": "christian-staff",
   "metadata": {},
   "outputs": [
    {
     "data": {
      "text/plain": [
       "0"
      ]
     },
     "execution_count": 4,
     "metadata": {},
     "output_type": "execute_result"
    }
   ],
   "source": [
    "df.duplicated().sum()"
   ]
  },
  {
   "cell_type": "code",
   "execution_count": 5,
   "id": "requested-galaxy",
   "metadata": {},
   "outputs": [
    {
     "name": "stdout",
     "output_type": "stream",
     "text": [
      "(1694, 4)\n",
      "(1694,)\n"
     ]
    }
   ],
   "source": [
    "X_train = df[(df.date.dt.year >= 2015) & (df.date.dt.year < 2017)].loc[:, list(set(df.columns) - set([\"timestamp\", \"id\", \"winner\", \"season\", \"date\", \"localGoals\", \"visitorGoals\"]))]\n",
    "y_train = df[(df.date.dt.year >= 2015) & (df.date.dt.year < 2017)].pop(\"winner\")\n",
    "print(X_train.shape)\n",
    "print(y_train.shape)"
   ]
  },
  {
   "cell_type": "code",
   "execution_count": 6,
   "id": "exceptional-blackjack",
   "metadata": {},
   "outputs": [
    {
     "data": {
      "text/plain": [
       "Index(['round', 'localTeam', 'visitorTeam', 'division'], dtype='object')"
      ]
     },
     "execution_count": 6,
     "metadata": {},
     "output_type": "execute_result"
    }
   ],
   "source": [
    "X_train.columns"
   ]
  },
  {
   "cell_type": "code",
   "execution_count": 10,
   "id": "tropical-capitol",
   "metadata": {},
   "outputs": [],
   "source": [
    "from sklearn.preprocessing import OneHotEncoder\n",
    "\n",
    "enc = OneHotEncoder(handle_unknown='ignore')\n",
    "\n",
    "enc.fit(X_train.select_dtypes(\"object\"))\n",
    "\n",
    "X_transformed = pd.DataFrame(enc.transform(X_train.select_dtypes(\"object\")).toarray(), columns= enc.get_feature_names())"
   ]
  },
  {
   "cell_type": "code",
   "execution_count": 11,
   "id": "hindu-judgment",
   "metadata": {},
   "outputs": [
    {
     "data": {
      "text/plain": [
       "['onehotencoder.joblib']"
      ]
     },
     "execution_count": 11,
     "metadata": {},
     "output_type": "execute_result"
    }
   ],
   "source": [
    "import joblib\n",
    "\n",
    "joblib.dump(enc, \"onehotencoder.joblib\")"
   ]
  },
  {
   "cell_type": "code",
   "execution_count": 28,
   "id": "medium-capture",
   "metadata": {},
   "outputs": [
    {
     "name": "stdout",
     "output_type": "stream",
     "text": [
      "(1694, 100)\n"
     ]
    }
   ],
   "source": [
    "X_train = pd.concat([X_transformed.set_index(X_train.index), X_train.select_dtypes(int)], axis=1)\n",
    "print(X_train.shape)\n",
    "\n",
    "del X_transformed"
   ]
  },
  {
   "cell_type": "code",
   "execution_count": 29,
   "id": "traditional-healthcare",
   "metadata": {},
   "outputs": [],
   "source": [
    "X_test = df[(df.date.dt.year == 2017)].loc[:, list(set(df.columns) - set([\"timestamp\", \"id\", \"winner\", \"season\", \"date\", \"localGoals\", \"visitorGoals\"]))]\n",
    "\n",
    "X_transformed = pd.DataFrame(enc.transform(X_test.select_dtypes(\"object\")).toarray(), columns= enc.get_feature_names())\n",
    "\n",
    "X_test = pd.concat([X_transformed.set_index(X_test.index), X_test.select_dtypes(int)], axis=1)\n",
    "\n",
    "del X_transformed\n"
   ]
  },
  {
   "cell_type": "code",
   "execution_count": 30,
   "id": "dimensional-substitute",
   "metadata": {},
   "outputs": [],
   "source": [
    "# from sklearn.preprocessing import normalize\n",
    "# from sklearn.preprocessing import Normalizer\n",
    "from sklearn.preprocessing import StandardScaler\n",
    "\n",
    "scaler = StandardScaler().fit(X_train)\n",
    "\n",
    "# transformer = Normalizer().fit(X_train)\n",
    "\n",
    "X_train_tr = scaler.transform(X_train)\n",
    "# X_train_tr = normalize(X_train, norm='l1', axis=1)\n",
    "# X_train_tr = transformer.transform(X_train)\n",
    "\n",
    "X_test_tr = scaler.transform(X_test)\n",
    "# X_test_tr = transformer.transform(X_test)\n",
    "# X_test_tr = normalize(X_test, norm='l1', axis=1)\n"
   ]
  },
  {
   "cell_type": "code",
   "execution_count": 31,
   "id": "empirical-juvenile",
   "metadata": {},
   "outputs": [
    {
     "data": {
      "text/plain": [
       "['scaler.joblib']"
      ]
     },
     "execution_count": 31,
     "metadata": {},
     "output_type": "execute_result"
    }
   ],
   "source": [
    "import joblib\n",
    "\n",
    "joblib.dump(scaler, \"scaler.joblib\")"
   ]
  },
  {
   "cell_type": "code",
   "execution_count": 31,
   "id": "thorough-train",
   "metadata": {},
   "outputs": [
    {
     "data": {
      "text/plain": [
       "array([[-0.15749091, -0.1409523 , -0.16138408, ..., -0.14943062,\n",
       "        -0.1594482 , -0.15148221],\n",
       "       [-0.15749091, -0.1409523 , -0.16138408, ..., -0.14943062,\n",
       "        -0.1594482 , -0.15148221],\n",
       "       [-0.15749091, -0.1409523 , -0.16138408, ..., -0.14943062,\n",
       "        -0.1594482 , -0.15148221],\n",
       "       ...,\n",
       "       [-0.15749091, -0.1409523 , -0.16138408, ..., -0.14943062,\n",
       "        -0.1594482 , -0.15148221],\n",
       "       [-0.15749091, -0.1409523 , -0.16138408, ..., -0.14943062,\n",
       "        -0.1594482 , -0.15148221],\n",
       "       [-0.15749091, -0.1409523 , -0.16138408, ..., -0.14943062,\n",
       "        -0.1594482 , -0.15148221]])"
      ]
     },
     "execution_count": 31,
     "metadata": {},
     "output_type": "execute_result"
    }
   ],
   "source": [
    "X_train_tr"
   ]
  },
  {
   "cell_type": "code",
   "execution_count": 32,
   "id": "northern-chart",
   "metadata": {},
   "outputs": [
    {
     "data": {
      "text/plain": [
       "False"
      ]
     },
     "execution_count": 32,
     "metadata": {},
     "output_type": "execute_result"
    }
   ],
   "source": [
    "df.winner.isna().any()"
   ]
  },
  {
   "cell_type": "code",
   "execution_count": 33,
   "id": "diagnostic-georgia",
   "metadata": {},
   "outputs": [
    {
     "data": {
      "text/plain": [
       "LabelEncoder()"
      ]
     },
     "execution_count": 33,
     "metadata": {},
     "output_type": "execute_result"
    }
   ],
   "source": [
    "from sklearn.preprocessing import LabelEncoder\n",
    "\n",
    "labelencoder = LabelEncoder()\n",
    "labelencoder.fit(y_train)"
   ]
  },
  {
   "cell_type": "code",
   "execution_count": 34,
   "id": "exotic-shannon",
   "metadata": {},
   "outputs": [],
   "source": [
    "y_test = df[(df.date.dt.year == 2017)].pop(\"winner\")"
   ]
  },
  {
   "cell_type": "code",
   "execution_count": 35,
   "id": "fewer-ottawa",
   "metadata": {},
   "outputs": [],
   "source": [
    "y_train_tr = labelencoder.transform(y_train)\n",
    "y_test_tr = labelencoder.transform(y_test)"
   ]
  },
  {
   "cell_type": "code",
   "execution_count": 36,
   "id": "final-sheriff",
   "metadata": {},
   "outputs": [
    {
     "data": {
      "text/plain": [
       "True"
      ]
     },
     "execution_count": 36,
     "metadata": {},
     "output_type": "execute_result"
    }
   ],
   "source": [
    "(labelencoder.transform(y_train) == 0).any()"
   ]
  },
  {
   "cell_type": "markdown",
   "id": "adjustable-offense",
   "metadata": {},
   "source": [
    "## Modeling"
   ]
  },
  {
   "cell_type": "markdown",
   "id": "velvet-deviation",
   "metadata": {},
   "source": [
    "### Base model"
   ]
  },
  {
   "cell_type": "code",
   "execution_count": 19,
   "id": "cloudy-insulation",
   "metadata": {},
   "outputs": [],
   "source": [
    "from sklearn.neighbors import KNeighborsClassifier\n",
    "from sklearn.model_selection import GridSearchCV"
   ]
  },
  {
   "cell_type": "code",
   "execution_count": 20,
   "id": "involved-virginia",
   "metadata": {},
   "outputs": [],
   "source": [
    "# the implementation was taken from \n",
    "# https://stackoverflow.com/questions/57015499/how-to-use-dynamic-time-warping-with-knn-in-python\n",
    "# https://towardsdatascience.com/k-nn-based-time-series-classification-e5d761d01ea2\n",
    "from scipy.spatial import distance\n",
    "\n",
    "def DTW(a, b):   \n",
    "    an = a.size\n",
    "    bn = b.size\n",
    "    pointwise_distance = distance.cdist(a.reshape(-1,1),b.reshape(-1,1))\n",
    "    cumdist = np.matrix(np.ones((an+1,bn+1)) * np.inf)\n",
    "    cumdist[0,0] = 0\n",
    "\n",
    "    for ai in range(an):\n",
    "        for bi in range(bn):\n",
    "            minimum_cost = np.min([cumdist[ai, bi+1],\n",
    "                                   cumdist[ai+1, bi],\n",
    "                                   cumdist[ai, bi]])\n",
    "            cumdist[ai+1, bi+1] = pointwise_distance[ai,bi] + minimum_cost\n",
    "\n",
    "    return cumdist[an, bn]"
   ]
  },
  {
   "cell_type": "code",
   "execution_count": 21,
   "id": "painful-detector",
   "metadata": {},
   "outputs": [
    {
     "name": "stdout",
     "output_type": "stream",
     "text": [
      "Wall time: 0 ns\n"
     ]
    },
    {
     "data": {
      "text/plain": [
       "KNeighborsClassifier(metric=<function DTW at 0x0000020F4AC12AF8>, n_neighbors=2)"
      ]
     },
     "execution_count": 21,
     "metadata": {},
     "output_type": "execute_result"
    }
   ],
   "source": [
    "%time\n",
    "clf = KNeighborsClassifier(n_neighbors= 2, metric=DTW)\n",
    "clf.fit(X_train, y_train)"
   ]
  },
  {
   "cell_type": "code",
   "execution_count": null,
   "id": "prerequisite-wrist",
   "metadata": {},
   "outputs": [
    {
     "name": "stdout",
     "output_type": "stream",
     "text": [
      "Wall time: 0 ns\n",
      "Fitting 3 folds for each of 2 candidates, totalling 6 fits\n"
     ]
    }
   ],
   "source": [
    "# %time\n",
    "# parameters = {'n_neighbors':[2, 4]}\n",
    "# clf = GridSearchCV(KNeighborsClassifier(metric=DTW), parameters, cv=3, verbose=1)\n",
    "# clf.fit(X_train, y_train)"
   ]
  },
  {
   "cell_type": "code",
   "execution_count": 17,
   "id": "temporal-smell",
   "metadata": {},
   "outputs": [
    {
     "data": {
      "text/plain": [
       "(50, 100)"
      ]
     },
     "execution_count": 17,
     "metadata": {},
     "output_type": "execute_result"
    }
   ],
   "source": [
    "X_test[:50].shape"
   ]
  },
  {
   "cell_type": "code",
   "execution_count": 18,
   "id": "environmental-representation",
   "metadata": {},
   "outputs": [
    {
     "name": "stdout",
     "output_type": "stream",
     "text": [
      "Wall time: 0 ns\n"
     ]
    }
   ],
   "source": [
    "%time\n",
    "result = clf.predict(X_test[:50])"
   ]
  },
  {
   "cell_type": "code",
   "execution_count": 24,
   "id": "lovely-magazine",
   "metadata": {},
   "outputs": [],
   "source": [
    "pd.DataFrame(result).to_csv(\"result.csv\")"
   ]
  },
  {
   "cell_type": "code",
   "execution_count": 11,
   "id": "involved-pillow",
   "metadata": {},
   "outputs": [],
   "source": [
    "import pandas as pd\n",
    "result = pd.read_csv(\"result.csv\", index_col=0)"
   ]
  },
  {
   "cell_type": "code",
   "execution_count": 18,
   "id": "whole-documentation",
   "metadata": {},
   "outputs": [
    {
     "name": "stdout",
     "output_type": "stream",
     "text": [
      "                    precision    recall  f1-score   support\n",
      "\n",
      "            Alaves       0.00      0.00      0.00         0\n",
      "     Athletic Club       0.00      0.00      0.00         0\n",
      "Atletico de Madrid       1.00      0.07      0.12        46\n",
      "         Barcelona       0.00      0.00      0.00         0\n",
      "             Betis       0.00      0.00      0.00         0\n",
      "     Celta de Vigo       0.00      0.00      0.00         0\n",
      "             Eibar       0.00      0.00      0.00         0\n",
      "          Espanyol       0.00      0.00      0.00         0\n",
      "           Granada       0.00      0.00      0.00         0\n",
      "        Las Palmas       0.00      0.00      0.00         0\n",
      "          Mirandes       0.00      0.00      0.00         2\n",
      "       Real Madrid       0.00      0.00      0.00         0\n",
      "     Real Sociedad       0.00      0.00      0.00         0\n",
      "           Sevilla       0.00      0.00      0.00         0\n",
      "          Valencia       0.00      0.00      0.00         0\n",
      "        Villarreal       0.00      0.00      0.00         0\n",
      "              draw       0.12      1.00      0.22         2\n",
      "\n",
      "          accuracy                           0.10        50\n",
      "         macro avg       0.07      0.06      0.02        50\n",
      "      weighted avg       0.93      0.10      0.12        50\n",
      "\n"
     ]
    }
   ],
   "source": [
    "from sklearn.metrics import classification_report\n",
    "\n",
    "print(classification_report(result.values, y_test[:50]))"
   ]
  },
  {
   "cell_type": "code",
   "execution_count": 22,
   "id": "martial-teaching",
   "metadata": {},
   "outputs": [
    {
     "data": {
      "text/plain": [
       "['model.joblib']"
      ]
     },
     "execution_count": 22,
     "metadata": {},
     "output_type": "execute_result"
    }
   ],
   "source": [
    "import joblib\n",
    "\n",
    "joblib.dump(clf, \"model.joblib\")"
   ]
  },
  {
   "cell_type": "markdown",
   "id": "surprised-camping",
   "metadata": {},
   "source": [
    "### Deep Learning Model"
   ]
  },
  {
   "cell_type": "code",
   "execution_count": 37,
   "id": "indoor-gabriel",
   "metadata": {},
   "outputs": [],
   "source": [
    "from tensorflow import keras\n",
    "import tensorflow as tf\n",
    "import numpy as np"
   ]
  },
  {
   "cell_type": "code",
   "execution_count": 38,
   "id": "attempted-princeton",
   "metadata": {},
   "outputs": [],
   "source": [
    "# print(\"Num GPUs Available: \", len(tf.config.list_physical_devices('GPU')))"
   ]
  },
  {
   "cell_type": "code",
   "execution_count": 39,
   "id": "breathing-trash",
   "metadata": {},
   "outputs": [],
   "source": [
    "# from tensorflow.python.client import device_lib\n",
    "# print(device_lib.list_local_devices())"
   ]
  },
  {
   "cell_type": "code",
   "execution_count": 40,
   "id": "hidden-brook",
   "metadata": {},
   "outputs": [],
   "source": [
    "# sess = tf.compat.v1.Session(config=tf.compat.v1.ConfigProto(log_device_placement=True))\n",
    "# tf.compat.v1.keras.backend.set_session(sess)"
   ]
  },
  {
   "cell_type": "code",
   "execution_count": 41,
   "id": "southeast-macintosh",
   "metadata": {},
   "outputs": [
    {
     "name": "stdout",
     "output_type": "stream",
     "text": [
      "(1694, 100, 1)\n",
      "(475, 100, 1)\n"
     ]
    }
   ],
   "source": [
    "x_train = X_train_tr.reshape((X_train_tr.shape[0], X_train_tr.shape[1], 1))\n",
    "x_test = X_test_tr.reshape((X_test_tr.shape[0], X_test_tr.shape[1], 1))\n",
    "print(x_train.shape)\n",
    "print(x_test.shape)"
   ]
  },
  {
   "cell_type": "code",
   "execution_count": 42,
   "id": "coral-escape",
   "metadata": {},
   "outputs": [
    {
     "name": "stdout",
     "output_type": "stream",
     "text": [
      "51\n"
     ]
    }
   ],
   "source": [
    "num_classes = len(np.unique(y_train_tr))\n",
    "print(num_classes)"
   ]
  },
  {
   "cell_type": "code",
   "execution_count": 43,
   "id": "least-solomon",
   "metadata": {},
   "outputs": [
    {
     "name": "stdout",
     "output_type": "stream",
     "text": [
      "input shape: (100, 1)\n",
      "x train shape: (1694, 100, 1)\n"
     ]
    }
   ],
   "source": [
    "print(\"input shape: {}\".format(x_train.shape[1:]))\n",
    "print(\"x train shape: {}\".format(x_train.shape))"
   ]
  },
  {
   "cell_type": "code",
   "execution_count": 44,
   "id": "metropolitan-fellow",
   "metadata": {},
   "outputs": [],
   "source": [
    "# https://arxiv.org/abs/1611.06455\n",
    "\n",
    "def architecture(input_shape):\n",
    "    input_layer = keras.layers.Input(input_shape)\n",
    "    \n",
    "    conv1 = keras.layers.Conv1D(filters=64, kernel_size=3, padding=\"same\")(input_layer)\n",
    "    conv1 = keras.layers.BatchNormalization()(conv1)\n",
    "    conv1 = keras.layers.ReLU()(conv1)\n",
    "#     conv1 = keras.layers.Dropout(0.2)(conv1)\n",
    "    \n",
    "    conv2 = keras.layers.Conv1D(filters=64, kernel_size=3, padding=\"same\")(conv1)\n",
    "    conv2 = keras.layers.BatchNormalization()(conv2)\n",
    "    conv2 = keras.layers.ReLU()(conv2)\n",
    "#     conv2 = keras.layers.Dropout(0.2)(conv2)\n",
    "    \n",
    "    conv3 = keras.layers.Conv1D(filters=64, kernel_size=3, padding=\"same\")(conv2)\n",
    "    conv3 = keras.layers.BatchNormalization()(conv3)\n",
    "    conv3 = keras.layers.ReLU()(conv3)\n",
    "    \n",
    "    gap = keras.layers.GlobalAveragePooling1D()(conv3)\n",
    "    \n",
    "    output_layer = keras.layers.Dense(num_classes, activation=\"softmax\")(gap)\n",
    "    \n",
    "    return keras.models.Model(inputs=input_layer, outputs=output_layer)\n"
   ]
  },
  {
   "cell_type": "code",
   "execution_count": 45,
   "id": "biological-minimum",
   "metadata": {},
   "outputs": [],
   "source": [
    "model = architecture(input_shape=x_train.shape[1:])"
   ]
  },
  {
   "cell_type": "code",
   "execution_count": 46,
   "id": "alien-medicare",
   "metadata": {},
   "outputs": [
    {
     "data": {
      "text/plain": [
       "(100, 1)"
      ]
     },
     "execution_count": 46,
     "metadata": {},
     "output_type": "execute_result"
    }
   ],
   "source": [
    "x_train.shape[1:]"
   ]
  },
  {
   "cell_type": "code",
   "execution_count": 42,
   "id": "alien-empty",
   "metadata": {},
   "outputs": [
    {
     "name": "stdout",
     "output_type": "stream",
     "text": [
      "Train on 1355 samples, validate on 339 samples\n",
      "Epoch 1/100\n",
      "1355/1355 [==============================] - 5s 3ms/sample - loss: 3.3031 - sparse_categorical_accuracy: 0.2768 - val_loss: 3.4975 - val_sparse_categorical_accuracy: 0.2920\n",
      "Epoch 2/100\n",
      "1355/1355 [==============================] - 1s 783us/sample - loss: 3.2923 - sparse_categorical_accuracy: 0.2768 - val_loss: 3.5321 - val_sparse_categorical_accuracy: 0.2920\n",
      "Epoch 3/100\n",
      "1355/1355 [==============================] - 1s 593us/sample - loss: 3.2873 - sparse_categorical_accuracy: 0.2768 - val_loss: 3.5625 - val_sparse_categorical_accuracy: 0.2920\n",
      "Epoch 4/100\n",
      "1355/1355 [==============================] - 1s 641us/sample - loss: 3.2820 - sparse_categorical_accuracy: 0.2768 - val_loss: 3.5863 - val_sparse_categorical_accuracy: 0.2920\n",
      "Epoch 5/100\n",
      "1355/1355 [==============================] - 1s 632us/sample - loss: 3.2758 - sparse_categorical_accuracy: 0.2768 - val_loss: 3.6189 - val_sparse_categorical_accuracy: 0.2920\n",
      "Epoch 6/100\n",
      "1355/1355 [==============================] - 1s 756us/sample - loss: 3.2732 - sparse_categorical_accuracy: 0.2768 - val_loss: 3.6652 - val_sparse_categorical_accuracy: 0.2920\n",
      "Epoch 7/100\n",
      "1355/1355 [==============================] - 1s 861us/sample - loss: 3.2649 - sparse_categorical_accuracy: 0.2768 - val_loss: 3.7393 - val_sparse_categorical_accuracy: 0.2920\n",
      "Epoch 8/100\n",
      "1355/1355 [==============================] - 1s 810us/sample - loss: 3.2659 - sparse_categorical_accuracy: 0.2768 - val_loss: 3.7824 - val_sparse_categorical_accuracy: 0.2920\n",
      "Epoch 9/100\n",
      "1355/1355 [==============================] - 1s 673us/sample - loss: 3.2525 - sparse_categorical_accuracy: 0.2768 - val_loss: 3.8629 - val_sparse_categorical_accuracy: 0.2920\n",
      "Epoch 10/100\n",
      "1355/1355 [==============================] - 1s 738us/sample - loss: 3.2415 - sparse_categorical_accuracy: 0.2768 - val_loss: 3.9244 - val_sparse_categorical_accuracy: 0.2920\n",
      "Epoch 11/100\n",
      "1355/1355 [==============================] - 2s 1ms/sample - loss: 3.2344 - sparse_categorical_accuracy: 0.2760 - val_loss: 4.0665 - val_sparse_categorical_accuracy: 0.2920\n",
      "Epoch 12/100\n",
      "1355/1355 [==============================] - 1s 834us/sample - loss: 3.2243 - sparse_categorical_accuracy: 0.2768 - val_loss: 4.2192 - val_sparse_categorical_accuracy: 0.2920\n",
      "Epoch 13/100\n",
      "1355/1355 [==============================] - 1s 835us/sample - loss: 3.2221 - sparse_categorical_accuracy: 0.2782 - val_loss: 4.6816 - val_sparse_categorical_accuracy: 0.2861\n",
      "Epoch 14/100\n",
      "1355/1355 [==============================] - 1s 1ms/sample - loss: 3.2073 - sparse_categorical_accuracy: 0.2768 - val_loss: 4.9424 - val_sparse_categorical_accuracy: 0.2301\n",
      "Epoch 15/100\n",
      "1355/1355 [==============================] - 1s 1ms/sample - loss: 3.1992 - sparse_categorical_accuracy: 0.2790 - val_loss: 4.7577 - val_sparse_categorical_accuracy: 0.2271\n",
      "Epoch 16/100\n",
      "1355/1355 [==============================] - 1s 858us/sample - loss: 3.1915 - sparse_categorical_accuracy: 0.2812 - val_loss: 4.6842 - val_sparse_categorical_accuracy: 0.2330\n",
      "Epoch 17/100\n",
      "1355/1355 [==============================] - 1s 1ms/sample - loss: 3.1808 - sparse_categorical_accuracy: 0.2804 - val_loss: 4.9859 - val_sparse_categorical_accuracy: 0.2212\n",
      "Epoch 18/100\n",
      "1355/1355 [==============================] - 2s 1ms/sample - loss: 3.1709 - sparse_categorical_accuracy: 0.2775 - val_loss: 4.9208 - val_sparse_categorical_accuracy: 0.2271\n",
      "Epoch 19/100\n",
      "1355/1355 [==============================] - 1s 894us/sample - loss: 3.1690 - sparse_categorical_accuracy: 0.2812 - val_loss: 4.6915 - val_sparse_categorical_accuracy: 0.2242\n",
      "Epoch 20/100\n",
      "1355/1355 [==============================] - 1s 871us/sample - loss: 3.1538 - sparse_categorical_accuracy: 0.2790 - val_loss: 4.3824 - val_sparse_categorical_accuracy: 0.2861\n",
      "Epoch 21/100\n",
      "1355/1355 [==============================] - 1s 968us/sample - loss: 3.1474 - sparse_categorical_accuracy: 0.2797 - val_loss: 4.7942 - val_sparse_categorical_accuracy: 0.2389\n",
      "Epoch 22/100\n",
      "1355/1355 [==============================] - 1s 1ms/sample - loss: 3.1316 - sparse_categorical_accuracy: 0.2797 - val_loss: 4.3375 - val_sparse_categorical_accuracy: 0.2861\n",
      "Epoch 23/100\n",
      "1355/1355 [==============================] - 1s 789us/sample - loss: 3.1195 - sparse_categorical_accuracy: 0.2804 - val_loss: 4.2911 - val_sparse_categorical_accuracy: 0.2832\n",
      "Epoch 24/100\n",
      "1355/1355 [==============================] - 1s 925us/sample - loss: 3.1153 - sparse_categorical_accuracy: 0.2775 - val_loss: 4.2205 - val_sparse_categorical_accuracy: 0.2832\n",
      "Epoch 25/100\n",
      "1355/1355 [==============================] - 1s 989us/sample - loss: 3.1110 - sparse_categorical_accuracy: 0.2790 - val_loss: 4.2032 - val_sparse_categorical_accuracy: 0.2861\n",
      "Epoch 26/100\n",
      "1355/1355 [==============================] - 1s 830us/sample - loss: 3.1089 - sparse_categorical_accuracy: 0.2812 - val_loss: 4.2178 - val_sparse_categorical_accuracy: 0.2861\n",
      "Epoch 27/100\n",
      "1355/1355 [==============================] - 1s 814us/sample - loss: 3.0984 - sparse_categorical_accuracy: 0.2797 - val_loss: 4.1720 - val_sparse_categorical_accuracy: 0.2832\n",
      "Epoch 28/100\n",
      "1355/1355 [==============================] - 1s 712us/sample - loss: 3.0970 - sparse_categorical_accuracy: 0.2760 - val_loss: 4.1394 - val_sparse_categorical_accuracy: 0.2802\n",
      "Epoch 29/100\n",
      "1355/1355 [==============================] - 1s 665us/sample - loss: 3.0825 - sparse_categorical_accuracy: 0.2797 - val_loss: 4.2619 - val_sparse_categorical_accuracy: 0.2861\n",
      "Epoch 30/100\n",
      "1355/1355 [==============================] - 1s 716us/sample - loss: 3.0789 - sparse_categorical_accuracy: 0.2812 - val_loss: 4.2335 - val_sparse_categorical_accuracy: 0.2861\n",
      "Epoch 31/100\n",
      "1355/1355 [==============================] - 1s 820us/sample - loss: 3.0709 - sparse_categorical_accuracy: 0.2797 - val_loss: 4.1862 - val_sparse_categorical_accuracy: 0.2861\n",
      "Epoch 32/100\n",
      "1355/1355 [==============================] - 1s 734us/sample - loss: 3.0569 - sparse_categorical_accuracy: 0.2827 - val_loss: 4.3148 - val_sparse_categorical_accuracy: 0.2920\n",
      "Epoch 33/100\n",
      "1355/1355 [==============================] - 1s 751us/sample - loss: 3.0555 - sparse_categorical_accuracy: 0.2790 - val_loss: 4.3274 - val_sparse_categorical_accuracy: 0.2861\n",
      "Epoch 34/100\n",
      "1355/1355 [==============================] - 1s 562us/sample - loss: 3.0430 - sparse_categorical_accuracy: 0.2797 - val_loss: 4.4907 - val_sparse_categorical_accuracy: 0.2920\n",
      "Epoch 35/100\n",
      "1355/1355 [==============================] - 1s 871us/sample - loss: 3.0378 - sparse_categorical_accuracy: 0.2753 - val_loss: 4.3637 - val_sparse_categorical_accuracy: 0.2891\n",
      "Epoch 36/100\n",
      "1355/1355 [==============================] - 1s 892us/sample - loss: 3.0180 - sparse_categorical_accuracy: 0.2834 - val_loss: 4.3213 - val_sparse_categorical_accuracy: 0.2861\n",
      "Epoch 37/100\n",
      "1355/1355 [==============================] - 1s 846us/sample - loss: 3.0072 - sparse_categorical_accuracy: 0.2797 - val_loss: 4.4227 - val_sparse_categorical_accuracy: 0.3038\n",
      "Epoch 38/100\n",
      "1355/1355 [==============================] - 1s 821us/sample - loss: 2.9936 - sparse_categorical_accuracy: 0.2812 - val_loss: 4.7816 - val_sparse_categorical_accuracy: 0.2360\n",
      "Epoch 39/100\n",
      "1355/1355 [==============================] - 1s 789us/sample - loss: 2.9931 - sparse_categorical_accuracy: 0.2819 - val_loss: 4.8569 - val_sparse_categorical_accuracy: 0.2360\n",
      "Epoch 40/100\n",
      "1355/1355 [==============================] - 1s 938us/sample - loss: 2.9727 - sparse_categorical_accuracy: 0.2804 - val_loss: 4.3729 - val_sparse_categorical_accuracy: 0.3038\n",
      "Epoch 41/100\n",
      "1355/1355 [==============================] - 1s 907us/sample - loss: 2.9580 - sparse_categorical_accuracy: 0.2804 - val_loss: 4.9233 - val_sparse_categorical_accuracy: 0.2065\n",
      "Epoch 42/100\n",
      "1355/1355 [==============================] - 1s 844us/sample - loss: 2.9419 - sparse_categorical_accuracy: 0.2834 - val_loss: 4.8445 - val_sparse_categorical_accuracy: 0.2094\n",
      "Epoch 43/100\n",
      "1355/1355 [==============================] - 1s 761us/sample - loss: 2.9344 - sparse_categorical_accuracy: 0.2812 - val_loss: 5.0826 - val_sparse_categorical_accuracy: 0.1593\n",
      "Epoch 44/100\n"
     ]
    },
    {
     "name": "stdout",
     "output_type": "stream",
     "text": [
      "1355/1355 [==============================] - 1s 830us/sample - loss: 2.9286 - sparse_categorical_accuracy: 0.2856 - val_loss: 4.3866 - val_sparse_categorical_accuracy: 0.2861\n",
      "Epoch 45/100\n",
      "1355/1355 [==============================] - 1s 923us/sample - loss: 2.9182 - sparse_categorical_accuracy: 0.2819 - val_loss: 4.5548 - val_sparse_categorical_accuracy: 0.2655\n",
      "Epoch 46/100\n",
      "1355/1355 [==============================] - 1s 713us/sample - loss: 2.9129 - sparse_categorical_accuracy: 0.2834 - val_loss: 4.5843 - val_sparse_categorical_accuracy: 0.2891\n",
      "Epoch 47/100\n",
      "1355/1355 [==============================] - 1s 849us/sample - loss: 2.9051 - sparse_categorical_accuracy: 0.2856 - val_loss: 4.1950 - val_sparse_categorical_accuracy: 0.2979\n",
      "Epoch 48/100\n",
      "1355/1355 [==============================] - 1s 1ms/sample - loss: 2.9006 - sparse_categorical_accuracy: 0.2841 - val_loss: 4.2394 - val_sparse_categorical_accuracy: 0.3009\n",
      "Epoch 49/100\n",
      "1355/1355 [==============================] - 1s 950us/sample - loss: 2.8953 - sparse_categorical_accuracy: 0.2841 - val_loss: 4.3639 - val_sparse_categorical_accuracy: 0.2773\n",
      "Epoch 50/100\n",
      "1355/1355 [==============================] - 1s 720us/sample - loss: 2.8835 - sparse_categorical_accuracy: 0.2841 - val_loss: 4.0957 - val_sparse_categorical_accuracy: 0.2920\n",
      "Epoch 51/100\n",
      "1355/1355 [==============================] - 1s 915us/sample - loss: 2.8737 - sparse_categorical_accuracy: 0.2863 - val_loss: 4.2921 - val_sparse_categorical_accuracy: 0.3009\n",
      "Epoch 00051: early stopping\n"
     ]
    }
   ],
   "source": [
    "epochs = 100\n",
    "batch_size = 32\n",
    "\n",
    "callbacks = [\n",
    "    keras.callbacks.ModelCheckpoint(\n",
    "        \"best_model.h5\", save_best_only=True, monitor=\"val_loss\"\n",
    "    ),\n",
    "    keras.callbacks.ReduceLROnPlateau(\n",
    "        monitor=\"val_loss\", factor=0.5, patience=20, min_lr=1e-8\n",
    "    ),\n",
    "    keras.callbacks.EarlyStopping(monitor=\"val_loss\", patience=50, verbose=1),\n",
    "]\n",
    "\n",
    "# loss_function = keras.losses.SparseCategoricalCrossentropy(from_logits=True)\n",
    "# optimizer = tf.keras.optimizers.Adam(lr=1e-8)\n",
    "# loss_function = tf.reduce_mean(\n",
    "#     tf.nn.sigmoid_cross_entropy_with_logits(\n",
    "#         logits=tf.reshape(ylogits, [-1]),\n",
    "#         labels=tf.cast(num_classes, dtype=tf.float32)))\n",
    "\n",
    "model.compile(\n",
    "    optimizer=\"adam\",\n",
    "    loss=\"sparse_categorical_crossentropy\",\n",
    "    metrics=[\"sparse_categorical_accuracy\"],)\n",
    "\n",
    "history = model.fit(\n",
    "    x_train,\n",
    "    y_train_tr,\n",
    "    batch_size=batch_size,\n",
    "    epochs=epochs,\n",
    "    callbacks=callbacks,\n",
    "    validation_split=0.2,\n",
    "    verbose=1,\n",
    ")"
   ]
  },
  {
   "cell_type": "code",
   "execution_count": 43,
   "id": "necessary-redhead",
   "metadata": {},
   "outputs": [
    {
     "name": "stdout",
     "output_type": "stream",
     "text": [
      "475/475 [==============================] - 1s 1ms/sample - loss: 3.4920 - sparse_categorical_accuracy: 0.2674\n",
      "Test accuracy 0.26736844\n",
      "Test loss 3.4920460445002504\n"
     ]
    }
   ],
   "source": [
    "model = keras.models.load_model(\"best_model.h5\")\n",
    "\n",
    "test_loss, test_acc = model.evaluate(x_test, y_test_tr)\n",
    "\n",
    "print(\"Test accuracy\", test_acc)\n",
    "print(\"Test loss\", test_loss)"
   ]
  },
  {
   "cell_type": "code",
   "execution_count": 44,
   "id": "blocked-cooperation",
   "metadata": {},
   "outputs": [
    {
     "data": {
      "image/png": "[encoded data removed]",
      "text/plain": [
       "<Figure size 432x288 with 1 Axes>"
      ]
     },
     "metadata": {
      "needs_background": "light"
     },
     "output_type": "display_data"
    }
   ],
   "source": [
    "import matplotlib.pyplot as plt\n",
    "\n",
    "metric = \"sparse_categorical_accuracy\"\n",
    "plt.figure()\n",
    "plt.plot(history.history[metric])\n",
    "plt.plot(history.history[\"val_\" + metric])\n",
    "plt.title(\"model \" + metric)\n",
    "plt.ylabel(metric, fontsize=\"large\")\n",
    "plt.xlabel(\"epoch\", fontsize=\"large\")\n",
    "plt.legend([\"train\", \"val\"], loc=\"best\")\n",
    "plt.show()\n",
    "plt.close()"
   ]
  },
  {
   "cell_type": "markdown",
   "id": "clear-privilege",
   "metadata": {},
   "source": [
    "## Pipeline"
   ]
  },
  {
   "cell_type": "code",
   "execution_count": 53,
   "id": "linear-validity",
   "metadata": {},
   "outputs": [],
   "source": [
    "# !pip install -U tfx"
   ]
  },
  {
   "cell_type": "code",
   "execution_count": 1,
   "id": "stainless-refund",
   "metadata": {},
   "outputs": [],
   "source": [
    "import numpy as np\n",
    "import pandas as pd\n",
    "import warnings\n",
    "warnings.filterwarnings(\"ignore\")\n",
    "\n",
    "df = pd.read_csv(\"FMEL_Dataset.csv\")\n",
    "\n",
    "df[\"date\"] = pd.to_datetime(df.date)\n",
    "df.set_index(df.date, inplace=True)\n",
    "\n",
    "df[\"winner\"] = np.where(df.localGoals > df.visitorGoals, df.localTeam, df.visitorTeam)\n",
    "df[\"winner\"] = np.where(df.localGoals == df.visitorGoals, \"draw\" , df.winner)\n",
    "\n",
    "X_train = df[(df.date.dt.year >= 2015) & (df.date.dt.year < 2017)].loc[:, list(set(df.columns) - set([\"timestamp\", \"id\", \"winner\", \"season\", \"date\", \"localGoals\", \"visitorGoals\"]))]\n",
    "y_train = df[(df.date.dt.year >= 2015) & (df.date.dt.year < 2017)].pop(\"winner\")"
   ]
  },
  {
   "cell_type": "code",
   "execution_count": 2,
   "id": "expressed-oxygen",
   "metadata": {},
   "outputs": [],
   "source": [
    "# https://arxiv.org/abs/1611.06455\n",
    "\n",
    "def architecture(input_shape):\n",
    "    input_layer = keras.layers.Input(input_shape)\n",
    "    \n",
    "    conv1 = keras.layers.Conv1D(filters=64, kernel_size=3, padding=\"same\")(input_layer)\n",
    "    conv1 = keras.layers.BatchNormalization()(conv1)\n",
    "    conv1 = keras.layers.ReLU()(conv1)\n",
    "#     conv1 = keras.layers.Dropout(0.2)(conv1)\n",
    "    \n",
    "    conv2 = keras.layers.Conv1D(filters=64, kernel_size=3, padding=\"same\")(conv1)\n",
    "    conv2 = keras.layers.BatchNormalization()(conv2)\n",
    "    conv2 = keras.layers.ReLU()(conv2)\n",
    "#     conv2 = keras.layers.Dropout(0.2)(conv2)\n",
    "    \n",
    "    conv3 = keras.layers.Conv1D(filters=64, kernel_size=3, padding=\"same\")(conv2)\n",
    "    conv3 = keras.layers.BatchNormalization()(conv3)\n",
    "    conv3 = keras.layers.ReLU()(conv3)\n",
    "    \n",
    "    gap = keras.layers.GlobalAveragePooling1D()(conv3)\n",
    "    \n",
    "    output_layer = keras.layers.Dense(num_classes, activation=\"softmax\")(gap)\n",
    "    \n",
    "    return keras.models.Model(inputs=input_layer, outputs=output_layer)"
   ]
  },
  {
   "cell_type": "code",
   "execution_count": 15,
   "id": "original-anthony",
   "metadata": {},
   "outputs": [],
   "source": [
    "from sklearn.pipeline import Pipeline\n",
    "from sklearn.preprocessing import OneHotEncoder\n",
    "from sklearn.preprocessing import StandardScaler\n",
    "from sklearn.compose import ColumnTransformer\n",
    "from keras.wrappers.scikit_learn import KerasClassifier\n",
    "from tensorflow import keras\n",
    "import tensorflow as tf\n",
    "import numpy as np\n",
    "\n",
    "categorical_cols = X_train.select_dtypes(\"object\")\n",
    "\n",
    "categorical_transformer = Pipeline(steps=[    \n",
    "    ('onehot', OneHotEncoder(handle_unknown='ignore')),\n",
    "])\n",
    "\n",
    "\n",
    "preprocessor = ColumnTransformer(\n",
    "    transformers=[        \n",
    "        ('cat', categorical_transformer, categorical_cols)        \n",
    "    ])\n",
    "\n",
    "def create_model(optimizer=\"adam\",loss=\"sparse_categorical_crossentropy\"):    \n",
    "\n",
    "    callbacks = [\n",
    "        keras.callbacks.ModelCheckpoint(\n",
    "            \"best_model.h5\", save_best_only=True, monitor=\"val_loss\"\n",
    "        ),\n",
    "        keras.callbacks.ReduceLROnPlateau(\n",
    "            monitor=\"val_loss\", factor=0.5, patience=20, min_lr=1e-8\n",
    "        ),\n",
    "        keras.callbacks.EarlyStopping(monitor=\"val_loss\", patience=50, verbose=1),\n",
    "    ]\n",
    "\n",
    "    model_i = architecture(input_shape=(100, 1))\n",
    "\n",
    "    model_i.compile(\n",
    "        optimizer=optimizer,\n",
    "        loss=loss,\n",
    "        metrics=[\"sparse_categorical_accuracy\"],)\n",
    "\n",
    "\n",
    "\n",
    "epochs = 100\n",
    "batch_size = 32\n",
    "\n",
    "model = KerasClassifier(build_fn=create_model, epochs=epochs, batch_size=batch_size, verbose=1)\n",
    "\n",
    "my_pipeline = Pipeline(steps=[('preprocessor', preprocessor),\n",
    "                              ('scaler', StandardScaler()),                              \n",
    "                              ('model', model)\n",
    "                             ])\n",
    "\n",
    "history = my_pipeline.fit(X_train,y_train)\n"
   ]
  },
  {
   "cell_type": "markdown",
   "id": "scientific-proceeding",
   "metadata": {},
   "source": [
    "## Deployment"
   ]
  },
  {
   "cell_type": "code",
   "execution_count": 12,
   "id": "compliant-croatia",
   "metadata": {},
   "outputs": [],
   "source": [
    "# !pip install fastapi"
   ]
  },
  {
   "cell_type": "code",
   "execution_count": 14,
   "id": "colored-summer",
   "metadata": {},
   "outputs": [],
   "source": [
    "# !pip install \"uvicorn[standard]\""
   ]
  },
  {
   "cell_type": "code",
   "execution_count": null,
   "id": "imposed-laugh",
   "metadata": {},
   "outputs": [],
   "source": [
    "# %load app.py\n",
    "from typing import Optional\n",
    "\n",
    "from fastapi import FastAPI\n",
    "\n",
    "from pydantic import BaseModel\n",
    "\n",
    "import joblib\n",
    "\n",
    "import pandas as pd\n",
    "\n",
    "from tensorflow import keras\n",
    "\n",
    "app = FastAPI()\n",
    "\n",
    "\n",
    "class Match(BaseModel):\n",
    "    round_: int\n",
    "    localTeam: str\n",
    "    visitorTeam: str\n",
    "    division: int    \n",
    "\n",
    "@app.get(\"/\")\n",
    "def read_root():\n",
    "    return {\"Hello\": \"World\"}\n",
    "\n",
    "\n",
    "@app.get(\"/pred/\")\n",
    "def pred_match(match: Match):\n",
    "    enc = joblib.load(\"onehotencoder.joblib\")\n",
    "    \n",
    "    data = pd.DataFrame.from_dict({\"localTeam\": [match.localTeam], \"visitorTeam\": [ match.visitorTeam], \"round\": [match.round_], \"division\":match.division})\n",
    "    \n",
    "    X = pd.DataFrame(enc.transform(X_train.select_dtypes(\"object\")).toarray(), columns= enc.get_feature_names())\n",
    "    \n",
    "    X = pd.concat([X.set_index(data.index), data.select_dtypes(int)], axis=1)\n",
    "    \n",
    "    scaler = joblib.load(\"scaler.joblib\") \n",
    "    \n",
    "    X_train_tr = scaler.transform(X)\n",
    "        \n",
    "    model = keras.models.load_model(\"best_model.h5\")\n",
    "    \n",
    "    result = model.predict(X_train_tr)\n",
    "    \n",
    "    return {\"winner\": result}\n",
    "#     return {\"round\": match.round_, \"localTeam\": match.localTeam, \"visitorTeam\": match.visitorTeam, \"division\": match.division}"
   ]
  }
 ],
 "metadata": {
  "kernelspec": {
   "display_name": "Python 3",
   "language": "python",
   "name": "python3"
  },
  "language_info": {
   "codemirror_mode": {
    "name": "ipython",
    "version": 3
   },
   "file_extension": ".py",
   "mimetype": "text/x-python",
   "name": "python",
   "nbconvert_exporter": "python",
   "pygments_lexer": "ipython3",
   "version": "3.7.4"
  }
 },
 "nbformat": 4,
 "nbformat_minor": 5
}
