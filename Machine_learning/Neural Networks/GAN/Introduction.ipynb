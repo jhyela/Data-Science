{
 "cells": [
  {
   "cell_type": "markdown",
   "metadata": {},
   "source": [
    "This notebook includes my notes extracted from the references in order to understand how Generative Adversarial Networks work, a lot of this production is not mine and I would like reference the credit for the authors. "
   ]
  },
  {
   "cell_type": "markdown",
   "metadata": {},
   "source": [
    "# Generative Adversarial Network\n",
    "\n",
    "\n",
    "This is a kind of reinforcement learning and unsupervised learning where two models play together. We will have a real dataset R, a model __G__ knows as *generator* which is going to create fake data that looks just like the genuine data, while **D** is the *discriminator* who is going to evaluate and calculate the differente between the real set and the set that was modified, finally, we are going to have the *I* random noise that goes into the generator as source of entropy.\n",
    "\n",
    "\n",
    "<img src=\"https://miro.medium.com/max/1198/1*-gFsbymY9oJUQJ-A3GTfeg.png\" >\n"
   ]
  },
  {
   "cell_type": "markdown",
   "metadata": {},
   "source": [
    "R, we are going to start with the simplest possible **R**. This function takes a mean and a standard deviation and returns which provides the right shape of a sample data from a Gaussian with those parameters. "
   ]
  },
  {
   "cell_type": "markdown",
   "metadata": {},
   "source": [
    "So, given a set of data instances X and a set of labels Y, we are going to have }\n",
    "+ _Generative_ models capture the joind probability P(X, Y), or just P(X) if there are no labels\n",
    "+ _Discriminative_ models capture the conditional probability P(Y|X)\n",
    "\n",
    "<img src=\"https://developers.google.com/machine-learning/gan/images/generative_v_discriminative.png\" >\n",
    "\n",
    "This is the general architecture of the system\n",
    "\n",
    "<img src=\"https://developers.google.com/machine-learning/gan/images/gan_diagram.svg\" >\n",
    "\n",
    "Both the generator and the discrimator are neuronal networks, where the discriminator is a classifier which knows the distribution of the data and how to segment it, in the same way, it has a backpropation which uses the loss from the interactions. \n",
    "\n",
    "<img src=\"https://developers.google.com/machine-learning/gan/images/gan_diagram_discriminator.svg\">\n",
    "\n",
    "During the discriminator's training, the discriminator ignores the generator's loss and uses the discriminator's loss, in the same way, during the generator's training the generator uses its loss.\n",
    "\n",
    "The discriminator is going to focus to classify both real data and fake from the generator, moreover, the discriminator's loss is going to penalize the discriminator for misclassifiying a real instance as fake or a fake instance as real, finally, the discriminator updates its weights using backpropagation from the discrimator's loss. \n",
    "\n",
    "The generator is focuses to make fake data using the feedback from the discriminator, in other words, it learns from it in order to improve its output to be the more real. \n",
    "\n",
    "G is integrated by the random input _I_, a neural network, the discriminator's output, generator's loss which penalizes the generator for failing to fool the discriminator."
   ]
  },
  {
   "cell_type": "markdown",
   "metadata": {},
   "source": [
    "The *loss functions* use in a GAN are:\n",
    "+ __minmax loss__\n",
    "+ __Wasserstein loss__\n",
    "\n",
    "Due to we have two neural nets we can have two loss functions. \n"
   ]
  },
  {
   "cell_type": "markdown",
   "metadata": {},
   "source": [
    "## GAN Variations\n",
    "\n",
    "\n"
   ]
  },
  {
   "cell_type": "markdown",
   "metadata": {},
   "source": [
    "+ *Progressive GANs*, it's generator's first layers produce very low resolution images, and subsequent layers and details. This a kind of technique faster than the others. \n",
    "\n",
    "+ *Conditional GANs*, in this technique we can specify the label for each generated instance, completely different from *unconditional GANs* where it produces random outputs. \n",
    "\n",
    "+ *Image-to-Image translation* it takes an image as input and map it to a generated output image with different properties. \n",
    "\n",
    "+ *CycleGAN* it lerans to transform images from one set into images that could belong to another set. \n",
    "\n",
    "+ *Text-to-Image Synthesis* takes text as input and produce images that plausible and described by the text. \n",
    "\n",
    "+ *Super-resolution* increases the resolution of images, adding detail where necessary to fill in blurry areas. \n",
    "\n",
    "+ *Face inpainting* the idea of this approach is to fill chunks of an image that are blacked out.\n",
    "\n",
    "+ *Text-to-Speech* some researches explored the application of GANs to produce synthetized speech from text input. \n",
    "\n",
    "+ *DCGAN* is a direct extension of the GAN, except that it uses convolutional and convolutional-transpose layers in discriminator and generator, firt described by [7]."
   ]
  },
  {
   "cell_type": "markdown",
   "metadata": {},
   "source": [
    "## Examples"
   ]
  },
  {
   "cell_type": "markdown",
   "metadata": {
    "heading_collapsed": true
   },
   "source": [
    "### TF-GAN tutorial from Google Developers\n",
    "\n",
    "The idea of this tutorial is to use a TF-GAN in the MNIST datasets to make fake data"
   ]
  },
  {
   "cell_type": "markdown",
   "metadata": {
    "hidden": true
   },
   "source": [
    "**evaluating generative models, and evaluating GANs**\n",
    "\n",
    "tf_scan provides some standard methods of evaluating generative models, we measure:\n",
    "+ Inception Score: called `mnist_score`\n",
    "+ Frechet Inception Distance\n",
    "\n",
    "The idea is using the pre-trained classifier to both the real data and the generated data calculate the *Inception Score*, where its idea is measure both __quality__ and __diversity__ [4].\n",
    "\n",
    "On the other hand, we can find the *Frechet Inception Distance* [5] which calculates how close the generated image distribution is to the real image distribution. "
   ]
  },
  {
   "cell_type": "code",
   "execution_count": 1,
   "metadata": {
    "hidden": true
   },
   "outputs": [
    {
     "name": "stderr",
     "output_type": "stream",
     "text": [
      "WARNING: Logging before flag parsing goes to stderr.\n",
      "W0210 08:14:52.450892 13468 module_wrapper.py:138] From D:\\Usuarios\\rhaps\\Anaconda3\\lib\\site-packages\\tensorflow_gan\\python\\estimator\\tpu_gan_estimator.py:42: The name tf.estimator.tpu.TPUEstimator is deprecated. Please use tf.compat.v1.estimator.tpu.TPUEstimator instead.\n",
      "\n"
     ]
    }
   ],
   "source": [
    "# tensorflow-gan is a library for training and evaluating GANs\n",
    "import tensorflow as tf\n",
    "import tensorflow_gan as tfgan\n",
    "import tensorflow_datasets as tfds\n",
    "import matplotlib.pyplot as plt\n",
    "import numpy as pd \n",
    "%matplotlib inline\n",
    "import logging\n",
    "logger = tf.get_logger()\n",
    "logger.setLevel(logging.ERROR)"
   ]
  },
  {
   "cell_type": "code",
   "execution_count": 3,
   "metadata": {
    "hidden": true
   },
   "outputs": [
    {
     "data": {
      "text/plain": [
       "'2.1.0'"
      ]
     },
     "execution_count": 3,
     "metadata": {},
     "output_type": "execute_result"
    }
   ],
   "source": [
    "tf.__version__"
   ]
  },
  {
   "cell_type": "code",
   "execution_count": 2,
   "metadata": {
    "hidden": true
   },
   "outputs": [],
   "source": [
    "# random inputs for the generator  \n",
    "def input_fn(mode, params):\n",
    "    # assertions are statemets that assert or state a fact confidently, they are simply boolean expressions \n",
    "    assert \"batch_size\" in params\n",
    "    assert \"noise_dims\" in params\n",
    "    bs = params[\"batch_size\"]\n",
    "    nd = params[\"noise_dims\"]\n",
    "    split = \"train\" if mode == tf.estimator.ModeKeys.TRAIN else \"test\"\n",
    "    shuffle = (mode == tf.estimator.ModeKeys.TRAIN)\n",
    "    just_noise = (mode == tf.estimator.ModeKeys.PREDICT)\n",
    "    noise_ds = (tf.data.Dataset.from_tensors(0).repeat()\n",
    "              .map(lambda _: tf.random.normal([bs, nd])))\n",
    "    \n",
    "    if just_noise:\n",
    "        return noise_ds\n",
    "    \n",
    "    def _preprocess(element):\n",
    "        # Map [0, 255] to [-1, 1]\n",
    "        images = (tf.cast(element[\"image\"], tf.float32) - 127.5) / 127.5\n",
    "        return images\n",
    "    \n",
    "    images_ds =  (tfds.load(\"mnist\", split=split).map(_preprocess).cache().repeat())\n",
    "    \n",
    "    if shuffle:\n",
    "        images_ds = images_ds.shuffle(buffer_size=10000, reshuffle_each_iteration=True)\n",
    "        images_ds = (images_ds.batch(bs, drop_remainder=True).prefetch(tf.data.experimental.AUTOTUNE))\n",
    "        \n",
    "    return tf.data.Dataset.zip((noise_ds, images_ds))\n",
    "    \n",
    "    "
   ]
  },
  {
   "cell_type": "code",
   "execution_count": 3,
   "metadata": {
    "hidden": true
   },
   "outputs": [
    {
     "name": "stdout",
     "output_type": "stream",
     "text": [
      "WARNING: AutoGraph could not transform <function input_fn.<locals>.<lambda> at 0x0000023B00D35840> and will run it as-is.\n",
      "Cause: could not parse the source code:\n",
      "\n",
      "              .map(lambda _: tf.random.normal([bs, nd])))\n",
      "\n",
      "This error may be avoided by creating the lambda in a standalone statement.\n",
      "\n"
     ]
    },
    {
     "data": {
      "image/png": "[encoded data removed]",
      "text/plain": [
       "<Figure size 432x288 with 1 Axes>"
      ]
     },
     "metadata": {
      "needs_background": "light"
     },
     "output_type": "display_data"
    }
   ],
   "source": [
    "import numpy as np \n",
    "params = {\"batch_size\": 100, \"noise_dims\":64}\n",
    "with tf.Graph().as_default():\n",
    "    ds = input_fn(tf.estimator.ModeKeys.TRAIN, params)\n",
    "    numpy_imgs = next(tfds.as_numpy(ds))[1]\n",
    "img_grid = tfgan.eval.python_image_grid(numpy_imgs, grid_shape=(10, 10))\n",
    "plt.axis(\"off\")\n",
    "plt.imshow(np.squeeze(img_grid))\n",
    "plt.show()"
   ]
  },
  {
   "cell_type": "code",
   "execution_count": 6,
   "metadata": {
    "hidden": true
   },
   "outputs": [],
   "source": [
    "# neural network architecture \n",
    "\n",
    "# a generator that takes input noise and outputs generated MNIST digits\n",
    "# a discriminator that takes images and outputs a probability of being real or fake\n",
    "\n",
    "def _dense(inputs, units, l2_weight):\n",
    "      return tf.keras.layers.Dense(\n",
    "      inputs, units, None,\n",
    "      kernel_initializer=tf.keras.initializers.glorot_uniform,\n",
    "      kernel_regularizer=tf.keras.regularizers.l2(l=l2_weight),\n",
    "      bias_regularizer=tf.keras.regularizers.l2(l=l2_weight))\n",
    "        \n",
    "def _batch_norm(inputs, is_training):\n",
    "      return tf.keras.layers.batch_normalization(\n",
    "      inputs, momentum=0.999, epsilon=0.001, training=is_training)\n",
    "\n",
    "def _deconv2d(inputs, filters, kernel_size, stride, l2_weight):\n",
    "      return tf.keras.layers.conv2d_transpose(\n",
    "      inputs, filters, [kernel_size, kernel_size], strides=[stride, stride], \n",
    "      activation=tf.nn.relu, padding='same',\n",
    "      kernel_initializer=tf.keras.initializers.glorot_uniform,\n",
    "      kernel_regularizer=tf.keras.regularizers.l2(l=l2_weight),\n",
    "      bias_regularizer=tf.keras.regularizers.l2(l=l2_weight))\n",
    "\n",
    "def _conv2d(inputs, filters, kernel_size, stride, l2_weight):\n",
    "      return tf.keras.layers.conv2d(\n",
    "      inputs, filters, [kernel_size, kernel_size], strides=[stride, stride], \n",
    "      activation=None, padding='same',\n",
    "      kernel_initializer=tf.keras.initializers.glorot_uniform,\n",
    "      kernel_regularizer=tf.keras.regularizers.l2(l=l2_weight),\n",
    "      bias_regularizer=tf.keras.regularizers.l2(l=l2_weight))\n"
   ]
  },
  {
   "cell_type": "code",
   "execution_count": 13,
   "metadata": {
    "hidden": true
   },
   "outputs": [],
   "source": [
    "def unconditional_generator(noise, mode, weight_decay=2.5e-5):\n",
    "    \"\"\"Generator to produce unconditional MNIST images.\"\"\"\n",
    "    is_training = (mode == tf.estimator.ModeKeys.TRAIN)\n",
    "\n",
    "    net = _dense(noise, 1024, weight_decay)\n",
    "    net = _batch_norm(net, is_training)\n",
    "    net = tf.nn.relu(net)\n",
    "\n",
    "    net = _dense(net, 7 * 7 * 256, weight_decay)\n",
    "    net = _batch_norm(net, is_training)\n",
    "    net = tf.nn.relu(net)\n",
    "\n",
    "    net = tf.reshape(net, [-1, 7, 7, 256])\n",
    "    net = _deconv2d(net, 64, 4, 2, weight_decay)\n",
    "    net = _deconv2d(net, 64, 4, 2, weight_decay)\n",
    "    # Make sure that generator output is in the same range as `inputs`\n",
    "    # ie [-1, 1].\n",
    "    net = _conv2d(net, 1, 4, 1, 0.0)\n",
    "    net = tf.tanh(net)\n",
    "\n",
    "    return net"
   ]
  },
  {
   "cell_type": "code",
   "execution_count": 8,
   "metadata": {
    "hidden": true
   },
   "outputs": [],
   "source": [
    "_leaky_relu = lambda net: tf.nn.leaky_relu(net, alpha=0.01)\n",
    "\n",
    "def unconditional_discriminator(img, unused_conditioning, mode, weight_decay=2.5e-5):\n",
    "    is_training= (mode == tf.estimator.ModeKeys.TRAIN)\n",
    "    \n",
    "    net = _conv2d(img, 64, 4, 2, weight_decay)\n",
    "    net = _leaky_relu(net)\n",
    "    \n",
    "    net = _conv2d(net, 128, 4, 2, weight_decay)\n",
    "    net = _leaky_relu(net)\n",
    "    \n",
    "    net = tf.keras.layers.flatten(net)\n",
    "    \n",
    "    net = _dense(net, 1024, weight_decay)\n",
    "    net = _batch_norm(net, is_training)\n",
    "    net = _leaky_relu(net)\n",
    "    \n",
    "    net = _dense(net, 1, weight_decay)\n",
    "    \n",
    "    return net"
   ]
  },
  {
   "cell_type": "code",
   "execution_count": 9,
   "metadata": {
    "hidden": true
   },
   "outputs": [],
   "source": [
    "from tensorflow_gan.examples.mnist import util as eval_util\n",
    "import os\n",
    "\n",
    "# evaluation function\n",
    "def get_eval_metric_ops_fn(gan_model):\n",
    "    real_data_logits = tf.reduce_mean(gan_model.discriminator_real_outputs)\n",
    "    gen_data_logits = tf.reduce_mean(gan_model.discriminator_gen_outputs)\n",
    "    real_mnist_logits = eval_util.mnist_score(gan_model.real_data)\n",
    "    # inception score\n",
    "    generated_mnist_score = eval_util.mnist_score(gan_model.generated_data)\n",
    "    # frechet inception distance\n",
    "    frechet_distance =  eval_util.mnist_frechet_distance(gan_model.real_data, gan_model.generated_data)\n",
    "    return {\n",
    "        'real_data_logits': tf.metrics.mean(real_data_logits),\n",
    "        'gen_data_logits': tf.metrics.mean(gen_data_logits),\n",
    "        'real_mnist_socre': tf.metrics.mean(real_mnist_score),\n",
    "        'mnist_score': tf.metrics.mean(generated_mnist_score),\n",
    "        'frechet_distance': tf.metrics.mean(frechet_distance)\n",
    "    }\n",
    "    "
   ]
  },
  {
   "cell_type": "markdown",
   "metadata": {
    "hidden": true
   },
   "source": [
    "GANEstimator assembles and manages the pieces of the whole GAN model, where it's contructor takes the following components:\n",
    "+ Network builder functions\n",
    "+ Loss functions\n",
    "+ Optimizers"
   ]
  },
  {
   "cell_type": "code",
   "execution_count": 10,
   "metadata": {
    "hidden": true
   },
   "outputs": [],
   "source": [
    "train_batch_size =  32 \n",
    "noise_dimensions = 64\n",
    "generator_lr = 0.001\n",
    "discriminator_lr = 0.0002\n",
    "\n",
    "def gen_opt():\n",
    "    gstep =  tf.train.get_or_create_step()\n",
    "    base_lr = generator_lr\n",
    "    lr = tf.cond(gstep < 1000, lambda: base_lr, lambda: base_lr / 2.0)\n",
    "    return tf.optimizers.Adam(lr, 0.5)\n",
    "\n",
    "gan_estimator = tfgan.estimator.GANEstimator(\n",
    "    generator_fn=unconditional_generator,\n",
    "    discriminator_fn=unconditional_discriminator,\n",
    "    generator_loss_fn=tfgan.losses.wasserstein_generator_loss,\n",
    "    discriminator_loss_fn=tfgan.losses.wasserstein_discriminator_loss,\n",
    "    params={'batch_size': train_batch_size, 'noise_dims': noise_dimensions},\n",
    "    generator_optimizer=gen_opt,\n",
    "    discriminator_optimizer=tf.optimizers.Adam(discriminator_lr, 0.5),\n",
    "    get_eval_metric_ops_fn=get_eval_metric_ops_fn)"
   ]
  },
  {
   "cell_type": "markdown",
   "metadata": {
    "hidden": true
   },
   "source": [
    "*Train and eval loop*"
   ]
  },
  {
   "cell_type": "code",
   "execution_count": 14,
   "metadata": {
    "hidden": true
   },
   "outputs": [
    {
     "ename": "TypeError",
     "evalue": "int() argument must be a string, a bytes-like object or a number, not 'Tensor'",
     "output_type": "error",
     "traceback": [
      "\u001b[1;31m---------------------------------------------------------------------------\u001b[0m",
      "\u001b[1;31mTypeError\u001b[0m                                 Traceback (most recent call last)",
      "\u001b[1;32m<ipython-input-14-71facb396098>\u001b[0m in \u001b[0;36m<module>\u001b[1;34m\u001b[0m\n\u001b[0;32m     17\u001b[0m \u001b[1;33m\u001b[0m\u001b[0m\n\u001b[0;32m     18\u001b[0m     \u001b[0mstart\u001b[0m \u001b[1;33m=\u001b[0m \u001b[0mtime\u001b[0m\u001b[1;33m.\u001b[0m\u001b[0mtime\u001b[0m\u001b[1;33m(\u001b[0m\u001b[1;33m)\u001b[0m\u001b[1;33m\u001b[0m\u001b[1;33m\u001b[0m\u001b[0m\n\u001b[1;32m---> 19\u001b[1;33m     \u001b[0mgan_estimator\u001b[0m\u001b[1;33m.\u001b[0m\u001b[0mtrain\u001b[0m\u001b[1;33m(\u001b[0m\u001b[0minput_fn\u001b[0m\u001b[1;33m,\u001b[0m \u001b[0mmax_steps\u001b[0m\u001b[1;33m=\u001b[0m\u001b[0mnext_step\u001b[0m\u001b[1;33m)\u001b[0m\u001b[1;33m\u001b[0m\u001b[1;33m\u001b[0m\u001b[0m\n\u001b[0m\u001b[0;32m     20\u001b[0m     \u001b[0msteps_taken\u001b[0m \u001b[1;33m=\u001b[0m \u001b[0mnext_step\u001b[0m \u001b[1;33m-\u001b[0m \u001b[0mcur_step\u001b[0m\u001b[1;33m\u001b[0m\u001b[1;33m\u001b[0m\u001b[0m\n\u001b[0;32m     21\u001b[0m     \u001b[0mtime_taken\u001b[0m \u001b[1;33m=\u001b[0m  \u001b[0mtime\u001b[0m\u001b[1;33m.\u001b[0m\u001b[0mtime\u001b[0m\u001b[1;33m(\u001b[0m\u001b[1;33m)\u001b[0m \u001b[1;33m-\u001b[0m \u001b[0mstart\u001b[0m\u001b[1;33m\u001b[0m\u001b[1;33m\u001b[0m\u001b[0m\n",
      "\u001b[1;32m~\\Anaconda3\\lib\\site-packages\\tensorflow_estimator\\python\\estimator\\estimator.py\u001b[0m in \u001b[0;36mtrain\u001b[1;34m(self, input_fn, hooks, steps, max_steps, saving_listeners)\u001b[0m\n\u001b[0;32m    372\u001b[0m \u001b[1;33m\u001b[0m\u001b[0m\n\u001b[0;32m    373\u001b[0m       \u001b[0msaving_listeners\u001b[0m \u001b[1;33m=\u001b[0m \u001b[0m_check_listeners_type\u001b[0m\u001b[1;33m(\u001b[0m\u001b[0msaving_listeners\u001b[0m\u001b[1;33m)\u001b[0m\u001b[1;33m\u001b[0m\u001b[1;33m\u001b[0m\u001b[0m\n\u001b[1;32m--> 374\u001b[1;33m       \u001b[0mloss\u001b[0m \u001b[1;33m=\u001b[0m \u001b[0mself\u001b[0m\u001b[1;33m.\u001b[0m\u001b[0m_train_model\u001b[0m\u001b[1;33m(\u001b[0m\u001b[0minput_fn\u001b[0m\u001b[1;33m,\u001b[0m \u001b[0mhooks\u001b[0m\u001b[1;33m,\u001b[0m \u001b[0msaving_listeners\u001b[0m\u001b[1;33m)\u001b[0m\u001b[1;33m\u001b[0m\u001b[1;33m\u001b[0m\u001b[0m\n\u001b[0m\u001b[0;32m    375\u001b[0m       \u001b[0mlogging\u001b[0m\u001b[1;33m.\u001b[0m\u001b[0minfo\u001b[0m\u001b[1;33m(\u001b[0m\u001b[1;34m'Loss for final step: %s.'\u001b[0m\u001b[1;33m,\u001b[0m \u001b[0mloss\u001b[0m\u001b[1;33m)\u001b[0m\u001b[1;33m\u001b[0m\u001b[1;33m\u001b[0m\u001b[0m\n\u001b[0;32m    376\u001b[0m       \u001b[1;32mreturn\u001b[0m \u001b[0mself\u001b[0m\u001b[1;33m\u001b[0m\u001b[1;33m\u001b[0m\u001b[0m\n",
      "\u001b[1;32m~\\Anaconda3\\lib\\site-packages\\tensorflow_estimator\\python\\estimator\\estimator.py\u001b[0m in \u001b[0;36m_train_model\u001b[1;34m(self, input_fn, hooks, saving_listeners)\u001b[0m\n\u001b[0;32m   1162\u001b[0m       \u001b[1;32mreturn\u001b[0m \u001b[0mself\u001b[0m\u001b[1;33m.\u001b[0m\u001b[0m_train_model_distributed\u001b[0m\u001b[1;33m(\u001b[0m\u001b[0minput_fn\u001b[0m\u001b[1;33m,\u001b[0m \u001b[0mhooks\u001b[0m\u001b[1;33m,\u001b[0m \u001b[0msaving_listeners\u001b[0m\u001b[1;33m)\u001b[0m\u001b[1;33m\u001b[0m\u001b[1;33m\u001b[0m\u001b[0m\n\u001b[0;32m   1163\u001b[0m     \u001b[1;32melse\u001b[0m\u001b[1;33m:\u001b[0m\u001b[1;33m\u001b[0m\u001b[1;33m\u001b[0m\u001b[0m\n\u001b[1;32m-> 1164\u001b[1;33m       \u001b[1;32mreturn\u001b[0m \u001b[0mself\u001b[0m\u001b[1;33m.\u001b[0m\u001b[0m_train_model_default\u001b[0m\u001b[1;33m(\u001b[0m\u001b[0minput_fn\u001b[0m\u001b[1;33m,\u001b[0m \u001b[0mhooks\u001b[0m\u001b[1;33m,\u001b[0m \u001b[0msaving_listeners\u001b[0m\u001b[1;33m)\u001b[0m\u001b[1;33m\u001b[0m\u001b[1;33m\u001b[0m\u001b[0m\n\u001b[0m\u001b[0;32m   1165\u001b[0m \u001b[1;33m\u001b[0m\u001b[0m\n\u001b[0;32m   1166\u001b[0m   \u001b[1;32mdef\u001b[0m \u001b[0m_train_model_default\u001b[0m\u001b[1;33m(\u001b[0m\u001b[0mself\u001b[0m\u001b[1;33m,\u001b[0m \u001b[0minput_fn\u001b[0m\u001b[1;33m,\u001b[0m \u001b[0mhooks\u001b[0m\u001b[1;33m,\u001b[0m \u001b[0msaving_listeners\u001b[0m\u001b[1;33m)\u001b[0m\u001b[1;33m:\u001b[0m\u001b[1;33m\u001b[0m\u001b[1;33m\u001b[0m\u001b[0m\n",
      "\u001b[1;32m~\\Anaconda3\\lib\\site-packages\\tensorflow_estimator\\python\\estimator\\estimator.py\u001b[0m in \u001b[0;36m_train_model_default\u001b[1;34m(self, input_fn, hooks, saving_listeners)\u001b[0m\n\u001b[0;32m   1192\u001b[0m       \u001b[0mworker_hooks\u001b[0m\u001b[1;33m.\u001b[0m\u001b[0mextend\u001b[0m\u001b[1;33m(\u001b[0m\u001b[0minput_hooks\u001b[0m\u001b[1;33m)\u001b[0m\u001b[1;33m\u001b[0m\u001b[1;33m\u001b[0m\u001b[0m\n\u001b[0;32m   1193\u001b[0m       estimator_spec = self._call_model_fn(\n\u001b[1;32m-> 1194\u001b[1;33m           features, labels, ModeKeys.TRAIN, self.config)\n\u001b[0m\u001b[0;32m   1195\u001b[0m       \u001b[0mglobal_step_tensor\u001b[0m \u001b[1;33m=\u001b[0m \u001b[0mtraining_util\u001b[0m\u001b[1;33m.\u001b[0m\u001b[0mget_global_step\u001b[0m\u001b[1;33m(\u001b[0m\u001b[0mg\u001b[0m\u001b[1;33m)\u001b[0m\u001b[1;33m\u001b[0m\u001b[1;33m\u001b[0m\u001b[0m\n\u001b[0;32m   1196\u001b[0m       return self._train_with_estimator_spec(estimator_spec, worker_hooks,\n",
      "\u001b[1;32m~\\Anaconda3\\lib\\site-packages\\tensorflow_estimator\\python\\estimator\\estimator.py\u001b[0m in \u001b[0;36m_call_model_fn\u001b[1;34m(self, features, labels, mode, config)\u001b[0m\n\u001b[0;32m   1150\u001b[0m \u001b[1;33m\u001b[0m\u001b[0m\n\u001b[0;32m   1151\u001b[0m     \u001b[0mlogging\u001b[0m\u001b[1;33m.\u001b[0m\u001b[0minfo\u001b[0m\u001b[1;33m(\u001b[0m\u001b[1;34m'Calling model_fn.'\u001b[0m\u001b[1;33m)\u001b[0m\u001b[1;33m\u001b[0m\u001b[1;33m\u001b[0m\u001b[0m\n\u001b[1;32m-> 1152\u001b[1;33m     \u001b[0mmodel_fn_results\u001b[0m \u001b[1;33m=\u001b[0m \u001b[0mself\u001b[0m\u001b[1;33m.\u001b[0m\u001b[0m_model_fn\u001b[0m\u001b[1;33m(\u001b[0m\u001b[0mfeatures\u001b[0m\u001b[1;33m=\u001b[0m\u001b[0mfeatures\u001b[0m\u001b[1;33m,\u001b[0m \u001b[1;33m**\u001b[0m\u001b[0mkwargs\u001b[0m\u001b[1;33m)\u001b[0m\u001b[1;33m\u001b[0m\u001b[1;33m\u001b[0m\u001b[0m\n\u001b[0m\u001b[0;32m   1153\u001b[0m     \u001b[0mlogging\u001b[0m\u001b[1;33m.\u001b[0m\u001b[0minfo\u001b[0m\u001b[1;33m(\u001b[0m\u001b[1;34m'Done calling model_fn.'\u001b[0m\u001b[1;33m)\u001b[0m\u001b[1;33m\u001b[0m\u001b[1;33m\u001b[0m\u001b[0m\n\u001b[0;32m   1154\u001b[0m \u001b[1;33m\u001b[0m\u001b[0m\n",
      "\u001b[1;32m~\\Anaconda3\\lib\\site-packages\\tensorflow_gan\\python\\estimator\\gan_estimator.py\u001b[0m in \u001b[0;36m_model_fn\u001b[1;34m(features, labels, mode, params)\u001b[0m\n\u001b[0;32m    189\u001b[0m       \u001b[1;31m# Make GANModel, which encapsulates the GAN model architectures.\u001b[0m\u001b[1;33m\u001b[0m\u001b[1;33m\u001b[0m\u001b[1;33m\u001b[0m\u001b[0m\n\u001b[0;32m    190\u001b[0m       gan_model = get_gan_model(mode, generator_fn, discriminator_fn, real_data,\n\u001b[1;32m--> 191\u001b[1;33m                                 generator_inputs, add_summaries)\n\u001b[0m\u001b[0;32m    192\u001b[0m \u001b[1;33m\u001b[0m\u001b[0m\n\u001b[0;32m    193\u001b[0m       \u001b[1;31m# Make GANLoss, which encapsulates the losses.\u001b[0m\u001b[1;33m\u001b[0m\u001b[1;33m\u001b[0m\u001b[1;33m\u001b[0m\u001b[0m\n",
      "\u001b[1;32m~\\Anaconda3\\lib\\site-packages\\tensorflow_gan\\python\\estimator\\gan_estimator.py\u001b[0m in \u001b[0;36mget_gan_model\u001b[1;34m(mode, generator_fn, discriminator_fn, real_data, generator_inputs, add_summaries, generator_scope, discriminator_scope)\u001b[0m\n\u001b[0;32m    249\u001b[0m     gan_model = _make_gan_model(generator_fn, discriminator_fn, real_data,\n\u001b[0;32m    250\u001b[0m                                 \u001b[0mgenerator_inputs\u001b[0m\u001b[1;33m,\u001b[0m \u001b[0mgenerator_scope\u001b[0m\u001b[1;33m,\u001b[0m\u001b[1;33m\u001b[0m\u001b[1;33m\u001b[0m\u001b[0m\n\u001b[1;32m--> 251\u001b[1;33m                                 discriminator_scope, add_summaries, mode)\n\u001b[0m\u001b[0;32m    252\u001b[0m \u001b[1;33m\u001b[0m\u001b[0m\n\u001b[0;32m    253\u001b[0m   \u001b[1;32mreturn\u001b[0m \u001b[0mgan_model\u001b[0m\u001b[1;33m\u001b[0m\u001b[1;33m\u001b[0m\u001b[0m\n",
      "\u001b[1;32m~\\Anaconda3\\lib\\site-packages\\tensorflow_gan\\python\\estimator\\gan_estimator.py\u001b[0m in \u001b[0;36m_make_gan_model\u001b[1;34m(generator_fn, discriminator_fn, real_data, generator_inputs, generator_scope, discriminator_scope, add_summaries, mode)\u001b[0m\n\u001b[0;32m    269\u001b[0m       \u001b[0mgenerator_scope\u001b[0m\u001b[1;33m=\u001b[0m\u001b[0mgenerator_scope\u001b[0m\u001b[1;33m,\u001b[0m\u001b[1;33m\u001b[0m\u001b[1;33m\u001b[0m\u001b[0m\n\u001b[0;32m    270\u001b[0m       \u001b[0mdiscriminator_scope\u001b[0m\u001b[1;33m=\u001b[0m\u001b[0mdiscriminator_scope\u001b[0m\u001b[1;33m,\u001b[0m\u001b[1;33m\u001b[0m\u001b[1;33m\u001b[0m\u001b[0m\n\u001b[1;32m--> 271\u001b[1;33m       check_shapes=False)\n\u001b[0m\u001b[0;32m    272\u001b[0m   \u001b[1;32mif\u001b[0m \u001b[0madd_summaries\u001b[0m\u001b[1;33m:\u001b[0m\u001b[1;33m\u001b[0m\u001b[1;33m\u001b[0m\u001b[0m\n\u001b[0;32m    273\u001b[0m     \u001b[1;32mif\u001b[0m \u001b[1;32mnot\u001b[0m \u001b[0misinstance\u001b[0m\u001b[1;33m(\u001b[0m\u001b[0madd_summaries\u001b[0m\u001b[1;33m,\u001b[0m \u001b[1;33m(\u001b[0m\u001b[0mtuple\u001b[0m\u001b[1;33m,\u001b[0m \u001b[0mlist\u001b[0m\u001b[1;33m)\u001b[0m\u001b[1;33m)\u001b[0m\u001b[1;33m:\u001b[0m\u001b[1;33m\u001b[0m\u001b[1;33m\u001b[0m\u001b[0m\n",
      "\u001b[1;32m~\\Anaconda3\\lib\\site-packages\\tensorflow_gan\\python\\train.py\u001b[0m in \u001b[0;36mgan_model\u001b[1;34m(generator_fn, discriminator_fn, real_data, generator_inputs, generator_scope, discriminator_scope, check_shapes)\u001b[0m\n\u001b[0;32m    105\u001b[0m       generator_scope, reuse=tf.compat.v1.AUTO_REUSE) as gen_scope:\n\u001b[0;32m    106\u001b[0m     \u001b[0mgenerator_inputs\u001b[0m \u001b[1;33m=\u001b[0m \u001b[0m_convert_tensor_or_l_or_d\u001b[0m\u001b[1;33m(\u001b[0m\u001b[0mgenerator_inputs\u001b[0m\u001b[1;33m)\u001b[0m\u001b[1;33m\u001b[0m\u001b[1;33m\u001b[0m\u001b[0m\n\u001b[1;32m--> 107\u001b[1;33m     \u001b[0mgenerated_data\u001b[0m \u001b[1;33m=\u001b[0m \u001b[0mgenerator_fn\u001b[0m\u001b[1;33m(\u001b[0m\u001b[0mgenerator_inputs\u001b[0m\u001b[1;33m)\u001b[0m\u001b[1;33m\u001b[0m\u001b[1;33m\u001b[0m\u001b[0m\n\u001b[0m\u001b[0;32m    108\u001b[0m   with tf.compat.v1.variable_scope(\n\u001b[0;32m    109\u001b[0m       discriminator_scope, reuse=tf.compat.v1.AUTO_REUSE) as dis_scope:\n",
      "\u001b[1;32m<ipython-input-7-6492ae64296a>\u001b[0m in \u001b[0;36munconditional_generator\u001b[1;34m(noise, mode, weight_decay)\u001b[0m\n\u001b[0;32m      3\u001b[0m     \u001b[0mis_training\u001b[0m \u001b[1;33m=\u001b[0m \u001b[1;33m(\u001b[0m\u001b[0mmode\u001b[0m \u001b[1;33m==\u001b[0m \u001b[0mtf\u001b[0m\u001b[1;33m.\u001b[0m\u001b[0mestimator\u001b[0m\u001b[1;33m.\u001b[0m\u001b[0mModeKeys\u001b[0m\u001b[1;33m.\u001b[0m\u001b[0mTRAIN\u001b[0m\u001b[1;33m)\u001b[0m\u001b[1;33m\u001b[0m\u001b[1;33m\u001b[0m\u001b[0m\n\u001b[0;32m      4\u001b[0m \u001b[1;33m\u001b[0m\u001b[0m\n\u001b[1;32m----> 5\u001b[1;33m     \u001b[0mnet\u001b[0m \u001b[1;33m=\u001b[0m \u001b[0m_dense\u001b[0m\u001b[1;33m(\u001b[0m\u001b[0mnoise\u001b[0m\u001b[1;33m,\u001b[0m \u001b[1;36m1024\u001b[0m\u001b[1;33m,\u001b[0m \u001b[0mweight_decay\u001b[0m\u001b[1;33m)\u001b[0m\u001b[1;33m\u001b[0m\u001b[1;33m\u001b[0m\u001b[0m\n\u001b[0m\u001b[0;32m      6\u001b[0m     \u001b[0mnet\u001b[0m \u001b[1;33m=\u001b[0m \u001b[0m_batch_norm\u001b[0m\u001b[1;33m(\u001b[0m\u001b[0mnet\u001b[0m\u001b[1;33m,\u001b[0m \u001b[0mis_training\u001b[0m\u001b[1;33m)\u001b[0m\u001b[1;33m\u001b[0m\u001b[1;33m\u001b[0m\u001b[0m\n\u001b[0;32m      7\u001b[0m     \u001b[0mnet\u001b[0m \u001b[1;33m=\u001b[0m  \u001b[0mtf\u001b[0m\u001b[1;33m.\u001b[0m\u001b[0mnn\u001b[0m\u001b[1;33m.\u001b[0m\u001b[0mrelu\u001b[0m\u001b[1;33m(\u001b[0m\u001b[0mnet\u001b[0m\u001b[1;33m)\u001b[0m\u001b[1;33m\u001b[0m\u001b[1;33m\u001b[0m\u001b[0m\n",
      "\u001b[1;32m<ipython-input-6-f55c39bb3b76>\u001b[0m in \u001b[0;36m_dense\u001b[1;34m(inputs, units, l2_weight)\u001b[0m\n\u001b[0;32m      9\u001b[0m       \u001b[0mkernel_initializer\u001b[0m\u001b[1;33m=\u001b[0m\u001b[0mtf\u001b[0m\u001b[1;33m.\u001b[0m\u001b[0mkeras\u001b[0m\u001b[1;33m.\u001b[0m\u001b[0minitializers\u001b[0m\u001b[1;33m.\u001b[0m\u001b[0mglorot_uniform\u001b[0m\u001b[1;33m,\u001b[0m\u001b[1;33m\u001b[0m\u001b[1;33m\u001b[0m\u001b[0m\n\u001b[0;32m     10\u001b[0m       \u001b[0mkernel_regularizer\u001b[0m\u001b[1;33m=\u001b[0m\u001b[0mtf\u001b[0m\u001b[1;33m.\u001b[0m\u001b[0mkeras\u001b[0m\u001b[1;33m.\u001b[0m\u001b[0mregularizers\u001b[0m\u001b[1;33m.\u001b[0m\u001b[0ml2\u001b[0m\u001b[1;33m(\u001b[0m\u001b[0ml\u001b[0m\u001b[1;33m=\u001b[0m\u001b[0ml2_weight\u001b[0m\u001b[1;33m)\u001b[0m\u001b[1;33m,\u001b[0m\u001b[1;33m\u001b[0m\u001b[1;33m\u001b[0m\u001b[0m\n\u001b[1;32m---> 11\u001b[1;33m       bias_regularizer=tf.keras.regularizers.l2(l=l2_weight))\n\u001b[0m\u001b[0;32m     12\u001b[0m \u001b[1;33m\u001b[0m\u001b[0m\n\u001b[0;32m     13\u001b[0m \u001b[1;32mdef\u001b[0m \u001b[0m_batch_norm\u001b[0m\u001b[1;33m(\u001b[0m\u001b[0minputs\u001b[0m\u001b[1;33m,\u001b[0m \u001b[0mis_training\u001b[0m\u001b[1;33m)\u001b[0m\u001b[1;33m:\u001b[0m\u001b[1;33m\u001b[0m\u001b[1;33m\u001b[0m\u001b[0m\n",
      "\u001b[1;32m~\\Anaconda3\\lib\\site-packages\\tensorflow_core\\python\\keras\\layers\\core.py\u001b[0m in \u001b[0;36m__init__\u001b[1;34m(self, units, activation, use_bias, kernel_initializer, bias_initializer, kernel_regularizer, bias_regularizer, activity_regularizer, kernel_constraint, bias_constraint, **kwargs)\u001b[0m\n\u001b[0;32m   1079\u001b[0m         activity_regularizer=regularizers.get(activity_regularizer), **kwargs)\n\u001b[0;32m   1080\u001b[0m \u001b[1;33m\u001b[0m\u001b[0m\n\u001b[1;32m-> 1081\u001b[1;33m     \u001b[0mself\u001b[0m\u001b[1;33m.\u001b[0m\u001b[0munits\u001b[0m \u001b[1;33m=\u001b[0m \u001b[0mint\u001b[0m\u001b[1;33m(\u001b[0m\u001b[0munits\u001b[0m\u001b[1;33m)\u001b[0m \u001b[1;32mif\u001b[0m \u001b[1;32mnot\u001b[0m \u001b[0misinstance\u001b[0m\u001b[1;33m(\u001b[0m\u001b[0munits\u001b[0m\u001b[1;33m,\u001b[0m \u001b[0mint\u001b[0m\u001b[1;33m)\u001b[0m \u001b[1;32melse\u001b[0m \u001b[0munits\u001b[0m\u001b[1;33m\u001b[0m\u001b[1;33m\u001b[0m\u001b[0m\n\u001b[0m\u001b[0;32m   1082\u001b[0m     \u001b[0mself\u001b[0m\u001b[1;33m.\u001b[0m\u001b[0mactivation\u001b[0m \u001b[1;33m=\u001b[0m \u001b[0mactivations\u001b[0m\u001b[1;33m.\u001b[0m\u001b[0mget\u001b[0m\u001b[1;33m(\u001b[0m\u001b[0mactivation\u001b[0m\u001b[1;33m)\u001b[0m\u001b[1;33m\u001b[0m\u001b[1;33m\u001b[0m\u001b[0m\n\u001b[0;32m   1083\u001b[0m     \u001b[0mself\u001b[0m\u001b[1;33m.\u001b[0m\u001b[0muse_bias\u001b[0m \u001b[1;33m=\u001b[0m \u001b[0muse_bias\u001b[0m\u001b[1;33m\u001b[0m\u001b[1;33m\u001b[0m\u001b[0m\n",
      "\u001b[1;31mTypeError\u001b[0m: int() argument must be a string, a bytes-like object or a number, not 'Tensor'"
     ]
    }
   ],
   "source": [
    "tf.autograph.set_verbosity(0, False)\n",
    "\n",
    "import time \n",
    "steps_per_eval = 500\n",
    "max_train_steps =  5000\n",
    "batches_for_eval_metrics = 100\n",
    "\n",
    "# used to track metrics\n",
    "steps = []\n",
    "real_logits, fake_logits = [], []\n",
    "real_mnist_scores, mnist_scores, frechet_distances = [], [], []\n",
    "\n",
    "cur_step =  0\n",
    "start_time =  time.time()\n",
    "while cur_step < max_train_steps:\n",
    "    next_step = min(cur_step + steps_per_eval, max_train_steps)\n",
    "    \n",
    "    start = time.time()\n",
    "    gan_estimator.train(input_fn, max_steps=next_step)\n",
    "    steps_taken = next_step - cur_step\n",
    "    time_taken =  time.time() - start\n",
    "    \n",
    "    print(\"Time since start: %.2f min\" %((time.time() - start_time / 60.0)))\n",
    "    print(\"Trained from step %i to %i in %.2f steps / sec\" %(cur_step, next_step, steps_taken / time_taken))\n",
    "cur_step = next_step\n",
    "\n",
    "# calculate some metrics\n",
    "\n",
    "metrics = gan_estimator.evaluate(input_fn, steps=batches_for_eval_metrics)\n",
    "steps.append(cur_step)\n",
    "real_logits.append(metrics[\"real_data_logits\"])\n",
    "fake_logits.append(metrics[\"gen_data_logits\"])\n",
    "real_mnist_scores.append(metrics[\"real_mnist_score\"])\n",
    "mnist_scores.append(metrics[\"frechet_distance\"])\n",
    "print(\"Average discriminator output on Real: %.2f Fake: %.2f %\" % (real_logits[-1], fake_logits[-1]))\n",
    "print(\"Inception Score: %.2f / %.2f Frechet Distance: %.2f\" %(mnist_scores[-1], real_mnist_scores[-1], frechet_distances[-1]))\n"
   ]
  },
  {
   "cell_type": "markdown",
   "metadata": {
    "heading_collapsed": true
   },
   "source": [
    "### GAN in depth"
   ]
  },
  {
   "cell_type": "code",
   "execution_count": 1,
   "metadata": {
    "hidden": true
   },
   "outputs": [],
   "source": [
    "# mean of 4.0 and a standard deviation of 1.25\n",
    "def get_distribution_sampler(mu, sigma):\n",
    "    return lambda n: torch.Tensor(np.random.normal(mu, sigma, (1, n)))"
   ]
  },
  {
   "cell_type": "markdown",
   "metadata": {
    "hidden": true
   },
   "source": [
    "G, the generator is a standard feedforward graph - two hidden layers, three linear maps. The idea is G is going to receive the *uniformly* distributed data samples from *I* and somehow replicate the *normally* distributed samples from R."
   ]
  },
  {
   "cell_type": "code",
   "execution_count": 2,
   "metadata": {
    "hidden": true
   },
   "outputs": [],
   "source": [
    "def get_generator_input_sampler():\n",
    "    return lambda m, n: torch.rand(m, n)"
   ]
  },
  {
   "cell_type": "code",
   "execution_count": null,
   "metadata": {
    "hidden": true
   },
   "outputs": [],
   "source": []
  },
  {
   "cell_type": "code",
   "execution_count": 2,
   "metadata": {
    "hidden": true
   },
   "outputs": [
    {
     "name": "stderr",
     "output_type": "stream",
     "text": [
      "Using TensorFlow backend.\n"
     ]
    },
    {
     "name": "stdout",
     "output_type": "stream",
     "text": [
      "_________________________________________________________________\n",
      "Layer (type)                 Output Shape              Param #   \n",
      "=================================================================\n",
      "flatten_1 (Flatten)          (None, 784)               0         \n",
      "_________________________________________________________________\n",
      "dense_1 (Dense)              (None, 512)               401920    \n",
      "_________________________________________________________________\n",
      "leaky_re_lu_1 (LeakyReLU)    (None, 512)               0         \n",
      "_________________________________________________________________\n",
      "dense_2 (Dense)              (None, 256)               131328    \n",
      "_________________________________________________________________\n",
      "leaky_re_lu_2 (LeakyReLU)    (None, 256)               0         \n",
      "_________________________________________________________________\n",
      "dense_3 (Dense)              (None, 1)                 257       \n",
      "=================================================================\n",
      "Total params: 533,505\n",
      "Trainable params: 533,505\n",
      "Non-trainable params: 0\n",
      "_________________________________________________________________\n",
      "_________________________________________________________________\n",
      "Layer (type)                 Output Shape              Param #   \n",
      "=================================================================\n",
      "dense_4 (Dense)              (None, 256)               25856     \n",
      "_________________________________________________________________\n",
      "leaky_re_lu_3 (LeakyReLU)    (None, 256)               0         \n",
      "_________________________________________________________________\n",
      "batch_normalization_1 (Batch (None, 256)               1024      \n",
      "_________________________________________________________________\n",
      "dense_5 (Dense)              (None, 512)               131584    \n",
      "_________________________________________________________________\n",
      "leaky_re_lu_4 (LeakyReLU)    (None, 512)               0         \n",
      "_________________________________________________________________\n",
      "batch_normalization_2 (Batch (None, 512)               2048      \n",
      "_________________________________________________________________\n",
      "dense_6 (Dense)              (None, 1024)              525312    \n",
      "_________________________________________________________________\n",
      "leaky_re_lu_5 (LeakyReLU)    (None, 1024)              0         \n",
      "_________________________________________________________________\n",
      "batch_normalization_3 (Batch (None, 1024)              4096      \n",
      "_________________________________________________________________\n",
      "dense_7 (Dense)              (None, 784)               803600    \n",
      "_________________________________________________________________\n",
      "reshape_1 (Reshape)          (None, 28, 28, 1)         0         \n",
      "=================================================================\n",
      "Total params: 1,493,520\n",
      "Trainable params: 1,489,936\n",
      "Non-trainable params: 3,584\n",
      "_________________________________________________________________\n",
      "Downloading data from https://s3.amazonaws.com/img-datasets/mnist.npz\n",
      "11493376/11490434 [==============================] - 14s 1us/step\n"
     ]
    },
    {
     "name": "stderr",
     "output_type": "stream",
     "text": [
      "D:\\Usuarios\\rhaps\\Anaconda3\\lib\\site-packages\\keras\\engine\\training.py:490: UserWarning: Discrepancy between trainable weights and collected trainable weights, did you set `model.trainable` without calling `model.compile` after ?\n",
      "  'Discrepancy between trainable weights and collected trainable'\n"
     ]
    },
    {
     "name": "stdout",
     "output_type": "stream",
     "text": [
      "0 [D loss: 0.836386, acc.: 51.56%] [G loss: 0.870476]\n"
     ]
    },
    {
     "ename": "FileNotFoundError",
     "evalue": "[Errno 2] No such file or directory: 'images/0.png'",
     "output_type": "error",
     "traceback": [
      "\u001b[1;31m---------------------------------------------------------------------------\u001b[0m",
      "\u001b[1;31mFileNotFoundError\u001b[0m                         Traceback (most recent call last)",
      "\u001b[1;32m<ipython-input-2-74dcf2b0c332>\u001b[0m in \u001b[0;36m<module>\u001b[1;34m()\u001b[0m\n\u001b[0;32m    158\u001b[0m \u001b[1;32mif\u001b[0m \u001b[0m__name__\u001b[0m \u001b[1;33m==\u001b[0m \u001b[1;34m'__main__'\u001b[0m\u001b[1;33m:\u001b[0m\u001b[1;33m\u001b[0m\u001b[0m\n\u001b[0;32m    159\u001b[0m     \u001b[0mgan\u001b[0m \u001b[1;33m=\u001b[0m \u001b[0mGAN\u001b[0m\u001b[1;33m(\u001b[0m\u001b[1;33m)\u001b[0m\u001b[1;33m\u001b[0m\u001b[0m\n\u001b[1;32m--> 160\u001b[1;33m     \u001b[0mgan\u001b[0m\u001b[1;33m.\u001b[0m\u001b[0mtrain\u001b[0m\u001b[1;33m(\u001b[0m\u001b[0mepochs\u001b[0m\u001b[1;33m=\u001b[0m\u001b[1;36m30000\u001b[0m\u001b[1;33m,\u001b[0m \u001b[0mbatch_size\u001b[0m\u001b[1;33m=\u001b[0m\u001b[1;36m32\u001b[0m\u001b[1;33m,\u001b[0m \u001b[0msample_interval\u001b[0m\u001b[1;33m=\u001b[0m\u001b[1;36m200\u001b[0m\u001b[1;33m)\u001b[0m\u001b[1;33m\u001b[0m\u001b[0m\n\u001b[0m",
      "\u001b[1;32m<ipython-input-2-74dcf2b0c332>\u001b[0m in \u001b[0;36mtrain\u001b[1;34m(self, epochs, batch_size, sample_interval)\u001b[0m\n\u001b[0;32m    135\u001b[0m             \u001b[1;31m# If at save interval => save generated image samples\u001b[0m\u001b[1;33m\u001b[0m\u001b[1;33m\u001b[0m\u001b[0m\n\u001b[0;32m    136\u001b[0m             \u001b[1;32mif\u001b[0m \u001b[0mepoch\u001b[0m \u001b[1;33m%\u001b[0m \u001b[0msample_interval\u001b[0m \u001b[1;33m==\u001b[0m \u001b[1;36m0\u001b[0m\u001b[1;33m:\u001b[0m\u001b[1;33m\u001b[0m\u001b[0m\n\u001b[1;32m--> 137\u001b[1;33m                 \u001b[0mself\u001b[0m\u001b[1;33m.\u001b[0m\u001b[0msample_images\u001b[0m\u001b[1;33m(\u001b[0m\u001b[0mepoch\u001b[0m\u001b[1;33m)\u001b[0m\u001b[1;33m\u001b[0m\u001b[0m\n\u001b[0m\u001b[0;32m    138\u001b[0m \u001b[1;33m\u001b[0m\u001b[0m\n\u001b[0;32m    139\u001b[0m     \u001b[1;32mdef\u001b[0m \u001b[0msample_images\u001b[0m\u001b[1;33m(\u001b[0m\u001b[0mself\u001b[0m\u001b[1;33m,\u001b[0m \u001b[0mepoch\u001b[0m\u001b[1;33m)\u001b[0m\u001b[1;33m:\u001b[0m\u001b[1;33m\u001b[0m\u001b[0m\n",
      "\u001b[1;32m<ipython-input-2-74dcf2b0c332>\u001b[0m in \u001b[0;36msample_images\u001b[1;34m(self, epoch)\u001b[0m\n\u001b[0;32m    152\u001b[0m                 \u001b[0maxs\u001b[0m\u001b[1;33m[\u001b[0m\u001b[0mi\u001b[0m\u001b[1;33m,\u001b[0m\u001b[0mj\u001b[0m\u001b[1;33m]\u001b[0m\u001b[1;33m.\u001b[0m\u001b[0maxis\u001b[0m\u001b[1;33m(\u001b[0m\u001b[1;34m'off'\u001b[0m\u001b[1;33m)\u001b[0m\u001b[1;33m\u001b[0m\u001b[0m\n\u001b[0;32m    153\u001b[0m                 \u001b[0mcnt\u001b[0m \u001b[1;33m+=\u001b[0m \u001b[1;36m1\u001b[0m\u001b[1;33m\u001b[0m\u001b[0m\n\u001b[1;32m--> 154\u001b[1;33m         \u001b[0mfig\u001b[0m\u001b[1;33m.\u001b[0m\u001b[0msavefig\u001b[0m\u001b[1;33m(\u001b[0m\u001b[1;34m\"images/%d.png\"\u001b[0m \u001b[1;33m%\u001b[0m \u001b[0mepoch\u001b[0m\u001b[1;33m)\u001b[0m\u001b[1;33m\u001b[0m\u001b[0m\n\u001b[0m\u001b[0;32m    155\u001b[0m         \u001b[0mplt\u001b[0m\u001b[1;33m.\u001b[0m\u001b[0mclose\u001b[0m\u001b[1;33m(\u001b[0m\u001b[1;33m)\u001b[0m\u001b[1;33m\u001b[0m\u001b[0m\n\u001b[0;32m    156\u001b[0m \u001b[1;33m\u001b[0m\u001b[0m\n",
      "\u001b[1;32m~\\Anaconda3\\lib\\site-packages\\matplotlib\\figure.py\u001b[0m in \u001b[0;36msavefig\u001b[1;34m(self, fname, **kwargs)\u001b[0m\n\u001b[0;32m   2033\u001b[0m             \u001b[0mself\u001b[0m\u001b[1;33m.\u001b[0m\u001b[0mset_frameon\u001b[0m\u001b[1;33m(\u001b[0m\u001b[0mframeon\u001b[0m\u001b[1;33m)\u001b[0m\u001b[1;33m\u001b[0m\u001b[0m\n\u001b[0;32m   2034\u001b[0m \u001b[1;33m\u001b[0m\u001b[0m\n\u001b[1;32m-> 2035\u001b[1;33m         \u001b[0mself\u001b[0m\u001b[1;33m.\u001b[0m\u001b[0mcanvas\u001b[0m\u001b[1;33m.\u001b[0m\u001b[0mprint_figure\u001b[0m\u001b[1;33m(\u001b[0m\u001b[0mfname\u001b[0m\u001b[1;33m,\u001b[0m \u001b[1;33m**\u001b[0m\u001b[0mkwargs\u001b[0m\u001b[1;33m)\u001b[0m\u001b[1;33m\u001b[0m\u001b[0m\n\u001b[0m\u001b[0;32m   2036\u001b[0m \u001b[1;33m\u001b[0m\u001b[0m\n\u001b[0;32m   2037\u001b[0m         \u001b[1;32mif\u001b[0m \u001b[0mframeon\u001b[0m\u001b[1;33m:\u001b[0m\u001b[1;33m\u001b[0m\u001b[0m\n",
      "\u001b[1;32m~\\Anaconda3\\lib\\site-packages\\matplotlib\\backend_bases.py\u001b[0m in \u001b[0;36mprint_figure\u001b[1;34m(self, filename, dpi, facecolor, edgecolor, orientation, format, **kwargs)\u001b[0m\n\u001b[0;32m   2261\u001b[0m                 \u001b[0morientation\u001b[0m\u001b[1;33m=\u001b[0m\u001b[0morientation\u001b[0m\u001b[1;33m,\u001b[0m\u001b[1;33m\u001b[0m\u001b[0m\n\u001b[0;32m   2262\u001b[0m                 \u001b[0mbbox_inches_restore\u001b[0m\u001b[1;33m=\u001b[0m\u001b[0m_bbox_inches_restore\u001b[0m\u001b[1;33m,\u001b[0m\u001b[1;33m\u001b[0m\u001b[0m\n\u001b[1;32m-> 2263\u001b[1;33m                 **kwargs)\n\u001b[0m\u001b[0;32m   2264\u001b[0m         \u001b[1;32mfinally\u001b[0m\u001b[1;33m:\u001b[0m\u001b[1;33m\u001b[0m\u001b[0m\n\u001b[0;32m   2265\u001b[0m             \u001b[1;32mif\u001b[0m \u001b[0mbbox_inches\u001b[0m \u001b[1;32mand\u001b[0m \u001b[0mrestore_bbox\u001b[0m\u001b[1;33m:\u001b[0m\u001b[1;33m\u001b[0m\u001b[0m\n",
      "\u001b[1;32m~\\Anaconda3\\lib\\site-packages\\matplotlib\\backends\\backend_agg.py\u001b[0m in \u001b[0;36mprint_png\u001b[1;34m(self, filename_or_obj, *args, **kwargs)\u001b[0m\n\u001b[0;32m    524\u001b[0m \u001b[1;33m\u001b[0m\u001b[0m\n\u001b[0;32m    525\u001b[0m         \u001b[1;32mtry\u001b[0m\u001b[1;33m:\u001b[0m\u001b[1;33m\u001b[0m\u001b[0m\n\u001b[1;32m--> 526\u001b[1;33m             \u001b[1;32mwith\u001b[0m \u001b[0mcbook\u001b[0m\u001b[1;33m.\u001b[0m\u001b[0mopen_file_cm\u001b[0m\u001b[1;33m(\u001b[0m\u001b[0mfilename_or_obj\u001b[0m\u001b[1;33m,\u001b[0m \u001b[1;34m\"wb\"\u001b[0m\u001b[1;33m)\u001b[0m \u001b[1;32mas\u001b[0m \u001b[0mfh\u001b[0m\u001b[1;33m:\u001b[0m\u001b[1;33m\u001b[0m\u001b[0m\n\u001b[0m\u001b[0;32m    527\u001b[0m                 _png.write_png(renderer._renderer, fh,\n\u001b[0;32m    528\u001b[0m                                self.figure.dpi, metadata=metadata)\n",
      "\u001b[1;32m~\\Anaconda3\\lib\\contextlib.py\u001b[0m in \u001b[0;36m__enter__\u001b[1;34m(self)\u001b[0m\n\u001b[0;32m     79\u001b[0m     \u001b[1;32mdef\u001b[0m \u001b[0m__enter__\u001b[0m\u001b[1;33m(\u001b[0m\u001b[0mself\u001b[0m\u001b[1;33m)\u001b[0m\u001b[1;33m:\u001b[0m\u001b[1;33m\u001b[0m\u001b[0m\n\u001b[0;32m     80\u001b[0m         \u001b[1;32mtry\u001b[0m\u001b[1;33m:\u001b[0m\u001b[1;33m\u001b[0m\u001b[0m\n\u001b[1;32m---> 81\u001b[1;33m             \u001b[1;32mreturn\u001b[0m \u001b[0mnext\u001b[0m\u001b[1;33m(\u001b[0m\u001b[0mself\u001b[0m\u001b[1;33m.\u001b[0m\u001b[0mgen\u001b[0m\u001b[1;33m)\u001b[0m\u001b[1;33m\u001b[0m\u001b[0m\n\u001b[0m\u001b[0;32m     82\u001b[0m         \u001b[1;32mexcept\u001b[0m \u001b[0mStopIteration\u001b[0m\u001b[1;33m:\u001b[0m\u001b[1;33m\u001b[0m\u001b[0m\n\u001b[0;32m     83\u001b[0m             \u001b[1;32mraise\u001b[0m \u001b[0mRuntimeError\u001b[0m\u001b[1;33m(\u001b[0m\u001b[1;34m\"generator didn't yield\"\u001b[0m\u001b[1;33m)\u001b[0m \u001b[1;32mfrom\u001b[0m \u001b[1;32mNone\u001b[0m\u001b[1;33m\u001b[0m\u001b[0m\n",
      "\u001b[1;32m~\\Anaconda3\\lib\\site-packages\\matplotlib\\cbook\\__init__.py\u001b[0m in \u001b[0;36mopen_file_cm\u001b[1;34m(path_or_file, mode, encoding)\u001b[0m\n\u001b[0;32m    622\u001b[0m \u001b[1;32mdef\u001b[0m \u001b[0mopen_file_cm\u001b[0m\u001b[1;33m(\u001b[0m\u001b[0mpath_or_file\u001b[0m\u001b[1;33m,\u001b[0m \u001b[0mmode\u001b[0m\u001b[1;33m=\u001b[0m\u001b[1;34m\"r\"\u001b[0m\u001b[1;33m,\u001b[0m \u001b[0mencoding\u001b[0m\u001b[1;33m=\u001b[0m\u001b[1;32mNone\u001b[0m\u001b[1;33m)\u001b[0m\u001b[1;33m:\u001b[0m\u001b[1;33m\u001b[0m\u001b[0m\n\u001b[0;32m    623\u001b[0m     \u001b[1;34mr\"\"\"Pass through file objects and context-manage `.PathLike`\\s.\"\"\"\u001b[0m\u001b[1;33m\u001b[0m\u001b[0m\n\u001b[1;32m--> 624\u001b[1;33m     \u001b[0mfh\u001b[0m\u001b[1;33m,\u001b[0m \u001b[0mopened\u001b[0m \u001b[1;33m=\u001b[0m \u001b[0mto_filehandle\u001b[0m\u001b[1;33m(\u001b[0m\u001b[0mpath_or_file\u001b[0m\u001b[1;33m,\u001b[0m \u001b[0mmode\u001b[0m\u001b[1;33m,\u001b[0m \u001b[1;32mTrue\u001b[0m\u001b[1;33m,\u001b[0m \u001b[0mencoding\u001b[0m\u001b[1;33m)\u001b[0m\u001b[1;33m\u001b[0m\u001b[0m\n\u001b[0m\u001b[0;32m    625\u001b[0m     \u001b[1;32mif\u001b[0m \u001b[0mopened\u001b[0m\u001b[1;33m:\u001b[0m\u001b[1;33m\u001b[0m\u001b[0m\n\u001b[0;32m    626\u001b[0m         \u001b[1;32mwith\u001b[0m \u001b[0mfh\u001b[0m\u001b[1;33m:\u001b[0m\u001b[1;33m\u001b[0m\u001b[0m\n",
      "\u001b[1;32m~\\Anaconda3\\lib\\site-packages\\matplotlib\\cbook\\__init__.py\u001b[0m in \u001b[0;36mto_filehandle\u001b[1;34m(fname, flag, return_opened, encoding)\u001b[0m\n\u001b[0;32m    607\u001b[0m             \u001b[0mfh\u001b[0m \u001b[1;33m=\u001b[0m \u001b[0mbz2\u001b[0m\u001b[1;33m.\u001b[0m\u001b[0mBZ2File\u001b[0m\u001b[1;33m(\u001b[0m\u001b[0mfname\u001b[0m\u001b[1;33m,\u001b[0m \u001b[0mflag\u001b[0m\u001b[1;33m)\u001b[0m\u001b[1;33m\u001b[0m\u001b[0m\n\u001b[0;32m    608\u001b[0m         \u001b[1;32melse\u001b[0m\u001b[1;33m:\u001b[0m\u001b[1;33m\u001b[0m\u001b[0m\n\u001b[1;32m--> 609\u001b[1;33m             \u001b[0mfh\u001b[0m \u001b[1;33m=\u001b[0m \u001b[0mio\u001b[0m\u001b[1;33m.\u001b[0m\u001b[0mopen\u001b[0m\u001b[1;33m(\u001b[0m\u001b[0mfname\u001b[0m\u001b[1;33m,\u001b[0m \u001b[0mflag\u001b[0m\u001b[1;33m,\u001b[0m \u001b[0mencoding\u001b[0m\u001b[1;33m=\u001b[0m\u001b[0mencoding\u001b[0m\u001b[1;33m)\u001b[0m\u001b[1;33m\u001b[0m\u001b[0m\n\u001b[0m\u001b[0;32m    610\u001b[0m         \u001b[0mopened\u001b[0m \u001b[1;33m=\u001b[0m \u001b[1;32mTrue\u001b[0m\u001b[1;33m\u001b[0m\u001b[0m\n\u001b[0;32m    611\u001b[0m     \u001b[1;32melif\u001b[0m \u001b[0mhasattr\u001b[0m\u001b[1;33m(\u001b[0m\u001b[0mfname\u001b[0m\u001b[1;33m,\u001b[0m \u001b[1;34m'seek'\u001b[0m\u001b[1;33m)\u001b[0m\u001b[1;33m:\u001b[0m\u001b[1;33m\u001b[0m\u001b[0m\n",
      "\u001b[1;31mFileNotFoundError\u001b[0m: [Errno 2] No such file or directory: 'images/0.png'"
     ]
    }
   ],
   "source": [
    "from keras.datasets import mnist\n",
    "from keras.layers import Input, Dense, Reshape, Flatten, Dropout\n",
    "from keras.layers import BatchNormalization, Activation, ZeroPadding2D\n",
    "from keras.layers.advanced_activations import LeakyReLU\n",
    "from keras.layers.convolutional import UpSampling2D, Conv2D\n",
    "from keras.models import Sequential, Model\n",
    "from keras.optimizers import Adam\n",
    "\n",
    "import matplotlib.pyplot as plt\n",
    "\n",
    "import sys\n",
    "\n",
    "import numpy as np\n",
    "\n",
    "class GAN():\n",
    "    def __init__(self):\n",
    "        self.img_rows = 28\n",
    "        self.img_cols = 28\n",
    "        self.channels = 1\n",
    "        self.img_shape = (self.img_rows, self.img_cols, self.channels)\n",
    "        self.latent_dim = 100\n",
    "\n",
    "        optimizer = Adam(0.0002, 0.5)\n",
    "\n",
    "        # Build and compile the discriminator\n",
    "        self.discriminator = self.build_discriminator()\n",
    "        self.discriminator.compile(loss='binary_crossentropy',\n",
    "            optimizer=optimizer,\n",
    "            metrics=['accuracy'])\n",
    "\n",
    "        # Build the generator\n",
    "        self.generator = self.build_generator()\n",
    "\n",
    "        # The generator takes noise as input and generates imgs\n",
    "        z = Input(shape=(self.latent_dim,))\n",
    "        img = self.generator(z)\n",
    "\n",
    "        # For the combined model we will only train the generator\n",
    "        self.discriminator.trainable = False\n",
    "\n",
    "        # The discriminator takes generated images as input and determines validity\n",
    "        validity = self.discriminator(img)\n",
    "\n",
    "        # The combined model  (stacked generator and discriminator)\n",
    "        # Trains the generator to fool the discriminator\n",
    "        self.combined = Model(z, validity)\n",
    "        self.combined.compile(loss='binary_crossentropy', optimizer=optimizer)\n",
    "\n",
    "\n",
    "    def build_generator(self):\n",
    "\n",
    "        model = Sequential()\n",
    "\n",
    "        model.add(Dense(256, input_dim=self.latent_dim))\n",
    "        model.add(LeakyReLU(alpha=0.2))\n",
    "        model.add(BatchNormalization(momentum=0.8))\n",
    "        model.add(Dense(512))\n",
    "        model.add(LeakyReLU(alpha=0.2))\n",
    "        model.add(BatchNormalization(momentum=0.8))\n",
    "        model.add(Dense(1024))\n",
    "        model.add(LeakyReLU(alpha=0.2))\n",
    "        model.add(BatchNormalization(momentum=0.8))\n",
    "        model.add(Dense(np.prod(self.img_shape), activation='tanh'))\n",
    "        model.add(Reshape(self.img_shape))\n",
    "\n",
    "        model.summary()\n",
    "\n",
    "        noise = Input(shape=(self.latent_dim,))\n",
    "        img = model(noise)\n",
    "\n",
    "        return Model(noise, img)\n",
    "\n",
    "    def build_discriminator(self):\n",
    "\n",
    "        model = Sequential()\n",
    "\n",
    "        model.add(Flatten(input_shape=self.img_shape))\n",
    "        model.add(Dense(512))\n",
    "        model.add(LeakyReLU(alpha=0.2))\n",
    "        model.add(Dense(256))\n",
    "        model.add(LeakyReLU(alpha=0.2))\n",
    "        model.add(Dense(1, activation='sigmoid'))\n",
    "        model.summary()\n",
    "\n",
    "        img = Input(shape=self.img_shape)\n",
    "        validity = model(img)\n",
    "\n",
    "        return Model(img, validity)\n",
    "\n",
    "    def train(self, epochs, batch_size=128, sample_interval=50):\n",
    "\n",
    "        # Load the dataset\n",
    "        (X_train, _), (_, _) = mnist.load_data()\n",
    "\n",
    "        # Rescale -1 to 1\n",
    "        X_train = X_train / 127.5 - 1.\n",
    "        X_train = np.expand_dims(X_train, axis=3)\n",
    "\n",
    "        # Adversarial ground truths\n",
    "        valid = np.ones((batch_size, 1))\n",
    "        fake = np.zeros((batch_size, 1))\n",
    "\n",
    "        for epoch in range(epochs):\n",
    "\n",
    "            # ---------------------\n",
    "            #  Train Discriminator\n",
    "            # ---------------------\n",
    "\n",
    "            # Select a random batch of images\n",
    "            idx = np.random.randint(0, X_train.shape[0], batch_size)\n",
    "            imgs = X_train[idx]\n",
    "\n",
    "            noise = np.random.normal(0, 1, (batch_size, self.latent_dim))\n",
    "\n",
    "            # Generate a batch of new images\n",
    "            gen_imgs = self.generator.predict(noise)\n",
    "\n",
    "            # Train the discriminator\n",
    "            d_loss_real = self.discriminator.train_on_batch(imgs, valid)\n",
    "            d_loss_fake = self.discriminator.train_on_batch(gen_imgs, fake)\n",
    "            d_loss = 0.5 * np.add(d_loss_real, d_loss_fake)\n",
    "\n",
    "            # ---------------------\n",
    "            #  Train Generator\n",
    "            # ---------------------\n",
    "\n",
    "            noise = np.random.normal(0, 1, (batch_size, self.latent_dim))\n",
    "\n",
    "            # Train the generator (to have the discriminator label samples as valid)\n",
    "            g_loss = self.combined.train_on_batch(noise, valid)\n",
    "\n",
    "            # Plot the progress\n",
    "            print (\"%d [D loss: %f, acc.: %.2f%%] [G loss: %f]\" % (epoch, d_loss[0], 100*d_loss[1], g_loss))\n",
    "\n",
    "            # If at save interval => save generated image samples\n",
    "            if epoch % sample_interval == 0:\n",
    "                self.sample_images(epoch)\n",
    "\n",
    "    def sample_images(self, epoch):\n",
    "        r, c = 5, 5\n",
    "        noise = np.random.normal(0, 1, (r * c, self.latent_dim))\n",
    "        gen_imgs = self.generator.predict(noise)\n",
    "\n",
    "        # Rescale images 0 - 1\n",
    "        gen_imgs = 0.5 * gen_imgs + 0.5\n",
    "\n",
    "        fig, axs = plt.subplots(r, c)\n",
    "        cnt = 0\n",
    "        for i in range(r):\n",
    "            for j in range(c):\n",
    "                axs[i,j].imshow(gen_imgs[cnt, :,:,0], cmap='gray')\n",
    "                axs[i,j].axis('off')\n",
    "                cnt += 1\n",
    "        fig.savefig(\"images/%d.png\" % epoch)\n",
    "        plt.close()\n",
    "\n",
    "\n",
    "if __name__ == '__main__':\n",
    "    gan = GAN()\n",
    "    gan.train(epochs=30000, batch_size=32, sample_interval=200)"
   ]
  },
  {
   "cell_type": "markdown",
   "metadata": {},
   "source": [
    "## Conditional GAN\n",
    "\n",
    "\n",
    "This approach [6] \n",
    "\n",
    "https://machinelearningmastery.com/how-to-develop-a-conditional-generative-adversarial-network-from-scratch/"
   ]
  },
  {
   "cell_type": "markdown",
   "metadata": {},
   "source": [
    "another"
   ]
  },
  {
   "cell_type": "code",
   "execution_count": 12,
   "metadata": {},
   "outputs": [
    {
     "ename": "ImportError",
     "evalue": "DLL load failed: No se puede encontrar el módulo especificado.",
     "output_type": "error",
     "traceback": [
      "\u001b[1;31m---------------------------------------------------------------------------\u001b[0m",
      "\u001b[1;31mImportError\u001b[0m                               Traceback (most recent call last)",
      "\u001b[1;32m<ipython-input-12-a109adcd3909>\u001b[0m in \u001b[0;36m<module>\u001b[1;34m\u001b[0m\n\u001b[0;32m      4\u001b[0m \u001b[1;32mimport\u001b[0m \u001b[0mmath\u001b[0m\u001b[1;33m\u001b[0m\u001b[1;33m\u001b[0m\u001b[0m\n\u001b[0;32m      5\u001b[0m \u001b[1;33m\u001b[0m\u001b[0m\n\u001b[1;32m----> 6\u001b[1;33m \u001b[1;32mimport\u001b[0m \u001b[0mtorchvision\u001b[0m\u001b[1;33m.\u001b[0m\u001b[0mtransforms\u001b[0m \u001b[1;32mas\u001b[0m \u001b[0mtransforms\u001b[0m\u001b[1;33m\u001b[0m\u001b[1;33m\u001b[0m\u001b[0m\n\u001b[0m\u001b[0;32m      7\u001b[0m \u001b[1;32mfrom\u001b[0m \u001b[0mtorchvision\u001b[0m\u001b[1;33m.\u001b[0m\u001b[0mutils\u001b[0m \u001b[1;32mimport\u001b[0m \u001b[0msave_image\u001b[0m\u001b[1;33m\u001b[0m\u001b[1;33m\u001b[0m\u001b[0m\n\u001b[0;32m      8\u001b[0m \u001b[1;33m\u001b[0m\u001b[0m\n",
      "\u001b[1;32m~\\Anaconda3\\lib\\site-packages\\torchvision\\__init__.py\u001b[0m in \u001b[0;36m<module>\u001b[1;34m\u001b[0m\n\u001b[1;32m----> 1\u001b[1;33m \u001b[1;32mfrom\u001b[0m \u001b[0mtorchvision\u001b[0m \u001b[1;32mimport\u001b[0m \u001b[0mmodels\u001b[0m\u001b[1;33m\u001b[0m\u001b[1;33m\u001b[0m\u001b[0m\n\u001b[0m\u001b[0;32m      2\u001b[0m \u001b[1;32mfrom\u001b[0m \u001b[0mtorchvision\u001b[0m \u001b[1;32mimport\u001b[0m \u001b[0mdatasets\u001b[0m\u001b[1;33m\u001b[0m\u001b[1;33m\u001b[0m\u001b[0m\n\u001b[0;32m      3\u001b[0m \u001b[1;32mfrom\u001b[0m \u001b[0mtorchvision\u001b[0m \u001b[1;32mimport\u001b[0m \u001b[0mops\u001b[0m\u001b[1;33m\u001b[0m\u001b[1;33m\u001b[0m\u001b[0m\n\u001b[0;32m      4\u001b[0m \u001b[1;32mfrom\u001b[0m \u001b[0mtorchvision\u001b[0m \u001b[1;32mimport\u001b[0m \u001b[0mtransforms\u001b[0m\u001b[1;33m\u001b[0m\u001b[1;33m\u001b[0m\u001b[0m\n\u001b[0;32m      5\u001b[0m \u001b[1;32mfrom\u001b[0m \u001b[0mtorchvision\u001b[0m \u001b[1;32mimport\u001b[0m \u001b[0mutils\u001b[0m\u001b[1;33m\u001b[0m\u001b[1;33m\u001b[0m\u001b[0m\n",
      "\u001b[1;32m~\\Anaconda3\\lib\\site-packages\\torchvision\\models\\__init__.py\u001b[0m in \u001b[0;36m<module>\u001b[1;34m\u001b[0m\n\u001b[0;32m      9\u001b[0m \u001b[1;32mfrom\u001b[0m \u001b[1;33m.\u001b[0m\u001b[0mshufflenetv2\u001b[0m \u001b[1;32mimport\u001b[0m \u001b[1;33m*\u001b[0m\u001b[1;33m\u001b[0m\u001b[1;33m\u001b[0m\u001b[0m\n\u001b[0;32m     10\u001b[0m \u001b[1;32mfrom\u001b[0m \u001b[1;33m.\u001b[0m \u001b[1;32mimport\u001b[0m \u001b[0msegmentation\u001b[0m\u001b[1;33m\u001b[0m\u001b[1;33m\u001b[0m\u001b[0m\n\u001b[1;32m---> 11\u001b[1;33m \u001b[1;32mfrom\u001b[0m \u001b[1;33m.\u001b[0m \u001b[1;32mimport\u001b[0m \u001b[0mdetection\u001b[0m\u001b[1;33m\u001b[0m\u001b[1;33m\u001b[0m\u001b[0m\n\u001b[0m",
      "\u001b[1;32m~\\Anaconda3\\lib\\site-packages\\torchvision\\models\\detection\\__init__.py\u001b[0m in \u001b[0;36m<module>\u001b[1;34m\u001b[0m\n\u001b[1;32m----> 1\u001b[1;33m \u001b[1;32mfrom\u001b[0m \u001b[1;33m.\u001b[0m\u001b[0mfaster_rcnn\u001b[0m \u001b[1;32mimport\u001b[0m \u001b[1;33m*\u001b[0m\u001b[1;33m\u001b[0m\u001b[1;33m\u001b[0m\u001b[0m\n\u001b[0m\u001b[0;32m      2\u001b[0m \u001b[1;32mfrom\u001b[0m \u001b[1;33m.\u001b[0m\u001b[0mmask_rcnn\u001b[0m \u001b[1;32mimport\u001b[0m \u001b[1;33m*\u001b[0m\u001b[1;33m\u001b[0m\u001b[1;33m\u001b[0m\u001b[0m\n\u001b[0;32m      3\u001b[0m \u001b[1;32mfrom\u001b[0m \u001b[1;33m.\u001b[0m\u001b[0mkeypoint_rcnn\u001b[0m \u001b[1;32mimport\u001b[0m \u001b[1;33m*\u001b[0m\u001b[1;33m\u001b[0m\u001b[1;33m\u001b[0m\u001b[0m\n",
      "\u001b[1;32m~\\Anaconda3\\lib\\site-packages\\torchvision\\models\\detection\\faster_rcnn.py\u001b[0m in \u001b[0;36m<module>\u001b[1;34m\u001b[0m\n\u001b[0;32m      5\u001b[0m \u001b[1;32mimport\u001b[0m \u001b[0mtorch\u001b[0m\u001b[1;33m.\u001b[0m\u001b[0mnn\u001b[0m\u001b[1;33m.\u001b[0m\u001b[0mfunctional\u001b[0m \u001b[1;32mas\u001b[0m \u001b[0mF\u001b[0m\u001b[1;33m\u001b[0m\u001b[1;33m\u001b[0m\u001b[0m\n\u001b[0;32m      6\u001b[0m \u001b[1;33m\u001b[0m\u001b[0m\n\u001b[1;32m----> 7\u001b[1;33m \u001b[1;32mfrom\u001b[0m \u001b[0mtorchvision\u001b[0m\u001b[1;33m.\u001b[0m\u001b[0mops\u001b[0m \u001b[1;32mimport\u001b[0m \u001b[0mmisc\u001b[0m \u001b[1;32mas\u001b[0m \u001b[0mmisc_nn_ops\u001b[0m\u001b[1;33m\u001b[0m\u001b[1;33m\u001b[0m\u001b[0m\n\u001b[0m\u001b[0;32m      8\u001b[0m \u001b[1;32mfrom\u001b[0m \u001b[0mtorchvision\u001b[0m\u001b[1;33m.\u001b[0m\u001b[0mops\u001b[0m \u001b[1;32mimport\u001b[0m \u001b[0mMultiScaleRoIAlign\u001b[0m\u001b[1;33m\u001b[0m\u001b[1;33m\u001b[0m\u001b[0m\n\u001b[0;32m      9\u001b[0m \u001b[1;33m\u001b[0m\u001b[0m\n",
      "\u001b[1;32m~\\Anaconda3\\lib\\site-packages\\torchvision\\ops\\__init__.py\u001b[0m in \u001b[0;36m<module>\u001b[1;34m\u001b[0m\n\u001b[1;32m----> 1\u001b[1;33m \u001b[1;32mfrom\u001b[0m \u001b[1;33m.\u001b[0m\u001b[0mboxes\u001b[0m \u001b[1;32mimport\u001b[0m \u001b[0mnms\u001b[0m\u001b[1;33m,\u001b[0m \u001b[0mbox_iou\u001b[0m\u001b[1;33m\u001b[0m\u001b[1;33m\u001b[0m\u001b[0m\n\u001b[0m\u001b[0;32m      2\u001b[0m \u001b[1;32mfrom\u001b[0m \u001b[1;33m.\u001b[0m\u001b[0mroi_align\u001b[0m \u001b[1;32mimport\u001b[0m \u001b[0mroi_align\u001b[0m\u001b[1;33m,\u001b[0m \u001b[0mRoIAlign\u001b[0m\u001b[1;33m\u001b[0m\u001b[1;33m\u001b[0m\u001b[0m\n\u001b[0;32m      3\u001b[0m \u001b[1;32mfrom\u001b[0m \u001b[1;33m.\u001b[0m\u001b[0mroi_pool\u001b[0m \u001b[1;32mimport\u001b[0m \u001b[0mroi_pool\u001b[0m\u001b[1;33m,\u001b[0m \u001b[0mRoIPool\u001b[0m\u001b[1;33m\u001b[0m\u001b[1;33m\u001b[0m\u001b[0m\n\u001b[0;32m      4\u001b[0m \u001b[1;32mfrom\u001b[0m \u001b[1;33m.\u001b[0m\u001b[0mpoolers\u001b[0m \u001b[1;32mimport\u001b[0m \u001b[0mMultiScaleRoIAlign\u001b[0m\u001b[1;33m\u001b[0m\u001b[1;33m\u001b[0m\u001b[0m\n\u001b[0;32m      5\u001b[0m \u001b[1;32mfrom\u001b[0m \u001b[1;33m.\u001b[0m\u001b[0mfeature_pyramid_network\u001b[0m \u001b[1;32mimport\u001b[0m \u001b[0mFeaturePyramidNetwork\u001b[0m\u001b[1;33m\u001b[0m\u001b[1;33m\u001b[0m\u001b[0m\n",
      "\u001b[1;32m~\\Anaconda3\\lib\\site-packages\\torchvision\\ops\\boxes.py\u001b[0m in \u001b[0;36m<module>\u001b[1;34m\u001b[0m\n\u001b[0;32m      1\u001b[0m \u001b[1;32mimport\u001b[0m \u001b[0mtorch\u001b[0m\u001b[1;33m\u001b[0m\u001b[1;33m\u001b[0m\u001b[0m\n\u001b[1;32m----> 2\u001b[1;33m \u001b[1;32mfrom\u001b[0m \u001b[0mtorchvision\u001b[0m \u001b[1;32mimport\u001b[0m \u001b[0m_C\u001b[0m\u001b[1;33m\u001b[0m\u001b[1;33m\u001b[0m\u001b[0m\n\u001b[0m\u001b[0;32m      3\u001b[0m \u001b[1;33m\u001b[0m\u001b[0m\n\u001b[0;32m      4\u001b[0m \u001b[1;33m\u001b[0m\u001b[0m\n\u001b[0;32m      5\u001b[0m \u001b[1;32mdef\u001b[0m \u001b[0mnms\u001b[0m\u001b[1;33m(\u001b[0m\u001b[0mboxes\u001b[0m\u001b[1;33m,\u001b[0m \u001b[0mscores\u001b[0m\u001b[1;33m,\u001b[0m \u001b[0miou_threshold\u001b[0m\u001b[1;33m)\u001b[0m\u001b[1;33m:\u001b[0m\u001b[1;33m\u001b[0m\u001b[1;33m\u001b[0m\u001b[0m\n",
      "\u001b[1;31mImportError\u001b[0m: DLL load failed: No se puede encontrar el módulo especificado."
     ]
    }
   ],
   "source": [
    "import argparse\n",
    "import os\n",
    "import numpy as np\n",
    "import math\n",
    "\n",
    "import torchvision.transforms as transforms\n",
    "from torchvision.utils import save_image\n",
    "\n",
    "from torch.utils.data import DataLoader\n",
    "from torchvision import datasets\n",
    "from torch.autograd import Variable\n",
    "\n",
    "import torch.nn as nn\n",
    "import torch.nn.functional as F\n",
    "import torch\n",
    "\n",
    "os.makedirs(\"images\", exist_ok=True)\n",
    "\n",
    "parser = argparse.ArgumentParser()\n",
    "parser.add_argument(\"--n_epochs\", type=int, default=200, help=\"number of epochs of training\")\n",
    "parser.add_argument(\"--batch_size\", type=int, default=64, help=\"size of the batches\")\n",
    "parser.add_argument(\"--lr\", type=float, default=0.0002, help=\"adam: learning rate\")\n",
    "parser.add_argument(\"--b1\", type=float, default=0.5, help=\"adam: decay of first order momentum of gradient\")\n",
    "parser.add_argument(\"--b2\", type=float, default=0.999, help=\"adam: decay of first order momentum of gradient\")\n",
    "parser.add_argument(\"--n_cpu\", type=int, default=8, help=\"number of cpu threads to use during batch generation\")\n",
    "parser.add_argument(\"--latent_dim\", type=int, default=100, help=\"dimensionality of the latent space\")\n",
    "parser.add_argument(\"--n_classes\", type=int, default=10, help=\"number of classes for dataset\")\n",
    "parser.add_argument(\"--img_size\", type=int, default=32, help=\"size of each image dimension\")\n",
    "parser.add_argument(\"--channels\", type=int, default=1, help=\"number of image channels\")\n",
    "parser.add_argument(\"--sample_interval\", type=int, default=400, help=\"interval between image sampling\")\n",
    "opt = parser.parse_args()\n",
    "print(opt)\n",
    "\n",
    "img_shape = (opt.channels, opt.img_size, opt.img_size)\n",
    "\n",
    "cuda = True if torch.cuda.is_available() else False\n",
    "\n",
    "\n",
    "class Generator(nn.Module):\n",
    "    def __init__(self):\n",
    "        super(Generator, self).__init__()\n",
    "\n",
    "        self.label_emb = nn.Embedding(opt.n_classes, opt.n_classes)\n",
    "\n",
    "        def block(in_feat, out_feat, normalize=True):\n",
    "            layers = [nn.Linear(in_feat, out_feat)]\n",
    "            if normalize:\n",
    "                layers.append(nn.BatchNorm1d(out_feat, 0.8))\n",
    "            layers.append(nn.LeakyReLU(0.2, inplace=True))\n",
    "            return layers\n",
    "\n",
    "        self.model = nn.Sequential(\n",
    "            *block(opt.latent_dim + opt.n_classes, 128, normalize=False),\n",
    "            *block(128, 256),\n",
    "            *block(256, 512),\n",
    "            *block(512, 1024),\n",
    "            nn.Linear(1024, int(np.prod(img_shape))),\n",
    "            nn.Tanh()\n",
    "        )\n",
    "\n",
    "    def forward(self, noise, labels):\n",
    "        # Concatenate label embedding and image to produce input\n",
    "        gen_input = torch.cat((self.label_emb(labels), noise), -1)\n",
    "        img = self.model(gen_input)\n",
    "        img = img.view(img.size(0), *img_shape)\n",
    "        return img\n",
    "\n",
    "\n",
    "class Discriminator(nn.Module):\n",
    "    def __init__(self):\n",
    "        super(Discriminator, self).__init__()\n",
    "\n",
    "        self.label_embedding = nn.Embedding(opt.n_classes, opt.n_classes)\n",
    "\n",
    "        self.model = nn.Sequential(\n",
    "            nn.Linear(opt.n_classes + int(np.prod(img_shape)), 512),\n",
    "            nn.LeakyReLU(0.2, inplace=True),\n",
    "            nn.Linear(512, 512),\n",
    "            nn.Dropout(0.4),\n",
    "            nn.LeakyReLU(0.2, inplace=True),\n",
    "            nn.Linear(512, 512),\n",
    "            nn.Dropout(0.4),\n",
    "            nn.LeakyReLU(0.2, inplace=True),\n",
    "            nn.Linear(512, 1),\n",
    "        )\n",
    "\n",
    "    def forward(self, img, labels):\n",
    "        # Concatenate label embedding and image to produce input\n",
    "        d_in = torch.cat((img.view(img.size(0), -1), self.label_embedding(labels)), -1)\n",
    "        validity = self.model(d_in)\n",
    "        return validity\n",
    "\n",
    "\n",
    "# Loss functions\n",
    "adversarial_loss = torch.nn.MSELoss()\n",
    "\n",
    "# Initialize generator and discriminator\n",
    "generator = Generator()\n",
    "discriminator = Discriminator()\n",
    "\n",
    "if cuda:\n",
    "    generator.cuda()\n",
    "    discriminator.cuda()\n",
    "    adversarial_loss.cuda()\n",
    "\n",
    "# Configure data loader\n",
    "os.makedirs(\"../../data/mnist\", exist_ok=True)\n",
    "dataloader = torch.utils.data.DataLoader(\n",
    "    datasets.MNIST(\n",
    "        \"../../data/mnist\",\n",
    "        train=True,\n",
    "        download=True,\n",
    "        transform=transforms.Compose(\n",
    "            [transforms.Resize(opt.img_size), transforms.ToTensor(), transforms.Normalize([0.5], [0.5])]\n",
    "        ),\n",
    "    ),\n",
    "    batch_size=opt.batch_size,\n",
    "    shuffle=True,\n",
    ")\n",
    "\n",
    "# Optimizers\n",
    "optimizer_G = torch.optim.Adam(generator.parameters(), lr=opt.lr, betas=(opt.b1, opt.b2))\n",
    "optimizer_D = torch.optim.Adam(discriminator.parameters(), lr=opt.lr, betas=(opt.b1, opt.b2))\n",
    "\n",
    "FloatTensor = torch.cuda.FloatTensor if cuda else torch.FloatTensor\n",
    "LongTensor = torch.cuda.LongTensor if cuda else torch.LongTensor\n",
    "\n",
    "\n",
    "def sample_image(n_row, batches_done):\n",
    "    \"\"\"Saves a grid of generated digits ranging from 0 to n_classes\"\"\"\n",
    "    # Sample noise\n",
    "    z = Variable(FloatTensor(np.random.normal(0, 1, (n_row ** 2, opt.latent_dim))))\n",
    "    # Get labels ranging from 0 to n_classes for n rows\n",
    "    labels = np.array([num for _ in range(n_row) for num in range(n_row)])\n",
    "    labels = Variable(LongTensor(labels))\n",
    "    gen_imgs = generator(z, labels)\n",
    "    save_image(gen_imgs.data, \"images/%d.png\" % batches_done, nrow=n_row, normalize=True)\n",
    "\n",
    "\n",
    "# ----------\n",
    "#  Training\n",
    "# ----------\n",
    "\n",
    "for epoch in range(opt.n_epochs):\n",
    "    for i, (imgs, labels) in enumerate(dataloader):\n",
    "\n",
    "        batch_size = imgs.shape[0]\n",
    "\n",
    "        # Adversarial ground truths\n",
    "        valid = Variable(FloatTensor(batch_size, 1).fill_(1.0), requires_grad=False)\n",
    "        fake = Variable(FloatTensor(batch_size, 1).fill_(0.0), requires_grad=False)\n",
    "\n",
    "        # Configure input\n",
    "        real_imgs = Variable(imgs.type(FloatTensor))\n",
    "        labels = Variable(labels.type(LongTensor))\n",
    "\n",
    "        # -----------------\n",
    "        #  Train Generator\n",
    "        # -----------------\n",
    "\n",
    "        optimizer_G.zero_grad()\n",
    "\n",
    "        # Sample noise and labels as generator input\n",
    "        z = Variable(FloatTensor(np.random.normal(0, 1, (batch_size, opt.latent_dim))))\n",
    "        gen_labels = Variable(LongTensor(np.random.randint(0, opt.n_classes, batch_size)))\n",
    "\n",
    "        # Generate a batch of images\n",
    "        gen_imgs = generator(z, gen_labels)\n",
    "\n",
    "        # Loss measures generator's ability to fool the discriminator\n",
    "        validity = discriminator(gen_imgs, gen_labels)\n",
    "        g_loss = adversarial_loss(validity, valid)\n",
    "\n",
    "        g_loss.backward()\n",
    "        optimizer_G.step()\n",
    "\n",
    "        # ---------------------\n",
    "        #  Train Discriminator\n",
    "        # ---------------------\n",
    "\n",
    "        optimizer_D.zero_grad()\n",
    "\n",
    "        # Loss for real images\n",
    "        validity_real = discriminator(real_imgs, labels)\n",
    "        d_real_loss = adversarial_loss(validity_real, valid)\n",
    "\n",
    "        # Loss for fake images\n",
    "        validity_fake = discriminator(gen_imgs.detach(), gen_labels)\n",
    "        d_fake_loss = adversarial_loss(validity_fake, fake)\n",
    "\n",
    "        # Total discriminator loss\n",
    "        d_loss = (d_real_loss + d_fake_loss) / 2\n",
    "\n",
    "        d_loss.backward()\n",
    "        optimizer_D.step()\n",
    "\n",
    "        print(\n",
    "            \"[Epoch %d/%d] [Batch %d/%d] [D loss: %f] [G loss: %f]\"\n",
    "            % (epoch, opt.n_epochs, i, len(dataloader), d_loss.item(), g_loss.item())\n",
    "        )\n",
    "\n",
    "        batches_done = epoch * len(dataloader) + i\n",
    "        if batches_done % opt.sample_interval == 0:\n",
    "            sample_image(n_row=10, batches_done=batches_done)"
   ]
  },
  {
   "cell_type": "markdown",
   "metadata": {},
   "source": [
    "## DCGAN\n",
    "\n"
   ]
  },
  {
   "cell_type": "markdown",
   "metadata": {},
   "source": [
    "\n",
    "The next example is published in [8], where the idea is to use GAN in a set of celebrities photos."
   ]
  },
  {
   "cell_type": "markdown",
   "metadata": {},
   "source": [
    "*Libraries*"
   ]
  },
  {
   "cell_type": "code",
   "execution_count": 1,
   "metadata": {},
   "outputs": [],
   "source": [
    "from __future__ import print_function\n",
    "#%matplotlib inline\n",
    "import argparse\n",
    "import os\n",
    "import random\n",
    "import torch\n",
    "import torch.nn as nn\n",
    "import torch.nn.parallel\n",
    "import torch.backends.cudnn as cudnn\n",
    "import torch.optim as optim\n",
    "import torch.utils.data\n",
    "import torchvision.datasets as dset\n",
    "import torchvision.transforms as transforms\n",
    "import torchvision.utils as vutils\n",
    "import numpy as np\n",
    "import matplotlib.pyplot as plt\n",
    "import matplotlib.animation as animation\n",
    "from IPython.display import HTML"
   ]
  },
  {
   "cell_type": "code",
   "execution_count": 2,
   "metadata": {},
   "outputs": [
    {
     "name": "stdout",
     "output_type": "stream",
     "text": [
      "Random Seed:  999\n"
     ]
    },
    {
     "data": {
      "text/plain": [
       "<torch._C.Generator at 0x19431413fb0>"
      ]
     },
     "execution_count": 2,
     "metadata": {},
     "output_type": "execute_result"
    }
   ],
   "source": [
    "manualSeed = 999\n",
    "print(\"Random Seed: \", manualSeed)\n",
    "random.seed(manualSeed)\n",
    "torch.manual_seed(manualSeed)"
   ]
  },
  {
   "cell_type": "code",
   "execution_count": 3,
   "metadata": {},
   "outputs": [],
   "source": [
    "dataroot = \"data/celeba\"\n",
    "workers = 2\n",
    "batch_size = 128\n",
    "# Spatial size of training images. All images will be resized to this size using a transformer\n",
    "image_size = 64\n",
    "# number of channels in the training images. For color images this is 3\n",
    "nc = 3\n",
    "# size of z latent vector (i.e size of generator input)\n",
    "# nz = 100"
   ]
  },
  {
   "cell_type": "markdown",
   "metadata": {},
   "source": [
    "*Loading the data*"
   ]
  },
  {
   "cell_type": "code",
   "execution_count": null,
   "metadata": {},
   "outputs": [],
   "source": []
  },
  {
   "cell_type": "code",
   "execution_count": null,
   "metadata": {},
   "outputs": [],
   "source": []
  },
  {
   "cell_type": "code",
   "execution_count": null,
   "metadata": {},
   "outputs": [],
   "source": []
  },
  {
   "cell_type": "markdown",
   "metadata": {},
   "source": [
    "## MNIST\n",
    "\n",
    "The next examples was taken from [11] where the idea is to use GAN for make fake data from MNIST."
   ]
  },
  {
   "cell_type": "markdown",
   "metadata": {},
   "source": [
    "*packages*"
   ]
  },
  {
   "cell_type": "code",
   "execution_count": 2,
   "metadata": {},
   "outputs": [],
   "source": [
    "%matplotlib inline\n",
    "\n",
    "import numpy as np\n",
    "import torch\n",
    "import matplotlib.pyplot as plt"
   ]
  },
  {
   "cell_type": "markdown",
   "metadata": {},
   "source": [
    "*loading the data*"
   ]
  },
  {
   "cell_type": "code",
   "execution_count": 4,
   "metadata": {},
   "outputs": [],
   "source": [
    "from torchvision import datasets\n",
    "import torchvision.transforms as transforms\n",
    "\n",
    "# subprocess to use for data loading\n",
    "workers = 0\n",
    "# how many samples per batch to load\n",
    "batch_size = 64\n",
    "transform = transforms.ToTensor()\n",
    "train_data = datasets.MNIST(root=\"data\", train=True, download=True, transform= transform)\n",
    "\n",
    "# prepare data loader\n",
    "train_loader = torch.utils.data.DataLoader(train_data, batch_size=batch_size, num_workers=workers)"
   ]
  },
  {
   "cell_type": "markdown",
   "metadata": {},
   "source": [
    "*Visualize the data*"
   ]
  },
  {
   "cell_type": "code",
   "execution_count": 8,
   "metadata": {},
   "outputs": [
    {
     "data": {
      "text/plain": [
       "<matplotlib.image.AxesImage at 0x276c67fab00>"
      ]
     },
     "execution_count": 8,
     "metadata": {},
     "output_type": "execute_result"
    },
    {
     "data": {
      "image/png": "[encoded data removed]",
      "text/plain": [
       "<Figure size 216x216 with 1 Axes>"
      ]
     },
     "metadata": {
      "needs_background": "light"
     },
     "output_type": "display_data"
    }
   ],
   "source": [
    "digit = iter(train_loader)\n",
    "images, labels = digit.next()\n",
    "images = images.numpy()\n",
    "img = np.squeeze(images[0])\n",
    "\n",
    "fig = plt.figure(figsize=(3,3))\n",
    "ax = fig.add_subplot(111)\n",
    "ax.imshow(img, cmap=\"gray\")"
   ]
  },
  {
   "cell_type": "markdown",
   "metadata": {},
   "source": [
    "*Defining the model*\n",
    "\n",
    "Our descriminator network is going to be a typical linear classifier, all hidden layers will have a Leaky ReLu activation function [10] applied to their outputs, according to [11] we should have the next schema for defining a model:\n",
    "+ in the first layer, we need to flatten the image\n",
    "+ define the structure of all hidden linear layers\n",
    "+ add a dropout layer to avoid overfitting\n",
    "+ once the hidden structure was done we must propose the fully-connected layer"
   ]
  },
  {
   "cell_type": "markdown",
   "metadata": {},
   "source": [
    "__Discrimator__"
   ]
  },
  {
   "cell_type": "code",
   "execution_count": 26,
   "metadata": {},
   "outputs": [],
   "source": [
    "import torch.nn as nn\n",
    "import torch.nn.functional as F\n",
    "\n",
    "\n",
    "class Discriminator(nn.Module):\n",
    "    \n",
    "    def __init__(self, input_size, hidden_dim, output_size):\n",
    "        super(Discriminator, self).__init__()\n",
    "        \n",
    "        # define hidden linear layers\n",
    "        self.fc1 = nn.Linear(input_size, hidden_dim*4)\n",
    "        self.fc2 = nn.Linear(hidden_dim*4, hidden_dim*2)\n",
    "        self.fc3 = nn.Linear(hidden_dim*2, hidden_dim)\n",
    "        \n",
    "        # final fully-connected layer\n",
    "        self.fc4 = nn.Linear(hidden_dim, output_size)\n",
    "        \n",
    "        # dropout layer\n",
    "        self.dropout = nn.Dropout(0.3)\n",
    "        \n",
    "    def forward(self, x):\n",
    "        # flatten image\n",
    "        x = x.view(-1, 28*28)\n",
    "        # all hidden layers\n",
    "        x = F.leaky_relu(self.fc1(x), 0.2) # (input, negative_slope=0.2)\n",
    "        x = self.dropout(x)\n",
    "        x = F.leaky_relu(self.fc2(x), 0.2)\n",
    "        x = self.dropout(x)\n",
    "        x = F.leaky_relu(self.fc3(x), 0.2)\n",
    "        x = self.dropout(x)\n",
    "        # final layer\n",
    "        out = self.fc4(x)\n",
    "        \n",
    "        return out"
   ]
  },
  {
   "cell_type": "markdown",
   "metadata": {},
   "source": [
    "**Generator**\n",
    "\n",
    "This is similar like the discrimator with a difference that it uses a tanh activation function to our output layer, where the idea is scales the output between -1 and 1. According to [11], the next is the structure for our generator model. \n",
    "+ It is a part to define all hidden linear layers\n",
    "+ Once the hidden part was defined so the idea is to connect it with a fully-connected layer\n",
    "+ add a dropout layer to avoid the overfitting\n",
    "+ in the last layer the idea is applying a tanh function."
   ]
  },
  {
   "cell_type": "code",
   "execution_count": 30,
   "metadata": {},
   "outputs": [],
   "source": [
    "class Generator(nn.Module):\n",
    "    \n",
    "    def __init__(self, input_size, hidden_dim, output_size):\n",
    "        super(Generator, self).__init__()\n",
    "        \n",
    "        # define hidden linear layers\n",
    "        self.fc1 = nn.Linear(input_size, hidden_dim)\n",
    "        self.fc2 = nn.Linear(hidden_dim, hidden_dim*2)\n",
    "        self.fc3 = nn.Linear(hidden_dim*2, hidden_dim*4)\n",
    "        \n",
    "        # final fully-connected layer\n",
    "        self.fc4 = nn.Linear(hidden_dim*4, output_size)\n",
    "        \n",
    "        # dropout layer\n",
    "        self.dropout = nn.Dropout(0.3)\n",
    "    \n",
    "    def forward(self, x):\n",
    "        x = F.leaky_relu(self.fc1(x), 0.2)\n",
    "        x = self.dropout(x)\n",
    "        x = F.leaky_relu(self.fc2(x), 0.2)\n",
    "        x = self.dropout(x)\n",
    "        x = F.leaky_relu(self.fc3(x), 0.2)\n",
    "        x = self.dropout(x)\n",
    "        # final layer with tanh applied\n",
    "        out = F.tanh(self.fc4(x))\n",
    "        return out "
   ]
  },
  {
   "cell_type": "markdown",
   "metadata": {},
   "source": [
    "**Model hyperparameters**\n",
    "\n",
    "This a good part to experiment\n",
    "1. Size of the input image to descriminator (28*28=784)\n",
    "2. Size of descriminator output (real or fake)\n",
    "3. Size of last hidden layer in the discriminator\n",
    "4. Size of latent vector to give to the generator\n",
    "5. Size of discriminator output (generated image)\n",
    "6. Size of first hidden layer in the generator"
   ]
  },
  {
   "cell_type": "code",
   "execution_count": 31,
   "metadata": {},
   "outputs": [],
   "source": [
    "# Dicrimnator hyperparams\n",
    "\n",
    "# Size of input image to discrimator (28*28)\n",
    "input_size = 784\n",
    "# Size of discriminator output (real or fake)\n",
    "d_output_size = 1\n",
    "# Size of last hidden layer in the discriminator\n",
    "d_hidden_size = 32\n",
    "\n",
    "# Generator hyperparams\n",
    "\n",
    "# Size of latent vector to give to generator\n",
    "z_size = 100\n",
    "# Size of discrimator output (generated image)\n",
    "g_output_size = 784\n",
    "# Size of first hidden layer in generator\n",
    "g_hidden_size = 32"
   ]
  },
  {
   "cell_type": "markdown",
   "metadata": {},
   "source": [
    "*Let's build the complete network*"
   ]
  },
  {
   "cell_type": "code",
   "execution_count": 32,
   "metadata": {},
   "outputs": [],
   "source": [
    "# insstantiate discriminator and generator \n",
    "D = Discriminator(input_size, d_hidden_size, d_output_size)\n",
    "G = Generator(z_size, g_hidden_size, g_output_size)"
   ]
  },
  {
   "cell_type": "code",
   "execution_count": 33,
   "metadata": {},
   "outputs": [
    {
     "name": "stdout",
     "output_type": "stream",
     "text": [
      "Discriminator(\n",
      "  (fc1): Linear(in_features=784, out_features=128, bias=True)\n",
      "  (fc2): Linear(in_features=128, out_features=64, bias=True)\n",
      "  (fc3): Linear(in_features=64, out_features=32, bias=True)\n",
      "  (fc4): Linear(in_features=32, out_features=1, bias=True)\n",
      "  (dropout): Dropout(p=0.3, inplace=False)\n",
      ")\n",
      "Generator(\n",
      "  (fc1): Linear(in_features=100, out_features=32, bias=True)\n",
      "  (fc2): Linear(in_features=32, out_features=64, bias=True)\n",
      "  (fc3): Linear(in_features=64, out_features=128, bias=True)\n",
      "  (fc4): Linear(in_features=128, out_features=784, bias=True)\n",
      "  (dropout): Dropout(p=0.3, inplace=False)\n",
      ")\n"
     ]
    }
   ],
   "source": [
    "print(D)\n",
    "print(G)"
   ]
  },
  {
   "cell_type": "markdown",
   "metadata": {},
   "source": [
    "**Defining losses**\n",
    "\n",
    "+ *For the discriminator*, the total loss is the sum of the losses for real and fake \n",
    "\n",
    "$ \\text{image}, \\text{d_loss}= \\text{d_real_loss} + \\text{d_fake_loss} $\n",
    "\n",
    "+ For this case we want the descriminator to output 1 for real images and 0 for fake images, so we need to set up the losses to reflect that. \n",
    "\n",
    "+ The generator loss will look similar only with flipped labels. The generator's goal is to get D(fake_image)=1\n"
   ]
  },
  {
   "cell_type": "code",
   "execution_count": 34,
   "metadata": {},
   "outputs": [],
   "source": [
    "# Calculate losses\n",
    "def real_loss(D_out, smooth=False):\n",
    "    batch_size = D_out.size(0)\n",
    "    # label smoothing\n",
    "    if smooth:\n",
    "    # smooth, real labels = 0.9\n",
    "        labels = torch.ones(batch_size) * 0.9\n",
    "    else:\n",
    "        labels = torch.ones(batch_size) # real labels = 1\n",
    "        \n",
    "    # numerically stable loss\n",
    "    criterion = nn.BCEWithLogitsLoss()\n",
    "    # calculate loss\n",
    "    loss = criterion(D_out.squeeze(), labels)\n",
    "    return loss\n",
    "\n",
    "def fake_loss(D_out):\n",
    "    batch_size = D_out.size(0)\n",
    "    labels = torch.zeros(batch_size) # fake labels = 0\n",
    "    criterion = nn.BCEWithLogitsLoss()\n",
    "    # calculate loss\n",
    "    loss = criterion(D_out.squeeze(), labels)\n",
    "    return loss\n"
   ]
  },
  {
   "cell_type": "markdown",
   "metadata": {},
   "source": [
    "**Optimizers**\n",
    "\n",
    "The idea is to update the generator and discriminator variables individually"
   ]
  },
  {
   "cell_type": "code",
   "execution_count": 38,
   "metadata": {},
   "outputs": [],
   "source": [
    "import torch.optim as optim \n",
    "\n",
    "# Optimizers\n",
    "\n",
    "lr = 0.002 \n",
    "\n",
    "# Create optimizers for the discriminator and generator\n",
    "d_optimizer = optim.Adam(D.parameters(), lr)\n",
    "g_optimizer = optim.Adam(G.parameters(), lr)"
   ]
  },
  {
   "cell_type": "markdown",
   "metadata": {},
   "source": [
    "**Training**\n",
    "\n",
    "These are the activities in both neural networks.\n",
    "\n",
    "*Discriminator training*\n",
    "1. Compute the discriminator loss on real, training images\n",
    "2. Generate fake images\n",
    "3. Compute the discriminator loss on fake, generated images.\n",
    "4. Add up the real and fake losses\n",
    "5. Perform backpropagation + an optimization step to update the descriminator's weights\n",
    "\n",
    "*Generator training*\n",
    "1. Generate fake images\n",
    "2. Compute the discriminator loss on fake images, using *Flipped* labels\n",
    "3. Perform backpropagation + an optimization step to update the discriminato's weights. \n"
   ]
  },
  {
   "cell_type": "code",
   "execution_count": 42,
   "metadata": {},
   "outputs": [
    {
     "name": "stdout",
     "output_type": "stream",
     "text": [
      "Epoch [    1/  100] | d_loss: 0.7146 | g_loss: 4.3246\n",
      "Epoch [    1/  100] | d_loss: 1.2395 | g_loss: 1.1246\n",
      "Epoch [    1/  100] | d_loss: 1.2407 | g_loss: 0.9284\n",
      "Epoch [    2/  100] | d_loss: 1.1805 | g_loss: 0.9175\n",
      "Epoch [    2/  100] | d_loss: 0.9218 | g_loss: 1.4583\n",
      "Epoch [    2/  100] | d_loss: 1.0773 | g_loss: 1.9413\n",
      "Epoch [    3/  100] | d_loss: 1.0598 | g_loss: 1.7568\n",
      "Epoch [    3/  100] | d_loss: 1.0221 | g_loss: 1.4647\n",
      "Epoch [    3/  100] | d_loss: 1.0479 | g_loss: 1.5988\n",
      "Epoch [    4/  100] | d_loss: 1.1669 | g_loss: 2.0837\n",
      "Epoch [    4/  100] | d_loss: 0.8550 | g_loss: 2.1305\n",
      "Epoch [    4/  100] | d_loss: 1.2312 | g_loss: 1.0901\n",
      "Epoch [    5/  100] | d_loss: 1.1259 | g_loss: 1.1048\n",
      "Epoch [    5/  100] | d_loss: 0.9413 | g_loss: 1.2967\n",
      "Epoch [    5/  100] | d_loss: 1.1337 | g_loss: 1.1700\n",
      "Epoch [    6/  100] | d_loss: 1.1484 | g_loss: 1.2350\n",
      "Epoch [    6/  100] | d_loss: 1.1403 | g_loss: 1.3754\n",
      "Epoch [    6/  100] | d_loss: 1.0789 | g_loss: 1.5001\n",
      "Epoch [    7/  100] | d_loss: 1.2959 | g_loss: 1.2421\n",
      "Epoch [    7/  100] | d_loss: 1.0273 | g_loss: 1.6177\n",
      "Epoch [    7/  100] | d_loss: 1.2165 | g_loss: 0.9488\n",
      "Epoch [    8/  100] | d_loss: 1.2294 | g_loss: 1.0005\n",
      "Epoch [    8/  100] | d_loss: 1.1647 | g_loss: 1.5554\n",
      "Epoch [    8/  100] | d_loss: 1.2026 | g_loss: 1.0132\n",
      "Epoch [    9/  100] | d_loss: 1.4402 | g_loss: 1.1513\n",
      "Epoch [    9/  100] | d_loss: 1.2062 | g_loss: 2.0942\n",
      "Epoch [    9/  100] | d_loss: 1.2215 | g_loss: 1.2740\n",
      "Epoch [   10/  100] | d_loss: 1.1026 | g_loss: 1.5116\n",
      "Epoch [   10/  100] | d_loss: 1.2304 | g_loss: 1.3226\n",
      "Epoch [   10/  100] | d_loss: 1.4335 | g_loss: 0.9648\n",
      "Epoch [   11/  100] | d_loss: 1.2451 | g_loss: 1.2156\n",
      "Epoch [   11/  100] | d_loss: 1.1838 | g_loss: 1.1269\n",
      "Epoch [   11/  100] | d_loss: 1.2868 | g_loss: 0.9930\n",
      "Epoch [   12/  100] | d_loss: 1.3073 | g_loss: 1.1530\n",
      "Epoch [   12/  100] | d_loss: 1.2723 | g_loss: 1.1139\n",
      "Epoch [   12/  100] | d_loss: 1.2562 | g_loss: 1.3281\n",
      "Epoch [   13/  100] | d_loss: 1.3178 | g_loss: 1.1226\n",
      "Epoch [   13/  100] | d_loss: 1.2456 | g_loss: 0.9600\n",
      "Epoch [   13/  100] | d_loss: 1.1065 | g_loss: 1.1718\n",
      "Epoch [   14/  100] | d_loss: 1.2438 | g_loss: 1.0419\n",
      "Epoch [   14/  100] | d_loss: 1.2081 | g_loss: 1.4414\n",
      "Epoch [   14/  100] | d_loss: 1.3678 | g_loss: 0.8824\n",
      "Epoch [   15/  100] | d_loss: 1.3475 | g_loss: 1.1070\n",
      "Epoch [   15/  100] | d_loss: 1.2525 | g_loss: 0.9119\n",
      "Epoch [   15/  100] | d_loss: 1.2340 | g_loss: 0.9506\n",
      "Epoch [   16/  100] | d_loss: 1.2689 | g_loss: 1.0227\n",
      "Epoch [   16/  100] | d_loss: 1.2473 | g_loss: 1.2752\n",
      "Epoch [   16/  100] | d_loss: 1.1409 | g_loss: 1.7336\n",
      "Epoch [   17/  100] | d_loss: 1.2967 | g_loss: 1.0365\n",
      "Epoch [   17/  100] | d_loss: 1.2983 | g_loss: 1.0379\n",
      "Epoch [   17/  100] | d_loss: 1.1894 | g_loss: 1.2020\n",
      "Epoch [   18/  100] | d_loss: 1.3133 | g_loss: 0.8325\n",
      "Epoch [   18/  100] | d_loss: 1.1490 | g_loss: 1.7207\n",
      "Epoch [   18/  100] | d_loss: 1.2294 | g_loss: 1.0608\n",
      "Epoch [   19/  100] | d_loss: 1.1914 | g_loss: 1.1266\n",
      "Epoch [   19/  100] | d_loss: 1.2688 | g_loss: 0.9806\n",
      "Epoch [   19/  100] | d_loss: 1.2957 | g_loss: 1.1946\n",
      "Epoch [   20/  100] | d_loss: 1.1283 | g_loss: 1.5267\n",
      "Epoch [   20/  100] | d_loss: 1.2069 | g_loss: 1.0216\n",
      "Epoch [   20/  100] | d_loss: 1.2895 | g_loss: 0.9873\n",
      "Epoch [   21/  100] | d_loss: 1.3255 | g_loss: 0.9649\n",
      "Epoch [   21/  100] | d_loss: 1.1849 | g_loss: 1.2746\n",
      "Epoch [   21/  100] | d_loss: 1.2658 | g_loss: 1.2559\n",
      "Epoch [   22/  100] | d_loss: 1.2208 | g_loss: 1.3611\n",
      "Epoch [   22/  100] | d_loss: 1.2409 | g_loss: 0.9814\n",
      "Epoch [   22/  100] | d_loss: 1.3961 | g_loss: 0.8631\n",
      "Epoch [   23/  100] | d_loss: 1.3310 | g_loss: 1.0079\n",
      "Epoch [   23/  100] | d_loss: 1.2634 | g_loss: 0.8537\n",
      "Epoch [   23/  100] | d_loss: 1.3867 | g_loss: 0.8825\n",
      "Epoch [   24/  100] | d_loss: 1.2900 | g_loss: 1.1488\n",
      "Epoch [   24/  100] | d_loss: 1.1028 | g_loss: 1.2736\n",
      "Epoch [   24/  100] | d_loss: 1.3552 | g_loss: 0.8551\n",
      "Epoch [   25/  100] | d_loss: 1.3397 | g_loss: 1.0826\n",
      "Epoch [   25/  100] | d_loss: 1.1736 | g_loss: 1.2584\n",
      "Epoch [   25/  100] | d_loss: 1.3188 | g_loss: 1.0423\n",
      "Epoch [   26/  100] | d_loss: 1.2909 | g_loss: 1.0323\n",
      "Epoch [   26/  100] | d_loss: 1.2481 | g_loss: 0.9380\n",
      "Epoch [   26/  100] | d_loss: 1.3459 | g_loss: 0.9541\n",
      "Epoch [   27/  100] | d_loss: 1.2827 | g_loss: 1.0424\n",
      "Epoch [   27/  100] | d_loss: 1.2733 | g_loss: 1.1784\n",
      "Epoch [   27/  100] | d_loss: 1.3055 | g_loss: 1.1730\n",
      "Epoch [   28/  100] | d_loss: 1.2919 | g_loss: 1.0012\n",
      "Epoch [   28/  100] | d_loss: 1.1307 | g_loss: 1.4080\n",
      "Epoch [   28/  100] | d_loss: 1.3591 | g_loss: 1.0784\n",
      "Epoch [   29/  100] | d_loss: 1.2722 | g_loss: 1.1261\n",
      "Epoch [   29/  100] | d_loss: 1.1857 | g_loss: 1.1013\n",
      "Epoch [   29/  100] | d_loss: 1.4027 | g_loss: 1.2786\n",
      "Epoch [   30/  100] | d_loss: 1.3758 | g_loss: 1.1803\n",
      "Epoch [   30/  100] | d_loss: 1.2778 | g_loss: 0.9802\n",
      "Epoch [   30/  100] | d_loss: 1.2293 | g_loss: 0.9546\n",
      "Epoch [   31/  100] | d_loss: 1.2759 | g_loss: 1.0319\n",
      "Epoch [   31/  100] | d_loss: 1.2582 | g_loss: 1.0398\n",
      "Epoch [   31/  100] | d_loss: 1.3118 | g_loss: 0.9981\n",
      "Epoch [   32/  100] | d_loss: 1.3216 | g_loss: 1.2369\n",
      "Epoch [   32/  100] | d_loss: 1.3227 | g_loss: 0.9518\n",
      "Epoch [   32/  100] | d_loss: 1.1905 | g_loss: 1.6010\n",
      "Epoch [   33/  100] | d_loss: 1.2065 | g_loss: 1.2456\n",
      "Epoch [   33/  100] | d_loss: 1.2193 | g_loss: 1.2528\n",
      "Epoch [   33/  100] | d_loss: 1.4037 | g_loss: 0.9098\n",
      "Epoch [   34/  100] | d_loss: 1.3029 | g_loss: 0.9291\n",
      "Epoch [   34/  100] | d_loss: 1.3224 | g_loss: 0.9543\n",
      "Epoch [   34/  100] | d_loss: 1.3224 | g_loss: 0.9806\n",
      "Epoch [   35/  100] | d_loss: 1.2529 | g_loss: 1.3776\n",
      "Epoch [   35/  100] | d_loss: 1.2684 | g_loss: 0.8164\n",
      "Epoch [   35/  100] | d_loss: 1.2729 | g_loss: 1.1957\n",
      "Epoch [   36/  100] | d_loss: 1.4131 | g_loss: 1.0043\n",
      "Epoch [   36/  100] | d_loss: 1.2540 | g_loss: 0.9824\n",
      "Epoch [   36/  100] | d_loss: 1.3256 | g_loss: 1.3222\n",
      "Epoch [   37/  100] | d_loss: 1.4357 | g_loss: 1.3099\n",
      "Epoch [   37/  100] | d_loss: 1.2501 | g_loss: 1.3592\n",
      "Epoch [   37/  100] | d_loss: 1.3038 | g_loss: 0.9536\n",
      "Epoch [   38/  100] | d_loss: 1.2546 | g_loss: 0.9639\n",
      "Epoch [   38/  100] | d_loss: 1.2342 | g_loss: 0.9849\n",
      "Epoch [   38/  100] | d_loss: 1.4257 | g_loss: 1.0186\n",
      "Epoch [   39/  100] | d_loss: 1.3571 | g_loss: 1.0366\n",
      "Epoch [   39/  100] | d_loss: 1.1679 | g_loss: 1.1899\n",
      "Epoch [   39/  100] | d_loss: 1.4092 | g_loss: 1.0108\n",
      "Epoch [   40/  100] | d_loss: 1.3798 | g_loss: 1.1030\n",
      "Epoch [   40/  100] | d_loss: 1.3237 | g_loss: 0.8399\n",
      "Epoch [   40/  100] | d_loss: 1.2851 | g_loss: 0.9649\n",
      "Epoch [   41/  100] | d_loss: 1.2708 | g_loss: 1.1783\n",
      "Epoch [   41/  100] | d_loss: 1.2774 | g_loss: 0.9853\n",
      "Epoch [   41/  100] | d_loss: 1.3694 | g_loss: 1.3875\n",
      "Epoch [   42/  100] | d_loss: 1.3798 | g_loss: 0.9445\n",
      "Epoch [   42/  100] | d_loss: 1.3246 | g_loss: 0.9452\n",
      "Epoch [   42/  100] | d_loss: 1.2720 | g_loss: 1.3931\n",
      "Epoch [   43/  100] | d_loss: 1.3108 | g_loss: 0.8788\n",
      "Epoch [   43/  100] | d_loss: 1.3103 | g_loss: 1.0062\n",
      "Epoch [   43/  100] | d_loss: 1.2394 | g_loss: 1.2607\n",
      "Epoch [   44/  100] | d_loss: 1.3888 | g_loss: 0.8322\n",
      "Epoch [   44/  100] | d_loss: 1.2208 | g_loss: 1.0746\n",
      "Epoch [   44/  100] | d_loss: 1.3505 | g_loss: 0.9966\n",
      "Epoch [   45/  100] | d_loss: 1.2857 | g_loss: 1.1711\n",
      "Epoch [   45/  100] | d_loss: 1.2480 | g_loss: 1.0441\n",
      "Epoch [   45/  100] | d_loss: 1.2521 | g_loss: 1.1116\n",
      "Epoch [   46/  100] | d_loss: 1.3405 | g_loss: 1.8699\n",
      "Epoch [   46/  100] | d_loss: 1.3121 | g_loss: 1.2985\n",
      "Epoch [   46/  100] | d_loss: 1.3688 | g_loss: 0.9987\n",
      "Epoch [   47/  100] | d_loss: 1.2642 | g_loss: 1.3358\n",
      "Epoch [   47/  100] | d_loss: 1.2199 | g_loss: 1.1655\n",
      "Epoch [   47/  100] | d_loss: 1.2932 | g_loss: 1.2501\n",
      "Epoch [   48/  100] | d_loss: 1.3042 | g_loss: 0.9908\n",
      "Epoch [   48/  100] | d_loss: 1.2612 | g_loss: 1.1323\n",
      "Epoch [   48/  100] | d_loss: 1.2368 | g_loss: 1.3628\n",
      "Epoch [   49/  100] | d_loss: 1.2542 | g_loss: 1.2217\n",
      "Epoch [   49/  100] | d_loss: 1.2186 | g_loss: 1.0422\n",
      "Epoch [   49/  100] | d_loss: 1.3322 | g_loss: 1.0687\n",
      "Epoch [   50/  100] | d_loss: 1.2239 | g_loss: 1.1679\n",
      "Epoch [   50/  100] | d_loss: 1.2735 | g_loss: 0.8466\n",
      "Epoch [   50/  100] | d_loss: 1.3879 | g_loss: 0.9804\n",
      "Epoch [   51/  100] | d_loss: 1.2460 | g_loss: 1.3867\n"
     ]
    },
    {
     "name": "stdout",
     "output_type": "stream",
     "text": [
      "Epoch [   51/  100] | d_loss: 1.2706 | g_loss: 1.0002\n",
      "Epoch [   51/  100] | d_loss: 1.3138 | g_loss: 1.0970\n",
      "Epoch [   52/  100] | d_loss: 1.3370 | g_loss: 1.3761\n",
      "Epoch [   52/  100] | d_loss: 1.2694 | g_loss: 0.9111\n",
      "Epoch [   52/  100] | d_loss: 1.3135 | g_loss: 1.0140\n",
      "Epoch [   53/  100] | d_loss: 1.2966 | g_loss: 1.0670\n",
      "Epoch [   53/  100] | d_loss: 1.2978 | g_loss: 1.4016\n",
      "Epoch [   53/  100] | d_loss: 1.4365 | g_loss: 0.9385\n",
      "Epoch [   54/  100] | d_loss: 1.2724 | g_loss: 1.2135\n",
      "Epoch [   54/  100] | d_loss: 1.2587 | g_loss: 0.9908\n",
      "Epoch [   54/  100] | d_loss: 1.3468 | g_loss: 0.9362\n",
      "Epoch [   55/  100] | d_loss: 1.2858 | g_loss: 1.2967\n",
      "Epoch [   55/  100] | d_loss: 1.2309 | g_loss: 1.3042\n",
      "Epoch [   55/  100] | d_loss: 1.3122 | g_loss: 0.8082\n",
      "Epoch [   56/  100] | d_loss: 1.2385 | g_loss: 1.1046\n",
      "Epoch [   56/  100] | d_loss: 1.3074 | g_loss: 0.8959\n",
      "Epoch [   56/  100] | d_loss: 1.4599 | g_loss: 0.9599\n",
      "Epoch [   57/  100] | d_loss: 1.3181 | g_loss: 1.1717\n",
      "Epoch [   57/  100] | d_loss: 1.2936 | g_loss: 0.8999\n",
      "Epoch [   57/  100] | d_loss: 1.3279 | g_loss: 0.9135\n",
      "Epoch [   58/  100] | d_loss: 1.2275 | g_loss: 1.4481\n",
      "Epoch [   58/  100] | d_loss: 1.1727 | g_loss: 1.0637\n",
      "Epoch [   58/  100] | d_loss: 1.3597 | g_loss: 0.9566\n",
      "Epoch [   59/  100] | d_loss: 1.2162 | g_loss: 1.1796\n",
      "Epoch [   59/  100] | d_loss: 1.2689 | g_loss: 1.0777\n",
      "Epoch [   59/  100] | d_loss: 1.3235 | g_loss: 1.1382\n",
      "Epoch [   60/  100] | d_loss: 1.2498 | g_loss: 0.9071\n",
      "Epoch [   60/  100] | d_loss: 1.2070 | g_loss: 1.0481\n",
      "Epoch [   60/  100] | d_loss: 1.4009 | g_loss: 1.1163\n",
      "Epoch [   61/  100] | d_loss: 1.2458 | g_loss: 0.9871\n",
      "Epoch [   61/  100] | d_loss: 1.3443 | g_loss: 1.0259\n",
      "Epoch [   61/  100] | d_loss: 1.3553 | g_loss: 0.9461\n",
      "Epoch [   62/  100] | d_loss: 1.2547 | g_loss: 0.9491\n",
      "Epoch [   62/  100] | d_loss: 1.3568 | g_loss: 0.9051\n",
      "Epoch [   62/  100] | d_loss: 1.3616 | g_loss: 0.8829\n",
      "Epoch [   63/  100] | d_loss: 1.2494 | g_loss: 1.0460\n",
      "Epoch [   63/  100] | d_loss: 1.2367 | g_loss: 1.0427\n",
      "Epoch [   63/  100] | d_loss: 1.2919 | g_loss: 0.9924\n",
      "Epoch [   64/  100] | d_loss: 1.2301 | g_loss: 0.8381\n",
      "Epoch [   64/  100] | d_loss: 1.3232 | g_loss: 1.1181\n",
      "Epoch [   64/  100] | d_loss: 1.3068 | g_loss: 1.0202\n",
      "Epoch [   65/  100] | d_loss: 1.2147 | g_loss: 1.1640\n",
      "Epoch [   65/  100] | d_loss: 1.3131 | g_loss: 0.9914\n",
      "Epoch [   65/  100] | d_loss: 1.4428 | g_loss: 1.1583\n",
      "Epoch [   66/  100] | d_loss: 1.2303 | g_loss: 0.8956\n",
      "Epoch [   66/  100] | d_loss: 1.2315 | g_loss: 1.3007\n",
      "Epoch [   66/  100] | d_loss: 1.5215 | g_loss: 1.0676\n",
      "Epoch [   67/  100] | d_loss: 1.3611 | g_loss: 1.0206\n",
      "Epoch [   67/  100] | d_loss: 1.3640 | g_loss: 0.9132\n",
      "Epoch [   67/  100] | d_loss: 1.3605 | g_loss: 0.8764\n",
      "Epoch [   68/  100] | d_loss: 1.2132 | g_loss: 1.1958\n",
      "Epoch [   68/  100] | d_loss: 1.2379 | g_loss: 1.2698\n",
      "Epoch [   68/  100] | d_loss: 1.3150 | g_loss: 1.0071\n",
      "Epoch [   69/  100] | d_loss: 1.2889 | g_loss: 0.9765\n",
      "Epoch [   69/  100] | d_loss: 1.1970 | g_loss: 1.3561\n",
      "Epoch [   69/  100] | d_loss: 1.2658 | g_loss: 0.9997\n",
      "Epoch [   70/  100] | d_loss: 1.2916 | g_loss: 1.1344\n",
      "Epoch [   70/  100] | d_loss: 1.2244 | g_loss: 1.2561\n",
      "Epoch [   70/  100] | d_loss: 1.4219 | g_loss: 0.9586\n",
      "Epoch [   71/  100] | d_loss: 1.1946 | g_loss: 1.2242\n",
      "Epoch [   71/  100] | d_loss: 1.2298 | g_loss: 0.9977\n",
      "Epoch [   71/  100] | d_loss: 1.2034 | g_loss: 1.5401\n",
      "Epoch [   72/  100] | d_loss: 1.2909 | g_loss: 1.1116\n",
      "Epoch [   72/  100] | d_loss: 1.1186 | g_loss: 1.8168\n",
      "Epoch [   72/  100] | d_loss: 1.3747 | g_loss: 1.1188\n",
      "Epoch [   73/  100] | d_loss: 1.1790 | g_loss: 1.7849\n",
      "Epoch [   73/  100] | d_loss: 1.2690 | g_loss: 0.9574\n",
      "Epoch [   73/  100] | d_loss: 1.3854 | g_loss: 1.1346\n",
      "Epoch [   74/  100] | d_loss: 1.2511 | g_loss: 1.0795\n",
      "Epoch [   74/  100] | d_loss: 1.2784 | g_loss: 0.9808\n",
      "Epoch [   74/  100] | d_loss: 1.3629 | g_loss: 0.9878\n",
      "Epoch [   75/  100] | d_loss: 1.3270 | g_loss: 1.1799\n",
      "Epoch [   75/  100] | d_loss: 1.4038 | g_loss: 0.8617\n",
      "Epoch [   75/  100] | d_loss: 1.3672 | g_loss: 1.2418\n",
      "Epoch [   76/  100] | d_loss: 1.2494 | g_loss: 0.9364\n",
      "Epoch [   76/  100] | d_loss: 1.2634 | g_loss: 0.9905\n",
      "Epoch [   76/  100] | d_loss: 1.3265 | g_loss: 1.0313\n",
      "Epoch [   77/  100] | d_loss: 1.2530 | g_loss: 0.8936\n",
      "Epoch [   77/  100] | d_loss: 1.1932 | g_loss: 1.1339\n",
      "Epoch [   77/  100] | d_loss: 1.3950 | g_loss: 1.0009\n",
      "Epoch [   78/  100] | d_loss: 1.2816 | g_loss: 1.0272\n",
      "Epoch [   78/  100] | d_loss: 1.2988 | g_loss: 1.0364\n",
      "Epoch [   78/  100] | d_loss: 1.2410 | g_loss: 0.9858\n",
      "Epoch [   79/  100] | d_loss: 1.2184 | g_loss: 1.0526\n",
      "Epoch [   79/  100] | d_loss: 1.2406 | g_loss: 1.2593\n",
      "Epoch [   79/  100] | d_loss: 1.2019 | g_loss: 1.2458\n",
      "Epoch [   80/  100] | d_loss: 1.3534 | g_loss: 1.5332\n",
      "Epoch [   80/  100] | d_loss: 1.2424 | g_loss: 0.9900\n",
      "Epoch [   80/  100] | d_loss: 1.3388 | g_loss: 1.1257\n",
      "Epoch [   81/  100] | d_loss: 1.2653 | g_loss: 0.9892\n",
      "Epoch [   81/  100] | d_loss: 1.2417 | g_loss: 1.0548\n",
      "Epoch [   81/  100] | d_loss: 1.2668 | g_loss: 1.2326\n",
      "Epoch [   82/  100] | d_loss: 1.3688 | g_loss: 0.8525\n",
      "Epoch [   82/  100] | d_loss: 1.2194 | g_loss: 1.0125\n",
      "Epoch [   82/  100] | d_loss: 1.2848 | g_loss: 0.8893\n",
      "Epoch [   83/  100] | d_loss: 1.2496 | g_loss: 1.1945\n",
      "Epoch [   83/  100] | d_loss: 1.1762 | g_loss: 1.2754\n",
      "Epoch [   83/  100] | d_loss: 1.2835 | g_loss: 1.0413\n",
      "Epoch [   84/  100] | d_loss: 1.1972 | g_loss: 0.8609\n",
      "Epoch [   84/  100] | d_loss: 1.3312 | g_loss: 1.0875\n",
      "Epoch [   84/  100] | d_loss: 1.4123 | g_loss: 1.2083\n",
      "Epoch [   85/  100] | d_loss: 1.2317 | g_loss: 1.3152\n",
      "Epoch [   85/  100] | d_loss: 1.2673 | g_loss: 1.1535\n",
      "Epoch [   85/  100] | d_loss: 1.2598 | g_loss: 0.9012\n",
      "Epoch [   86/  100] | d_loss: 1.3167 | g_loss: 0.9473\n",
      "Epoch [   86/  100] | d_loss: 1.1936 | g_loss: 1.1499\n",
      "Epoch [   86/  100] | d_loss: 1.2240 | g_loss: 1.3293\n",
      "Epoch [   87/  100] | d_loss: 1.2633 | g_loss: 1.1031\n",
      "Epoch [   87/  100] | d_loss: 1.3067 | g_loss: 0.8736\n",
      "Epoch [   87/  100] | d_loss: 1.2900 | g_loss: 1.0454\n",
      "Epoch [   88/  100] | d_loss: 1.2153 | g_loss: 0.9544\n",
      "Epoch [   88/  100] | d_loss: 1.2499 | g_loss: 0.9970\n",
      "Epoch [   88/  100] | d_loss: 1.3095 | g_loss: 1.1611\n",
      "Epoch [   89/  100] | d_loss: 1.2503 | g_loss: 1.1339\n",
      "Epoch [   89/  100] | d_loss: 1.1247 | g_loss: 1.0748\n",
      "Epoch [   89/  100] | d_loss: 1.2748 | g_loss: 1.1105\n",
      "Epoch [   90/  100] | d_loss: 1.2541 | g_loss: 0.8550\n",
      "Epoch [   90/  100] | d_loss: 1.1940 | g_loss: 0.9824\n",
      "Epoch [   90/  100] | d_loss: 1.3982 | g_loss: 1.0354\n",
      "Epoch [   91/  100] | d_loss: 1.3102 | g_loss: 0.7935\n",
      "Epoch [   91/  100] | d_loss: 1.1746 | g_loss: 0.9549\n",
      "Epoch [   91/  100] | d_loss: 1.3008 | g_loss: 1.0606\n",
      "Epoch [   92/  100] | d_loss: 1.2537 | g_loss: 0.8297\n",
      "Epoch [   92/  100] | d_loss: 1.1530 | g_loss: 1.0504\n",
      "Epoch [   92/  100] | d_loss: 1.3507 | g_loss: 1.0238\n",
      "Epoch [   93/  100] | d_loss: 1.2861 | g_loss: 1.0646\n",
      "Epoch [   93/  100] | d_loss: 1.2023 | g_loss: 1.0210\n",
      "Epoch [   93/  100] | d_loss: 1.2936 | g_loss: 1.1715\n",
      "Epoch [   94/  100] | d_loss: 1.2276 | g_loss: 1.2989\n",
      "Epoch [   94/  100] | d_loss: 1.3430 | g_loss: 1.0814\n",
      "Epoch [   94/  100] | d_loss: 1.3514 | g_loss: 0.9446\n",
      "Epoch [   95/  100] | d_loss: 1.2386 | g_loss: 0.9871\n",
      "Epoch [   95/  100] | d_loss: 1.2376 | g_loss: 1.0059\n",
      "Epoch [   95/  100] | d_loss: 1.3429 | g_loss: 1.2851\n",
      "Epoch [   96/  100] | d_loss: 1.3031 | g_loss: 1.4224\n",
      "Epoch [   96/  100] | d_loss: 1.1477 | g_loss: 1.3217\n",
      "Epoch [   96/  100] | d_loss: 1.3196 | g_loss: 1.1650\n",
      "Epoch [   97/  100] | d_loss: 1.2618 | g_loss: 1.2766\n",
      "Epoch [   97/  100] | d_loss: 1.2963 | g_loss: 1.2018\n",
      "Epoch [   97/  100] | d_loss: 1.4185 | g_loss: 1.0223\n",
      "Epoch [   98/  100] | d_loss: 1.1740 | g_loss: 1.2005\n",
      "Epoch [   98/  100] | d_loss: 1.1651 | g_loss: 1.2881\n",
      "Epoch [   98/  100] | d_loss: 1.2871 | g_loss: 1.5009\n",
      "Epoch [   99/  100] | d_loss: 1.1243 | g_loss: 1.2846\n",
      "Epoch [   99/  100] | d_loss: 1.2059 | g_loss: 1.0118\n",
      "Epoch [   99/  100] | d_loss: 1.1994 | g_loss: 0.9999\n",
      "Epoch [  100/  100] | d_loss: 1.3841 | g_loss: 0.9086\n",
      "Epoch [  100/  100] | d_loss: 1.2089 | g_loss: 1.3254\n",
      "Epoch [  100/  100] | d_loss: 1.3558 | g_loss: 1.3304\n",
      "0:26:57.842061\n"
     ]
    }
   ],
   "source": [
    "from datetime import datetime\n",
    "import pickle as pkl \n",
    "\n",
    "\n",
    "start=datetime.now()\n",
    "\n",
    "# training hyperparameters\n",
    "num_epochs = 100\n",
    "samples = []\n",
    "losses = []\n",
    "\n",
    "print_every = 400\n",
    "\n",
    "# Get some fixed data for sampling. These are images tht are held\n",
    "# constant throughout, and allow us to inspect the model's performance \n",
    "sample_size = 16\n",
    "fixed_z = np.random.uniform(-1, 1, size=(sample_size, z_size))\n",
    "fixed_z = torch.from_numpy(fixed_z).float()\n",
    "\n",
    "# train the network\n",
    "D.train()\n",
    "G.train()\n",
    "for epoch in range(num_epochs):\n",
    "    for batch_i, (real_images, _) in enumerate(train_loader):\n",
    "        batch_size = real_images.size(0)\n",
    "        \n",
    "        # important rescaling step\n",
    "        real_images = real_images * 2-1 # rescale input images from [0,1) to [-1, 1)\n",
    "        \n",
    "        # ---train the discriminator\n",
    "        d_optimizer.zero_grad()\n",
    "        # 1. train with real images\n",
    "        # compute the discriminator losses on real images\n",
    "        # smooth the real labels\n",
    "        D_real = D(real_images)\n",
    "        d_real_loss = real_loss(D_real, smooth=True)\n",
    "        \n",
    "        # 2. train with fake images\n",
    "        \n",
    "        # generate fake images\n",
    "        z = np.random.uniform(-1, 1, size=(batch_size, z_size))\n",
    "        z = torch.from_numpy(z).float()\n",
    "        fake_images = G(z)\n",
    "        \n",
    "        # Compute the discriminator losses on fake images\n",
    "        D_fake = D(fake_images)\n",
    "        d_fake_loss = fake_loss(D_fake)\n",
    "        \n",
    "        # add up the loss and perform backprop\n",
    "        d_loss = d_real_loss + d_fake_loss\n",
    "        d_loss.backward()\n",
    "        d_optimizer.step()\n",
    "        \n",
    "        # ---train the generator\n",
    "        g_optimizer.zero_grad()\n",
    "        \n",
    "        # 1. train with fake images and flipped labels\n",
    "        \n",
    "        # generate fake images\n",
    "        z = np.random.uniform(-1, 1, size=(batch_size, z_size))\n",
    "        z = torch.from_numpy(z).float()\n",
    "        fake_images = G(z)\n",
    "        \n",
    "        # compute the discriminator losses on fake images\n",
    "        # using flipped labels!\n",
    "        D_fake = D(fake_images)\n",
    "        g_loss = real_loss(D_fake) # use real loss to flip labels\n",
    "        \n",
    "        # perform backprop\n",
    "        g_loss.backward()\n",
    "        g_optimizer.step()\n",
    "        \n",
    "        # print some loss stats\n",
    "        if batch_i % print_every == 0:\n",
    "            # printing the discriminator and generator losses\n",
    "            print(\"Epoch [{:5d}/{:5d}] | d_loss: {:6.4f} | g_loss: {:6.4f}\".format(epoch+1, num_epochs, d_loss.item(),\n",
    "                                                                                  g_loss.item()))\n",
    "    # after each epoch the idea is to append the discriminator and generator lossses\n",
    "    losses.append((d_loss.item(), g_loss.item()))\n",
    "    \n",
    "    # generate and save sample, fake images\n",
    "    G.eval() # eval mode for generating samples\n",
    "    samples_z = G(fixed_z)\n",
    "    samples.append(samples_z)\n",
    "    G.train() # back to train mode\n",
    "    \n",
    "# save the training generator samples\n",
    "with open(\"train_samples.pkl\", \"wb\") as f:\n",
    "    pkl.dump(samples, f)\n",
    "    \n",
    "# print the time that the algorithm takes      \n",
    "\n",
    "print (datetime.now()-start)"
   ]
  },
  {
   "cell_type": "markdown",
   "metadata": {},
   "source": [
    "*Let's plot the losses*"
   ]
  },
  {
   "cell_type": "code",
   "execution_count": 44,
   "metadata": {},
   "outputs": [
    {
     "data": {
      "text/plain": [
       "<matplotlib.legend.Legend at 0x276c69deb00>"
      ]
     },
     "execution_count": 44,
     "metadata": {},
     "output_type": "execute_result"
    },
    {
     "data": {
      "image/png": "[encoded data removed]",
      "text/plain": [
       "<Figure size 432x288 with 1 Axes>"
      ]
     },
     "metadata": {
      "needs_background": "light"
     },
     "output_type": "display_data"
    }
   ],
   "source": [
    "fig, ax = plt.subplots()\n",
    "losses = np.array(losses)\n",
    "plt.plot(losses.T[0], label=\"Discriminator\")\n",
    "plt.plot(losses.T[1], label=\"Generator\")\n",
    "plt.title(\"Training losses\")\n",
    "plt.legend()"
   ]
  },
  {
   "cell_type": "markdown",
   "metadata": {},
   "source": [
    "*Generator samples from training*\n",
    "\n",
    "Let's see some samples from the generator."
   ]
  },
  {
   "cell_type": "code",
   "execution_count": 45,
   "metadata": {},
   "outputs": [],
   "source": [
    "def view_samples(epoch, samples):\n",
    "    fig, axes = plt.subplots(figsize=(7,7), nrows=4, ncols=4, sharey=True, sharex=True)\n",
    "    for ax, img in zip(axes.flatten(), samples[epoch]):\n",
    "        img = img.detach()\n",
    "        ax.xaxis.set_visible(False)\n",
    "        ax.yaxis.set_visible(False)\n",
    "        im = ax.imshow(img.reshape((28,28)), cmap=\"Greys_r\")"
   ]
  },
  {
   "cell_type": "code",
   "execution_count": 46,
   "metadata": {},
   "outputs": [],
   "source": [
    "# load samples from generator, taken while training\n",
    "with open(\"train_samples.pkl\", \"rb\") as f:\n",
    "    samples = pkl.load(f)"
   ]
  },
  {
   "cell_type": "code",
   "execution_count": 47,
   "metadata": {},
   "outputs": [
    {
     "data": {
      "image/png": "[encoded data removed]",
      "text/plain": [
       "<Figure size 504x504 with 16 Axes>"
      ]
     },
     "metadata": {
      "needs_background": "light"
     },
     "output_type": "display_data"
    }
   ],
   "source": [
    "view_samples(-1, samples)"
   ]
  },
  {
   "cell_type": "code",
   "execution_count": 48,
   "metadata": {},
   "outputs": [
    {
     "data": {
      "image/png": "[encoded data removed]",
      "text/plain": [
       "<Figure size 504x864 with 60 Axes>"
      ]
     },
     "metadata": {
      "needs_background": "light"
     },
     "output_type": "display_data"
    }
   ],
   "source": [
    "rows = 10 # split epochs into 10, so 100/10 = every 10 epochs\n",
    "cols = 6\n",
    "fig, axes = plt.subplots(figsize=(7,12), nrows=rows, ncols=cols, sharex=True, sharey=True)\n",
    "\n",
    "for sample, ax_row in zip(samples[::int(len(samples)/rows)], axes):\n",
    "    for img, ax in zip(sample[::int(len(sample)/cols)], ax_row):\n",
    "        img = img.detach()\n",
    "        ax.imshow(img.reshape((28,28)), cmap='Greys_r')\n",
    "        ax.xaxis.set_visible(False)\n",
    "        ax.yaxis.set_visible(False)"
   ]
  },
  {
   "cell_type": "markdown",
   "metadata": {},
   "source": [
    "*Sampling from the generator*"
   ]
  },
  {
   "cell_type": "code",
   "execution_count": 49,
   "metadata": {},
   "outputs": [
    {
     "data": {
      "image/png": "[encoded data removed]",
      "text/plain": [
       "<Figure size 504x504 with 16 Axes>"
      ]
     },
     "metadata": {
      "needs_background": "light"
     },
     "output_type": "display_data"
    }
   ],
   "source": [
    "# randomly generated, new latent vectors\n",
    "sample_size=16\n",
    "rand_z = np.random.uniform(-1, 1, size=(sample_size, z_size))\n",
    "rand_z = torch.from_numpy(rand_z).float()\n",
    "\n",
    "G.eval() # eval mode\n",
    "# generated samples\n",
    "rand_images = G(rand_z)\n",
    "\n",
    "# 0 indicates the first set of samples in the passed in list\n",
    "# and we only have one batch of samples, here\n",
    "view_samples(0, [rand_images])"
   ]
  },
  {
   "cell_type": "markdown",
   "metadata": {},
   "source": [
    "another"
   ]
  },
  {
   "cell_type": "markdown",
   "metadata": {},
   "source": [
    "https://pytorch.org/tutorials/beginner/dcgan_faces_tutorial.html"
   ]
  },
  {
   "cell_type": "markdown",
   "metadata": {},
   "source": [
    "## References\n",
    "\n",
    "+ [1] https://skymind.ai/wiki/generative-adversarial-network-gan\n",
    "+ [2] https://forum.faceswap.dev/viewtopic.php?t=146\n",
    "+ [3] https://developers.google.com/machine-learning/gan\n",
    "+ [4] Salimans, T., Goodfellow, I., Zaremba, W., Cheung, V., Radford, A., & Chen, X. (2016). Improved techniques for training gans. In Advances in neural information processing systems (pp. 2234-2242).\n",
    "+ [5] Heusel, M., Ramsauer, H., Unterthiner, T., Nessler, B., & Hochreiter, S. (2017). Gans trained by a two time-scale update rule converge to a local nash equilibrium. In Advances in neural information processing systems (pp. 6626-6637).\n",
    "+ [6] Mirza, M., & Osindero, S. (2014). Conditional generative adversarial nets. arXiv preprint arXiv:1411.1784.\n",
    "+ [7] https://machinelearningmastery.com/how-to-develop-a-conditional-generative-adversarial-network-from-scratch/\n",
    "+ [8] Radford, A., Metz, L., & Chintala, S. (2015). Unsupervised representation learning with deep convolutional generative adversarial networks. arXiv preprint arXiv:1511.06434.\n",
    "+ [9] https://pytorch.org/tutorials/beginner/dcgan_faces_tutorial.html\n",
    "+ [10] https://en.wikipedia.org/wiki/Rectifier_(neural_networks)#Leaky_ReLUs\n",
    "+ [11] https://medium.com/intel-student-ambassadors/mnist-gan-detailed-step-by-step-explanation-implementation-in-code-ecc93b22dc60"
   ]
  }
 ],
 "metadata": {
  "kernelspec": {
   "display_name": "Python 3",
   "language": "python",
   "name": "python3"
  },
  "language_info": {
   "codemirror_mode": {
    "name": "ipython",
    "version": 3
   },
   "file_extension": ".py",
   "mimetype": "text/x-python",
   "name": "python",
   "nbconvert_exporter": "python",
   "pygments_lexer": "ipython3",
   "version": "3.6.8"
  }
 },
 "nbformat": 4,
 "nbformat_minor": 2
}
