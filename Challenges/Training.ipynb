{
 "cells": [
  {
   "cell_type": "code",
   "execution_count": 2,
   "id": "reverse-train",
   "metadata": {},
   "outputs": [
    {
     "name": "stdout",
     "output_type": "stream",
     "text": [
      "[0.6        0.5        0.66666667 0.5        1.         1.        ]\n",
      "[1.         0.66666667 0.66666667 0.33333333 0.33333333 0.        ]\n"
     ]
    }
   ],
   "source": [
    "import numpy as np\n",
    "from sklearn.metrics import precision_recall_curve\n",
    "\n",
    "y_true = np.array([0,1,1,0,1])\n",
    "y_scores = np.array([0.5, 0.6, 0.38, 0.9, 1])\n",
    "\n",
    "precision, recall, thresholds = precision_recall_curve(y_true, y_scores)\n",
    "print(precision)\n",
    "print(recall)"
   ]
  },
  {
   "cell_type": "markdown",
   "id": "preliminary-malta",
   "metadata": {},
   "source": [
    "+ precision: how many positive values were correctly gotten\n",
    "+ recall: how many actual positive values were gotten"
   ]
  },
  {
   "cell_type": "markdown",
   "id": "southwest-julian",
   "metadata": {},
   "source": [
    "***"
   ]
  },
  {
   "cell_type": "markdown",
   "id": "mechanical-relevance",
   "metadata": {},
   "source": [
    "*Feature extraction*"
   ]
  },
  {
   "cell_type": "code",
   "execution_count": 15,
   "id": "coupled-cheat",
   "metadata": {},
   "outputs": [],
   "source": [
    "from sklearn.datasets import fetch_20newsgroups\n",
    "from sklearn.feature_extraction.text import CountVectorizer\n",
    "\n",
    "categories = [\"alt.atheism\"]\n",
    "newsgroups_train = fetch_20newsgroups(subset=\"train\", categories=categories)\n",
    "\n",
    "count_vect = CountVectorizer()\n",
    "\n",
    "train_counts = count_vect.fit_transform(newsgroups_train.data)\n"
   ]
  },
  {
   "cell_type": "code",
   "execution_count": 19,
   "id": "taken-hepatitis",
   "metadata": {},
   "outputs": [
    {
     "data": {
      "text/plain": [
       "6941"
      ]
     },
     "execution_count": 19,
     "metadata": {},
     "output_type": "execute_result"
    }
   ],
   "source": [
    "count_vect.vocabulary_.get(u\"man\")"
   ]
  },
  {
   "cell_type": "markdown",
   "id": "pending-circular",
   "metadata": {},
   "source": [
    "***\n",
    "\n",
    "*Cross-validation*"
   ]
  },
  {
   "cell_type": "code",
   "execution_count": 26,
   "id": "complimentary-protection",
   "metadata": {},
   "outputs": [
    {
     "name": "stdout",
     "output_type": "stream",
     "text": [
      "(309, 10) (309,)\n",
      "(133, 10) (133,)\n"
     ]
    }
   ],
   "source": [
    "import numpy as np\n",
    "from sklearn.model_selection import train_test_split\n",
    "from sklearn.model_selection import cross_val_score\n",
    "from sklearn import datasets\n",
    "from sklearn import svm\n",
    "\n",
    "diabets = datasets.load_diabetes()\n",
    "X_train, X_test, y_train, y_test = train_test_split(diabets.data, diabets.target, test_size=0.3, random_state=0)\n",
    "print(X_train.shape, y_train.shape)\n",
    "print(X_test.shape, y_test.shape)\n"
   ]
  },
  {
   "cell_type": "code",
   "execution_count": 29,
   "id": "taken-camera",
   "metadata": {},
   "outputs": [
    {
     "name": "stderr",
     "output_type": "stream",
     "text": [
      "C:\\Users\\Usuario\\Anaconda3\\lib\\site-packages\\sklearn\\model_selection\\_split.py:668: UserWarning: The least populated class in y has only 1 members, which is less than n_splits=4.\n",
      "  % (min_groups, self.n_splits)), UserWarning)\n"
     ]
    },
    {
     "name": "stdout",
     "output_type": "stream",
     "text": [
      "[0.         0.00900901 0.03636364 0.04545455]\n",
      "Accuracy: 0.02 (+/- 0.02)\n"
     ]
    }
   ],
   "source": [
    "clf = svm.SVC(kernel=\"linear\", C=1)\n",
    "\n",
    "scores = cross_val_score(clf, diabets.data, diabets.target, cv=4)\n",
    "print(scores)\n",
    "print(\"Accuracy: %0.2f (+/- %0.2f)\" % (scores.mean(), scores.std()))"
   ]
  },
  {
   "cell_type": "markdown",
   "id": "particular-junction",
   "metadata": {},
   "source": [
    "***"
   ]
  },
  {
   "cell_type": "code",
   "execution_count": 30,
   "id": "regular-prize",
   "metadata": {},
   "outputs": [
    {
     "name": "stdout",
     "output_type": "stream",
     "text": [
      "57.54128952326321\n",
      "231.0\n"
     ]
    }
   ],
   "source": [
    "import numpy as np\n",
    "\n",
    "a = np.arange(22)\n",
    "\n",
    "print(np.linalg.norm(a))\n",
    "print(np.linalg.norm(a,1))"
   ]
  },
  {
   "cell_type": "markdown",
   "id": "fifty-token",
   "metadata": {},
   "source": [
    "***"
   ]
  },
  {
   "cell_type": "code",
   "execution_count": 1,
   "id": "related-parks",
   "metadata": {},
   "outputs": [
    {
     "name": "stdout",
     "output_type": "stream",
     "text": [
      "70 10.1\n",
      "90 19.14\n",
      "95 19.375\n",
      "99 19.635\n"
     ]
    }
   ],
   "source": [
    "import numpy as np\n",
    "x = np.array([0, 1, 4, 5, 6, 8, 8, 9, 11, 10, 19, 19.2, 19.7, 3])\n",
    "for i in [70, 90, 95, 99]:\n",
    "    print(i, np.percentile(x, i))"
   ]
  },
  {
   "cell_type": "markdown",
   "id": "infectious-balloon",
   "metadata": {},
   "source": [
    "***"
   ]
  },
  {
   "cell_type": "code",
   "execution_count": 3,
   "id": "experienced-stuart",
   "metadata": {},
   "outputs": [],
   "source": [
    "import pandas as pd\n",
    "from lxml import objectify\n",
    "\n",
    "xml = objectify.parse(open(\"utilities/book.xml\"))\n",
    "root = xml.getroot()"
   ]
  },
  {
   "cell_type": "code",
   "execution_count": 7,
   "id": "refined-silicon",
   "metadata": {},
   "outputs": [
    {
     "data": {
      "text/plain": [
       "'Gambardella, Matthew'"
      ]
     },
     "execution_count": 7,
     "metadata": {},
     "output_type": "execute_result"
    }
   ],
   "source": [
    "root.book[0].author"
   ]
  },
  {
   "cell_type": "code",
   "execution_count": 13,
   "id": "complicated-fourth",
   "metadata": {},
   "outputs": [],
   "source": [
    "df = pd.DataFrame(columns=(\"Author\", \"Title\", \"Genre\"))\n",
    "for i in range(0, 1):\n",
    "    row = dict(zip([\"Author\", \"Title\", \"Genre\"], [ \n",
    "               root.book[i].author, root.book[i].title, root.book[i].genre]))\n",
    "    rowSeries = pd.Series(row)\n",
    "    rowSeries.name = i\n",
    "    df = df.append(rowSeries)"
   ]
  },
  {
   "cell_type": "code",
   "execution_count": 14,
   "id": "eastern-accused",
   "metadata": {},
   "outputs": [
    {
     "data": {
      "text/html": [
       "<div>\n",
       "<style scoped>\n",
       "    .dataframe tbody tr th:only-of-type {\n",
       "        vertical-align: middle;\n",
       "    }\n",
       "\n",
       "    .dataframe tbody tr th {\n",
       "        vertical-align: top;\n",
       "    }\n",
       "\n",
       "    .dataframe thead th {\n",
       "        text-align: right;\n",
       "    }\n",
       "</style>\n",
       "<table border=\"1\" class=\"dataframe\">\n",
       "  <thead>\n",
       "    <tr style=\"text-align: right;\">\n",
       "      <th></th>\n",
       "      <th>Author</th>\n",
       "      <th>Title</th>\n",
       "      <th>Genre</th>\n",
       "    </tr>\n",
       "  </thead>\n",
       "  <tbody>\n",
       "    <tr>\n",
       "      <th>0</th>\n",
       "      <td>[[[Gambardella, Matthew]]]</td>\n",
       "      <td>[[[XML Developer's Guide]]]</td>\n",
       "      <td>[[[Computer]]]</td>\n",
       "    </tr>\n",
       "  </tbody>\n",
       "</table>\n",
       "</div>"
      ],
      "text/plain": [
       "                       Author                        Title           Genre\n",
       "0  [[[Gambardella, Matthew]]]  [[[XML Developer's Guide]]]  [[[Computer]]]"
      ]
     },
     "execution_count": 14,
     "metadata": {},
     "output_type": "execute_result"
    }
   ],
   "source": [
    "df"
   ]
  },
  {
   "cell_type": "markdown",
   "id": "protective-deposit",
   "metadata": {},
   "source": [
    "***"
   ]
  },
  {
   "cell_type": "code",
   "execution_count": 21,
   "id": "absolute-entrance",
   "metadata": {},
   "outputs": [
    {
     "name": "stdout",
     "output_type": "stream",
     "text": [
      "[                         Bank NameBank           CityCity StateSt  CertCert  \\\n",
      "0                    Almena State Bank             Almena      KS     15426   \n",
      "1           First City Bank of Florida  Fort Walton Beach      FL     16748   \n",
      "2                 The First State Bank      Barboursville      WV     14361   \n",
      "3                   Ericson State Bank            Ericson      NE     18265   \n",
      "4     City National Bank of New Jersey             Newark      NJ     21111   \n",
      "..                                 ...                ...     ...       ...   \n",
      "558                 Superior Bank, FSB           Hinsdale      IL     32646   \n",
      "559                Malta National Bank              Malta      OH      6629   \n",
      "560    First Alliance Bank & Trust Co.         Manchester      NH     34264   \n",
      "561  National State Bank of Metropolis         Metropolis      IL      3815   \n",
      "562                   Bank of Honolulu           Honolulu      HI     21029   \n",
      "\n",
      "                 Acquiring InstitutionAI Closing DateClosing  FundFund  \n",
      "0                            Equity Bank    October 23, 2020     10538  \n",
      "1              United Fidelity Bank, fsb    October 16, 2020     10537  \n",
      "2                         MVB Bank, Inc.       April 3, 2020     10536  \n",
      "3             Farmers and Merchants Bank   February 14, 2020     10535  \n",
      "4                        Industrial Bank    November 1, 2019     10534  \n",
      "..                                   ...                 ...       ...  \n",
      "558                Superior Federal, FSB       July 27, 2001      6004  \n",
      "559                    North Valley Bank         May 3, 2001      4648  \n",
      "560  Southern New Hampshire Bank & Trust    February 2, 2001      4647  \n",
      "561              Banterra Bank of Marion   December 14, 2000      4646  \n",
      "562                   Bank of the Orient    October 13, 2000      4645  \n",
      "\n",
      "[563 rows x 7 columns]]\n"
     ]
    }
   ],
   "source": [
    "import pandas as pd\n",
    "url = 'http://www.fdic.gov/resources/resolutions/bank-failures/failed-bank-list/'\n",
    "dfs = pd.read_html(url)\n",
    "print(dfs) "
   ]
  },
  {
   "cell_type": "markdown",
   "id": "cardiac-custom",
   "metadata": {},
   "source": [
    "***"
   ]
  },
  {
   "cell_type": "code",
   "execution_count": 35,
   "id": "young-gamma",
   "metadata": {},
   "outputs": [],
   "source": [
    "import requests\n",
    "import json\n",
    "import pandas as pd\n",
    "from pandas.io.json import json_normalize\n",
    "path1 = '42.974049,-81.205203|42.974298,-81.195755'\n",
    "response=requests.get('http://maps.googleapis.com/maps/api/elevation/json?locations='+path1+'&sensor=false')\n",
    "# response = requests.get(request)\n",
    "elevations = response.text"
   ]
  },
  {
   "cell_type": "code",
   "execution_count": null,
   "id": "insured-valuation",
   "metadata": {},
   "outputs": [],
   "source": [
    "# data = pd.read_json(elevations)\n",
    "# print json_normalize(data['results'])"
   ]
  },
  {
   "cell_type": "markdown",
   "id": "convenient-ladder",
   "metadata": {},
   "source": [
    "***"
   ]
  },
  {
   "cell_type": "code",
   "execution_count": 39,
   "id": "perfect-cargo",
   "metadata": {},
   "outputs": [
    {
     "data": {
      "image/png": "[encoded data removed]",
      "text/plain": [
       "<Figure size 432x288 with 1 Axes>"
      ]
     },
     "metadata": {
      "needs_background": "light"
     },
     "output_type": "display_data"
    }
   ],
   "source": [
    "from scipy.special import expit #The expit function, also known as the logistic sigmoid function\n",
    "import numpy as np\n",
    "import matplotlib.pyplot as plt\n",
    "\n",
    "x = np.arange(-10, 10., 0.2)\n",
    "sig = expit(x)\n",
    "plt.plot(x, sig)\n",
    "plt.show()\n",
    "\n"
   ]
  },
  {
   "cell_type": "markdown",
   "id": "amino-python",
   "metadata": {},
   "source": [
    "***"
   ]
  },
  {
   "cell_type": "code",
   "execution_count": 40,
   "id": "particular-schema",
   "metadata": {},
   "outputs": [],
   "source": [
    "# NetworkX, which provides support for direct, indirect and multigraphs\n",
    "\n",
    "import networkx as nx\n",
    "\n",
    "G = nx.Graph()\n",
    "G.add_edges_from([(1,2),(1,3)])\n",
    "c = nx.connected_components(G)"
   ]
  },
  {
   "cell_type": "markdown",
   "id": "found-secretary",
   "metadata": {},
   "source": [
    "***"
   ]
  },
  {
   "cell_type": "code",
   "execution_count": 42,
   "id": "recent-information",
   "metadata": {},
   "outputs": [],
   "source": [
    "import pandas as pd\n",
    "import numpy as np\n",
    "from sklearn.datasets import load_iris\n",
    "iris = load_iris()\n",
    "irisNP = iris.data\n",
    "irisDF = pd.DataFrame(iris.data, columns=iris.feature_names)"
   ]
  },
  {
   "cell_type": "code",
   "execution_count": 43,
   "id": "environmental-alcohol",
   "metadata": {},
   "outputs": [],
   "source": [
    "# group by target category\n",
    "irisDF['group'] = pd.Series([iris.target_names[k] for k in iris.target], dtype='category')"
   ]
  },
  {
   "cell_type": "code",
   "execution_count": 44,
   "id": "intensive-indie",
   "metadata": {},
   "outputs": [
    {
     "name": "stdout",
     "output_type": "stream",
     "text": [
      "<class 'pandas.core.frame.DataFrame'>\n",
      "RangeIndex: 150 entries, 0 to 149\n",
      "Data columns (total 5 columns):\n",
      " #   Column             Non-Null Count  Dtype   \n",
      "---  ------             --------------  -----   \n",
      " 0   sepal length (cm)  150 non-null    float64 \n",
      " 1   sepal width (cm)   150 non-null    float64 \n",
      " 2   petal length (cm)  150 non-null    float64 \n",
      " 3   petal width (cm)   150 non-null    float64 \n",
      " 4   group              150 non-null    category\n",
      "dtypes: category(1), float64(4)\n",
      "memory usage: 5.1 KB\n"
     ]
    }
   ],
   "source": [
    "irisDF.info()"
   ]
  },
  {
   "cell_type": "code",
   "execution_count": 45,
   "id": "random-exchange",
   "metadata": {},
   "outputs": [
    {
     "name": "stdout",
     "output_type": "stream",
     "text": [
      "sepal length (cm)    5.843333\n",
      "sepal width (cm)     3.057333\n",
      "petal length (cm)    3.758000\n",
      "petal width (cm)     1.199333\n",
      "dtype: float64\n",
      "sepal length (cm)    0.828066\n",
      "sepal width (cm)     0.435866\n",
      "petal length (cm)    1.765298\n",
      "petal width (cm)     0.762238\n",
      "dtype: float64\n",
      "      sepal length (cm)  sepal width (cm)  petal length (cm)  petal width (cm)\n",
      "0.00                4.3             2.000               1.00               0.1\n",
      "0.25                5.1             2.800               1.60               0.3\n",
      "0.50                5.8             3.000               4.35               1.3\n",
      "0.75                6.4             3.300               5.10               1.8\n",
      "0.90                6.9             3.610               5.80               2.2\n",
      "0.99                7.7             4.151               6.70               2.5\n"
     ]
    }
   ],
   "source": [
    "#mean, std, quantile\n",
    "print (irisDF.mean(numeric_only=True))\n",
    "print (irisDF.std())\n",
    "print (irisDF.quantile(np.array([0, .25, 0.50, .75, .90, .99])))"
   ]
  },
  {
   "cell_type": "markdown",
   "id": "chemical-strike",
   "metadata": {},
   "source": [
    "***"
   ]
  },
  {
   "cell_type": "code",
   "execution_count": 46,
   "id": "suspended-vegetable",
   "metadata": {},
   "outputs": [
    {
     "data": {
      "image/png": "[encoded data removed]",
      "text/plain": [
       "<Figure size 432x288 with 1 Axes>"
      ]
     },
     "metadata": {
      "needs_background": "light"
     },
     "output_type": "display_data"
    }
   ],
   "source": [
    "import pandas as pd\n",
    "import numpy as np\n",
    "import matplotlib\n",
    "import matplotlib.pyplot as plt\n",
    "df = pd.DataFrame(np.random.rand(10, 5), columns=['A', 'B', 'C', 'D', 'E'])\n",
    "df.plot(kind='box')\n",
    "plt.show()"
   ]
  },
  {
   "cell_type": "markdown",
   "id": "expanded-newcastle",
   "metadata": {},
   "source": [
    "***"
   ]
  },
  {
   "cell_type": "code",
   "execution_count": 47,
   "id": "sharing-frank",
   "metadata": {},
   "outputs": [],
   "source": [
    "import pandas as pd\n",
    "import numpy as np\n",
    "from sklearn.datasets import load_iris\n",
    "iris = load_iris()\n",
    "irisNP = iris.data\n",
    "irisDF = pd.DataFrame(iris.data, columns=iris.feature_names)\n",
    "# group by target category\n",
    "irisDF['group'] = pd.Series([iris.target_names[k] for k in iris.target], dtype='category')\n"
   ]
  },
  {
   "cell_type": "code",
   "execution_count": 48,
   "id": "divided-pitch",
   "metadata": {},
   "outputs": [
    {
     "name": "stdout",
     "output_type": "stream",
     "text": [
      "                   sepal length (cm)  sepal width (cm)  petal length (cm)  \\\n",
      "sepal length (cm)           0.685694         -0.042434           1.274315   \n",
      "sepal width (cm)           -0.042434          0.189979          -0.329656   \n",
      "petal length (cm)           1.274315         -0.329656           3.116278   \n",
      "petal width (cm)            0.516271         -0.121639           1.295609   \n",
      "\n",
      "                   petal width (cm)  \n",
      "sepal length (cm)          0.516271  \n",
      "sepal width (cm)          -0.121639  \n",
      "petal length (cm)          1.295609  \n",
      "petal width (cm)           0.581006  \n",
      "                   sepal length (cm)  sepal width (cm)  petal length (cm)  \\\n",
      "sepal length (cm)           1.000000         -0.117570           0.871754   \n",
      "sepal width (cm)           -0.117570          1.000000          -0.428440   \n",
      "petal length (cm)           0.871754         -0.428440           1.000000   \n",
      "petal width (cm)            0.817941         -0.366126           0.962865   \n",
      "\n",
      "                   petal width (cm)  \n",
      "sepal length (cm)          0.817941  \n",
      "sepal width (cm)          -0.366126  \n",
      "petal length (cm)          0.962865  \n",
      "petal width (cm)           1.000000  \n"
     ]
    }
   ],
   "source": [
    "print (irisDF.cov())\n",
    "print (irisDF.corr())"
   ]
  },
  {
   "cell_type": "markdown",
   "id": "headed-metro",
   "metadata": {},
   "source": [
    "***"
   ]
  },
  {
   "cell_type": "code",
   "execution_count": null,
   "id": "round-absolute",
   "metadata": {},
   "outputs": [],
   "source": [
    "import tweepy, json\n",
    "CONSUMER_KEY = 'mX------------------------------------'\n",
    "CONSUMER_SECRET = '------------------------------------------------------------------------'\n",
    "ACCESS_KEY = '-----------------------------------------------------------------------'\n",
    "ACCESS_SECRET = '---------------------------------------------------------'\n",
    "auth = tweepy.OAuthHandler(CONSUMER_KEY, CONSUMER_SECRET)\n",
    "auth.set_access_token(ACCESS_KEY, ACCESS_SECRET)\n",
    "api = tweepy.API(auth)\n",
    "trends1 = api.trends_place(1)\n",
    "print trends1"
   ]
  },
  {
   "cell_type": "markdown",
   "id": "interpreted-variable",
   "metadata": {},
   "source": [
    "***"
   ]
  },
  {
   "cell_type": "code",
   "execution_count": null,
   "id": "biblical-syracuse",
   "metadata": {},
   "outputs": [],
   "source": [
    "from linkedin import linkedin\n",
    "API_KEY = '-------'\n",
    "API_SECRET = '---'\n",
    "RETURN_URL = 'http://localhost:8000'\n",
    "authentication = linkedin.LinkedInAuthentication(API_KEY, API_SECRET, RETURN_URL,\n",
    "linkedin.PERMISSIONS.enums.values())\n",
    "print authentication.authorization_url # open this url on your browser\n",
    "application = linkedin.LinkedInApplication(authentication)\n",
    "authentication.authorization_code = ‘-----------------------------------'\n",
    "authentication.get_access_token()\n",
    "connections = application.get_connections()\n",
    "print connections"
   ]
  },
  {
   "cell_type": "markdown",
   "id": "municipal-greene",
   "metadata": {},
   "source": [
    "***"
   ]
  },
  {
   "cell_type": "code",
   "execution_count": null,
   "id": "finished-federal",
   "metadata": {},
   "outputs": [],
   "source": [
    "import facebook\n",
    "# how to get the access token https://developers.facebook.com/docs/graph-api/overview\n",
    "graph = facebook.GraphAPI(oauth_access_token)\n",
    "profile = graph.get_object(\"me\")\n",
    "friends = graph.get_connections(\"me\", \"friends\")\n",
    "graph.put_object(\"me\", \"feed\", message=\"Posting in my wall\")"
   ]
  },
  {
   "cell_type": "markdown",
   "id": "desirable-supplier",
   "metadata": {},
   "source": [
    "***"
   ]
  },
  {
   "cell_type": "code",
   "execution_count": null,
   "id": "loose-judge",
   "metadata": {},
   "outputs": [],
   "source": [
    "from pyspark import SparkContext\n",
    "from pyspark.mllib.feature import HashingTF\n",
    "from pyspark.mllib.feature import IDF\n",
    "sc = SparkContext()\n",
    "# Load documents (one per line).\n",
    "documents = sc.textFile(\"...\").map(lambda line: line.split(\" \"))\n",
    "#hash the terms and compute the TF on documents\n",
    "hashingTF = HashingTF()\n",
    "tf = hashingTF.transform(documents)\n",
    "# force the real computation\n",
    "tf.cache()\n",
    "# compute the global IDF: ignore too rare terms < 2 documents\n",
    "idf = IDF(minDocFreq=2).fit(tf)\n",
    "# do the TFxIDF in a distributed fashion\n",
    "tfidf = idf.transform(tf)"
   ]
  },
  {
   "cell_type": "markdown",
   "id": "structural-computer",
   "metadata": {},
   "source": [
    "***"
   ]
  },
  {
   "cell_type": "code",
   "execution_count": 2,
   "id": "south-wagon",
   "metadata": {},
   "outputs": [
    {
     "data": {
      "image/png": "[encoded data removed]",
      "text/plain": [
       "<Figure size 432x288 with 1 Axes>"
      ]
     },
     "metadata": {
      "needs_background": "light"
     },
     "output_type": "display_data"
    }
   ],
   "source": [
    "import numpy as np\n",
    "import pylab\n",
    "import scipy.stats as stats\n",
    "\n",
    "measurements = np.random.normal(loc=40, scale=10, size=80)\n",
    "stats.probplot(measurements, dist=\"norm\", plot=pylab)\n",
    "pylab.show()"
   ]
  },
  {
   "cell_type": "markdown",
   "id": "european-methodology",
   "metadata": {},
   "source": [
    "K-Neighbors implementation\n",
    "\n",
    "+ Obtaining the data\n",
    "+ Querying the nearest neighbors"
   ]
  },
  {
   "cell_type": "code",
   "execution_count": 14,
   "id": "clean-binary",
   "metadata": {},
   "outputs": [
    {
     "ename": "SyntaxError",
     "evalue": "invalid syntax (<ipython-input-14-7f5412bab29e>, line 29)",
     "output_type": "error",
     "traceback": [
      "\u001b[1;36m  File \u001b[1;32m\"<ipython-input-14-7f5412bab29e>\"\u001b[1;36m, line \u001b[1;32m29\u001b[0m\n\u001b[1;33m    for train_point, train_label in zip(self.x, self.y)]\u001b[0m\n\u001b[1;37m      ^\u001b[0m\n\u001b[1;31mSyntaxError\u001b[0m\u001b[1;31m:\u001b[0m invalid syntax\n"
     ]
    }
   ],
   "source": [
    "from collections import Counter\n",
    "class KNN:\n",
    "    def __init__(self):\n",
    "        self.x = None # training data\n",
    "        self.y = None # gold labes\n",
    "        \n",
    "    # O(1) Space and Time complexity\n",
    "    def train(self, x, y):\n",
    "        self.x = x\n",
    "        self.y = y\n",
    "    \n",
    "    def get_distance(point_1, point_2):\n",
    "        return np.sqrt((point_1[0] - point_2[0])**2 + (point_1[1] - point_2[1])**2)\n",
    "    \n",
    "    # Regression\n",
    "    def predict(self, x, k):\n",
    "        distance_label = [\n",
    "            (self.distance(x, train_point), train_label) \n",
    "                          for train_point, train_label \n",
    "                          in zip(self.x, self.y)]\n",
    "        \n",
    "        neighbors = sorted(distance_label)[:k]  # k is the number of neighbors to query        \n",
    "        \n",
    "        return (sum(label for _, label in neighbors) / k)\n",
    "    \n",
    "    # Classification\n",
    "    def predict_class(self, x, k):\n",
    "        distance_label = [(self.distance(x, train_point), train_label),\n",
    "                         for train_point, train_label in zip(self.x, self.y)]\n",
    "        \n",
    "        neighbors = sorted(distance_label)[:k]  # k is the number of neighbors to query        \n",
    "        \n",
    "        neighbors_labels = [label for dist, label in neighbors]\n",
    "        \n",
    "        return Counter(neighbors_labels.most_common()[0][0])"
   ]
  },
  {
   "cell_type": "code",
   "execution_count": 5,
   "id": "active-gilbert",
   "metadata": {},
   "outputs": [],
   "source": [
    "?sorted"
   ]
  },
  {
   "cell_type": "code",
   "execution_count": null,
   "id": "confidential-being",
   "metadata": {},
   "outputs": [],
   "source": []
  },
  {
   "cell_type": "code",
   "execution_count": null,
   "id": "electronic-spring",
   "metadata": {},
   "outputs": [],
   "source": []
  },
  {
   "cell_type": "code",
   "execution_count": null,
   "id": "together-projection",
   "metadata": {},
   "outputs": [],
   "source": []
  }
 ],
 "metadata": {
  "kernelspec": {
   "display_name": "Python 3",
   "language": "python",
   "name": "python3"
  },
  "language_info": {
   "codemirror_mode": {
    "name": "ipython",
    "version": 3
   },
   "file_extension": ".py",
   "mimetype": "text/x-python",
   "name": "python",
   "nbconvert_exporter": "python",
   "pygments_lexer": "ipython3",
   "version": "3.7.4"
  }
 },
 "nbformat": 4,
 "nbformat_minor": 5
}
