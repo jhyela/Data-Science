{
 "cells": [
  {
   "cell_type": "markdown",
   "id": "hidden-landscape",
   "metadata": {},
   "source": [
    "**Author: Christian Camilo Urcuqui López**\n"
   ]
  },
  {
   "cell_type": "markdown",
   "id": "educated-generic",
   "metadata": {},
   "source": [
    "The information about the challenge was taken from https://data.birmingham.gov.uk/dataset/purchase-card-transactions\n",
    "\n",
    "***\n",
    "\n",
    "Under the Code of Recommended Practice for Local Authorities on Data Transparency, councils are encouraged to publish all corporate purchase card transactions.\n",
    "\n",
    "We already publish details of all our relevant expenditure of more than £500 within our Payments to Suppliers page, and will continue to do so. However, in the spirit of the Code, the Council started publishing all purchase card transactions, regardless of value, from the April 2014 card statement. The information will be published monthly.\n",
    "\n",
    "As with our payments to suppliers, we aim to be as transparent as we can, but in some cases we will need to respect information that could be seen as commercially sensitive or where the payment relates to vulnerable young people or adults. In these cases information is withheld as it is personal data. For further information about personal data, please see birmingham.gov.uk/foi.\n",
    "\n",
    "If you require further information about any of the payments, please contact foi.mailbox@birmingham.gov.uk setting out the details of the payment and what additional information you require. Such request will be handled under the Freedom of Information Act 2000, and the Council aims to be able to provide a response to your query within 20 working days.\n",
    "\n",
    "PLEASE NOTE - FROM JANUARY 2018 EACH MONTHLY PURCHASE CARD PAYMENTS REPORT WILL BE PUBLISHED AS A STANDALONE DOCUMENT. THE LINK BELOW WILL TAKE YOU DIRECT TO THE LIST OF PUBLISHED STATISTICS FROM WHICH YOU WILL BE ABLE TO EXTRACT THE INFORMATION YOU REQUIRE:\n",
    "***\n"
   ]
  },
  {
   "cell_type": "markdown",
   "id": "informed-registrar",
   "metadata": {},
   "source": [
    "According to the website previously cited we have files for each month from april 2014 to january 2018; these datasets are going to have information about Purchase Card Transactions from the Birmingham City Council."
   ]
  },
  {
   "cell_type": "code",
   "execution_count": 1,
   "id": "distant-processing",
   "metadata": {},
   "outputs": [],
   "source": [
    "import pandas as pd\n",
    "import os \n",
    "import warnings\n",
    "warnings.filterwarnings('ignore')"
   ]
  },
  {
   "cell_type": "markdown",
   "id": "governing-cabin",
   "metadata": {},
   "source": [
    "**Table of Contents**\n",
    "\n",
    "[EDA](#EDA)\n",
    "| [Exploring](#Exploring)\n",
    "| [Cleaning](#Cleaning)\n",
    "| [Conclusions](#Conclusions)\n",
    "| [Modeling](#Modeling)\n",
    "| [Results](#Results)\n",
    "\n",
    "---"
   ]
  },
  {
   "cell_type": "markdown",
   "id": "purple-nickname",
   "metadata": {},
   "source": [
    "# EDA"
   ]
  },
  {
   "cell_type": "markdown",
   "id": "historic-commitment",
   "metadata": {},
   "source": [
    "## Exploring"
   ]
  },
  {
   "cell_type": "markdown",
   "id": "behavioral-implementation",
   "metadata": {},
   "source": [
    "### 2018"
   ]
  },
  {
   "cell_type": "markdown",
   "id": "mighty-number",
   "metadata": {},
   "source": [
    "Let's explore the transactions of 2018"
   ]
  },
  {
   "cell_type": "code",
   "execution_count": 2,
   "id": "received-techno",
   "metadata": {},
   "outputs": [
    {
     "data": {
      "text/html": [
       "<div>\n",
       "<style scoped>\n",
       "    .dataframe tbody tr th:only-of-type {\n",
       "        vertical-align: middle;\n",
       "    }\n",
       "\n",
       "    .dataframe tbody tr th {\n",
       "        vertical-align: top;\n",
       "    }\n",
       "\n",
       "    .dataframe thead th {\n",
       "        text-align: right;\n",
       "    }\n",
       "</style>\n",
       "<table border=\"1\" class=\"dataframe\">\n",
       "  <thead>\n",
       "    <tr style=\"text-align: right;\">\n",
       "      <th></th>\n",
       "      <th>TRANS DATE</th>\n",
       "      <th>TRANS VAT DESC</th>\n",
       "      <th>ORIGINAL GROSS AMT</th>\n",
       "      <th>ORIGINAL CUR</th>\n",
       "      <th>BILLING GROSS AMT</th>\n",
       "      <th>BILLING CUR CODE</th>\n",
       "      <th>MERCHANT NAME</th>\n",
       "      <th>CARD NUMBER</th>\n",
       "      <th>TRANS CAC CODE 1</th>\n",
       "      <th>TRANS CAC DESC 1</th>\n",
       "      <th>TRANS CAC CODE 2</th>\n",
       "      <th>TRANS CAC DESC 2</th>\n",
       "      <th>TRANS CAC CODE 3</th>\n",
       "      <th>Directorate</th>\n",
       "    </tr>\n",
       "  </thead>\n",
       "  <tbody>\n",
       "    <tr>\n",
       "      <th>0</th>\n",
       "      <td>2018-01-03</td>\n",
       "      <td>VR</td>\n",
       "      <td>82.20</td>\n",
       "      <td>GBP</td>\n",
       "      <td>82.20</td>\n",
       "      <td>GBP</td>\n",
       "      <td>mrh six ways</td>\n",
       "      <td>************5804</td>\n",
       "      <td>K020</td>\n",
       "      <td>Vehicle Fuel</td>\n",
       "      <td>RVA11</td>\n",
       "      <td>Beeches GOLDD</td>\n",
       "      <td>A00</td>\n",
       "      <td>Adult Social Care and Health</td>\n",
       "    </tr>\n",
       "    <tr>\n",
       "      <th>1</th>\n",
       "      <td>2018-02-05</td>\n",
       "      <td>VR</td>\n",
       "      <td>60.00</td>\n",
       "      <td>GBP</td>\n",
       "      <td>60.00</td>\n",
       "      <td>GBP</td>\n",
       "      <td>malthurst limited</td>\n",
       "      <td>************5804</td>\n",
       "      <td>K020</td>\n",
       "      <td>Vehicle Fuel</td>\n",
       "      <td>RVA11</td>\n",
       "      <td>Beeches GOLDD</td>\n",
       "      <td>A00</td>\n",
       "      <td>Adult Social Care and Health</td>\n",
       "    </tr>\n",
       "    <tr>\n",
       "      <th>2</th>\n",
       "      <td>2018-01-29</td>\n",
       "      <td>VR</td>\n",
       "      <td>50.00</td>\n",
       "      <td>GBP</td>\n",
       "      <td>50.00</td>\n",
       "      <td>GBP</td>\n",
       "      <td>beeches road servi</td>\n",
       "      <td>************5804</td>\n",
       "      <td>K020</td>\n",
       "      <td>Vehicle Fuel</td>\n",
       "      <td>RVA11</td>\n",
       "      <td>Beeches GOLDD</td>\n",
       "      <td>A00</td>\n",
       "      <td>Adult Social Care and Health</td>\n",
       "    </tr>\n",
       "    <tr>\n",
       "      <th>3</th>\n",
       "      <td>2018-01-19</td>\n",
       "      <td>VR</td>\n",
       "      <td>45.00</td>\n",
       "      <td>GBP</td>\n",
       "      <td>45.00</td>\n",
       "      <td>GBP</td>\n",
       "      <td>beeches road servi</td>\n",
       "      <td>************5804</td>\n",
       "      <td>K020</td>\n",
       "      <td>Vehicle Fuel</td>\n",
       "      <td>RVA11</td>\n",
       "      <td>Beeches GOLDD</td>\n",
       "      <td>A00</td>\n",
       "      <td>Adult Social Care and Health</td>\n",
       "    </tr>\n",
       "    <tr>\n",
       "      <th>4</th>\n",
       "      <td>2018-01-18</td>\n",
       "      <td>VR</td>\n",
       "      <td>77.49</td>\n",
       "      <td>GBP</td>\n",
       "      <td>77.49</td>\n",
       "      <td>GBP</td>\n",
       "      <td>rontec moseley</td>\n",
       "      <td>************2823</td>\n",
       "      <td>K020</td>\n",
       "      <td>Vehicle Fuel</td>\n",
       "      <td>RV191</td>\n",
       "      <td>Moseley Day Centre</td>\n",
       "      <td>A00</td>\n",
       "      <td>Adult Social Care and Health</td>\n",
       "    </tr>\n",
       "  </tbody>\n",
       "</table>\n",
       "</div>"
      ],
      "text/plain": [
       "  TRANS DATE TRANS VAT DESC  ORIGINAL GROSS AMT ORIGINAL CUR  \\\n",
       "0 2018-01-03             VR               82.20          GBP   \n",
       "1 2018-02-05             VR               60.00          GBP   \n",
       "2 2018-01-29             VR               50.00          GBP   \n",
       "3 2018-01-19             VR               45.00          GBP   \n",
       "4 2018-01-18             VR               77.49          GBP   \n",
       "\n",
       "   BILLING GROSS AMT BILLING CUR CODE       MERCHANT NAME       CARD NUMBER  \\\n",
       "0              82.20              GBP        mrh six ways  ************5804   \n",
       "1              60.00              GBP   malthurst limited  ************5804   \n",
       "2              50.00              GBP  beeches road servi  ************5804   \n",
       "3              45.00              GBP  beeches road servi  ************5804   \n",
       "4              77.49              GBP      rontec moseley  ************2823   \n",
       "\n",
       "  TRANS CAC CODE 1 TRANS CAC DESC 1 TRANS CAC CODE 2    TRANS CAC DESC 2  \\\n",
       "0             K020     Vehicle Fuel            RVA11       Beeches GOLDD   \n",
       "1             K020     Vehicle Fuel            RVA11       Beeches GOLDD   \n",
       "2             K020     Vehicle Fuel            RVA11       Beeches GOLDD   \n",
       "3             K020     Vehicle Fuel            RVA11       Beeches GOLDD   \n",
       "4             K020     Vehicle Fuel            RV191  Moseley Day Centre   \n",
       "\n",
       "  TRANS CAC CODE 3                   Directorate  \n",
       "0              A00  Adult Social Care and Health  \n",
       "1              A00  Adult Social Care and Health  \n",
       "2              A00  Adult Social Care and Health  \n",
       "3              A00  Adult Social Care and Health  \n",
       "4              A00  Adult Social Care and Health  "
      ]
     },
     "execution_count": 2,
     "metadata": {},
     "output_type": "execute_result"
    }
   ],
   "source": [
    "path = \"D:/Github/Data-Science/Datasets/purchase_card/2018/cusersfinainmndesktoppublish-spend-january-2018.xls\"\n",
    "df = pd.read_excel(path)\n",
    "df.head()"
   ]
  },
  {
   "cell_type": "code",
   "execution_count": 3,
   "id": "thermal-sandwich",
   "metadata": {},
   "outputs": [
    {
     "name": "stdout",
     "output_type": "stream",
     "text": [
      "<class 'pandas.core.frame.DataFrame'>\n",
      "RangeIndex: 5640 entries, 0 to 5639\n",
      "Data columns (total 14 columns):\n",
      " #   Column              Non-Null Count  Dtype         \n",
      "---  ------              --------------  -----         \n",
      " 0   TRANS DATE          5640 non-null   datetime64[ns]\n",
      " 1   TRANS VAT DESC      5011 non-null   object        \n",
      " 2   ORIGINAL GROSS AMT  5640 non-null   float64       \n",
      " 3   ORIGINAL CUR        5640 non-null   object        \n",
      " 4   BILLING GROSS AMT   5640 non-null   float64       \n",
      " 5   BILLING CUR CODE    5640 non-null   object        \n",
      " 6   MERCHANT NAME       5640 non-null   object        \n",
      " 7   CARD NUMBER         5640 non-null   object        \n",
      " 8   TRANS CAC CODE 1    5636 non-null   object        \n",
      " 9   TRANS CAC DESC 1    5636 non-null   object        \n",
      " 10  TRANS CAC CODE 2    5632 non-null   object        \n",
      " 11  TRANS CAC DESC 2    5632 non-null   object        \n",
      " 12  TRANS CAC CODE 3    5631 non-null   object        \n",
      " 13  Directorate         5640 non-null   object        \n",
      "dtypes: datetime64[ns](1), float64(2), object(11)\n",
      "memory usage: 617.0+ KB\n"
     ]
    }
   ],
   "source": [
    "df.info()"
   ]
  },
  {
   "cell_type": "markdown",
   "id": "blind-scale",
   "metadata": {},
   "source": [
    "According to the last summary we have some NaN values that need to be process, let's review some of them "
   ]
  },
  {
   "cell_type": "code",
   "execution_count": 4,
   "id": "false-mineral",
   "metadata": {},
   "outputs": [
    {
     "data": {
      "text/html": [
       "<div>\n",
       "<style scoped>\n",
       "    .dataframe tbody tr th:only-of-type {\n",
       "        vertical-align: middle;\n",
       "    }\n",
       "\n",
       "    .dataframe tbody tr th {\n",
       "        vertical-align: top;\n",
       "    }\n",
       "\n",
       "    .dataframe thead th {\n",
       "        text-align: right;\n",
       "    }\n",
       "</style>\n",
       "<table border=\"1\" class=\"dataframe\">\n",
       "  <thead>\n",
       "    <tr style=\"text-align: right;\">\n",
       "      <th></th>\n",
       "      <th>TRANS DATE</th>\n",
       "      <th>TRANS VAT DESC</th>\n",
       "      <th>ORIGINAL GROSS AMT</th>\n",
       "      <th>ORIGINAL CUR</th>\n",
       "      <th>BILLING GROSS AMT</th>\n",
       "      <th>BILLING CUR CODE</th>\n",
       "      <th>MERCHANT NAME</th>\n",
       "      <th>CARD NUMBER</th>\n",
       "      <th>TRANS CAC CODE 1</th>\n",
       "      <th>TRANS CAC DESC 1</th>\n",
       "      <th>TRANS CAC CODE 2</th>\n",
       "      <th>TRANS CAC DESC 2</th>\n",
       "      <th>TRANS CAC CODE 3</th>\n",
       "      <th>Directorate</th>\n",
       "    </tr>\n",
       "  </thead>\n",
       "  <tbody>\n",
       "    <tr>\n",
       "      <th>0</th>\n",
       "      <td>NaT</td>\n",
       "      <td>NaN</td>\n",
       "      <td>NaN</td>\n",
       "      <td>NaN</td>\n",
       "      <td>NaN</td>\n",
       "      <td>NaN</td>\n",
       "      <td>NaN</td>\n",
       "      <td>NaN</td>\n",
       "      <td>NaN</td>\n",
       "      <td>NaN</td>\n",
       "      <td>NaN</td>\n",
       "      <td>NaN</td>\n",
       "      <td>NaN</td>\n",
       "      <td>NaN</td>\n",
       "    </tr>\n",
       "    <tr>\n",
       "      <th>1</th>\n",
       "      <td>NaT</td>\n",
       "      <td>NaN</td>\n",
       "      <td>NaN</td>\n",
       "      <td>NaN</td>\n",
       "      <td>NaN</td>\n",
       "      <td>NaN</td>\n",
       "      <td>NaN</td>\n",
       "      <td>NaN</td>\n",
       "      <td>NaN</td>\n",
       "      <td>NaN</td>\n",
       "      <td>NaN</td>\n",
       "      <td>NaN</td>\n",
       "      <td>NaN</td>\n",
       "      <td>NaN</td>\n",
       "    </tr>\n",
       "    <tr>\n",
       "      <th>2</th>\n",
       "      <td>NaT</td>\n",
       "      <td>NaN</td>\n",
       "      <td>NaN</td>\n",
       "      <td>NaN</td>\n",
       "      <td>NaN</td>\n",
       "      <td>NaN</td>\n",
       "      <td>NaN</td>\n",
       "      <td>NaN</td>\n",
       "      <td>NaN</td>\n",
       "      <td>NaN</td>\n",
       "      <td>NaN</td>\n",
       "      <td>NaN</td>\n",
       "      <td>NaN</td>\n",
       "      <td>NaN</td>\n",
       "    </tr>\n",
       "    <tr>\n",
       "      <th>3</th>\n",
       "      <td>NaT</td>\n",
       "      <td>NaN</td>\n",
       "      <td>NaN</td>\n",
       "      <td>NaN</td>\n",
       "      <td>NaN</td>\n",
       "      <td>NaN</td>\n",
       "      <td>NaN</td>\n",
       "      <td>NaN</td>\n",
       "      <td>NaN</td>\n",
       "      <td>NaN</td>\n",
       "      <td>NaN</td>\n",
       "      <td>NaN</td>\n",
       "      <td>NaN</td>\n",
       "      <td>NaN</td>\n",
       "    </tr>\n",
       "    <tr>\n",
       "      <th>4</th>\n",
       "      <td>NaT</td>\n",
       "      <td>NaN</td>\n",
       "      <td>NaN</td>\n",
       "      <td>NaN</td>\n",
       "      <td>NaN</td>\n",
       "      <td>NaN</td>\n",
       "      <td>NaN</td>\n",
       "      <td>NaN</td>\n",
       "      <td>NaN</td>\n",
       "      <td>NaN</td>\n",
       "      <td>NaN</td>\n",
       "      <td>NaN</td>\n",
       "      <td>NaN</td>\n",
       "      <td>NaN</td>\n",
       "    </tr>\n",
       "    <tr>\n",
       "      <th>...</th>\n",
       "      <td>...</td>\n",
       "      <td>...</td>\n",
       "      <td>...</td>\n",
       "      <td>...</td>\n",
       "      <td>...</td>\n",
       "      <td>...</td>\n",
       "      <td>...</td>\n",
       "      <td>...</td>\n",
       "      <td>...</td>\n",
       "      <td>...</td>\n",
       "      <td>...</td>\n",
       "      <td>...</td>\n",
       "      <td>...</td>\n",
       "      <td>...</td>\n",
       "    </tr>\n",
       "    <tr>\n",
       "      <th>5635</th>\n",
       "      <td>NaT</td>\n",
       "      <td>NaN</td>\n",
       "      <td>NaN</td>\n",
       "      <td>NaN</td>\n",
       "      <td>NaN</td>\n",
       "      <td>NaN</td>\n",
       "      <td>NaN</td>\n",
       "      <td>NaN</td>\n",
       "      <td>NaN</td>\n",
       "      <td>NaN</td>\n",
       "      <td>NaN</td>\n",
       "      <td>NaN</td>\n",
       "      <td>NaN</td>\n",
       "      <td>NaN</td>\n",
       "    </tr>\n",
       "    <tr>\n",
       "      <th>5636</th>\n",
       "      <td>NaT</td>\n",
       "      <td>NaN</td>\n",
       "      <td>NaN</td>\n",
       "      <td>NaN</td>\n",
       "      <td>NaN</td>\n",
       "      <td>NaN</td>\n",
       "      <td>NaN</td>\n",
       "      <td>NaN</td>\n",
       "      <td>NaN</td>\n",
       "      <td>NaN</td>\n",
       "      <td>NaN</td>\n",
       "      <td>NaN</td>\n",
       "      <td>NaN</td>\n",
       "      <td>NaN</td>\n",
       "    </tr>\n",
       "    <tr>\n",
       "      <th>5637</th>\n",
       "      <td>NaT</td>\n",
       "      <td>NaN</td>\n",
       "      <td>NaN</td>\n",
       "      <td>NaN</td>\n",
       "      <td>NaN</td>\n",
       "      <td>NaN</td>\n",
       "      <td>NaN</td>\n",
       "      <td>NaN</td>\n",
       "      <td>NaN</td>\n",
       "      <td>NaN</td>\n",
       "      <td>NaN</td>\n",
       "      <td>NaN</td>\n",
       "      <td>NaN</td>\n",
       "      <td>NaN</td>\n",
       "    </tr>\n",
       "    <tr>\n",
       "      <th>5638</th>\n",
       "      <td>NaT</td>\n",
       "      <td>NaN</td>\n",
       "      <td>NaN</td>\n",
       "      <td>NaN</td>\n",
       "      <td>NaN</td>\n",
       "      <td>NaN</td>\n",
       "      <td>NaN</td>\n",
       "      <td>NaN</td>\n",
       "      <td>NaN</td>\n",
       "      <td>NaN</td>\n",
       "      <td>NaN</td>\n",
       "      <td>NaN</td>\n",
       "      <td>NaN</td>\n",
       "      <td>NaN</td>\n",
       "    </tr>\n",
       "    <tr>\n",
       "      <th>5639</th>\n",
       "      <td>NaT</td>\n",
       "      <td>NaN</td>\n",
       "      <td>NaN</td>\n",
       "      <td>NaN</td>\n",
       "      <td>NaN</td>\n",
       "      <td>NaN</td>\n",
       "      <td>NaN</td>\n",
       "      <td>NaN</td>\n",
       "      <td>NaN</td>\n",
       "      <td>NaN</td>\n",
       "      <td>NaN</td>\n",
       "      <td>NaN</td>\n",
       "      <td>NaN</td>\n",
       "      <td>NaN</td>\n",
       "    </tr>\n",
       "  </tbody>\n",
       "</table>\n",
       "<p>5640 rows × 14 columns</p>\n",
       "</div>"
      ],
      "text/plain": [
       "     TRANS DATE TRANS VAT DESC  ORIGINAL GROSS AMT ORIGINAL CUR  \\\n",
       "0           NaT            NaN                 NaN          NaN   \n",
       "1           NaT            NaN                 NaN          NaN   \n",
       "2           NaT            NaN                 NaN          NaN   \n",
       "3           NaT            NaN                 NaN          NaN   \n",
       "4           NaT            NaN                 NaN          NaN   \n",
       "...         ...            ...                 ...          ...   \n",
       "5635        NaT            NaN                 NaN          NaN   \n",
       "5636        NaT            NaN                 NaN          NaN   \n",
       "5637        NaT            NaN                 NaN          NaN   \n",
       "5638        NaT            NaN                 NaN          NaN   \n",
       "5639        NaT            NaN                 NaN          NaN   \n",
       "\n",
       "      BILLING GROSS AMT BILLING CUR CODE MERCHANT NAME CARD NUMBER  \\\n",
       "0                   NaN              NaN           NaN         NaN   \n",
       "1                   NaN              NaN           NaN         NaN   \n",
       "2                   NaN              NaN           NaN         NaN   \n",
       "3                   NaN              NaN           NaN         NaN   \n",
       "4                   NaN              NaN           NaN         NaN   \n",
       "...                 ...              ...           ...         ...   \n",
       "5635                NaN              NaN           NaN         NaN   \n",
       "5636                NaN              NaN           NaN         NaN   \n",
       "5637                NaN              NaN           NaN         NaN   \n",
       "5638                NaN              NaN           NaN         NaN   \n",
       "5639                NaN              NaN           NaN         NaN   \n",
       "\n",
       "     TRANS CAC CODE 1 TRANS CAC DESC 1 TRANS CAC CODE 2 TRANS CAC DESC 2  \\\n",
       "0                 NaN              NaN              NaN              NaN   \n",
       "1                 NaN              NaN              NaN              NaN   \n",
       "2                 NaN              NaN              NaN              NaN   \n",
       "3                 NaN              NaN              NaN              NaN   \n",
       "4                 NaN              NaN              NaN              NaN   \n",
       "...               ...              ...              ...              ...   \n",
       "5635              NaN              NaN              NaN              NaN   \n",
       "5636              NaN              NaN              NaN              NaN   \n",
       "5637              NaN              NaN              NaN              NaN   \n",
       "5638              NaN              NaN              NaN              NaN   \n",
       "5639              NaN              NaN              NaN              NaN   \n",
       "\n",
       "     TRANS CAC CODE 3 Directorate  \n",
       "0                 NaN         NaN  \n",
       "1                 NaN         NaN  \n",
       "2                 NaN         NaN  \n",
       "3                 NaN         NaN  \n",
       "4                 NaN         NaN  \n",
       "...               ...         ...  \n",
       "5635              NaN         NaN  \n",
       "5636              NaN         NaN  \n",
       "5637              NaN         NaN  \n",
       "5638              NaN         NaN  \n",
       "5639              NaN         NaN  \n",
       "\n",
       "[5640 rows x 14 columns]"
      ]
     },
     "execution_count": 4,
     "metadata": {},
     "output_type": "execute_result"
    }
   ],
   "source": [
    "df[df.isna()]"
   ]
  },
  {
   "cell_type": "code",
   "execution_count": 5,
   "id": "subsequent-florence",
   "metadata": {},
   "outputs": [
    {
     "data": {
      "text/plain": [
       "(5640, 14)"
      ]
     },
     "execution_count": 5,
     "metadata": {},
     "output_type": "execute_result"
    }
   ],
   "source": [
    "df[df.isna()].shape"
   ]
  },
  {
   "cell_type": "code",
   "execution_count": 6,
   "id": "serial-termination",
   "metadata": {
    "scrolled": true
   },
   "outputs": [
    {
     "data": {
      "text/plain": [
       "TRANS DATE            0.000000\n",
       "TRANS VAT DESC        0.111525\n",
       "ORIGINAL GROSS AMT    0.000000\n",
       "ORIGINAL CUR          0.000000\n",
       "BILLING GROSS AMT     0.000000\n",
       "BILLING CUR CODE      0.000000\n",
       "MERCHANT NAME         0.000000\n",
       "CARD NUMBER           0.000000\n",
       "TRANS CAC CODE 1      0.000709\n",
       "TRANS CAC DESC 1      0.000709\n",
       "TRANS CAC CODE 2      0.001418\n",
       "TRANS CAC DESC 2      0.001418\n",
       "TRANS CAC CODE 3      0.001596\n",
       "Directorate           0.000000\n",
       "dtype: float64"
      ]
     },
     "execution_count": 6,
     "metadata": {},
     "output_type": "execute_result"
    }
   ],
   "source": [
    "df.isna().sum() / df.shape[0]"
   ]
  },
  {
   "cell_type": "markdown",
   "id": "biological-yield",
   "metadata": {},
   "source": [
    "the last analysis allows us to understand that the 11% of the feauture TRANS VAT DESC has the NaN registers "
   ]
  },
  {
   "cell_type": "markdown",
   "id": "brilliant-cornwall",
   "metadata": {},
   "source": [
    "### 2017"
   ]
  },
  {
   "cell_type": "markdown",
   "id": "basic-skiing",
   "metadata": {},
   "source": [
    "Let's explore the last months of 2017"
   ]
  },
  {
   "cell_type": "markdown",
   "id": "front-massage",
   "metadata": {},
   "source": [
    "*December*"
   ]
  },
  {
   "cell_type": "code",
   "execution_count": 7,
   "id": "emerging-holocaust",
   "metadata": {},
   "outputs": [
    {
     "data": {
      "text/html": [
       "<div>\n",
       "<style scoped>\n",
       "    .dataframe tbody tr th:only-of-type {\n",
       "        vertical-align: middle;\n",
       "    }\n",
       "\n",
       "    .dataframe tbody tr th {\n",
       "        vertical-align: top;\n",
       "    }\n",
       "\n",
       "    .dataframe thead th {\n",
       "        text-align: right;\n",
       "    }\n",
       "</style>\n",
       "<table border=\"1\" class=\"dataframe\">\n",
       "  <thead>\n",
       "    <tr style=\"text-align: right;\">\n",
       "      <th></th>\n",
       "      <th>REFERENCE</th>\n",
       "      <th>Category</th>\n",
       "      <th>Received_Date</th>\n",
       "      <th>LOCATION</th>\n",
       "      <th>DEV</th>\n",
       "      <th>Accepted</th>\n",
       "      <th>APPLICANT</th>\n",
       "      <th>AGENT</th>\n",
       "      <th>WARD</th>\n",
       "      <th>geom</th>\n",
       "    </tr>\n",
       "  </thead>\n",
       "  <tbody>\n",
       "    <tr>\n",
       "      <th>0</th>\n",
       "      <td>2018/00188/PA</td>\n",
       "      <td>Householder</td>\n",
       "      <td>11/01/2018</td>\n",
       "      <td>120 Oakfield Road, Selly Oak, Birmingham, B29 7ED</td>\n",
       "      <td>Replacement doors and windows, external insula...</td>\n",
       "      <td>11/01/2018</td>\n",
       "      <td>Mr and Mrs M Webb,120 Oakfield Road, Selly Oak...</td>\n",
       "      <td>Architecture For You, 236 Franklin Road, Bourn...</td>\n",
       "      <td>Selly Oak</td>\n",
       "      <td>NaN</td>\n",
       "    </tr>\n",
       "    <tr>\n",
       "      <th>1</th>\n",
       "      <td>2017/10761/PA</td>\n",
       "      <td>Advert</td>\n",
       "      <td>18/12/2017</td>\n",
       "      <td>Arya International Mini Market, 568 Bristol Ro...</td>\n",
       "      <td>Retention of internally illuminated ATM surround</td>\n",
       "      <td>11/01/2018</td>\n",
       "      <td>Cardtronics UK Ltd T/A Cashzone,PO Box 476, Ha...</td>\n",
       "      <td>Des Ager Design &amp; Planning Consultant, 1 Turne...</td>\n",
       "      <td>Selly Oak</td>\n",
       "      <td>NaN</td>\n",
       "    </tr>\n",
       "    <tr>\n",
       "      <th>2</th>\n",
       "      <td>2018/00011/PA</td>\n",
       "      <td>Householder</td>\n",
       "      <td>03/01/2018</td>\n",
       "      <td>16 Wyvern Grove, Birmingham, B29 6RN</td>\n",
       "      <td>Erection of single storey rear extension</td>\n",
       "      <td>10/01/2018</td>\n",
       "      <td>Mr J Foxall,16 Wyvern Grove, Birmingham, B29 6RN</td>\n",
       "      <td>Anglian Home Improvements, National Administra...</td>\n",
       "      <td>Selly Oak</td>\n",
       "      <td>NaN</td>\n",
       "    </tr>\n",
       "    <tr>\n",
       "      <th>3</th>\n",
       "      <td>2018/00117/PA</td>\n",
       "      <td>Householder</td>\n",
       "      <td>08/01/2018</td>\n",
       "      <td>9 Naunton Close, Selly Oak, Birmingham, B29 4DX</td>\n",
       "      <td>Erection of two storey front extension</td>\n",
       "      <td>12/01/2018</td>\n",
       "      <td>Mr Jose Sodre,9 Naunton Close, Selly Oak, Birm...</td>\n",
       "      <td>,</td>\n",
       "      <td>Weoley</td>\n",
       "      <td>NaN</td>\n",
       "    </tr>\n",
       "    <tr>\n",
       "      <th>4</th>\n",
       "      <td>2018/00191/PA</td>\n",
       "      <td>Householder</td>\n",
       "      <td>11/01/2018</td>\n",
       "      <td>145 Lichfield Road, Four Oaks, Sutton Coldfiel...</td>\n",
       "      <td>Erection of two storey side and rear extensions</td>\n",
       "      <td>11/01/2018</td>\n",
       "      <td>Mr Andrew Haslehurst,145 Lichfield Road, Four ...</td>\n",
       "      <td>K G Bramwell MCIAT, 65 Brookhus Farm Road, Wal...</td>\n",
       "      <td>Sutton Four Oaks</td>\n",
       "      <td>NaN</td>\n",
       "    </tr>\n",
       "  </tbody>\n",
       "</table>\n",
       "</div>"
      ],
      "text/plain": [
       "       REFERENCE     Category Received_Date  \\\n",
       "0  2018/00188/PA  Householder    11/01/2018   \n",
       "1  2017/10761/PA       Advert    18/12/2017   \n",
       "2  2018/00011/PA  Householder    03/01/2018   \n",
       "3  2018/00117/PA  Householder    08/01/2018   \n",
       "4  2018/00191/PA  Householder    11/01/2018   \n",
       "\n",
       "                                            LOCATION  \\\n",
       "0  120 Oakfield Road, Selly Oak, Birmingham, B29 7ED   \n",
       "1  Arya International Mini Market, 568 Bristol Ro...   \n",
       "2               16 Wyvern Grove, Birmingham, B29 6RN   \n",
       "3    9 Naunton Close, Selly Oak, Birmingham, B29 4DX   \n",
       "4  145 Lichfield Road, Four Oaks, Sutton Coldfiel...   \n",
       "\n",
       "                                                 DEV    Accepted  \\\n",
       "0  Replacement doors and windows, external insula...  11/01/2018   \n",
       "1   Retention of internally illuminated ATM surround  11/01/2018   \n",
       "2           Erection of single storey rear extension  10/01/2018   \n",
       "3             Erection of two storey front extension  12/01/2018   \n",
       "4    Erection of two storey side and rear extensions  11/01/2018   \n",
       "\n",
       "                                           APPLICANT  \\\n",
       "0  Mr and Mrs M Webb,120 Oakfield Road, Selly Oak...   \n",
       "1  Cardtronics UK Ltd T/A Cashzone,PO Box 476, Ha...   \n",
       "2   Mr J Foxall,16 Wyvern Grove, Birmingham, B29 6RN   \n",
       "3  Mr Jose Sodre,9 Naunton Close, Selly Oak, Birm...   \n",
       "4  Mr Andrew Haslehurst,145 Lichfield Road, Four ...   \n",
       "\n",
       "                                               AGENT              WARD  geom  \n",
       "0  Architecture For You, 236 Franklin Road, Bourn...         Selly Oak   NaN  \n",
       "1  Des Ager Design & Planning Consultant, 1 Turne...         Selly Oak   NaN  \n",
       "2  Anglian Home Improvements, National Administra...         Selly Oak   NaN  \n",
       "3                                                 ,             Weoley   NaN  \n",
       "4  K G Bramwell MCIAT, 65 Brookhus Farm Road, Wal...  Sutton Four Oaks   NaN  "
      ]
     },
     "execution_count": 7,
     "metadata": {},
     "output_type": "execute_result"
    }
   ],
   "source": [
    "path = \"D:/Github/Data-Science/Datasets/purchase_card/2017/\"\n",
    "df_two = pd.read_csv(path+ \"open_data_planning_weekly_list.csv\")\n",
    "df_two.head()"
   ]
  },
  {
   "cell_type": "code",
   "execution_count": 8,
   "id": "incredible-mouth",
   "metadata": {},
   "outputs": [
    {
     "data": {
      "text/plain": [
       "False"
      ]
     },
     "execution_count": 8,
     "metadata": {},
     "output_type": "execute_result"
    }
   ],
   "source": [
    "set(df_two.columns) == set(df.columns)"
   ]
  },
  {
   "cell_type": "markdown",
   "id": "operating-munich",
   "metadata": {},
   "source": [
    "We have something here. The last code allowed me to understand that the feature names are not the same, they need to be processed. "
   ]
  },
  {
   "cell_type": "code",
   "execution_count": 9,
   "id": "chief-maryland",
   "metadata": {},
   "outputs": [
    {
     "data": {
      "text/plain": [
       "{'accepted',\n",
       " 'agent',\n",
       " 'applicant',\n",
       " 'category',\n",
       " 'dev',\n",
       " 'geom',\n",
       " 'location',\n",
       " 'received_date',\n",
       " 'reference',\n",
       " 'ward'}"
      ]
     },
     "execution_count": 9,
     "metadata": {},
     "output_type": "execute_result"
    }
   ],
   "source": [
    "set(df_two.columns.str.lower()) - set(df.columns.str.lower())"
   ]
  },
  {
   "cell_type": "markdown",
   "id": "heavy-cutting",
   "metadata": {},
   "source": [
    "we have that the feature names are different between december 2017 and january 2018."
   ]
  },
  {
   "cell_type": "markdown",
   "id": "systematic-showcase",
   "metadata": {},
   "source": [
    "is this the same for december and november in 2017?"
   ]
  },
  {
   "cell_type": "code",
   "execution_count": 10,
   "id": "departmental-sharing",
   "metadata": {},
   "outputs": [
    {
     "data": {
      "text/plain": [
       "{'billing cur code',\n",
       " 'billing gross amt',\n",
       " 'card number',\n",
       " 'directorate',\n",
       " 'merchant name',\n",
       " 'original cur',\n",
       " 'original gross amt',\n",
       " 'trans cac code 1',\n",
       " 'trans cac code 2',\n",
       " 'trans cac code 3',\n",
       " 'trans cac desc 1',\n",
       " 'trans cac desc 2',\n",
       " 'trans date',\n",
       " 'trans vat desc'}"
      ]
     },
     "execution_count": 10,
     "metadata": {},
     "output_type": "execute_result"
    }
   ],
   "source": [
    "path = \"D:/Github/Data-Science/Datasets/purchase_card/2017/\"\n",
    "set(pd.read_excel(path+\"cusersfinainmndesktoppublish-spend-november-2017-all-directorates.xls\").columns.str.lower())- set(pd.read_csv(path+\"open_data_planning_weekly_list.csv\").columns.str.lower())"
   ]
  },
  {
   "cell_type": "markdown",
   "id": "increased-spotlight",
   "metadata": {},
   "source": [
    "is the same thing happens in november and october?"
   ]
  },
  {
   "cell_type": "code",
   "execution_count": 11,
   "id": "dominant-shuttle",
   "metadata": {},
   "outputs": [
    {
     "data": {
      "text/plain": [
       "{'directorates'}"
      ]
     },
     "execution_count": 11,
     "metadata": {},
     "output_type": "execute_result"
    }
   ],
   "source": [
    "path = \"D:/Github/Data-Science/Datasets/purchase_card/2017/\"\n",
    "set(pd.read_excel(path+\"cusersfinainmndesktoppublish-spend-october-2017-all-directorates.xls\").columns.str.lower())- set(pd.read_excel(path+\"cusersfinainmndesktoppublish-spend-november-2017-all-directorates.xls\").columns.str.lower())"
   ]
  },
  {
   "cell_type": "markdown",
   "id": "annual-trigger",
   "metadata": {},
   "source": [
    "According to these months we have some problems about the integrity of the feature names."
   ]
  },
  {
   "cell_type": "markdown",
   "id": "adverse-repeat",
   "metadata": {},
   "source": [
    "is the same thing happens in september and october?"
   ]
  },
  {
   "cell_type": "code",
   "execution_count": 12,
   "id": "parliamentary-dryer",
   "metadata": {},
   "outputs": [
    {
     "data": {
      "text/plain": [
       "{'directorates'}"
      ]
     },
     "execution_count": 12,
     "metadata": {},
     "output_type": "execute_result"
    }
   ],
   "source": [
    "set(pd.read_excel(path+\"cusersfinainmndesktoppublish-spend-october-2017-all-directorates.xls\").columns.str.lower())- set(pd.read_excel(path+\"cusersfinainmndesktoppublish-spend-sept-2017.xls\").columns.str.lower())"
   ]
  },
  {
   "cell_type": "markdown",
   "id": "sufficient-tanzania",
   "metadata": {},
   "source": [
    "is the same thing happens in september and august?"
   ]
  },
  {
   "cell_type": "code",
   "execution_count": 13,
   "id": "smart-immune",
   "metadata": {},
   "outputs": [
    {
     "data": {
      "text/plain": [
       "set()"
      ]
     },
     "execution_count": 13,
     "metadata": {},
     "output_type": "execute_result"
    }
   ],
   "source": [
    "set(pd.read_excel(path+\"cusersfinainmndesktoppublish-spend-august-2017-all-directorates.xls\").columns.str.lower())- set(pd.read_excel(path+\"cusersfinainmndesktoppublish-spend-sept-2017.xls\").columns.str.lower())"
   ]
  },
  {
   "cell_type": "markdown",
   "id": "checked-breakfast",
   "metadata": {},
   "source": [
    "the last two months are good "
   ]
  },
  {
   "cell_type": "code",
   "execution_count": 14,
   "id": "alert-rachel",
   "metadata": {},
   "outputs": [
    {
     "data": {
      "text/plain": [
       "set()"
      ]
     },
     "execution_count": 14,
     "metadata": {},
     "output_type": "execute_result"
    }
   ],
   "source": [
    "set(pd.read_excel(path+\"cusersfinainmndesktoppublish-spend-august-2017-all-directorates.xls\").columns.str.lower())- set(pd.read_excel(path+\"cusersfinainmndesktoppublish-spend-july-2017.xls\").columns.str.lower())"
   ]
  },
  {
   "cell_type": "markdown",
   "id": "downtown-dining",
   "metadata": {},
   "source": [
    "*NaN analysis in 2017*"
   ]
  },
  {
   "cell_type": "code",
   "execution_count": 16,
   "id": "optional-swedish",
   "metadata": {},
   "outputs": [
    {
     "data": {
      "text/plain": [
       "REFERENCE          0\n",
       "Category           0\n",
       "Received_Date      0\n",
       "LOCATION           0\n",
       "DEV                0\n",
       "Accepted           0\n",
       "APPLICANT          0\n",
       "AGENT              0\n",
       "WARD               0\n",
       "geom             151\n",
       "dtype: int64"
      ]
     },
     "execution_count": 16,
     "metadata": {},
     "output_type": "execute_result"
    }
   ],
   "source": [
    "# december\n",
    "df_two.isna().sum()"
   ]
  },
  {
   "cell_type": "code",
   "execution_count": 17,
   "id": "chinese-mother",
   "metadata": {},
   "outputs": [
    {
     "data": {
      "text/plain": [
       "TRANS DATE              0\n",
       "TRANS VAT DESC        562\n",
       "ORIGINAL GROSS AMT      0\n",
       "ORIGINAL CUR            0\n",
       "BILLING GROSS AMT       0\n",
       "BILLING CUR CODE        0\n",
       "MERCHANT NAME           0\n",
       "CARD NUMBER             0\n",
       "TRANS CAC CODE 1       11\n",
       "TRANS CAC DESC 1       11\n",
       "TRANS CAC CODE 2       21\n",
       "TRANS CAC DESC 2       21\n",
       "TRANS CAC CODE 3       19\n",
       "Directorate             0\n",
       "dtype: int64"
      ]
     },
     "execution_count": 17,
     "metadata": {},
     "output_type": "execute_result"
    }
   ],
   "source": [
    "pd.read_excel(path+\"cusersfinainmndesktoppublish-spend-november-2017-all-directorates.xls\").isna().sum()"
   ]
  },
  {
   "cell_type": "markdown",
   "id": "detected-malawi",
   "metadata": {},
   "source": [
    "### 2016"
   ]
  },
  {
   "cell_type": "code",
   "execution_count": 18,
   "id": "bored-candle",
   "metadata": {},
   "outputs": [
    {
     "data": {
      "text/html": [
       "<div>\n",
       "<style scoped>\n",
       "    .dataframe tbody tr th:only-of-type {\n",
       "        vertical-align: middle;\n",
       "    }\n",
       "\n",
       "    .dataframe tbody tr th {\n",
       "        vertical-align: top;\n",
       "    }\n",
       "\n",
       "    .dataframe thead th {\n",
       "        text-align: right;\n",
       "    }\n",
       "</style>\n",
       "<table border=\"1\" class=\"dataframe\">\n",
       "  <thead>\n",
       "    <tr style=\"text-align: right;\">\n",
       "      <th></th>\n",
       "      <th>TRANS DATE</th>\n",
       "      <th>TRANS VAT DESC</th>\n",
       "      <th>ORIGINAL GROSS AMT</th>\n",
       "      <th>MERCHANT NAME</th>\n",
       "      <th>CARD NUMBER</th>\n",
       "      <th>TRANS CAC CODE 1</th>\n",
       "      <th>TRANS CAC DESC 1</th>\n",
       "      <th>TRANS CAC CODE 2</th>\n",
       "      <th>TRANS CAC DESC 2</th>\n",
       "      <th>TRANS CAC CODE 3</th>\n",
       "      <th>Directorate</th>\n",
       "    </tr>\n",
       "  </thead>\n",
       "  <tbody>\n",
       "    <tr>\n",
       "      <th>0</th>\n",
       "      <td>2016-02-04</td>\n",
       "      <td>VR</td>\n",
       "      <td>46.52</td>\n",
       "      <td>tex sussex sstn</td>\n",
       "      <td>************8738</td>\n",
       "      <td>K020</td>\n",
       "      <td>Vehicle Fuel</td>\n",
       "      <td>RV12T</td>\n",
       "      <td>Shakti Elders Dce, 73 Conybere St, B12</td>\n",
       "      <td>A00</td>\n",
       "      <td>Adult &amp; Communities</td>\n",
       "    </tr>\n",
       "    <tr>\n",
       "      <th>1</th>\n",
       "      <td>2016-02-08</td>\n",
       "      <td>VR</td>\n",
       "      <td>58.73</td>\n",
       "      <td>tex sussex sstn</td>\n",
       "      <td>************8738</td>\n",
       "      <td>K020</td>\n",
       "      <td>Vehicle Fuel</td>\n",
       "      <td>RV12T</td>\n",
       "      <td>Shakti Elders Dce, 73 Conybere St, B12</td>\n",
       "      <td>A00</td>\n",
       "      <td>Adult &amp; Communities</td>\n",
       "    </tr>\n",
       "    <tr>\n",
       "      <th>2</th>\n",
       "      <td>2016-02-11</td>\n",
       "      <td>VR</td>\n",
       "      <td>50.35</td>\n",
       "      <td>tex sussex sstn</td>\n",
       "      <td>************8738</td>\n",
       "      <td>K020</td>\n",
       "      <td>Vehicle Fuel</td>\n",
       "      <td>RV12T</td>\n",
       "      <td>Shakti Elders Dce, 73 Conybere St, B12</td>\n",
       "      <td>A00</td>\n",
       "      <td>Adult &amp; Communities</td>\n",
       "    </tr>\n",
       "    <tr>\n",
       "      <th>3</th>\n",
       "      <td>2016-02-29</td>\n",
       "      <td>VR</td>\n",
       "      <td>49.00</td>\n",
       "      <td>tex sussex sstn</td>\n",
       "      <td>************8738</td>\n",
       "      <td>K020</td>\n",
       "      <td>Vehicle Fuel</td>\n",
       "      <td>RV12T</td>\n",
       "      <td>Shakti Elders Dce, 73 Conybere St, B12</td>\n",
       "      <td>A00</td>\n",
       "      <td>Adult &amp; Communities</td>\n",
       "    </tr>\n",
       "    <tr>\n",
       "      <th>4</th>\n",
       "      <td>2016-02-09</td>\n",
       "      <td>VR</td>\n",
       "      <td>63.00</td>\n",
       "      <td>malthurst petroleu</td>\n",
       "      <td>************5804</td>\n",
       "      <td>K020</td>\n",
       "      <td>Vehicle Fuel</td>\n",
       "      <td>RVA12</td>\n",
       "      <td>Enablement Tyburn Rd</td>\n",
       "      <td>A00</td>\n",
       "      <td>Adult &amp; Communities</td>\n",
       "    </tr>\n",
       "  </tbody>\n",
       "</table>\n",
       "</div>"
      ],
      "text/plain": [
       "  TRANS DATE TRANS VAT DESC  ORIGINAL GROSS AMT       MERCHANT NAME  \\\n",
       "0 2016-02-04             VR               46.52     tex sussex sstn   \n",
       "1 2016-02-08             VR               58.73     tex sussex sstn   \n",
       "2 2016-02-11             VR               50.35     tex sussex sstn   \n",
       "3 2016-02-29             VR               49.00     tex sussex sstn   \n",
       "4 2016-02-09             VR               63.00  malthurst petroleu   \n",
       "\n",
       "        CARD NUMBER TRANS CAC CODE 1 TRANS CAC DESC 1 TRANS CAC CODE 2  \\\n",
       "0  ************8738             K020     Vehicle Fuel            RV12T   \n",
       "1  ************8738             K020     Vehicle Fuel            RV12T   \n",
       "2  ************8738             K020     Vehicle Fuel            RV12T   \n",
       "3  ************8738             K020     Vehicle Fuel            RV12T   \n",
       "4  ************5804             K020     Vehicle Fuel            RVA12   \n",
       "\n",
       "                         TRANS CAC DESC 2 TRANS CAC CODE 3  \\\n",
       "0  Shakti Elders Dce, 73 Conybere St, B12              A00   \n",
       "1  Shakti Elders Dce, 73 Conybere St, B12              A00   \n",
       "2  Shakti Elders Dce, 73 Conybere St, B12              A00   \n",
       "3  Shakti Elders Dce, 73 Conybere St, B12              A00   \n",
       "4                    Enablement Tyburn Rd              A00   \n",
       "\n",
       "           Directorate  \n",
       "0  Adult & Communities  \n",
       "1  Adult & Communities  \n",
       "2  Adult & Communities  \n",
       "3  Adult & Communities  \n",
       "4  Adult & Communities  "
      ]
     },
     "execution_count": 18,
     "metadata": {},
     "output_type": "execute_result"
    }
   ],
   "source": [
    "path = \"D:/Github/Data-Science/Datasets/purchase_card/2016/\"\n",
    "df = pd.read_excel(path+ \"publishspendfebruary2016.xls\")\n",
    "df.head()"
   ]
  },
  {
   "cell_type": "code",
   "execution_count": 21,
   "id": "buried-fabric",
   "metadata": {},
   "outputs": [
    {
     "data": {
      "text/plain": [
       "{'billing cur code', 'billing gross amt', 'original cur'}"
      ]
     },
     "execution_count": 21,
     "metadata": {},
     "output_type": "execute_result"
    }
   ],
   "source": [
    "path = \"D:/Github/Data-Science/Datasets/purchase_card/\"\n",
    "set(pd.read_excel(path+\"2017/testing/cusersfinainmndesktoppublish-copy-january-2017.xls\").columns.str.lower())- set(pd.read_excel(path+\"2016/publishspendfebruary2016.xls\").columns.str.lower())"
   ]
  },
  {
   "cell_type": "code",
   "execution_count": 22,
   "id": "confused-pickup",
   "metadata": {},
   "outputs": [
    {
     "name": "stdout",
     "output_type": "stream",
     "text": [
      "<class 'pandas.core.frame.DataFrame'>\n",
      "RangeIndex: 4623 entries, 0 to 4622\n",
      "Data columns (total 11 columns):\n",
      " #   Column              Non-Null Count  Dtype         \n",
      "---  ------              --------------  -----         \n",
      " 0   TRANS DATE          4623 non-null   datetime64[ns]\n",
      " 1   TRANS VAT DESC      4282 non-null   object        \n",
      " 2   ORIGINAL GROSS AMT  4623 non-null   float64       \n",
      " 3   MERCHANT NAME       4623 non-null   object        \n",
      " 4   CARD NUMBER         4623 non-null   object        \n",
      " 5   TRANS CAC CODE 1    4620 non-null   object        \n",
      " 6   TRANS CAC DESC 1    4620 non-null   object        \n",
      " 7   TRANS CAC CODE 2    4610 non-null   object        \n",
      " 8   TRANS CAC DESC 2    4610 non-null   object        \n",
      " 9   TRANS CAC CODE 3    4613 non-null   object        \n",
      " 10  Directorate         4623 non-null   object        \n",
      "dtypes: datetime64[ns](1), float64(1), object(9)\n",
      "memory usage: 397.4+ KB\n"
     ]
    }
   ],
   "source": [
    "df.info()"
   ]
  },
  {
   "cell_type": "markdown",
   "id": "interim-agriculture",
   "metadata": {},
   "source": [
    "### 2015"
   ]
  },
  {
   "cell_type": "code",
   "execution_count": 23,
   "id": "found-litigation",
   "metadata": {},
   "outputs": [
    {
     "data": {
      "text/plain": [
       "{'billing cur code', 'billing gross amt', 'original cur'}"
      ]
     },
     "execution_count": 23,
     "metadata": {},
     "output_type": "execute_result"
    }
   ],
   "source": [
    "path = \"D:/Github/Data-Science/Datasets/purchase_card/\"\n",
    "set(pd.read_excel(path+\"2017/cusersfinainmndesktoppublish-spend-august-2017-all-directorates.xls\").columns.str.lower())- set(pd.read_excel(path+\"2016/train/purchaseccardtransactionsjanuary2015.xls\").columns.str.lower())"
   ]
  },
  {
   "cell_type": "code",
   "execution_count": 24,
   "id": "acting-combining",
   "metadata": {},
   "outputs": [
    {
     "data": {
      "text/plain": [
       "Index(['trans date', 'trans vat desc', 'original gross amt', 'merchant name',\n",
       "       'card number', 'trans cac code 1', 'trans cac desc 1',\n",
       "       'trans cac code 2', 'trans cac desc 2', 'trans cac code 3',\n",
       "       'directorate'],\n",
       "      dtype='object')"
      ]
     },
     "execution_count": 24,
     "metadata": {},
     "output_type": "execute_result"
    }
   ],
   "source": [
    "pd.read_excel(path+\"2016/train/purchaseccardtransactionsjanuary2015.xls\").columns.str.lower()"
   ]
  },
  {
   "cell_type": "code",
   "execution_count": 25,
   "id": "analyzed-simpson",
   "metadata": {
    "scrolled": true
   },
   "outputs": [
    {
     "data": {
      "text/html": [
       "<div>\n",
       "<style scoped>\n",
       "    .dataframe tbody tr th:only-of-type {\n",
       "        vertical-align: middle;\n",
       "    }\n",
       "\n",
       "    .dataframe tbody tr th {\n",
       "        vertical-align: top;\n",
       "    }\n",
       "\n",
       "    .dataframe thead th {\n",
       "        text-align: right;\n",
       "    }\n",
       "</style>\n",
       "<table border=\"1\" class=\"dataframe\">\n",
       "  <thead>\n",
       "    <tr style=\"text-align: right;\">\n",
       "      <th></th>\n",
       "      <th>TRANS DATE</th>\n",
       "      <th>TRANS VAT DESC</th>\n",
       "      <th>ORIGINAL GROSS AMT</th>\n",
       "      <th>MERCHANT NAME</th>\n",
       "      <th>CARD NUMBER</th>\n",
       "      <th>TRANS CAC CODE 1</th>\n",
       "      <th>TRANS CAC DESC 1</th>\n",
       "      <th>TRANS CAC CODE 2</th>\n",
       "      <th>TRANS CAC DESC 2</th>\n",
       "      <th>TRANS CAC CODE 3</th>\n",
       "      <th>Directorate</th>\n",
       "    </tr>\n",
       "  </thead>\n",
       "  <tbody>\n",
       "    <tr>\n",
       "      <th>0</th>\n",
       "      <td>2015-01-08</td>\n",
       "      <td>VR</td>\n",
       "      <td>52.84</td>\n",
       "      <td>shell kings 587</td>\n",
       "      <td>************5770</td>\n",
       "      <td>K020</td>\n",
       "      <td>Vehicle Fuel</td>\n",
       "      <td>RV12N</td>\n",
       "      <td>African-Caribbean DC</td>\n",
       "      <td>A00</td>\n",
       "      <td>Adult &amp; Communities</td>\n",
       "    </tr>\n",
       "    <tr>\n",
       "      <th>1</th>\n",
       "      <td>2015-01-21</td>\n",
       "      <td>VR</td>\n",
       "      <td>10.00</td>\n",
       "      <td>shell kings 587</td>\n",
       "      <td>************5770</td>\n",
       "      <td>K020</td>\n",
       "      <td>Vehicle Fuel</td>\n",
       "      <td>RV12N</td>\n",
       "      <td>African-Caribbean DC</td>\n",
       "      <td>A00</td>\n",
       "      <td>Adult &amp; Communities</td>\n",
       "    </tr>\n",
       "    <tr>\n",
       "      <th>2</th>\n",
       "      <td>2015-01-22</td>\n",
       "      <td>VR</td>\n",
       "      <td>20.01</td>\n",
       "      <td>tesco pay at pump 4203</td>\n",
       "      <td>************5770</td>\n",
       "      <td>K020</td>\n",
       "      <td>Vehicle Fuel</td>\n",
       "      <td>RV12N</td>\n",
       "      <td>African-Caribbean DC</td>\n",
       "      <td>A00</td>\n",
       "      <td>Adult &amp; Communities</td>\n",
       "    </tr>\n",
       "    <tr>\n",
       "      <th>3</th>\n",
       "      <td>2015-01-23</td>\n",
       "      <td>VR</td>\n",
       "      <td>57.96</td>\n",
       "      <td>shell kings 587</td>\n",
       "      <td>************5770</td>\n",
       "      <td>K020</td>\n",
       "      <td>Vehicle Fuel</td>\n",
       "      <td>RV12N</td>\n",
       "      <td>African-Caribbean DC</td>\n",
       "      <td>A00</td>\n",
       "      <td>Adult &amp; Communities</td>\n",
       "    </tr>\n",
       "    <tr>\n",
       "      <th>4</th>\n",
       "      <td>2015-01-07</td>\n",
       "      <td>VR</td>\n",
       "      <td>60.50</td>\n",
       "      <td>shell corrida 108</td>\n",
       "      <td>************8143</td>\n",
       "      <td>K020</td>\n",
       "      <td>Vehicle Fuel</td>\n",
       "      <td>RV14R</td>\n",
       "      <td>Mobile Night Care Service</td>\n",
       "      <td>A00</td>\n",
       "      <td>Adult &amp; Communities</td>\n",
       "    </tr>\n",
       "  </tbody>\n",
       "</table>\n",
       "</div>"
      ],
      "text/plain": [
       "  TRANS DATE TRANS VAT DESC  ORIGINAL GROSS AMT           MERCHANT NAME  \\\n",
       "0 2015-01-08             VR               52.84         shell kings 587   \n",
       "1 2015-01-21             VR               10.00         shell kings 587   \n",
       "2 2015-01-22             VR               20.01  tesco pay at pump 4203   \n",
       "3 2015-01-23             VR               57.96         shell kings 587   \n",
       "4 2015-01-07             VR               60.50       shell corrida 108   \n",
       "\n",
       "        CARD NUMBER TRANS CAC CODE 1 TRANS CAC DESC 1 TRANS CAC CODE 2  \\\n",
       "0  ************5770             K020     Vehicle Fuel            RV12N   \n",
       "1  ************5770             K020     Vehicle Fuel            RV12N   \n",
       "2  ************5770             K020     Vehicle Fuel            RV12N   \n",
       "3  ************5770             K020     Vehicle Fuel            RV12N   \n",
       "4  ************8143             K020     Vehicle Fuel            RV14R   \n",
       "\n",
       "            TRANS CAC DESC 2 TRANS CAC CODE 3          Directorate  \n",
       "0       African-Caribbean DC              A00  Adult & Communities  \n",
       "1       African-Caribbean DC              A00  Adult & Communities  \n",
       "2       African-Caribbean DC              A00  Adult & Communities  \n",
       "3       African-Caribbean DC              A00  Adult & Communities  \n",
       "4  Mobile Night Care Service              A00  Adult & Communities  "
      ]
     },
     "execution_count": 25,
     "metadata": {},
     "output_type": "execute_result"
    }
   ],
   "source": [
    "pd.read_excel(path+\"2016/train/purchaseccardtransactionsjanuary2015.xls\").head()"
   ]
  },
  {
   "cell_type": "code",
   "execution_count": 26,
   "id": "mobile-catholic",
   "metadata": {},
   "outputs": [
    {
     "data": {
      "text/html": [
       "<div>\n",
       "<style scoped>\n",
       "    .dataframe tbody tr th:only-of-type {\n",
       "        vertical-align: middle;\n",
       "    }\n",
       "\n",
       "    .dataframe tbody tr th {\n",
       "        vertical-align: top;\n",
       "    }\n",
       "\n",
       "    .dataframe thead th {\n",
       "        text-align: right;\n",
       "    }\n",
       "</style>\n",
       "<table border=\"1\" class=\"dataframe\">\n",
       "  <thead>\n",
       "    <tr style=\"text-align: right;\">\n",
       "      <th></th>\n",
       "      <th>TRANS DATE</th>\n",
       "      <th>ORIGINAL GROSS AMT</th>\n",
       "    </tr>\n",
       "  </thead>\n",
       "  <tbody>\n",
       "    <tr>\n",
       "      <th>0</th>\n",
       "      <td>2015-01-08</td>\n",
       "      <td>52.84</td>\n",
       "    </tr>\n",
       "    <tr>\n",
       "      <th>1</th>\n",
       "      <td>2015-01-21</td>\n",
       "      <td>10.00</td>\n",
       "    </tr>\n",
       "    <tr>\n",
       "      <th>2</th>\n",
       "      <td>2015-01-22</td>\n",
       "      <td>20.01</td>\n",
       "    </tr>\n",
       "    <tr>\n",
       "      <th>3</th>\n",
       "      <td>2015-01-23</td>\n",
       "      <td>57.96</td>\n",
       "    </tr>\n",
       "    <tr>\n",
       "      <th>4</th>\n",
       "      <td>2015-01-07</td>\n",
       "      <td>60.50</td>\n",
       "    </tr>\n",
       "    <tr>\n",
       "      <th>...</th>\n",
       "      <td>...</td>\n",
       "      <td>...</td>\n",
       "    </tr>\n",
       "    <tr>\n",
       "      <th>4786</th>\n",
       "      <td>2015-01-21</td>\n",
       "      <td>43.92</td>\n",
       "    </tr>\n",
       "    <tr>\n",
       "      <th>4787</th>\n",
       "      <td>2015-01-06</td>\n",
       "      <td>71.55</td>\n",
       "    </tr>\n",
       "    <tr>\n",
       "      <th>4788</th>\n",
       "      <td>2015-02-02</td>\n",
       "      <td>75.00</td>\n",
       "    </tr>\n",
       "    <tr>\n",
       "      <th>4789</th>\n",
       "      <td>2015-01-12</td>\n",
       "      <td>11.86</td>\n",
       "    </tr>\n",
       "    <tr>\n",
       "      <th>4790</th>\n",
       "      <td>2015-01-20</td>\n",
       "      <td>145.50</td>\n",
       "    </tr>\n",
       "  </tbody>\n",
       "</table>\n",
       "<p>4791 rows × 2 columns</p>\n",
       "</div>"
      ],
      "text/plain": [
       "     TRANS DATE  ORIGINAL GROSS AMT\n",
       "0    2015-01-08               52.84\n",
       "1    2015-01-21               10.00\n",
       "2    2015-01-22               20.01\n",
       "3    2015-01-23               57.96\n",
       "4    2015-01-07               60.50\n",
       "...         ...                 ...\n",
       "4786 2015-01-21               43.92\n",
       "4787 2015-01-06               71.55\n",
       "4788 2015-02-02               75.00\n",
       "4789 2015-01-12               11.86\n",
       "4790 2015-01-20              145.50\n",
       "\n",
       "[4791 rows x 2 columns]"
      ]
     },
     "execution_count": 26,
     "metadata": {},
     "output_type": "execute_result"
    }
   ],
   "source": [
    "pd.read_excel(path+\"2016/train/purchaseccardtransactionsjanuary2015.xls\")[[\"TRANS DATE\", \"ORIGINAL GROSS AMT\"]]"
   ]
  },
  {
   "cell_type": "markdown",
   "id": "organizational-throw",
   "metadata": {},
   "source": [
    "## Cleaning"
   ]
  },
  {
   "cell_type": "markdown",
   "id": "european-mouse",
   "metadata": {},
   "source": [
    "*NaN*"
   ]
  },
  {
   "cell_type": "code",
   "execution_count": 27,
   "id": "abstract-gathering",
   "metadata": {},
   "outputs": [
    {
     "data": {
      "text/plain": [
       "TRANS DATE            0.000000\n",
       "TRANS VAT DESC        0.073762\n",
       "ORIGINAL GROSS AMT    0.000000\n",
       "MERCHANT NAME         0.000000\n",
       "CARD NUMBER           0.000000\n",
       "TRANS CAC CODE 1      0.000649\n",
       "TRANS CAC DESC 1      0.000649\n",
       "TRANS CAC CODE 2      0.002812\n",
       "TRANS CAC DESC 2      0.002812\n",
       "TRANS CAC CODE 3      0.002163\n",
       "Directorate           0.000000\n",
       "dtype: float64"
      ]
     },
     "execution_count": 27,
     "metadata": {},
     "output_type": "execute_result"
    }
   ],
   "source": [
    "df.isna().sum() / df.shape[0]"
   ]
  },
  {
   "cell_type": "code",
   "execution_count": 28,
   "id": "downtown-stevens",
   "metadata": {},
   "outputs": [],
   "source": [
    "df.columns = df.columns.str.replace(\" \", \"_\").str.lower()"
   ]
  },
  {
   "cell_type": "code",
   "execution_count": 29,
   "id": "different-absolute",
   "metadata": {},
   "outputs": [
    {
     "data": {
      "text/plain": [
       "Index(['trans_date', 'trans_vat_desc', 'original_gross_amt', 'merchant_name',\n",
       "       'card_number', 'trans_cac_code_1', 'trans_cac_desc_1',\n",
       "       'trans_cac_code_2', 'trans_cac_desc_2', 'trans_cac_code_3',\n",
       "       'directorate'],\n",
       "      dtype='object')"
      ]
     },
     "execution_count": 29,
     "metadata": {},
     "output_type": "execute_result"
    }
   ],
   "source": [
    "df.columns"
   ]
  },
  {
   "cell_type": "code",
   "execution_count": 30,
   "id": "black-length",
   "metadata": {},
   "outputs": [
    {
     "data": {
      "text/html": [
       "<div>\n",
       "<style scoped>\n",
       "    .dataframe tbody tr th:only-of-type {\n",
       "        vertical-align: middle;\n",
       "    }\n",
       "\n",
       "    .dataframe tbody tr th {\n",
       "        vertical-align: top;\n",
       "    }\n",
       "\n",
       "    .dataframe thead th {\n",
       "        text-align: right;\n",
       "    }\n",
       "</style>\n",
       "<table border=\"1\" class=\"dataframe\">\n",
       "  <thead>\n",
       "    <tr style=\"text-align: right;\">\n",
       "      <th></th>\n",
       "      <th>trans_date</th>\n",
       "      <th>trans_vat_desc</th>\n",
       "      <th>original_gross_amt</th>\n",
       "      <th>merchant_name</th>\n",
       "      <th>card_number</th>\n",
       "      <th>trans_cac_code_1</th>\n",
       "      <th>trans_cac_desc_1</th>\n",
       "      <th>trans_cac_code_2</th>\n",
       "      <th>trans_cac_desc_2</th>\n",
       "      <th>trans_cac_code_3</th>\n",
       "      <th>directorate</th>\n",
       "    </tr>\n",
       "  </thead>\n",
       "  <tbody>\n",
       "    <tr>\n",
       "      <th>13</th>\n",
       "      <td>2016-02-04</td>\n",
       "      <td>NaN</td>\n",
       "      <td>473.65</td>\n",
       "      <td>travelodge website</td>\n",
       "      <td>************6720</td>\n",
       "      <td>N060</td>\n",
       "      <td>Other Third Parties</td>\n",
       "      <td>RJACG</td>\n",
       "      <td>H/Less Temporary Accomdtn Team</td>\n",
       "      <td>A00</td>\n",
       "      <td>Adult &amp; Communities</td>\n",
       "    </tr>\n",
       "    <tr>\n",
       "      <th>14</th>\n",
       "      <td>2016-02-04</td>\n",
       "      <td>NaN</td>\n",
       "      <td>595.25</td>\n",
       "      <td>travelodge website</td>\n",
       "      <td>************6720</td>\n",
       "      <td>N060</td>\n",
       "      <td>Other Third Parties</td>\n",
       "      <td>RJACG</td>\n",
       "      <td>H/Less Temporary Accomdtn Team</td>\n",
       "      <td>A00</td>\n",
       "      <td>Adult &amp; Communities</td>\n",
       "    </tr>\n",
       "    <tr>\n",
       "      <th>15</th>\n",
       "      <td>2016-02-04</td>\n",
       "      <td>NaN</td>\n",
       "      <td>652.25</td>\n",
       "      <td>travelodge website</td>\n",
       "      <td>************6720</td>\n",
       "      <td>N060</td>\n",
       "      <td>Other Third Parties</td>\n",
       "      <td>RJACG</td>\n",
       "      <td>H/Less Temporary Accomdtn Team</td>\n",
       "      <td>A00</td>\n",
       "      <td>Adult &amp; Communities</td>\n",
       "    </tr>\n",
       "    <tr>\n",
       "      <th>16</th>\n",
       "      <td>2016-02-04</td>\n",
       "      <td>NaN</td>\n",
       "      <td>595.30</td>\n",
       "      <td>travelodge website</td>\n",
       "      <td>************6720</td>\n",
       "      <td>N060</td>\n",
       "      <td>Other Third Parties</td>\n",
       "      <td>RJACG</td>\n",
       "      <td>H/Less Temporary Accomdtn Team</td>\n",
       "      <td>A00</td>\n",
       "      <td>Adult &amp; Communities</td>\n",
       "    </tr>\n",
       "    <tr>\n",
       "      <th>17</th>\n",
       "      <td>2016-02-04</td>\n",
       "      <td>NaN</td>\n",
       "      <td>550.25</td>\n",
       "      <td>travelodge website</td>\n",
       "      <td>************6720</td>\n",
       "      <td>N060</td>\n",
       "      <td>Other Third Parties</td>\n",
       "      <td>RJACG</td>\n",
       "      <td>H/Less Temporary Accomdtn Team</td>\n",
       "      <td>A00</td>\n",
       "      <td>Adult &amp; Communities</td>\n",
       "    </tr>\n",
       "    <tr>\n",
       "      <th>...</th>\n",
       "      <td>...</td>\n",
       "      <td>...</td>\n",
       "      <td>...</td>\n",
       "      <td>...</td>\n",
       "      <td>...</td>\n",
       "      <td>...</td>\n",
       "      <td>...</td>\n",
       "      <td>...</td>\n",
       "      <td>...</td>\n",
       "      <td>...</td>\n",
       "      <td>...</td>\n",
       "    </tr>\n",
       "    <tr>\n",
       "      <th>4166</th>\n",
       "      <td>2016-02-10</td>\n",
       "      <td>NaN</td>\n",
       "      <td>822.00</td>\n",
       "      <td>dvsa</td>\n",
       "      <td>************9223</td>\n",
       "      <td>N070</td>\n",
       "      <td>Other Agencies</td>\n",
       "      <td>RUHVM</td>\n",
       "      <td>Headquarters-Vehicle Maintenance</td>\n",
       "      <td>A00</td>\n",
       "      <td>Local Services</td>\n",
       "    </tr>\n",
       "    <tr>\n",
       "      <th>4168</th>\n",
       "      <td>2016-02-17</td>\n",
       "      <td>NaN</td>\n",
       "      <td>803.80</td>\n",
       "      <td>dvsa</td>\n",
       "      <td>************9223</td>\n",
       "      <td>N070</td>\n",
       "      <td>Other Agencies</td>\n",
       "      <td>RUHVM</td>\n",
       "      <td>Headquarters-Vehicle Maintenance</td>\n",
       "      <td>A00</td>\n",
       "      <td>Local Services</td>\n",
       "    </tr>\n",
       "    <tr>\n",
       "      <th>4169</th>\n",
       "      <td>2016-02-23</td>\n",
       "      <td>NaN</td>\n",
       "      <td>775.80</td>\n",
       "      <td>dvsa</td>\n",
       "      <td>************9223</td>\n",
       "      <td>N070</td>\n",
       "      <td>Other Agencies</td>\n",
       "      <td>RUHVM</td>\n",
       "      <td>Headquarters-Vehicle Maintenance</td>\n",
       "      <td>A00</td>\n",
       "      <td>Local Services</td>\n",
       "    </tr>\n",
       "    <tr>\n",
       "      <th>4170</th>\n",
       "      <td>2016-02-24</td>\n",
       "      <td>NaN</td>\n",
       "      <td>758.60</td>\n",
       "      <td>dvsa</td>\n",
       "      <td>************9223</td>\n",
       "      <td>K050</td>\n",
       "      <td>Vehicle Excise Lics</td>\n",
       "      <td>RUHVM</td>\n",
       "      <td>Headquarters-Vehicle Maintenance</td>\n",
       "      <td>A00</td>\n",
       "      <td>Local Services</td>\n",
       "    </tr>\n",
       "    <tr>\n",
       "      <th>4171</th>\n",
       "      <td>2016-02-26</td>\n",
       "      <td>NaN</td>\n",
       "      <td>767.80</td>\n",
       "      <td>dvsa</td>\n",
       "      <td>************9223</td>\n",
       "      <td>N070</td>\n",
       "      <td>Other Agencies</td>\n",
       "      <td>RUHVM</td>\n",
       "      <td>Headquarters-Vehicle Maintenance</td>\n",
       "      <td>A00</td>\n",
       "      <td>Local Services</td>\n",
       "    </tr>\n",
       "  </tbody>\n",
       "</table>\n",
       "<p>341 rows × 11 columns</p>\n",
       "</div>"
      ],
      "text/plain": [
       "     trans_date trans_vat_desc  original_gross_amt       merchant_name  \\\n",
       "13   2016-02-04            NaN              473.65  travelodge website   \n",
       "14   2016-02-04            NaN              595.25  travelodge website   \n",
       "15   2016-02-04            NaN              652.25  travelodge website   \n",
       "16   2016-02-04            NaN              595.30  travelodge website   \n",
       "17   2016-02-04            NaN              550.25  travelodge website   \n",
       "...         ...            ...                 ...                 ...   \n",
       "4166 2016-02-10            NaN              822.00                dvsa   \n",
       "4168 2016-02-17            NaN              803.80                dvsa   \n",
       "4169 2016-02-23            NaN              775.80                dvsa   \n",
       "4170 2016-02-24            NaN              758.60                dvsa   \n",
       "4171 2016-02-26            NaN              767.80                dvsa   \n",
       "\n",
       "           card_number trans_cac_code_1     trans_cac_desc_1 trans_cac_code_2  \\\n",
       "13    ************6720             N060  Other Third Parties            RJACG   \n",
       "14    ************6720             N060  Other Third Parties            RJACG   \n",
       "15    ************6720             N060  Other Third Parties            RJACG   \n",
       "16    ************6720             N060  Other Third Parties            RJACG   \n",
       "17    ************6720             N060  Other Third Parties            RJACG   \n",
       "...                ...              ...                  ...              ...   \n",
       "4166  ************9223             N070       Other Agencies            RUHVM   \n",
       "4168  ************9223             N070       Other Agencies            RUHVM   \n",
       "4169  ************9223             N070       Other Agencies            RUHVM   \n",
       "4170  ************9223             K050  Vehicle Excise Lics            RUHVM   \n",
       "4171  ************9223             N070       Other Agencies            RUHVM   \n",
       "\n",
       "                      trans_cac_desc_2 trans_cac_code_3          directorate  \n",
       "13      H/Less Temporary Accomdtn Team              A00  Adult & Communities  \n",
       "14      H/Less Temporary Accomdtn Team              A00  Adult & Communities  \n",
       "15      H/Less Temporary Accomdtn Team              A00  Adult & Communities  \n",
       "16      H/Less Temporary Accomdtn Team              A00  Adult & Communities  \n",
       "17      H/Less Temporary Accomdtn Team              A00  Adult & Communities  \n",
       "...                                ...              ...                  ...  \n",
       "4166  Headquarters-Vehicle Maintenance              A00       Local Services  \n",
       "4168  Headquarters-Vehicle Maintenance              A00       Local Services  \n",
       "4169  Headquarters-Vehicle Maintenance              A00       Local Services  \n",
       "4170  Headquarters-Vehicle Maintenance              A00       Local Services  \n",
       "4171  Headquarters-Vehicle Maintenance              A00       Local Services  \n",
       "\n",
       "[341 rows x 11 columns]"
      ]
     },
     "execution_count": 30,
     "metadata": {},
     "output_type": "execute_result"
    }
   ],
   "source": [
    "df.loc[df.trans_vat_desc.isna()]"
   ]
  },
  {
   "cell_type": "code",
   "execution_count": 31,
   "id": "blank-nickname",
   "metadata": {},
   "outputs": [
    {
     "data": {
      "text/plain": [
       "VR    2179\n",
       "VZ    2098\n",
       "VL       2\n",
       "VE       2\n",
       "VS       1\n",
       "Name: trans_vat_desc, dtype: int64"
      ]
     },
     "execution_count": 31,
     "metadata": {},
     "output_type": "execute_result"
    }
   ],
   "source": [
    "df.trans_vat_desc.value_counts()"
   ]
  },
  {
   "cell_type": "code",
   "execution_count": 32,
   "id": "independent-scotland",
   "metadata": {},
   "outputs": [
    {
     "data": {
      "text/html": [
       "<div>\n",
       "<style scoped>\n",
       "    .dataframe tbody tr th:only-of-type {\n",
       "        vertical-align: middle;\n",
       "    }\n",
       "\n",
       "    .dataframe tbody tr th {\n",
       "        vertical-align: top;\n",
       "    }\n",
       "\n",
       "    .dataframe thead th {\n",
       "        text-align: right;\n",
       "    }\n",
       "</style>\n",
       "<table border=\"1\" class=\"dataframe\">\n",
       "  <thead>\n",
       "    <tr style=\"text-align: right;\">\n",
       "      <th></th>\n",
       "      <th>trans_date</th>\n",
       "      <th>trans_vat_desc</th>\n",
       "      <th>original_gross_amt</th>\n",
       "      <th>merchant_name</th>\n",
       "      <th>card_number</th>\n",
       "      <th>trans_cac_code_1</th>\n",
       "      <th>trans_cac_desc_1</th>\n",
       "      <th>trans_cac_code_2</th>\n",
       "      <th>trans_cac_desc_2</th>\n",
       "      <th>trans_cac_code_3</th>\n",
       "      <th>directorate</th>\n",
       "    </tr>\n",
       "  </thead>\n",
       "  <tbody>\n",
       "    <tr>\n",
       "      <th>972</th>\n",
       "      <td>2016-02-16</td>\n",
       "      <td>VR</td>\n",
       "      <td>72.30</td>\n",
       "      <td>hawthorn service station</td>\n",
       "      <td>************6964</td>\n",
       "      <td>NaN</td>\n",
       "      <td>NaN</td>\n",
       "      <td>RV013</td>\n",
       "      <td>Warwick Hse HLDC, 938 Warwick Rd B27</td>\n",
       "      <td>A00</td>\n",
       "      <td>CYP&amp;F</td>\n",
       "    </tr>\n",
       "    <tr>\n",
       "      <th>973</th>\n",
       "      <td>2016-03-01</td>\n",
       "      <td>VR</td>\n",
       "      <td>52.97</td>\n",
       "      <td>nochex-sensory educati</td>\n",
       "      <td>************6964</td>\n",
       "      <td>NaN</td>\n",
       "      <td>NaN</td>\n",
       "      <td>RV013</td>\n",
       "      <td>Warwick Hse HLDC, 938 Warwick Rd B27</td>\n",
       "      <td>A00</td>\n",
       "      <td>CYP&amp;F</td>\n",
       "    </tr>\n",
       "    <tr>\n",
       "      <th>3616</th>\n",
       "      <td>2016-02-29</td>\n",
       "      <td>VZ</td>\n",
       "      <td>74.63</td>\n",
       "      <td>asda home shopping</td>\n",
       "      <td>************3564</td>\n",
       "      <td>NaN</td>\n",
       "      <td>NaN</td>\n",
       "      <td>REACB</td>\n",
       "      <td>Calshot Junior</td>\n",
       "      <td>A00</td>\n",
       "      <td>CYP&amp;F SCHOOLS</td>\n",
       "    </tr>\n",
       "  </tbody>\n",
       "</table>\n",
       "</div>"
      ],
      "text/plain": [
       "     trans_date trans_vat_desc  original_gross_amt             merchant_name  \\\n",
       "972  2016-02-16             VR               72.30  hawthorn service station   \n",
       "973  2016-03-01             VR               52.97    nochex-sensory educati   \n",
       "3616 2016-02-29             VZ               74.63        asda home shopping   \n",
       "\n",
       "           card_number trans_cac_code_1 trans_cac_desc_1 trans_cac_code_2  \\\n",
       "972   ************6964              NaN              NaN            RV013   \n",
       "973   ************6964              NaN              NaN            RV013   \n",
       "3616  ************3564              NaN              NaN            REACB   \n",
       "\n",
       "                          trans_cac_desc_2 trans_cac_code_3    directorate  \n",
       "972   Warwick Hse HLDC, 938 Warwick Rd B27              A00          CYP&F  \n",
       "973   Warwick Hse HLDC, 938 Warwick Rd B27              A00          CYP&F  \n",
       "3616                        Calshot Junior              A00  CYP&F SCHOOLS  "
      ]
     },
     "execution_count": 32,
     "metadata": {},
     "output_type": "execute_result"
    }
   ],
   "source": [
    "df.loc[df.trans_cac_code_1.isna()]"
   ]
  },
  {
   "cell_type": "code",
   "execution_count": 33,
   "id": "addressed-tuition",
   "metadata": {},
   "outputs": [
    {
     "data": {
      "text/html": [
       "<div>\n",
       "<style scoped>\n",
       "    .dataframe tbody tr th:only-of-type {\n",
       "        vertical-align: middle;\n",
       "    }\n",
       "\n",
       "    .dataframe tbody tr th {\n",
       "        vertical-align: top;\n",
       "    }\n",
       "\n",
       "    .dataframe thead th {\n",
       "        text-align: right;\n",
       "    }\n",
       "</style>\n",
       "<table border=\"1\" class=\"dataframe\">\n",
       "  <thead>\n",
       "    <tr style=\"text-align: right;\">\n",
       "      <th></th>\n",
       "      <th>TRANS DATE</th>\n",
       "      <th>TRANS VAT DESC</th>\n",
       "      <th>ORIGINAL GROSS AMT</th>\n",
       "      <th>MERCHANT NAME</th>\n",
       "      <th>CARD NUMBER</th>\n",
       "      <th>TRANS CAC CODE 1</th>\n",
       "      <th>TRANS CAC DESC 1</th>\n",
       "      <th>TRANS CAC CODE 2</th>\n",
       "      <th>TRANS CAC DESC 2</th>\n",
       "      <th>TRANS CAC CODE 3</th>\n",
       "      <th>Directorate</th>\n",
       "    </tr>\n",
       "  </thead>\n",
       "  <tbody>\n",
       "    <tr>\n",
       "      <th>0</th>\n",
       "      <td>2016-03-08</td>\n",
       "      <td>VR</td>\n",
       "      <td>58.0</td>\n",
       "      <td>tex sussex sstn</td>\n",
       "      <td>************8738</td>\n",
       "      <td>K020</td>\n",
       "      <td>Vehicle Fuel</td>\n",
       "      <td>RV12T</td>\n",
       "      <td>Shakti Elders Dce, 73 Conybere St, B12</td>\n",
       "      <td>A00</td>\n",
       "      <td>Adult &amp; Communities</td>\n",
       "    </tr>\n",
       "    <tr>\n",
       "      <th>1</th>\n",
       "      <td>2016-03-23</td>\n",
       "      <td>VR</td>\n",
       "      <td>45.0</td>\n",
       "      <td>malthurst petroleu</td>\n",
       "      <td>************5804</td>\n",
       "      <td>K020</td>\n",
       "      <td>Vehicle Fuel</td>\n",
       "      <td>RVA12</td>\n",
       "      <td>Enablement Tyburn Rd</td>\n",
       "      <td>A00</td>\n",
       "      <td>Adult &amp; Communities</td>\n",
       "    </tr>\n",
       "    <tr>\n",
       "      <th>2</th>\n",
       "      <td>2016-03-18</td>\n",
       "      <td>VR</td>\n",
       "      <td>55.0</td>\n",
       "      <td>malthurst petroleu</td>\n",
       "      <td>************5804</td>\n",
       "      <td>K020</td>\n",
       "      <td>Vehicle Fuel</td>\n",
       "      <td>RVA12</td>\n",
       "      <td>Enablement Tyburn Rd</td>\n",
       "      <td>A00</td>\n",
       "      <td>Adult &amp; Communities</td>\n",
       "    </tr>\n",
       "    <tr>\n",
       "      <th>3</th>\n",
       "      <td>2016-03-10</td>\n",
       "      <td>VR</td>\n",
       "      <td>30.0</td>\n",
       "      <td>malthurst petroleu</td>\n",
       "      <td>************5804</td>\n",
       "      <td>K020</td>\n",
       "      <td>Vehicle Fuel</td>\n",
       "      <td>RVA12</td>\n",
       "      <td>Enablement Tyburn Rd</td>\n",
       "      <td>A00</td>\n",
       "      <td>Adult &amp; Communities</td>\n",
       "    </tr>\n",
       "    <tr>\n",
       "      <th>4</th>\n",
       "      <td>2016-03-04</td>\n",
       "      <td>VR</td>\n",
       "      <td>15.0</td>\n",
       "      <td>malthurst petroleu</td>\n",
       "      <td>************5804</td>\n",
       "      <td>K020</td>\n",
       "      <td>Vehicle Fuel</td>\n",
       "      <td>RVA12</td>\n",
       "      <td>Enablement Tyburn Rd</td>\n",
       "      <td>A00</td>\n",
       "      <td>Adult &amp; Communities</td>\n",
       "    </tr>\n",
       "  </tbody>\n",
       "</table>\n",
       "</div>"
      ],
      "text/plain": [
       "  TRANS DATE TRANS VAT DESC  ORIGINAL GROSS AMT       MERCHANT NAME  \\\n",
       "0 2016-03-08             VR                58.0     tex sussex sstn   \n",
       "1 2016-03-23             VR                45.0  malthurst petroleu   \n",
       "2 2016-03-18             VR                55.0  malthurst petroleu   \n",
       "3 2016-03-10             VR                30.0  malthurst petroleu   \n",
       "4 2016-03-04             VR                15.0  malthurst petroleu   \n",
       "\n",
       "        CARD NUMBER TRANS CAC CODE 1 TRANS CAC DESC 1 TRANS CAC CODE 2  \\\n",
       "0  ************8738             K020     Vehicle Fuel            RV12T   \n",
       "1  ************5804             K020     Vehicle Fuel            RVA12   \n",
       "2  ************5804             K020     Vehicle Fuel            RVA12   \n",
       "3  ************5804             K020     Vehicle Fuel            RVA12   \n",
       "4  ************5804             K020     Vehicle Fuel            RVA12   \n",
       "\n",
       "                         TRANS CAC DESC 2 TRANS CAC CODE 3  \\\n",
       "0  Shakti Elders Dce, 73 Conybere St, B12              A00   \n",
       "1                    Enablement Tyburn Rd              A00   \n",
       "2                    Enablement Tyburn Rd              A00   \n",
       "3                    Enablement Tyburn Rd              A00   \n",
       "4                    Enablement Tyburn Rd              A00   \n",
       "\n",
       "           Directorate  \n",
       "0  Adult & Communities  \n",
       "1  Adult & Communities  \n",
       "2  Adult & Communities  \n",
       "3  Adult & Communities  \n",
       "4  Adult & Communities  "
      ]
     },
     "execution_count": 33,
     "metadata": {},
     "output_type": "execute_result"
    }
   ],
   "source": [
    "path = \"D:/Github/Data-Science/Datasets/purchase_card/2016/\"\n",
    "df = pd.read_excel(path+ \"publishspendmarch2016.xls\")\n",
    "df.head()"
   ]
  },
  {
   "cell_type": "code",
   "execution_count": 34,
   "id": "congressional-messenger",
   "metadata": {},
   "outputs": [
    {
     "data": {
      "text/plain": [
       "TRANS DATE            0.000000\n",
       "TRANS VAT DESC        0.067017\n",
       "ORIGINAL GROSS AMT    0.000000\n",
       "MERCHANT NAME         0.000000\n",
       "CARD NUMBER           0.000000\n",
       "TRANS CAC CODE 1      0.000554\n",
       "TRANS CAC DESC 1      0.000554\n",
       "TRANS CAC CODE 2      0.000000\n",
       "TRANS CAC DESC 2      0.000000\n",
       "TRANS CAC CODE 3      0.000000\n",
       "Directorate           0.000000\n",
       "dtype: float64"
      ]
     },
     "execution_count": 34,
     "metadata": {},
     "output_type": "execute_result"
    }
   ],
   "source": [
    "df.isna().sum() / df.shape[0]"
   ]
  },
  {
   "cell_type": "markdown",
   "id": "dutch-aviation",
   "metadata": {},
   "source": [
    "Now, with the last idea that we have missing values to preprocess I'm going to get all the data from 2016 to know what the dimension is of NaN"
   ]
  },
  {
   "cell_type": "code",
   "execution_count": 37,
   "id": "overhead-friendship",
   "metadata": {},
   "outputs": [],
   "source": [
    "import os \n",
    "df = pd.DataFrame()\n",
    "path = \"D:/Github/Data-Science/Datasets/purchase_card/2016/train/\"\n",
    "for entry in os.listdir(path):\n",
    "    df = pd.concat([df, pd.read_excel(path + entry).rename({\"Directorate\":\"Directorates\"},axis=1)])"
   ]
  },
  {
   "cell_type": "code",
   "execution_count": 38,
   "id": "still-screw",
   "metadata": {},
   "outputs": [],
   "source": [
    "df.columns = df.columns.str.replace(\" \", \"_\").str.lower()"
   ]
  },
  {
   "cell_type": "code",
   "execution_count": 39,
   "id": "loved-meditation",
   "metadata": {},
   "outputs": [
    {
     "data": {
      "text/html": [
       "<div>\n",
       "<style scoped>\n",
       "    .dataframe tbody tr th:only-of-type {\n",
       "        vertical-align: middle;\n",
       "    }\n",
       "\n",
       "    .dataframe tbody tr th {\n",
       "        vertical-align: top;\n",
       "    }\n",
       "\n",
       "    .dataframe thead th {\n",
       "        text-align: right;\n",
       "    }\n",
       "</style>\n",
       "<table border=\"1\" class=\"dataframe\">\n",
       "  <thead>\n",
       "    <tr style=\"text-align: right;\">\n",
       "      <th></th>\n",
       "      <th>trans_date</th>\n",
       "      <th>trans_vat_desc</th>\n",
       "      <th>original_gross_amt</th>\n",
       "      <th>original_cur</th>\n",
       "      <th>billing_gross_amt</th>\n",
       "      <th>billing_cur_code</th>\n",
       "      <th>merchant_name</th>\n",
       "      <th>card_number</th>\n",
       "      <th>trans_cac_code_1</th>\n",
       "      <th>trans_cac_desc_1</th>\n",
       "      <th>trans_cac_code_2</th>\n",
       "      <th>trans_cac_desc_2</th>\n",
       "      <th>trans_cac_code_3</th>\n",
       "      <th>directorates</th>\n",
       "      <th>trans_tax_amt</th>\n",
       "      <th>billing_cur_code.1</th>\n",
       "      <th>directorate_</th>\n",
       "      <th>unnamed:_10</th>\n",
       "    </tr>\n",
       "  </thead>\n",
       "  <tbody>\n",
       "    <tr>\n",
       "      <th>0</th>\n",
       "      <td>2017-01-03</td>\n",
       "      <td>VR</td>\n",
       "      <td>72.61</td>\n",
       "      <td>GBP</td>\n",
       "      <td>72.61</td>\n",
       "      <td>GBP</td>\n",
       "      <td>shell kings 587</td>\n",
       "      <td>************5770</td>\n",
       "      <td>K020</td>\n",
       "      <td>Vehicle Fuel</td>\n",
       "      <td>RV12N</td>\n",
       "      <td>African-Caribbean DC</td>\n",
       "      <td>A00</td>\n",
       "      <td>Adult &amp; Communities</td>\n",
       "      <td>NaN</td>\n",
       "      <td>NaN</td>\n",
       "      <td>NaN</td>\n",
       "      <td>NaN</td>\n",
       "    </tr>\n",
       "    <tr>\n",
       "      <th>1</th>\n",
       "      <td>2017-01-24</td>\n",
       "      <td>VR</td>\n",
       "      <td>85.51</td>\n",
       "      <td>GBP</td>\n",
       "      <td>85.51</td>\n",
       "      <td>GBP</td>\n",
       "      <td>shell fiveways 387</td>\n",
       "      <td>************1147</td>\n",
       "      <td>K020</td>\n",
       "      <td>Vehicle Fuel</td>\n",
       "      <td>RV1K2</td>\n",
       "      <td>Elders Group - Ladywood</td>\n",
       "      <td>A00</td>\n",
       "      <td>Adult &amp; Communities</td>\n",
       "      <td>NaN</td>\n",
       "      <td>NaN</td>\n",
       "      <td>NaN</td>\n",
       "      <td>NaN</td>\n",
       "    </tr>\n",
       "    <tr>\n",
       "      <th>2</th>\n",
       "      <td>2017-02-01</td>\n",
       "      <td>VR</td>\n",
       "      <td>10.09</td>\n",
       "      <td>GBP</td>\n",
       "      <td>10.09</td>\n",
       "      <td>GBP</td>\n",
       "      <td>shell fiveways 387</td>\n",
       "      <td>************1147</td>\n",
       "      <td>K020</td>\n",
       "      <td>Vehicle Fuel</td>\n",
       "      <td>RV1K2</td>\n",
       "      <td>Elders Group - Ladywood</td>\n",
       "      <td>A00</td>\n",
       "      <td>Adult &amp; Communities</td>\n",
       "      <td>NaN</td>\n",
       "      <td>NaN</td>\n",
       "      <td>NaN</td>\n",
       "      <td>NaN</td>\n",
       "    </tr>\n",
       "    <tr>\n",
       "      <th>3</th>\n",
       "      <td>2017-01-04</td>\n",
       "      <td>VR</td>\n",
       "      <td>20.00</td>\n",
       "      <td>GBP</td>\n",
       "      <td>20.00</td>\n",
       "      <td>GBP</td>\n",
       "      <td>mibsons service st</td>\n",
       "      <td>************5804</td>\n",
       "      <td>K020</td>\n",
       "      <td>Vehicle Fuel</td>\n",
       "      <td>RVA12</td>\n",
       "      <td>Enablement Tyburn Rd</td>\n",
       "      <td>A00</td>\n",
       "      <td>Adult &amp; Communities</td>\n",
       "      <td>NaN</td>\n",
       "      <td>NaN</td>\n",
       "      <td>NaN</td>\n",
       "      <td>NaN</td>\n",
       "    </tr>\n",
       "    <tr>\n",
       "      <th>4</th>\n",
       "      <td>2017-01-05</td>\n",
       "      <td>VR</td>\n",
       "      <td>50.00</td>\n",
       "      <td>GBP</td>\n",
       "      <td>50.00</td>\n",
       "      <td>GBP</td>\n",
       "      <td>malthurst petroleu</td>\n",
       "      <td>************5804</td>\n",
       "      <td>K020</td>\n",
       "      <td>Vehicle Fuel</td>\n",
       "      <td>RVA12</td>\n",
       "      <td>Enablement Tyburn Rd</td>\n",
       "      <td>A00</td>\n",
       "      <td>Adult &amp; Communities</td>\n",
       "      <td>NaN</td>\n",
       "      <td>NaN</td>\n",
       "      <td>NaN</td>\n",
       "      <td>NaN</td>\n",
       "    </tr>\n",
       "  </tbody>\n",
       "</table>\n",
       "</div>"
      ],
      "text/plain": [
       "  trans_date trans_vat_desc  original_gross_amt original_cur  \\\n",
       "0 2017-01-03             VR               72.61          GBP   \n",
       "1 2017-01-24             VR               85.51          GBP   \n",
       "2 2017-02-01             VR               10.09          GBP   \n",
       "3 2017-01-04             VR               20.00          GBP   \n",
       "4 2017-01-05             VR               50.00          GBP   \n",
       "\n",
       "   billing_gross_amt billing_cur_code       merchant_name       card_number  \\\n",
       "0              72.61              GBP     shell kings 587  ************5770   \n",
       "1              85.51              GBP  shell fiveways 387  ************1147   \n",
       "2              10.09              GBP  shell fiveways 387  ************1147   \n",
       "3              20.00              GBP  mibsons service st  ************5804   \n",
       "4              50.00              GBP  malthurst petroleu  ************5804   \n",
       "\n",
       "  trans_cac_code_1 trans_cac_desc_1 trans_cac_code_2         trans_cac_desc_2  \\\n",
       "0             K020     Vehicle Fuel            RV12N     African-Caribbean DC   \n",
       "1             K020     Vehicle Fuel            RV1K2  Elders Group - Ladywood   \n",
       "2             K020     Vehicle Fuel            RV1K2  Elders Group - Ladywood   \n",
       "3             K020     Vehicle Fuel            RVA12     Enablement Tyburn Rd   \n",
       "4             K020     Vehicle Fuel            RVA12     Enablement Tyburn Rd   \n",
       "\n",
       "  trans_cac_code_3         directorates  trans_tax_amt billing_cur_code.1  \\\n",
       "0              A00  Adult & Communities            NaN                NaN   \n",
       "1              A00  Adult & Communities            NaN                NaN   \n",
       "2              A00  Adult & Communities            NaN                NaN   \n",
       "3              A00  Adult & Communities            NaN                NaN   \n",
       "4              A00  Adult & Communities            NaN                NaN   \n",
       "\n",
       "  directorate_ unnamed:_10  \n",
       "0          NaN         NaN  \n",
       "1          NaN         NaN  \n",
       "2          NaN         NaN  \n",
       "3          NaN         NaN  \n",
       "4          NaN         NaN  "
      ]
     },
     "execution_count": 39,
     "metadata": {},
     "output_type": "execute_result"
    }
   ],
   "source": [
    "df.head()"
   ]
  },
  {
   "cell_type": "code",
   "execution_count": 40,
   "id": "patient-tackle",
   "metadata": {},
   "outputs": [
    {
     "data": {
      "text/plain": [
       "trans_date            0.000007\n",
       "trans_vat_desc        0.058559\n",
       "original_gross_amt    0.000007\n",
       "original_cur          0.666747\n",
       "billing_gross_amt     0.666747\n",
       "billing_cur_code      0.666747\n",
       "merchant_name         0.000007\n",
       "card_number           0.000007\n",
       "trans_cac_code_1      0.000686\n",
       "trans_cac_desc_1      0.000686\n",
       "trans_cac_code_2      0.001502\n",
       "trans_cac_desc_2      0.001502\n",
       "trans_cac_code_3      0.001866\n",
       "directorates          0.046357\n",
       "trans_tax_amt         0.968464\n",
       "billing_cur_code.1    0.968464\n",
       "directorate_          0.985858\n",
       "unnamed:_10           0.972847\n",
       "dtype: float64"
      ]
     },
     "execution_count": 40,
     "metadata": {},
     "output_type": "execute_result"
    }
   ],
   "source": [
    "df.isna().sum() / df.shape[0]"
   ]
  },
  {
   "cell_type": "markdown",
   "id": "registered-number",
   "metadata": {},
   "source": [
    "I'm going to filter all the NaN in trans_date"
   ]
  },
  {
   "cell_type": "code",
   "execution_count": 41,
   "id": "dietary-process",
   "metadata": {},
   "outputs": [],
   "source": [
    "df = df[df.trans_date.isna() != True].copy()"
   ]
  },
  {
   "cell_type": "code",
   "execution_count": 42,
   "id": "behavioral-current",
   "metadata": {},
   "outputs": [],
   "source": [
    "df = df.set_axis(df.trans_date, axis=0).drop([\"trans_date\"], axis=1).copy()"
   ]
  },
  {
   "cell_type": "markdown",
   "id": "differential-print",
   "metadata": {},
   "source": [
    "I would like to see the distributon of original_gross_amt feature"
   ]
  },
  {
   "cell_type": "code",
   "execution_count": 43,
   "id": "continuing-retention",
   "metadata": {},
   "outputs": [
    {
     "data": {
      "text/plain": [
       "count    145801.000000\n",
       "mean        175.822571\n",
       "std        2202.602452\n",
       "min     -486980.090000\n",
       "25%          12.800000\n",
       "50%          40.750000\n",
       "75%          95.000000\n",
       "max      280102.230000\n",
       "Name: original_gross_amt, dtype: float64"
      ]
     },
     "execution_count": 43,
     "metadata": {},
     "output_type": "execute_result"
    }
   ],
   "source": [
    "df.original_gross_amt.describe()"
   ]
  },
  {
   "cell_type": "code",
   "execution_count": 44,
   "id": "processed-musician",
   "metadata": {
    "scrolled": true
   },
   "outputs": [
    {
     "data": {
      "text/plain": [
       "<AxesSubplot:xlabel='original_gross_amt'>"
      ]
     },
     "execution_count": 44,
     "metadata": {},
     "output_type": "execute_result"
    },
    {
     "data": {
      "image/png": "[encoded data removed]",
      "text/plain": [
       "<Figure size 432x288 with 1 Axes>"
      ]
     },
     "metadata": {
      "needs_background": "light"
     },
     "output_type": "display_data"
    }
   ],
   "source": [
    "import seaborn as sns\n",
    "\n",
    "sns.boxplot(df.original_gross_amt)"
   ]
  },
  {
   "cell_type": "code",
   "execution_count": 45,
   "id": "alien-region",
   "metadata": {},
   "outputs": [
    {
     "data": {
      "text/plain": [
       "'Negative values from 2.9622567746448927'"
      ]
     },
     "execution_count": 45,
     "metadata": {},
     "output_type": "execute_result"
    }
   ],
   "source": [
    "\"Negative values from {}\".format((df[df.original_gross_amt <0].shape[0] / df.shape[0]) * 100)"
   ]
  },
  {
   "cell_type": "markdown",
   "id": "mechanical-excuse",
   "metadata": {},
   "source": [
    "we have something here related with the negative values"
   ]
  },
  {
   "cell_type": "code",
   "execution_count": 46,
   "id": "worse-proof",
   "metadata": {},
   "outputs": [],
   "source": [
    "df = df.loc[df.original_gross_amt > 0, :].copy()"
   ]
  },
  {
   "cell_type": "code",
   "execution_count": 47,
   "id": "naval-jewel",
   "metadata": {},
   "outputs": [
    {
     "data": {
      "text/plain": [
       "<AxesSubplot:xlabel='original_gross_amt'>"
      ]
     },
     "execution_count": 47,
     "metadata": {},
     "output_type": "execute_result"
    },
    {
     "data": {
      "image/png": "[encoded data removed]",
      "text/plain": [
       "<Figure size 432x288 with 1 Axes>"
      ]
     },
     "metadata": {
      "needs_background": "light"
     },
     "output_type": "display_data"
    }
   ],
   "source": [
    "import seaborn as sns\n",
    "\n",
    "sns.boxplot(df.original_gross_amt)"
   ]
  },
  {
   "cell_type": "code",
   "execution_count": 48,
   "id": "accepting-inflation",
   "metadata": {},
   "outputs": [
    {
     "data": {
      "text/plain": [
       "'Negative values from 0.0'"
      ]
     },
     "execution_count": 48,
     "metadata": {},
     "output_type": "execute_result"
    }
   ],
   "source": [
    "\"Negative values from {}\".format((df[df.original_gross_amt <0].shape[0] / df.shape[0]) * 100)"
   ]
  },
  {
   "cell_type": "code",
   "execution_count": 49,
   "id": "manufactured-invasion",
   "metadata": {},
   "outputs": [
    {
     "data": {
      "text/plain": [
       "0"
      ]
     },
     "execution_count": 49,
     "metadata": {},
     "output_type": "execute_result"
    }
   ],
   "source": [
    "df[df.original_gross_amt <0].shape[0]"
   ]
  },
  {
   "cell_type": "markdown",
   "id": "rational-margin",
   "metadata": {},
   "source": [
    "***"
   ]
  },
  {
   "cell_type": "code",
   "execution_count": 2,
   "id": "growing-malaysia",
   "metadata": {},
   "outputs": [],
   "source": [
    "import pandas as pd\n",
    "\n",
    "def preprocess(df):\n",
    "    try:\n",
    "        \n",
    "        df.columns = df.columns.str.replace(\" \", \"_\").str.lower()\n",
    "        df = df[df.trans_date.isna() != True].copy()\n",
    "        df = df.set_axis(df.trans_date, axis=0).drop([\"trans_date\"], axis=1).copy()\n",
    "        df = df.loc[df.original_gross_amt > 0, :].copy()\n",
    "    except Exception as e:\n",
    "        print(e)\n",
    "        pass\n",
    "    return df"
   ]
  },
  {
   "cell_type": "code",
   "execution_count": 3,
   "id": "closing-toolbox",
   "metadata": {},
   "outputs": [],
   "source": [
    "import os \n",
    "\n",
    "def load_datasets(path):\n",
    "    df = pd.DataFrame()\n",
    "    try:        \n",
    "        for entry in os.listdir(path):\n",
    "            df = pd.concat([df, pd.read_excel(path + entry).rename({\"Directorate\":\"Directorates\"},axis=1)[[\"TRANS DATE\", \"ORIGINAL GROSS AMT\"]]])\n",
    "    except Exception as e:\n",
    "        print(entry)\n",
    "        print(pd.read_csv(path + entry).rename({\"Directorate\":\"Directorates\"},axis=1).columns)\n",
    "        df = pd.concat([df, pd.read_csv(path + entry).rename({\"Directorate\":\"Directorates\"},axis=1)[[\"TRANS DATE\", \"ORIGINAL GROSS AMT\"]]])\n",
    "        pass                \n",
    "    return df"
   ]
  },
  {
   "cell_type": "markdown",
   "id": "proved-state",
   "metadata": {},
   "source": [
    "***"
   ]
  },
  {
   "cell_type": "markdown",
   "id": "ranging-peter",
   "metadata": {},
   "source": [
    "## Explore"
   ]
  },
  {
   "cell_type": "code",
   "execution_count": 4,
   "id": "hidden-combat",
   "metadata": {},
   "outputs": [
    {
     "data": {
      "text/html": [
       "<div>\n",
       "<style scoped>\n",
       "    .dataframe tbody tr th:only-of-type {\n",
       "        vertical-align: middle;\n",
       "    }\n",
       "\n",
       "    .dataframe tbody tr th {\n",
       "        vertical-align: top;\n",
       "    }\n",
       "\n",
       "    .dataframe thead th {\n",
       "        text-align: right;\n",
       "    }\n",
       "</style>\n",
       "<table border=\"1\" class=\"dataframe\">\n",
       "  <thead>\n",
       "    <tr style=\"text-align: right;\">\n",
       "      <th></th>\n",
       "      <th>original_gross_amt</th>\n",
       "    </tr>\n",
       "    <tr>\n",
       "      <th>trans_date</th>\n",
       "      <th></th>\n",
       "    </tr>\n",
       "  </thead>\n",
       "  <tbody>\n",
       "    <tr>\n",
       "      <th>2017-01-03</th>\n",
       "      <td>72.61</td>\n",
       "    </tr>\n",
       "    <tr>\n",
       "      <th>2017-01-24</th>\n",
       "      <td>85.51</td>\n",
       "    </tr>\n",
       "    <tr>\n",
       "      <th>2017-02-01</th>\n",
       "      <td>10.09</td>\n",
       "    </tr>\n",
       "  </tbody>\n",
       "</table>\n",
       "</div>"
      ],
      "text/plain": [
       "            original_gross_amt\n",
       "trans_date                    \n",
       "2017-01-03               72.61\n",
       "2017-01-24               85.51\n",
       "2017-02-01               10.09"
      ]
     },
     "execution_count": 4,
     "metadata": {},
     "output_type": "execute_result"
    }
   ],
   "source": [
    "path = \"D:/Github/Data-Science/Datasets/purchase_card/2016/train/\"\n",
    "df = load_datasets(path)\n",
    "df = preprocess(df)\n",
    "df.head(3)"
   ]
  },
  {
   "cell_type": "code",
   "execution_count": 5,
   "id": "analyzed-arbitration",
   "metadata": {},
   "outputs": [
    {
     "data": {
      "text/plain": [
       "[<matplotlib.lines.Line2D at 0x1be45650c08>]"
      ]
     },
     "execution_count": 5,
     "metadata": {},
     "output_type": "execute_result"
    },
    {
     "data": {
      "image/png": "[encoded data removed]",
      "text/plain": [
       "<Figure size 1296x216 with 1 Axes>"
      ]
     },
     "metadata": {
      "needs_background": "light"
     },
     "output_type": "display_data"
    }
   ],
   "source": [
    "import matplotlib.pyplot as plt\n",
    "\n",
    "plt.figure(figsize=(18,3))\n",
    "plt.plot(df.original_gross_amt.resample(rule='D').mean(), color=\"blue\")\n",
    "plt.plot(df.original_gross_amt.resample(rule='D').std(), color=\"orange\")"
   ]
  },
  {
   "cell_type": "markdown",
   "id": "sonic-generic",
   "metadata": {},
   "source": [
    "we have some triggers during the data that might show anomalies."
   ]
  },
  {
   "cell_type": "markdown",
   "id": "offshore-focus",
   "metadata": {},
   "source": [
    "### Conclusions \n",
    "\n",
    "+ We have feature names in some datasets that are not same.\n",
    "+ We have NaN to preprocess\n",
    "+ We erased the negative values from ORIGINAL GROSS AMT feature because it has 3% from the total information\n",
    "+ The dataset does not present information about real anomalies, nevertheless, we have some triggers during the data that might show anomalies. "
   ]
  },
  {
   "cell_type": "markdown",
   "id": "diverse-packing",
   "metadata": {},
   "source": [
    "## Modeling"
   ]
  },
  {
   "cell_type": "markdown",
   "id": "steady-dietary",
   "metadata": {},
   "source": [
    "My training set are going to be integrated from 2015 to 2017; morevoer, the test set is going to have the months of 2017."
   ]
  },
  {
   "cell_type": "code",
   "execution_count": 6,
   "id": "colored-terror",
   "metadata": {},
   "outputs": [
    {
     "data": {
      "text/html": [
       "<div>\n",
       "<style scoped>\n",
       "    .dataframe tbody tr th:only-of-type {\n",
       "        vertical-align: middle;\n",
       "    }\n",
       "\n",
       "    .dataframe tbody tr th {\n",
       "        vertical-align: top;\n",
       "    }\n",
       "\n",
       "    .dataframe thead th {\n",
       "        text-align: right;\n",
       "    }\n",
       "</style>\n",
       "<table border=\"1\" class=\"dataframe\">\n",
       "  <thead>\n",
       "    <tr style=\"text-align: right;\">\n",
       "      <th></th>\n",
       "      <th>original_gross_amt</th>\n",
       "    </tr>\n",
       "    <tr>\n",
       "      <th>trans_date</th>\n",
       "      <th></th>\n",
       "    </tr>\n",
       "  </thead>\n",
       "  <tbody>\n",
       "    <tr>\n",
       "      <th>2017-01-03</th>\n",
       "      <td>72.61</td>\n",
       "    </tr>\n",
       "    <tr>\n",
       "      <th>2017-01-24</th>\n",
       "      <td>85.51</td>\n",
       "    </tr>\n",
       "    <tr>\n",
       "      <th>2017-02-01</th>\n",
       "      <td>10.09</td>\n",
       "    </tr>\n",
       "  </tbody>\n",
       "</table>\n",
       "</div>"
      ],
      "text/plain": [
       "            original_gross_amt\n",
       "trans_date                    \n",
       "2017-01-03               72.61\n",
       "2017-01-24               85.51\n",
       "2017-02-01               10.09"
      ]
     },
     "execution_count": 6,
     "metadata": {},
     "output_type": "execute_result"
    }
   ],
   "source": [
    "path = \"D:/Github/Data-Science/Datasets/purchase_card/2017/testing/\"\n",
    "df_test = load_datasets(path)\n",
    "df_test = preprocess(df_test)\n",
    "df_test.head(3)"
   ]
  },
  {
   "cell_type": "code",
   "execution_count": 7,
   "id": "removed-investing",
   "metadata": {},
   "outputs": [
    {
     "name": "stdout",
     "output_type": "stream",
     "text": [
      "training shape 1099 / days\n",
      "testing shape 94 / days\n"
     ]
    }
   ],
   "source": [
    "print(\"training shape {} / days\".format(df.original_gross_amt.resample(rule='D').mean().shape[0]))\n",
    "print(\"testing shape {} / days\".format(df_test.original_gross_amt.resample(rule='D').mean().shape[0]))"
   ]
  },
  {
   "cell_type": "code",
   "execution_count": 8,
   "id": "surrounded-segment",
   "metadata": {},
   "outputs": [
    {
     "data": {
      "image/png": "[encoded data removed]",
      "text/plain": [
       "<Figure size 648x288 with 1 Axes>"
      ]
     },
     "metadata": {
      "needs_background": "light"
     },
     "output_type": "display_data"
    }
   ],
   "source": [
    "fig, ax=plt.subplots(figsize=(9, 4))\n",
    "df.original_gross_amt.resample(rule='D').mean().plot(ax=ax, label='train')\n",
    "df.original_gross_amt.resample(rule='D').mean()[\"2017-05\":].plot(ax=ax, label='test')\n",
    "ax.legend();"
   ]
  },
  {
   "cell_type": "code",
   "execution_count": 9,
   "id": "opposite-institution",
   "metadata": {
    "scrolled": true
   },
   "outputs": [],
   "source": [
    "y_train = df['original_gross_amt'].resample('D').mean()"
   ]
  },
  {
   "cell_type": "code",
   "execution_count": 10,
   "id": "every-richards",
   "metadata": {},
   "outputs": [],
   "source": [
    "import numpy as np\n",
    "y_train.replace(np.nan, 0, inplace=True)"
   ]
  },
  {
   "cell_type": "code",
   "execution_count": 11,
   "id": "impressed-radius",
   "metadata": {},
   "outputs": [],
   "source": [
    "import statsmodels.api as sm\n",
    "import statsmodels.formula.api as smf"
   ]
  },
  {
   "cell_type": "code",
   "execution_count": 12,
   "id": "handed-diabetes",
   "metadata": {},
   "outputs": [
    {
     "data": {
      "image/png": "[encoded data removed]",
      "text/plain": [
       "<Figure size 1296x576 with 4 Axes>"
      ]
     },
     "metadata": {
      "needs_background": "light"
     },
     "output_type": "display_data"
    }
   ],
   "source": [
    "from pylab import rcParams\n",
    "rcParams['figure.figsize'] = 18, 8\n",
    "decomposition = sm.tsa.seasonal_decompose(y_train, model='additive')\n",
    "fig = decomposition.plot()\n",
    "plt.show()"
   ]
  },
  {
   "cell_type": "code",
   "execution_count": 13,
   "id": "electoral-subscriber",
   "metadata": {},
   "outputs": [],
   "source": [
    "import itertools\n",
    "p = d = q = range(0, 2)\n",
    "pdq = list(itertools.product(p, d, q))\n",
    "seasonal_pdq = [(x[0], x[1], x[2], 12) for x in list(itertools.product(p, d, q))]"
   ]
  },
  {
   "cell_type": "code",
   "execution_count": 14,
   "id": "about-paintball",
   "metadata": {},
   "outputs": [
    {
     "name": "stdout",
     "output_type": "stream",
     "text": [
      "ARIMA(0, 0, 0)x(0, 0, 0, 12)365 - AIC:15491.235950268334\n",
      "ARIMA(0, 0, 0)x(0, 0, 1, 12)365 - AIC:15259.662083259873\n",
      "ARIMA(0, 0, 0)x(0, 1, 0, 12)365 - AIC:15655.86810476339\n",
      "ARIMA(0, 0, 0)x(0, 1, 1, 12)365 - AIC:14754.804576592524\n",
      "ARIMA(0, 0, 0)x(1, 0, 0, 12)365 - AIC:15228.135619933639\n",
      "ARIMA(0, 0, 0)x(1, 0, 1, 12)365 - AIC:14898.295367078019\n",
      "ARIMA(0, 0, 0)x(1, 1, 0, 12)365 - AIC:15142.556459888925\n",
      "ARIMA(0, 0, 0)x(1, 1, 1, 12)365 - AIC:14751.90442979738\n",
      "ARIMA(0, 0, 1)x(0, 0, 0, 12)365 - AIC:15356.161022676879\n",
      "ARIMA(0, 0, 1)x(0, 0, 1, 12)365 - AIC:15172.37069271264\n",
      "ARIMA(0, 0, 1)x(0, 1, 0, 12)365 - AIC:15644.455217465409\n",
      "ARIMA(0, 0, 1)x(0, 1, 1, 12)365 - AIC:14741.193519351847\n",
      "ARIMA(0, 0, 1)x(1, 0, 0, 12)365 - AIC:15181.93943221631\n",
      "ARIMA(0, 0, 1)x(1, 0, 1, 12)365 - AIC:14886.313775916158\n",
      "ARIMA(0, 0, 1)x(1, 1, 0, 12)365 - AIC:15143.417105854734\n",
      "ARIMA(0, 0, 1)x(1, 1, 1, 12)365 - AIC:14737.86282469829\n",
      "ARIMA(0, 1, 0)x(0, 0, 0, 12)365 - AIC:15702.328880656012\n",
      "ARIMA(0, 1, 0)x(0, 0, 1, 12)365 - AIC:15533.553473919268\n",
      "ARIMA(0, 1, 0)x(0, 1, 0, 12)365 - AIC:16394.590996247705\n",
      "ARIMA(0, 1, 0)x(0, 1, 1, 12)365 - AIC:15421.983924961605\n",
      "ARIMA(0, 1, 0)x(1, 0, 0, 12)365 - AIC:15546.606264683114\n",
      "ARIMA(0, 1, 0)x(1, 0, 1, 12)365 - AIC:15535.018335700675\n",
      "ARIMA(0, 1, 0)x(1, 1, 0, 12)365 - AIC:15840.940472873346\n",
      "ARIMA(0, 1, 0)x(1, 1, 1, 12)365 - AIC:15412.67280739109\n",
      "ARIMA(0, 1, 1)x(0, 0, 0, 12)365 - AIC:14975.464124009948\n",
      "ARIMA(0, 1, 1)x(0, 0, 1, 12)365 - AIC:14817.47235389583\n",
      "ARIMA(0, 1, 1)x(0, 1, 0, 12)365 - AIC:15664.49319867291\n",
      "ARIMA(0, 1, 1)x(0, 1, 1, 12)365 - AIC:14709.441096349019\n",
      "ARIMA(0, 1, 1)x(1, 0, 0, 12)365 - AIC:14843.121281006652\n",
      "ARIMA(0, 1, 1)x(1, 0, 1, 12)365 - AIC:14819.471510556421\n",
      "ARIMA(0, 1, 1)x(1, 1, 0, 12)365 - AIC:15137.942415772784\n",
      "ARIMA(0, 1, 1)x(1, 1, 1, 12)365 - AIC:14705.140824836504\n",
      "ARIMA(1, 0, 0)x(0, 0, 0, 12)365 - AIC:15315.51786597015\n",
      "ARIMA(1, 0, 0)x(0, 0, 1, 12)365 - AIC:15153.363510226483\n",
      "ARIMA(1, 0, 0)x(0, 1, 0, 12)365 - AIC:15657.868095741233\n",
      "ARIMA(1, 0, 0)x(0, 1, 1, 12)365 - AIC:14754.512315388332\n",
      "ARIMA(1, 0, 0)x(1, 0, 0, 12)365 - AIC:15148.677316711892\n",
      "ARIMA(1, 0, 0)x(1, 0, 1, 12)365 - AIC:14899.282898411857\n",
      "ARIMA(1, 0, 0)x(1, 1, 0, 12)365 - AIC:15130.298347786822\n",
      "ARIMA(1, 0, 0)x(1, 1, 1, 12)365 - AIC:14751.233471620762\n"
     ]
    },
    {
     "name": "stderr",
     "output_type": "stream",
     "text": [
      "C:\\Users\\Usuario\\Anaconda3\\envs\\IA\\lib\\site-packages\\statsmodels\\base\\model.py:568: ConvergenceWarning: Maximum Likelihood optimization failed to converge. Check mle_retvals\n",
      "  ConvergenceWarning)\n"
     ]
    },
    {
     "name": "stdout",
     "output_type": "stream",
     "text": [
      "ARIMA(1, 0, 1)x(0, 0, 0, 12)365 - AIC:15007.328486390332\n",
      "ARIMA(1, 0, 1)x(0, 0, 1, 12)365 - AIC:14849.070966701958\n",
      "ARIMA(1, 0, 1)x(0, 1, 0, 12)365 - AIC:15596.666151707148\n",
      "ARIMA(1, 0, 1)x(0, 1, 1, 12)365 - AIC:14723.345804142667\n",
      "ARIMA(1, 0, 1)x(1, 0, 0, 12)365 - AIC:14861.939976016318\n",
      "ARIMA(1, 0, 1)x(1, 0, 1, 12)365 - AIC:14851.007858810255\n",
      "ARIMA(1, 0, 1)x(1, 1, 0, 12)365 - AIC:15105.955472621426\n",
      "ARIMA(1, 0, 1)x(1, 1, 1, 12)365 - AIC:14717.702376911406\n",
      "ARIMA(1, 1, 0)x(0, 0, 0, 12)365 - AIC:15446.068812698593\n",
      "ARIMA(1, 1, 0)x(0, 0, 1, 12)365 - AIC:15276.529533627083\n",
      "ARIMA(1, 1, 0)x(0, 1, 0, 12)365 - AIC:16151.916436654326\n",
      "ARIMA(1, 1, 0)x(0, 1, 1, 12)365 - AIC:15171.819998778754\n",
      "ARIMA(1, 1, 0)x(1, 0, 0, 12)365 - AIC:15276.641000394953\n",
      "ARIMA(1, 1, 0)x(1, 0, 1, 12)365 - AIC:15278.508405894601\n",
      "ARIMA(1, 1, 0)x(1, 1, 0, 12)365 - AIC:15598.035954073435\n",
      "ARIMA(1, 1, 0)x(1, 1, 1, 12)365 - AIC:15159.860704742046\n",
      "ARIMA(1, 1, 1)x(0, 0, 0, 12)365 - AIC:14976.99833874876\n",
      "ARIMA(1, 1, 1)x(0, 0, 1, 12)365 - AIC:14819.000776340728\n",
      "ARIMA(1, 1, 1)x(0, 1, 0, 12)365 - AIC:15663.975992115185\n",
      "ARIMA(1, 1, 1)x(0, 1, 1, 12)365 - AIC:14710.915426772079\n",
      "ARIMA(1, 1, 1)x(1, 0, 0, 12)365 - AIC:14831.546195291736\n",
      "ARIMA(1, 1, 1)x(1, 0, 1, 12)365 - AIC:14820.99577787943\n",
      "ARIMA(1, 1, 1)x(1, 1, 0, 12)365 - AIC:15125.249652568948\n",
      "ARIMA(1, 1, 1)x(1, 1, 1, 12)365 - AIC:14706.550736303314\n"
     ]
    }
   ],
   "source": [
    "for param in pdq:\n",
    "    for param_seasonal in seasonal_pdq:\n",
    "        try:\n",
    "            mod = sm.tsa.statespace.SARIMAX(y_train,\n",
    "                                            order=param,\n",
    "                                            seasonal_order=param_seasonal,\n",
    "                                            enforce_stationarity=False,\n",
    "                                            enforce_invertibility=False)\n",
    "            results = mod.fit()\n",
    "            print('ARIMA{}x{}365 - AIC:{}'.format(param, param_seasonal, results.aic))\n",
    "        except Exception as e:\n",
    "            print(e)\n",
    "            continue"
   ]
  },
  {
   "cell_type": "code",
   "execution_count": 15,
   "id": "wrapped-burden",
   "metadata": {},
   "outputs": [
    {
     "name": "stdout",
     "output_type": "stream",
     "text": [
      "==============================================================================\n",
      "                 coef    std err          z      P>|z|      [0.025      0.975]\n",
      "------------------------------------------------------------------------------\n",
      "ma.L1         -0.9856      0.006   -154.900      0.000      -0.998      -0.973\n",
      "ar.S.L12      -0.0752      0.047     -1.605      0.108      -0.167       0.017\n",
      "ma.S.L12      -1.0000      0.010   -101.018      0.000      -1.019      -0.981\n",
      "sigma2      5.026e+04   1.97e-07   2.55e+11      0.000    5.03e+04    5.03e+04\n",
      "==============================================================================\n"
     ]
    }
   ],
   "source": [
    "# ARIMA(0, 1, 1)x(1, 1, 1, 12)12 - AIC:14706.550736303314\n",
    "\n",
    "mod = sm.tsa.statespace.SARIMAX(y_train,\n",
    "                                order=(0, 1, 1),\n",
    "                                seasonal_order=(1, 1, 1, 12),\n",
    "                                enforce_stationarity=False,\n",
    "                                enforce_invertibility=False)\n",
    "results = mod.fit()\n",
    "print(results.summary().tables[1])"
   ]
  },
  {
   "cell_type": "code",
   "execution_count": 16,
   "id": "threaded-peripheral",
   "metadata": {},
   "outputs": [
    {
     "data": {
      "image/png": "[encoded data removed]",
      "text/plain": [
       "<Figure size 1152x576 with 4 Axes>"
      ]
     },
     "metadata": {
      "needs_background": "light"
     },
     "output_type": "display_data"
    }
   ],
   "source": [
    "results.plot_diagnostics(figsize=(16, 8))\n",
    "plt.show()"
   ]
  },
  {
   "cell_type": "code",
   "execution_count": 17,
   "id": "dimensional-engineering",
   "metadata": {},
   "outputs": [],
   "source": [
    "pred = results.get_prediction(start=pd.to_datetime('2017-01-01'), dynamic=False)\n",
    "pred_ci = pred.conf_int()"
   ]
  },
  {
   "cell_type": "code",
   "execution_count": 18,
   "id": "invisible-grant",
   "metadata": {},
   "outputs": [
    {
     "data": {
      "image/png": "[encoded data removed]",
      "text/plain": [
       "<Figure size 1008x504 with 1 Axes>"
      ]
     },
     "metadata": {
      "needs_background": "light"
     },
     "output_type": "display_data"
    }
   ],
   "source": [
    "ax = y_train.plot(label='observed')\n",
    "pred.predicted_mean.plot(ax=ax, label='One-step ahead Forecast', alpha=.7, figsize=(14, 7))\n",
    "ax.fill_between(pred_ci.index,\n",
    "                pred_ci.iloc[:, 0],\n",
    "                pred_ci.iloc[:, 1], color='k', alpha=.2)\n",
    "ax.set_xlabel('Date')\n",
    "ax.set_ylabel('Furniture Sales')\n",
    "plt.legend()\n",
    "plt.show()"
   ]
  },
  {
   "cell_type": "code",
   "execution_count": 19,
   "id": "preceding-crawford",
   "metadata": {},
   "outputs": [
    {
     "name": "stdout",
     "output_type": "stream",
     "text": [
      "The Mean Squared Error is 66379.73\n"
     ]
    }
   ],
   "source": [
    "y_forecasted = pred.predicted_mean\n",
    "y_truth = y_train['2017-01-01':]\n",
    "mse = ((y_forecasted - y_truth) ** 2).mean()\n",
    "print('The Mean Squared Error is {}'.format(round(mse, 2)))"
   ]
  },
  {
   "cell_type": "markdown",
   "id": "coated-madonna",
   "metadata": {},
   "source": [
    "***"
   ]
  },
  {
   "cell_type": "code",
   "execution_count": 20,
   "id": "satellite-notion",
   "metadata": {},
   "outputs": [
    {
     "data": {
      "text/plain": [
       "array([-1], dtype=int64)"
      ]
     },
     "execution_count": 20,
     "metadata": {},
     "output_type": "execute_result"
    }
   ],
   "source": [
    "from sklearn.svm import OneClassSVM\n",
    "\n",
    "clf = OneClassSVM(gamma='auto').fit(y_train['2015-01-01':'2015-12-31'].values.reshape(1, -1))\n",
    "clf.predict(y_train['2016-01-01':\"2016-12-30\"].values.reshape(1, -1))"
   ]
  },
  {
   "cell_type": "markdown",
   "id": "gothic-plaza",
   "metadata": {},
   "source": [
    "# Results\n",
    "\n",
    "+ According to the first experiment a model based on Seasonal AutoRegressive Integrated Moving Average with eXogenous regressors was proposed; the model presents a MSE of 66379.73\n",
    "+ An OneClassSVM model was proposed to detect outliers (anomalies) using the data, according to the experiment in 2016 was presented one transaction."
   ]
  }
 ],
 "metadata": {
  "kernelspec": {
   "display_name": "Python 3",
   "language": "python",
   "name": "python3"
  },
  "language_info": {
   "codemirror_mode": {
    "name": "ipython",
    "version": 3
   },
   "file_extension": ".py",
   "mimetype": "text/x-python",
   "name": "python",
   "nbconvert_exporter": "python",
   "pygments_lexer": "ipython3",
   "version": "3.7.10"
  }
 },
 "nbformat": 4,
 "nbformat_minor": 5
}
